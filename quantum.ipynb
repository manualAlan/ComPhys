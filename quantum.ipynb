{
  "nbformat": 4,
  "nbformat_minor": 0,
  "metadata": {
    "colab": {
      "provenance": [],
      "authorship_tag": "ABX9TyM7qXgcpik2/KGh3JSPeX3d",
      "include_colab_link": true
    },
    "kernelspec": {
      "name": "python3",
      "display_name": "Python 3"
    },
    "language_info": {
      "name": "python"
    }
  },
  "cells": [
    {
      "cell_type": "markdown",
      "metadata": {
        "id": "view-in-github",
        "colab_type": "text"
      },
      "source": [
        "<a href=\"https://colab.research.google.com/github/manualAlan/ComPhys/blob/main/quantum.ipynb\" target=\"_parent\"><img src=\"https://colab.research.google.com/assets/colab-badge.svg\" alt=\"Open In Colab\"/></a>"
      ]
    },
    {
      "cell_type": "code",
      "execution_count": null,
      "metadata": {
        "colab": {
          "base_uri": "https://localhost:8080/"
        },
        "id": "GyVlYdF_dOvM",
        "outputId": "03219eee-ae53-46fa-eaf6-9afdaa603d17"
      },
      "outputs": [
        {
          "output_type": "stream",
          "name": "stdout",
          "text": [
            "vector:\n",
            "[0.7071067811865476, 0, -0.6324555320336759, 0, 0, 0.31622776601683794j, 0, 0]\n",
            "state:\n",
            "[(0.7071067811865476, '000'), (-0.6324555320336759, '010'), (0.31622776601683794j, '101')]\n",
            "binary:\n",
            "( 0.7071067811865476 |000> +  -0.6324555320336759 |010> +  0.31622776601683794j |101>)\n",
            "integer:\n",
            "( 0.7071067811865476 |0> +  -0.6324555320336759 |2> +  0.31622776601683794j |5>)\n"
          ]
        }
      ],
      "source": [
        "import numpy\n",
        "import math\n",
        "import numpy as np\n",
        "myState2=[\n",
        "   (numpy.sqrt(0.1)*1.j, '101'),\n",
        "   (numpy.sqrt(0.5), '000') ,\n",
        "   (-numpy.sqrt(0.4), '010' )]\n",
        "\n",
        "def decimalToBinary(n):\n",
        "    return bin(n).replace(\"0b\",\"\")\n",
        "\n",
        "def StateToVec(myState):\n",
        "  vec = [0]*2**len(myState[0][1])\n",
        "  for i in myState:\n",
        "    index = int(i[1],2)\n",
        "    vec[index] = vec[index] + i[0]\n",
        "  return vec\n",
        "\n",
        "def VecToState(vec):\n",
        "  digit = int(math.log2(len(vec)))\n",
        "  state = []\n",
        "  for i in range(len(vec)):\n",
        "    if vec[i] != 0:\n",
        "      state.append((vec[i], decimalToBinary(i).zfill(digit)))\n",
        "  return state\n",
        "\n",
        "def PrettyPrintBinary(myState):\n",
        "  vec = StateToVec(myState)\n",
        "  digit = int(math.log2(len(vec)))\n",
        "  state = VecToState(StateToVec(myState))\n",
        "  returnString = '('\n",
        "  plus = False\n",
        "  for i in state:\n",
        "    if plus:\n",
        "      returnString += ' + '\n",
        "    plus = True\n",
        "    returnString += ' '\n",
        "    returnString += str(i[0])\n",
        "    returnString += (' |'+ i[1].zfill(digit) + '>')\n",
        "  returnString += ')'\n",
        "  print(returnString)\n",
        "def PrettyPrintInteger(myState):\n",
        "  state = VecToState(StateToVec(myState))\n",
        "  returnString = '('\n",
        "  plus = False\n",
        "  for i in state:\n",
        "    if plus:\n",
        "      returnString += ' + '\n",
        "    plus = True\n",
        "    returnString += ' '\n",
        "    returnString += str(i[0])\n",
        "    returnString += (' |'+ str(int(i[1],2)) +'>')\n",
        "  returnString += ')'\n",
        "  print(returnString)\n",
        "print(\"vector:\")\n",
        "print(StateToVec(myState2))\n",
        "print(\"state:\")\n",
        "print(VecToState(StateToVec(myState2)))\n",
        "print(\"binary:\")\n",
        "PrettyPrintBinary(myState2)\n",
        "print(\"integer:\")\n",
        "PrettyPrintInteger(myState2)\n"
      ]
    },
    {
      "cell_type": "code",
      "source": [
        "myState=[\n",
        "  (numpy.sqrt(0.1), '00'),\n",
        "  (numpy.sqrt(0.4), '01') ,\n",
        "  (-numpy.sqrt(0.5), '11' )\n",
        "]\n",
        "print(myState)"
      ],
      "metadata": {
        "colab": {
          "base_uri": "https://localhost:8080/"
        },
        "id": "mIzcQvBrIK-m",
        "outputId": "5908275c-7ba0-4d9d-b8b7-ff34fc4b442a"
      },
      "execution_count": null,
      "outputs": [
        {
          "output_type": "stream",
          "name": "stdout",
          "text": [
            "[(0.31622776601683794, '00'), (0.6324555320336759, '01'), (-0.7071067811865476, '11')]\n"
          ]
        }
      ]
    },
    {
      "cell_type": "code",
      "source": [
        "def CNOT(controlWire,notWire,inputState):\n",
        "  returnState = []\n",
        "  for state in inputState:\n",
        "    if state[1][controlWire] == '1':\n",
        "      returnState.append((state[0], state[1][:notWire] + str(1-int(state[1][notWire])) +state[1][notWire+1:]))\n",
        "    else:\n",
        "      returnState.append((state[0], state[1]))\n",
        "  return VecToState(StateToVec(returnState))\n",
        "myState=[\n",
        "  (0.707+0.707j, '101')\n",
        "\n",
        "]\n",
        "CNOT(0,2,myState)"
      ],
      "metadata": {
        "colab": {
          "base_uri": "https://localhost:8080/"
        },
        "id": "4sIrkSxqX5fF",
        "outputId": "f810797f-35b1-4978-966f-8b93e8355967"
      },
      "execution_count": null,
      "outputs": [
        {
          "output_type": "execute_result",
          "data": {
            "text/plain": [
              "[((0.707+0.707j), '100')]"
            ]
          },
          "metadata": {},
          "execution_count": 105
        }
      ]
    },
    {
      "cell_type": "code",
      "source": [
        "def Phase(wire, theta,inputState):\n",
        "  newState = []\n",
        "  thet = np.exp(theta*1j)\n",
        "  gate = np.array([[1,0],[0,np.exp(theta*1j)]])\n",
        "  for state in inputState:\n",
        "    if state[1][wire] == '1':\n",
        "      newState.append((state[0]* thet, state[1]))\n",
        "    else:\n",
        "      newState.append((state[0], state[1]))\n",
        "  return newState\n",
        "myState=[\n",
        "  (numpy.sqrt(0.1), '00'),\n",
        "  (numpy.sqrt(0.4), '01') ,\n",
        "  (-numpy.sqrt(0.5), '11' )\n",
        "]\n",
        "Phase(0,np.pi/2,myState)"
      ],
      "metadata": {
        "id": "GUIw1tEbiGyb",
        "colab": {
          "base_uri": "https://localhost:8080/"
        },
        "outputId": "6afdab37-0cdb-459a-b8e0-c757d566b0d7"
      },
      "execution_count": null,
      "outputs": [
        {
          "output_type": "execute_result",
          "data": {
            "text/plain": [
              "[(0.31622776601683794, '00'),\n",
              " (0.6324555320336759, '01'),\n",
              " ((-4.329780281177467e-17-0.7071067811865476j), '11')]"
            ]
          },
          "metadata": {},
          "execution_count": 64
        }
      ]
    },
    {
      "cell_type": "code",
      "source": [
        "int('01',2)"
      ],
      "metadata": {
        "colab": {
          "base_uri": "https://localhost:8080/"
        },
        "id": "myoy83TZhZYh",
        "outputId": "d64159d7-6eda-46c4-a372-32c7c168991f"
      },
      "execution_count": null,
      "outputs": [
        {
          "output_type": "execute_result",
          "data": {
            "text/plain": [
              "1"
            ]
          },
          "metadata": {},
          "execution_count": 30
        }
      ]
    },
    {
      "cell_type": "code",
      "source": [
        "def H(wire, inputState):\n",
        "  newState = []\n",
        "  gate = 1/(2)**(1/2)*np.array([[1,1],[1,-1]])\n",
        "  for state in inputState:\n",
        "    if state[1][wire] == '0':\n",
        "      bit = np.dot(gate, state[0]*np.array([1,0]))\n",
        "    else:\n",
        "      bit = np.dot(gate, state[0]*np.array([0,1]))\n",
        "    if (bit[1])**2 == 0:\n",
        "      newState.append((bit[0], state[1][:wire] + '0' +state[1][wire+1:]))\n",
        "    elif (bit[0])**2 == 0:\n",
        "      newState.append((bit[1], state[1][:wire] + '1' +state[1][wire+1:]))\n",
        "    else:\n",
        "      newState.append((bit[0], state[1][:wire] + '0' +state[1][wire+1:]))\n",
        "      newState.append((bit[1], state[1][:wire] + '1' +state[1][wire+1:]))\n",
        "  state = VecToState(StateToVec(newState))\n",
        "  return state\n",
        "myState=[\n",
        "  (0, '00'),\n",
        "  (1, '01') ,\n",
        "  (0, '11' )\n",
        "]\n",
        "H(0,myState)"
      ],
      "metadata": {
        "colab": {
          "base_uri": "https://localhost:8080/"
        },
        "id": "MKZE4ZVtT6vL",
        "outputId": "7fbd02d8-6431-4652-a2ac-829adc8a88b3"
      },
      "execution_count": null,
      "outputs": [
        {
          "output_type": "execute_result",
          "data": {
            "text/plain": [
              "[(0.7071067811865475, '01'), (0.7071067811865475, '11')]"
            ]
          },
          "metadata": {},
          "execution_count": 5
        }
      ]
    },
    {
      "cell_type": "code",
      "source": [
        "def ReadInput(fileName):\n",
        "    myInput_lines=open(fileName).readlines()\n",
        "    myInput=[]\n",
        "    numberOfWires=int(myInput_lines[0])\n",
        "    for line in myInput_lines[1:]:\n",
        "        myInput.append(line.split())\n",
        "    return (numberOfWires,myInput)\n",
        "def Input(fileName):\n",
        "  myInput_lines=open(fileName).readlines()\n",
        "  myInput=[]\n",
        "  for line in myInput_lines[0:]:\n",
        "      myInput.append(line.split())\n",
        "  digit = int(math.log2(len(myInput)))\n",
        "  state = []\n",
        "  for i in range(len(myInput)):\n",
        "    if myInput[i][0] != 0 or myInput[i][0]:\n",
        "      state.append((float(myInput[i][0])+1j*float(myInput[i][1]), decimalToBinary(i).zfill(digit)))\n",
        "  return state\n",
        "\n",
        "def GatesAndMeasure(wires, gates):\n",
        "  if gates[0][0] == 'INITSTATE':\n",
        "    if gates[0][1] == 'FILE':\n",
        "      state = Input(gates[0][2])\n",
        "    else:\n",
        "      state = [(1., gates[0][2][1:-1])]\n",
        "  else:\n",
        "    bits = ''\n",
        "    for i in range(wires):\n",
        "      bits = bits + '0'\n",
        "    state = [(1., bits)]\n",
        "  for gate in gates:\n",
        "    if gate[0] == 'H':\n",
        "      state = H(int(gate[1]),state)\n",
        "    elif gate[0] == 'P':\n",
        "      state = Phase(int(gate[1]), float(gate[2]),state)\n",
        "    elif gate[0] == 'CNOT':\n",
        "      state = CNOT(int(gate[1]), int(gate[2]),state)\n",
        "    elif gate[0].lower() == 'measure':\n",
        "      prob = []\n",
        "      for st in state:\n",
        "        prob.append((np.abs(st[0])**2, st[1]))\n",
        "      print(\"measurement:\",prob)\n",
        "  return state"
      ],
      "metadata": {
        "id": "MdTUBBu9r3uX"
      },
      "execution_count": null,
      "outputs": []
    },
    {
      "cell_type": "markdown",
      "source": [
        "### **Iabcd**"
      ],
      "metadata": {
        "id": "i5kzGXfwlQAS"
      }
    },
    {
      "cell_type": "code",
      "source": [
        "def Tensor(A,B):\n",
        "  mat = []\n",
        "  for k in range(len(A)):\n",
        "    for l in range(len(B)):\n",
        "      row = []\n",
        "      for i in range(len(A[k])):\n",
        "        for j in range(len(B[l])):\n",
        "          row.append(A[k][i]*B[l][j])\n",
        "      mat.append(row)\n",
        "  return mat\n"
      ],
      "metadata": {
        "id": "ocYrqjXRCqT3"
      },
      "execution_count": null,
      "outputs": []
    },
    {
      "cell_type": "code",
      "source": [
        "def Array(i, k, mat):\n",
        "  I = [[1,0],[0,1]]\n",
        "  H = mat\n",
        "  size=2**k\n",
        "  if i == 0:\n",
        "    myMatrix = H\n",
        "  else:\n",
        "    myMatrix = I\n",
        "  #myMatrix=numpy.zeros((size,size))\n",
        "  for t in range(1, k):\n",
        "    if t < i:\n",
        "      myMatrix = Tensor(myMatrix, I)\n",
        "    elif t ==i:\n",
        "      myMatrix = Tensor(myMatrix, H)\n",
        "    else:\n",
        "      myMatrix = Tensor(myMatrix, I)\n",
        "  return myMatrix\n",
        "def PhaseArray(i,k,phi):\n",
        "  mat = [[1,0],[0,np.exp(phi*1j)]]\n",
        "  return Array(i, k, mat)\n",
        "def HadamardArray(i,k):\n",
        "  H = [[1/2**(1/2),1/2**(1/2)],[1/2**(1/2),-1/2**(1/2)]]\n",
        "  return Array(i, k, H)\n",
        "print(HadamardArray(1, 3))\n",
        "print(PhaseArray(1, 3, np.pi/7))"
      ],
      "metadata": {
        "colab": {
          "base_uri": "https://localhost:8080/"
        },
        "id": "Uwhr3yaX-stL",
        "outputId": "7dfdd382-879e-45dd-ca15-6a1c215af313"
      },
      "execution_count": null,
      "outputs": [
        {
          "output_type": "stream",
          "name": "stdout",
          "text": [
            "[[0.7071067811865475, 0.0, 0.7071067811865475, 0.0, 0.0, 0.0, 0.0, 0.0], [0.0, 0.7071067811865475, 0.0, 0.7071067811865475, 0.0, 0.0, 0.0, 0.0], [0.7071067811865475, 0.0, -0.7071067811865475, -0.0, 0.0, 0.0, -0.0, -0.0], [0.0, 0.7071067811865475, -0.0, -0.7071067811865475, 0.0, 0.0, -0.0, -0.0], [0.0, 0.0, 0.0, 0.0, 0.7071067811865475, 0.0, 0.7071067811865475, 0.0], [0.0, 0.0, 0.0, 0.0, 0.0, 0.7071067811865475, 0.0, 0.7071067811865475], [0.0, 0.0, -0.0, -0.0, 0.7071067811865475, 0.0, -0.7071067811865475, -0.0], [0.0, 0.0, -0.0, -0.0, 0.0, 0.7071067811865475, -0.0, -0.7071067811865475]]\n",
            "[[1, 0, 0, 0, 0, 0, 0, 0], [0, 1, 0, 0, 0, 0, 0, 0], [0, 0, (0.9009688679024191+0.4338837391175581j), 0j, 0, 0, 0j, 0j], [0, 0, 0j, (0.9009688679024191+0.4338837391175581j), 0, 0, 0j, 0j], [0, 0, 0, 0, 1, 0, 0, 0], [0, 0, 0, 0, 0, 1, 0, 0], [0, 0, 0j, 0j, 0, 0, (0.9009688679024191+0.4338837391175581j), 0j], [0, 0, 0j, 0j, 0, 0, 0j, (0.9009688679024191+0.4338837391175581j)]]\n"
          ]
        }
      ]
    },
    {
      "cell_type": "code",
      "source": [
        "def CNOTArray(controlWire,otherWire,totalWires):\n",
        "  c = controlWire\n",
        "  I = [[1,0],[0,1]]\n",
        "  no = otherWire\n",
        "  total = totalWires\n",
        "  mini = min(c, no)\n",
        "  if no > c:\n",
        "    cnot = [[1,0,0,0],[0,1,0,0],[0,0,0,1],[0,0,1,0]]\n",
        "  else:\n",
        "    cnot = [[1,0,0,0],[0,0,0,1],[0,0,1,0],[0,1,0,0]]\n",
        "  if mini == 0:\n",
        "    myMatrix = cnot\n",
        "    for t in range(2, total):\n",
        "      myMatrix = Tensor(myMatrix, I)\n",
        "  else:\n",
        "    myMatrix = I\n",
        "    for t in range(1, total):\n",
        "      if t < mini:\n",
        "        myMatrix = Tensor(myMatrix, I)\n",
        "      elif t == mini:\n",
        "        myMatrix = Tensor(myMatrix, cnot)\n",
        "      elif t > mini+1:\n",
        "        myMatrix = Tensor(myMatrix, I)\n",
        "  return myMatrix"
      ],
      "metadata": {
        "id": "wcqsZHyCGhb3"
      },
      "execution_count": null,
      "outputs": []
    },
    {
      "cell_type": "code",
      "source": [
        "\n",
        "def Input2(fileName):\n",
        "  myInput_lines=open(fileName).readlines()\n",
        "  myInput=[]\n",
        "  for line in myInput_lines[0:]:\n",
        "      myInput.append(line.split())\n",
        "  digit = int(math.log2(len(myInput)))\n",
        "  state = []\n",
        "  for i in range(len(myInput)):\n",
        "    if myInput[i][0] != 0 or myInput[i][0]:\n",
        "      state.append((float(myInput[i][0])+1j*float(myInput[i][1]), decimalToBinary(i).zfill(digit)))\n",
        "  return state\n",
        "\n",
        "def GatesAndMeasure2(wires, gates):\n",
        "  if gates[0][0] == 'INITSTATE':\n",
        "    if gates[0][1] == 'FILE':\n",
        "      state = Input2(gates[0][2])\n",
        "    else:\n",
        "      state = ([(1., gates[0][2][1:-1])])\n",
        "  else:\n",
        "    bits = ''\n",
        "    for i in range(wires):\n",
        "      bits = bits + '0'\n",
        "    state = [(1., bits)]\n",
        "  vec = (StateToVec(state))\n",
        "  for gate in gates:\n",
        "    if gate[0] == 'H':\n",
        "      vec = numpy.matmul(HadamardArray(int(gate[1]),wires), vec)\n",
        "      #vec = HadamardArray(int(gate[1]),wires) @ vec\n",
        "    elif gate[0] == 'P':\n",
        "      #vec = Phase(int(gate[1]),wires, float(gate[2])) @ vec\n",
        "      vec = numpy.matmul(PhaseArray(int(gate[1]),wires, float(gate[2])), vec)\n",
        "    elif gate[0] == 'CNOT':\n",
        "      vec = numpy.matmul(CNOTArray(int(gate[1]),int(gate[2]), wires), vec)\n",
        "    elif gate[0].lower() == 'measure':\n",
        "      state = VecToState(vec)\n",
        "      prob = []\n",
        "      for st in state:\n",
        "        prob.append((np.abs(st[0])**2, st[1]))\n",
        "      print(\"measurement:\",prob)\n",
        "  return VecToState(vec)"
      ],
      "metadata": {
        "id": "npb1vrkDb4JR"
      },
      "execution_count": null,
      "outputs": []
    },
    {
      "cell_type": "code",
      "source": [
        "wires, gates = ReadInput('rand.circuit')\n",
        "GatesAndMeasure(wires, gates)"
      ],
      "metadata": {
        "id": "jcoaeZCsiECK",
        "colab": {
          "base_uri": "https://localhost:8080/",
          "height": 300
        },
        "outputId": "2cdfbbdf-adfe-4316-997e-6a2a6db450b8"
      },
      "execution_count": null,
      "outputs": [
        {
          "output_type": "error",
          "ename": "FileNotFoundError",
          "evalue": "ignored",
          "traceback": [
            "\u001b[0;31m---------------------------------------------------------------------------\u001b[0m",
            "\u001b[0;31mFileNotFoundError\u001b[0m                         Traceback (most recent call last)",
            "\u001b[0;32m<ipython-input-37-e2bd7c18169c>\u001b[0m in \u001b[0;36m<module>\u001b[0;34m\u001b[0m\n\u001b[0;32m----> 1\u001b[0;31m \u001b[0mwires\u001b[0m\u001b[0;34m,\u001b[0m \u001b[0mgates\u001b[0m \u001b[0;34m=\u001b[0m \u001b[0mReadInput\u001b[0m\u001b[0;34m(\u001b[0m\u001b[0;34m'rand.circuit'\u001b[0m\u001b[0;34m)\u001b[0m\u001b[0;34m\u001b[0m\u001b[0;34m\u001b[0m\u001b[0m\n\u001b[0m\u001b[1;32m      2\u001b[0m \u001b[0mGatesAndMeasure\u001b[0m\u001b[0;34m(\u001b[0m\u001b[0mwires\u001b[0m\u001b[0;34m,\u001b[0m \u001b[0mgates\u001b[0m\u001b[0;34m)\u001b[0m\u001b[0;34m\u001b[0m\u001b[0;34m\u001b[0m\u001b[0m\n",
            "\u001b[0;32m<ipython-input-32-7c894c02b594>\u001b[0m in \u001b[0;36mReadInput\u001b[0;34m(fileName)\u001b[0m\n\u001b[1;32m      1\u001b[0m \u001b[0;32mdef\u001b[0m \u001b[0mReadInput\u001b[0m\u001b[0;34m(\u001b[0m\u001b[0mfileName\u001b[0m\u001b[0;34m)\u001b[0m\u001b[0;34m:\u001b[0m\u001b[0;34m\u001b[0m\u001b[0;34m\u001b[0m\u001b[0m\n\u001b[0;32m----> 2\u001b[0;31m     \u001b[0mmyInput_lines\u001b[0m\u001b[0;34m=\u001b[0m\u001b[0mopen\u001b[0m\u001b[0;34m(\u001b[0m\u001b[0mfileName\u001b[0m\u001b[0;34m)\u001b[0m\u001b[0;34m.\u001b[0m\u001b[0mreadlines\u001b[0m\u001b[0;34m(\u001b[0m\u001b[0;34m)\u001b[0m\u001b[0;34m\u001b[0m\u001b[0;34m\u001b[0m\u001b[0m\n\u001b[0m\u001b[1;32m      3\u001b[0m     \u001b[0mmyInput\u001b[0m\u001b[0;34m=\u001b[0m\u001b[0;34m[\u001b[0m\u001b[0;34m]\u001b[0m\u001b[0;34m\u001b[0m\u001b[0;34m\u001b[0m\u001b[0m\n\u001b[1;32m      4\u001b[0m     \u001b[0mnumberOfWires\u001b[0m\u001b[0;34m=\u001b[0m\u001b[0mint\u001b[0m\u001b[0;34m(\u001b[0m\u001b[0mmyInput_lines\u001b[0m\u001b[0;34m[\u001b[0m\u001b[0;36m0\u001b[0m\u001b[0;34m]\u001b[0m\u001b[0;34m)\u001b[0m\u001b[0;34m\u001b[0m\u001b[0;34m\u001b[0m\u001b[0m\n\u001b[1;32m      5\u001b[0m     \u001b[0;32mfor\u001b[0m \u001b[0mline\u001b[0m \u001b[0;32min\u001b[0m \u001b[0mmyInput_lines\u001b[0m\u001b[0;34m[\u001b[0m\u001b[0;36m1\u001b[0m\u001b[0;34m:\u001b[0m\u001b[0;34m]\u001b[0m\u001b[0;34m:\u001b[0m\u001b[0;34m\u001b[0m\u001b[0;34m\u001b[0m\u001b[0m\n",
            "\u001b[0;31mFileNotFoundError\u001b[0m: [Errno 2] No such file or directory: 'rand.circuit'"
          ]
        }
      ]
    },
    {
      "cell_type": "code",
      "source": [
        "GatesAndMeasure2(wires, gates)"
      ],
      "metadata": {
        "id": "ZlA2SnKgiFw3"
      },
      "execution_count": null,
      "outputs": []
    },
    {
      "cell_type": "code",
      "source": [
        "wires, gates = ReadInput('input.circuit')\n",
        "GatesAndMeasure(wires, gates)"
      ],
      "metadata": {
        "id": "breKyr_tikvZ"
      },
      "execution_count": null,
      "outputs": []
    },
    {
      "cell_type": "code",
      "source": [
        "GatesAndMeasure2(wires, gates)"
      ],
      "metadata": {
        "id": "hexevPUEioc4"
      },
      "execution_count": null,
      "outputs": []
    },
    {
      "cell_type": "code",
      "source": [
        "wires, gates = ReadInput('measure.circuit')\n",
        "GatesAndMeasure(wires, gates)"
      ],
      "metadata": {
        "id": "Xl5ayy57jG5k"
      },
      "execution_count": null,
      "outputs": []
    },
    {
      "cell_type": "code",
      "source": [
        "GatesAndMeasure2(wires, gates)"
      ],
      "metadata": {
        "id": "hHsd1xJrjM46"
      },
      "execution_count": null,
      "outputs": []
    },
    {
      "cell_type": "markdown",
      "source": [
        "### 1d"
      ],
      "metadata": {
        "id": "JMiv8BwRlBxM"
      }
    },
    {
      "cell_type": "code",
      "source": [
        "import scipy\n",
        "import scipy.sparse as spa\n",
        "#scipy.sparse.csr_matrix(scipy.sparse.identity(1,dtype='complex'))\n",
        "#myState.tocsr()\n",
        "#scipy.sparse.kron(myMatrix,matrix,format='csr')\n",
        "#scipy.sparse.csr_matrix([[1,0],[0,numpy.exp(1.j*theta)]])"
      ],
      "metadata": {
        "id": "FkMwadm4jRoj"
      },
      "execution_count": null,
      "outputs": []
    },
    {
      "cell_type": "code",
      "source": [
        "def Input2(fileName):\n",
        "  myInput_lines=open(fileName).readlines()\n",
        "  myInput=[]\n",
        "  for line in myInput_lines[0:]:\n",
        "      myInput.append(line.split())\n",
        "  digit = int(math.log2(len(myInput)))\n",
        "  state = []\n",
        "  for i in range(len(myInput)):\n",
        "    if myInput[i][0] != 0 or myInput[i][0]:\n",
        "      state.append((float(myInput[i][0])+1j*float(myInput[i][1]), decimalToBinary(i).zfill(digit)))\n",
        "  return state\n",
        "\n",
        "def GatesAndMeasure2(wires, gates):\n",
        "  if gates[0][0] == 'INITSTATE':\n",
        "    if gates[0][1] == 'FILE':\n",
        "      state = Input2(gates[0][2])\n",
        "    else:\n",
        "      state = ([(1., gates[0][2][1:-1])])\n",
        "  else:\n",
        "    bits = ''\n",
        "    for i in range(wires):\n",
        "      bits = bits + '0'\n",
        "    state = [(1., bits)]\n",
        "  vec = (StateToVec(state))\n",
        "  for gate in gates:\n",
        "    if gate[0] == 'H':\n",
        "      vec = numpy.matmul(HadamardArray(int(gate[1]),wires), vec)\n",
        "      #vec = HadamardArray(int(gate[1]),wires) @ vec\n",
        "    elif gate[0] == 'P':\n",
        "      #vec = Phase(int(gate[1]),wires, float(gate[2])) @ vec\n",
        "      vec = numpy.matmul(PhaseArray(int(gate[1]),wires, float(gate[2])), vec)\n",
        "    elif gate[0] == 'CNOT':\n",
        "      vec = numpy.matmul(CNOTArray(int(gate[1]),int(gate[2]), wires), vec)\n",
        "    elif gate[0].lower() == 'measure':\n",
        "      state = VecToState(vec)\n",
        "      prob = []\n",
        "      for st in state:\n",
        "        prob.append((np.abs(st[0])**2, st[1]))\n",
        "      print(\"measurement:\",prob)\n",
        "  return VecToState(vec)"
      ],
      "metadata": {
        "id": "jMdRRw5HkjqX"
      },
      "execution_count": null,
      "outputs": []
    },
    {
      "cell_type": "code",
      "source": [
        "def Array(i, k, mat):\n",
        "  I = spa.csr_matrix(scipy.sparse.identity(2,dtype='complex'))\n",
        "  H = mat\n",
        "  size=2**k\n",
        "  if i == 0:\n",
        "    myMatrix = H\n",
        "  else:\n",
        "    myMatrix = I\n",
        "  #myMatrix=numpy.zeros((size,size))\n",
        "  for t in range(1, k):\n",
        "    if t < i:\n",
        "      myMatrix = Tensor(myMatrix, I)\n",
        "    elif t ==i:\n",
        "      myMatrix = Tensor(myMatrix, H)\n",
        "    else:\n",
        "      myMatrix = Tensor(myMatrix, I)\n",
        "  return myMatrix\n",
        "def PhaseArray(i,k,phi):\n",
        "  mat = [[1,0],[0,np.exp(phi*1j)]]\n",
        "  return Array(i, k, mat)\n",
        "def HadamardArray(i,k):\n",
        "  H = [[1/2**(1/2),1/2**(1/2)],[1/2**(1/2),-1/2**(1/2)]]\n",
        "  return Array(i, k, H)\n",
        "print(HadamardArray(1, 3))\n",
        "print(PhaseArray(1, 3, np.pi/7))"
      ],
      "metadata": {
        "id": "i-eUPGFwk9FI"
      },
      "execution_count": null,
      "outputs": []
    },
    {
      "cell_type": "code",
      "source": [
        "def CNOTArray(controlWire,otherWire,totalWires):\n",
        "  c = controlWire\n",
        "  I = scipy.sparse.csr_matrix(scipy.sparse.identity(1,dtype='complex'))\n",
        "  no = otherWire\n",
        "  total = totalWires\n",
        "  mini = min(c, no)\n",
        "  if no > c:\n",
        "    cnot = [[1,0,0,0],[0,1,0,0],[0,0,0,1],[0,0,1,0]]\n",
        "  else:\n",
        "    cnot = [[1,0,0,0],[0,0,0,1],[0,0,1,0],[0,1,0,0]]\n",
        "  if mini == 0:\n",
        "    myMatrix = cnot\n",
        "    for t in range(2, total):\n",
        "      myMatrix = Tensor(myMatrix, I)\n",
        "  else:\n",
        "    myMatrix = I\n",
        "    for t in range(1, total):\n",
        "      if t < mini:\n",
        "        myMatrix = Tensor(myMatrix, I)\n",
        "      elif t == mini:\n",
        "        myMatrix = Tensor(myMatrix, cnot)\n",
        "      elif t > mini+1:\n",
        "        myMatrix = Tensor(myMatrix, I)\n",
        "  return myMatrix"
      ],
      "metadata": {
        "id": "97GapSVolAjT"
      },
      "execution_count": null,
      "outputs": []
    },
    {
      "cell_type": "markdown",
      "source": [
        "### non atomic"
      ],
      "metadata": {
        "id": "IAGxCXpy1Sbc"
      }
    },
    {
      "cell_type": "code",
      "source": [
        "def ReadWrite(fileName, wires):\n",
        "    myInput_lines=open(fileName).readlines()\n",
        "    myInput = []\n",
        "    f = open(\"rewrite.circuit\", \"w\")\n",
        "    #f.write(str(wires)+'\\n')\n",
        "    for line in myInput_lines[0:]:\n",
        "        myInput.append(line.split())\n",
        "    for i in range(0, len(myInput_lines)):\n",
        "      j = myInput[i][0]\n",
        "      if j != 'CPHASE' and j != 'SWAP' and j != 'CRZ' and j != 'RZ' and j != 'NOT':\n",
        "        f.write(myInput_lines[i])\n",
        "      elif j == 'CPHASE':\n",
        "        cwire = myInput[i][1]\n",
        "        notwire = myInput[i][2]\n",
        "        theta = float(myInput[i][3])\n",
        "        f.write(\"CNOT \"+str(cwire)+' '+str(notwire)+'\\n')\n",
        "        f.write(\"P \"+str(notwire)+' '+str(-theta/2) + '\\n')\n",
        "        f.write(\"CNOT \"+str(cwire)+' '+str(notwire)+'\\n')\n",
        "        f.write(\"P \"+str(notwire)+' '+str(theta/2) + '\\n')\n",
        "        f.write(\"P \"+str(cwire)+' '+str(theta/2) + '\\n')\n",
        "      elif j == 'SWAP':\n",
        "        cwire = int(myInput[i][1])\n",
        "        notwire = int(myInput[i][2])\n",
        "        mini = min(cwire,notwire)\n",
        "        maxi = max(cwire,notwire)\n",
        "        for i in range(mini, maxi):\n",
        "          f.write('CNOT '+ str(i)+' '+str(i+1)+'\\n')\n",
        "          f.write('CNOT '+ str(i+1)+' '+str(i)+'\\n')\n",
        "          f.write('CNOT '+ str(i)+' '+str(i+1)+'\\n')\n",
        "        for i in reversed(range(0, maxi-1)):\n",
        "          f.write('CNOT '+ str(i)+' '+str(i+1)+'\\n')\n",
        "          f.write('CNOT '+ str(i+1)+' '+str(i)+'\\n')\n",
        "          f.write('CNOT '+ str(i)+' '+str(i+1)+'\\n')\n",
        "      elif j == 'CRZ':\n",
        "        cwire = myInput[i][1]\n",
        "        notwire = myInput[i][2]\n",
        "        theta = float(myInput[i][3])\n",
        "        f.write(\"CNOT \"+ str(cwire)+' '+str(notwire)+' '+str(theta)+'\\n')\n",
        "        f.write(\"P \"+str(notwire)+' '+str(theta/2) + '\\n')\n",
        "        f.write(\"CNOT \"+str(cwire)+' '+str(notwire)+' '+str(theta)+'\\n')\n",
        "        f.write(\"P \"+str(notwire)+' '+str(-theta/2) + '\\n')\n",
        "      elif j == 'RZ':\n",
        "        wire = myInput[i][1]\n",
        "        theta = float(myInput[i][2])\n",
        "        f.write(\"H \"+str(wire)+'\\n')\n",
        "        f.write(\"P \"+str(wire)+' '+str(np.pi)+'\\n')\n",
        "        f.write(\"H \"+str(wire)+'\\n')\n",
        "        f.write(\"P \"+str(wire)+' '+str(theta/2) + '\\n')\n",
        "        f.write(\"H \"+str(wire)+'\\n')\n",
        "        f.write(\"P \"+str(wire)+' '+str(np.pi)+'\\n')\n",
        "        f.write(\"H \"+str(wire)+'\\n')\n",
        "        f.write(\"P \"+str(wire)+' '+str(-theta/2) + '\\n')\n",
        "      elif j == 'NOT':\n",
        "        wire = myInput[i][1]\n",
        "        f.write(\"H \"+str(wire)+'\\n')\n",
        "        f.write(\"P \"+str(wire)+' '+str(np.pi)+'\\n')\n",
        "        f.write(\"H \"+str(wire)+'\\n')"
      ],
      "metadata": {
        "id": "KqHQ9FG5dlJ4"
      },
      "execution_count": null,
      "outputs": []
    },
    {
      "cell_type": "code",
      "source": [
        "ReadWrite('3.txt', 3)"
      ],
      "metadata": {
        "id": "fcXxKBJ8EuXe"
      },
      "execution_count": null,
      "outputs": []
    },
    {
      "cell_type": "code",
      "source": [
        "wires, gates = ReadInput('3.txt')\n",
        "\n",
        "GatesAndMeasure(wires, gates)"
      ],
      "metadata": {
        "id": "xkleCKc_cdQd",
        "colab": {
          "base_uri": "https://localhost:8080/"
        },
        "outputId": "7458301f-fa3c-46de-f458-ba4944a71638"
      },
      "execution_count": null,
      "outputs": [
        {
          "output_type": "execute_result",
          "data": {
            "text/plain": [
              "[(1.0, '100')]"
            ]
          },
          "metadata": {},
          "execution_count": 161
        }
      ]
    },
    {
      "cell_type": "code",
      "source": [
        "def Input2(fileName):\n",
        "  myInput_lines=open(fileName).readlines()\n",
        "  myInput=[]\n",
        "  for line in myInput_lines[0:]:\n",
        "      myInput.append(line.split())\n",
        "  digit = int(math.log2(len(myInput)))\n",
        "  state = []\n",
        "  for i in range(len(myInput)):\n",
        "    if myInput[i][0] != 0 or myInput[i][0]:\n",
        "      state.append((float(myInput[i][0])+1j*float(myInput[i][1]), decimalToBinary(i).zfill(digit)))\n",
        "  return state\n",
        "\n",
        "def GatesAndMeasure2(wires, gates):\n",
        "  if gates[0][0] == 'INITSTATE':\n",
        "    if gates[0][1] == 'FILE':\n",
        "      state = Input2(gates[0][2])\n",
        "    else:\n",
        "      state = ([(1., gates[0][2][1:-1])])\n",
        "  else:\n",
        "    bits = ''\n",
        "    for i in range(wires):\n",
        "      bits = bits + '0'\n",
        "    state = [(1., bits)]\n",
        "  vec = (StateToVec(state))\n",
        "  for gate in gates:\n",
        "    if gate[0] == 'H':\n",
        "      vec = numpy.matmul(HadamardArray(int(gate[1]),wires), vec)\n",
        "      #vec = HadamardArray(int(gate[1]),wires) @ vec\n",
        "    elif gate[0] == 'P':\n",
        "      #vec = Phase(int(gate[1]),wires, float(gate[2])) @ vec\n",
        "      vec = numpy.matmul(PhaseArray(int(gate[1]),wires, float(gate[2])), vec)\n",
        "    elif gate[0] == 'CNOT':\n",
        "      vec = numpy.matmul(CNOTArray(int(gate[1]),int(gate[2]), wires), vec)\n",
        "    elif gate[0].lower() == 'measure':\n",
        "      state = VecToState(vec)\n",
        "      prob = []\n",
        "      for st in state:\n",
        "        prob.append((np.abs(st[0])**2, st[1]))\n",
        "      print(\"measurement:\",prob)\n",
        "  return VecToState(vec)"
      ],
      "metadata": {
        "id": "FwIRAbMYcrNH"
      },
      "execution_count": null,
      "outputs": []
    },
    {
      "cell_type": "markdown",
      "source": [
        "### phase estimation"
      ],
      "metadata": {
        "id": "VbHCtfVSvOMw"
      }
    },
    {
      "cell_type": "code",
      "source": [
        "import matplotlib.pyplot as plt\n",
        "\n",
        "angles = np.linspace(0, 2*np.pi, 100)\n",
        "phi1 = []\n",
        "phi2 = []\n",
        "for t in range(100):\n",
        "  state=[(1., '01')]\n",
        "  angle = angles[t]\n",
        "  state = H(0, state)\n",
        "  state = CNOT(0,1,state)\n",
        "  state = Phase(1, angle/2, state)\n",
        "  state = CNOT(0,1,state)\n",
        "  state = Phase(1, -angle/2, state)\n",
        "  state = Phase(0, -angle/2, state)\n",
        "  state = H(0, state)\n",
        "  vec = StateToVec(state)\n",
        "  if abs(vec[1]) > abs(vec[3]):\n",
        "    phi2.append(0)\n",
        "  else:\n",
        "    phi2.append(1/2)\n",
        "plt.plot(angles/2/np.pi, phi2)\n",
        "plt.title(\"single wire phase estimation\")\n",
        "plt.xlabel(\"angle/2pi\")\n",
        "plt.ylabel(\"theta\")\n",
        "plt.show()\n",
        "\n"
      ],
      "metadata": {
        "id": "YgvWtFg6vG5G",
        "colab": {
          "base_uri": "https://localhost:8080/",
          "height": 295
        },
        "outputId": "83d5f421-4efd-4b08-be63-28c3783d53ff"
      },
      "execution_count": null,
      "outputs": [
        {
          "output_type": "display_data",
          "data": {
            "text/plain": [
              "<Figure size 432x288 with 1 Axes>"
            ],
            "image/png": "[encoded data removed]"
          },
          "metadata": {
            "needs_background": "light"
          }
        }
      ]
    },
    {
      "cell_type": "code",
      "source": [
        "angle = 0.1432394487827058*np.pi\n",
        "state=[(1., '01')]\n",
        "state = H(0, state)\n",
        "state = CNOT(0,1,state)\n",
        "state = Phase(1, angle/2, state)\n",
        "state = CNOT(0,1,state)\n",
        "state = Phase(1, -angle/2, state)\n",
        "state = Phase(0, -angle/2, state)\n",
        "state = H(0, state)\n",
        "print(state)\n",
        "vec = StateToVec(state)\n",
        "states = ['01','11']\n",
        "prob = [abs(vec[1])**2, abs(vec[3])**2]\n",
        "plt.bar(states, prob)\n",
        "plt.title(\"0.1432\")\n",
        "plt.show()\n",
        "\n",
        "\n"
      ],
      "metadata": {
        "id": "3-rhPB-abAfk"
      },
      "execution_count": null,
      "outputs": []
    },
    {
      "cell_type": "code",
      "source": [
        "def CP(c, n, angle, state):\n",
        "  state = CNOT(c,n,state)\n",
        "  state = Phase(n, angle/2, state)\n",
        "  state = CNOT(c,n,state)\n",
        "  state = Phase(n, -angle/2, state)\n",
        "  state = Phase(c, -angle/2, state)\n",
        "  return state"
      ],
      "metadata": {
        "id": "ht-Esh8kZ5HO"
      },
      "execution_count": null,
      "outputs": []
    },
    {
      "cell_type": "code",
      "source": [
        "angles = np.linspace(0, 2*np.pi, 100)\n",
        "phi2 = []\n",
        "for t in range(100):\n",
        "  angle = angles[t]\n",
        "  state=[(1., '001')]\n",
        "  state = H(0, state)\n",
        "  state = H(1, state)\n",
        "  state = CP(1,2,angle, state)\n",
        "  state = CP(0,2,angle, state)\n",
        "  state = CP(0,2,angle, state)\n",
        "  state = H(0, state)\n",
        "  state = CP(0,1,-np.pi/2, state)\n",
        "  state = H(1, state)\n",
        "  state = CNOT(0,1, state)\n",
        "  state = CNOT(1,0, state)\n",
        "  state = CNOT(0,1, state)\n",
        "  vec = StateToVec(state)\n",
        "  maxi = max(abs(vec[1]),abs(vec[3]),abs(vec[5]),abs(vec[7]))\n",
        "  if 0.143239>angles[t] and 0.143239<angles[t+1]:\n",
        "    prob = []\n",
        "    x = []\n",
        "    for i in range(len(vec)):\n",
        "      prob.append(abs(vec[i])**2)\n",
        "      x.append(decimalToBinary(i).zfill(3))\n",
        "    plt.title(\"0.1432\")\n",
        "    plt.bar(x, prob)\n",
        "    plt.show()\n",
        "  if maxi == abs(vec[1]):\n",
        "    phi2.append(0)\n",
        "  elif maxi == abs(vec[3]):\n",
        "    phi2.append(1/4)\n",
        "  elif maxi == abs(vec[5]):\n",
        "    phi2.append(1/2)\n",
        "  else:\n",
        "    phi2.append(3/4)\n",
        "plt.plot(angles/2/np.pi, phi2)"
      ],
      "metadata": {
        "id": "YsQ3DR18Y7RS",
        "colab": {
          "base_uri": "https://localhost:8080/",
          "height": 546
        },
        "outputId": "1c58304d-52df-44b9-8b97-591f73f5601c"
      },
      "execution_count": null,
      "outputs": [
        {
          "output_type": "display_data",
          "data": {
            "text/plain": [
              "<Figure size 432x288 with 1 Axes>"
            ],
            "image/png": "[encoded data removed]"
          },
          "metadata": {
            "needs_background": "light"
          }
        },
        {
          "output_type": "execute_result",
          "data": {
            "text/plain": [
              "[<matplotlib.lines.Line2D at 0x7feb6411d700>]"
            ]
          },
          "metadata": {},
          "execution_count": 17
        },
        {
          "output_type": "display_data",
          "data": {
            "text/plain": [
              "<Figure size 432x288 with 1 Axes>"
            ],
            "image/png": "[encoded data removed]"
          },
          "metadata": {
            "needs_background": "light"
          }
        }
      ]
    },
    {
      "cell_type": "code",
      "source": [
        "angles = np.linspace(0, 2*np.pi, 100)\n",
        "phi2 = []\n",
        "for t in range(100):\n",
        "  angle = angles[t]\n",
        "  state=[(1., '0000001')]\n",
        "  state = H(0, state)\n",
        "  state = H(1, state)\n",
        "  state = H(2, state)\n",
        "  state = H(3, state)\n",
        "  state = H(4, state)\n",
        "  state = H(5, state)\n",
        "  state = CP(5,6,angle, state)\n",
        "  for i in range(2):\n",
        "    state = CP(4,6,angle, state)\n",
        "  for i in range(4):\n",
        "    state = CP(3,6,angle, state)\n",
        "  for i in range(8):\n",
        "    state = CP(2,6,angle, state)\n",
        "  for i in range(16):\n",
        "    state = CP(1,6,angle, state)\n",
        "  for i in range(32):\n",
        "    state = CP(0,6,angle, state)\n",
        "  state = H(0, state)\n",
        "  state = CP(0,1,-np.pi/2, state)\n",
        "  state = H(1, state)\n",
        "  state = CP(0,2,-np.pi/4, state)\n",
        "  state = CP(1,2,-np.pi/2, state)\n",
        "  state = H(2, state)\n",
        "  state = CP(0,3,-np.pi/8, state)\n",
        "  state = CP(1,3,-np.pi/4, state)\n",
        "  state = CP(2,3,-np.pi/2, state)\n",
        "  state = H(3, state)\n",
        "  state = CP(0,4,-np.pi/16, state)\n",
        "  state = CP(1,4,-np.pi/8, state)\n",
        "  state = CP(2,4,-np.pi/4, state)\n",
        "  state = CP(3,4,-np.pi/2, state)\n",
        "  state = H(4, state)\n",
        "  state = CP(0,5,-np.pi/32, state)\n",
        "  state = CP(1,5,-np.pi/16, state)\n",
        "  state = CP(2,5,-np.pi/8, state)\n",
        "  state = CP(3,5,-np.pi/4, state)\n",
        "  state = CP(4,5,-np.pi/2, state)\n",
        "  state = H(5, state)\n",
        "  for i in range(0, 5):\n",
        "    state = CNOT(i,i+1, state)\n",
        "    state = CNOT(i+1,i, state)\n",
        "    state = CNOT(i,i+1, state)\n",
        "  for i in reversed(range(0, 4)):\n",
        "    state = CNOT(i,i+1, state)\n",
        "    state = CNOT(i+1,i, state)\n",
        "    state = CNOT(i,i+1, state)\n",
        "  for i in range(1, 4):\n",
        "    state = CNOT(i,i+1, state)\n",
        "    state = CNOT(i+1,i, state)\n",
        "    state = CNOT(i,i+1, state)\n",
        "  for i in reversed(range(1, 3)):\n",
        "    state = CNOT(i,i+1, state)\n",
        "    state = CNOT(i+1,i, state)\n",
        "    state = CNOT(i,i+1, state)\n",
        "  for i in range(2, 3):\n",
        "    state = CNOT(i,i+1, state)\n",
        "    state = CNOT(i+1,i, state)\n",
        "    state = CNOT(i,i+1, state)\n",
        "  vec = StateToVec(state)\n",
        "  vecs = []\n",
        "  for i in vec:\n",
        "    vecs.append(abs(i))\n",
        "  if 0.5>angles[t] and 0.5<angles[t+1]:\n",
        "    prob = []\n",
        "    x = []\n",
        "    for i in range(len(vec)):\n",
        "      prob.append(abs(vec[i])**2)\n",
        "      x.append(decimalToBinary(i).zfill(7))\n",
        "    plt.title(\"0.5\")\n",
        "    plt.bar(x, prob)\n",
        "    plt.show()\n",
        "  maxi = max(vecs)\n",
        "  for i in range(128):\n",
        "    if vecs[i] == maxi:\n",
        "      phi2.append((i-1)/128)\n",
        "      #break\n",
        "plt.plot(angles/2/np.pi, phi2)\n",
        "plt.show()"
      ],
      "metadata": {
        "id": "3pMfw8AfyALY",
        "colab": {
          "base_uri": "https://localhost:8080/",
          "height": 529
        },
        "outputId": "f5624e43-fcf4-4ba9-cfe5-092941f5969e"
      },
      "execution_count": null,
      "outputs": [
        {
          "output_type": "display_data",
          "data": {
            "text/plain": [
              "<Figure size 432x288 with 1 Axes>"
            ],
            "image/png": "[encoded data removed]"
          },
          "metadata": {
            "needs_background": "light"
          }
        },
        {
          "output_type": "display_data",
          "data": {
            "text/plain": [
              "<Figure size 432x288 with 1 Axes>"
            ],
            "image/png": "[encoded data removed]"
          },
          "metadata": {
            "needs_background": "light"
          }
        }
      ]
    },
    {
      "cell_type": "code",
      "source": [
        "angles = np.linspace(0, 2*np.pi, 100)\n",
        "phi2 = []\n",
        "for t in range(100):\n",
        "  angle = angles[t]\n",
        "  state=[(np.sqrt(0.3), '0000000'), (np.sqrt(0.7), '0000001')]\n",
        "  state = H(0, state)\n",
        "  state = H(1, state)\n",
        "  state = H(2, state)\n",
        "  state = H(3, state)\n",
        "  state = H(4, state)\n",
        "  state = H(5, state)\n",
        "  state = CP(5,6,angle, state)\n",
        "  for i in range(2):\n",
        "    state = CP(4,6,angle, state)\n",
        "  for i in range(4):\n",
        "    state = CP(3,6,angle, state)\n",
        "  for i in range(8):\n",
        "    state = CP(2,6,angle, state)\n",
        "  for i in range(16):\n",
        "    state = CP(1,6,angle, state)\n",
        "  for i in range(32):\n",
        "    state = CP(0,6,angle, state)\n",
        "  state = H(0, state)\n",
        "  state = CP(0,1,-np.pi/2, state)\n",
        "  state = H(1, state)\n",
        "  state = CP(0,2,-np.pi/4, state)\n",
        "  state = CP(1,2,-np.pi/2, state)\n",
        "  state = H(2, state)\n",
        "  state = CP(0,3,-np.pi/8, state)\n",
        "  state = CP(1,3,-np.pi/4, state)\n",
        "  state = CP(2,3,-np.pi/2, state)\n",
        "  state = H(3, state)\n",
        "  state = CP(0,4,-np.pi/16, state)\n",
        "  state = CP(1,4,-np.pi/8, state)\n",
        "  state = CP(2,4,-np.pi/4, state)\n",
        "  state = CP(3,4,-np.pi/2, state)\n",
        "  state = H(4, state)\n",
        "  state = CP(0,5,-np.pi/32, state)\n",
        "  state = CP(1,5,-np.pi/16, state)\n",
        "  state = CP(2,5,-np.pi/8, state)\n",
        "  state = CP(3,5,-np.pi/4, state)\n",
        "  state = CP(4,5,-np.pi/2, state)\n",
        "  state = H(5, state)\n",
        "  for i in range(0, 5):\n",
        "    state = CNOT(i,i+1, state)\n",
        "    state = CNOT(i+1,i, state)\n",
        "    state = CNOT(i,i+1, state)\n",
        "  for i in reversed(range(0, 4)):\n",
        "    state = CNOT(i,i+1, state)\n",
        "    state = CNOT(i+1,i, state)\n",
        "    state = CNOT(i,i+1, state)\n",
        "  for i in range(1, 4):\n",
        "    state = CNOT(i,i+1, state)\n",
        "    state = CNOT(i+1,i, state)\n",
        "    state = CNOT(i,i+1, state)\n",
        "  for i in reversed(range(1, 3)):\n",
        "    state = CNOT(i,i+1, state)\n",
        "    state = CNOT(i+1,i, state)\n",
        "    state = CNOT(i,i+1, state)\n",
        "  for i in range(2, 3):\n",
        "    state = CNOT(i,i+1, state)\n",
        "    state = CNOT(i+1,i, state)\n",
        "    state = CNOT(i,i+1, state)\n",
        "  vec = StateToVec(state)\n",
        "  vecs = []\n",
        "  for i in vec:\n",
        "    vecs.append(abs(i))\n",
        "  if np.pi>angles[t] and np.pi<angles[t+1]:\n",
        "    prob = []\n",
        "    x = []\n",
        "    for i in range(len(vec)):\n",
        "      prob.append(abs(vec[i])**2)\n",
        "      x.append(decimalToBinary(i).zfill(7))\n",
        "    plt.title(\"0.5\")\n",
        "    plt.bar(x, prob)\n",
        "    plt.show()\n",
        "  maxi = max(vecs)\n",
        "  for i in range(128):\n",
        "    if vecs[i] == maxi:\n",
        "      phi2.append((i-1)/128)\n",
        "      #break\n",
        "plt.plot(angles/2/np.pi, phi2)\n",
        "plt.show()"
      ],
      "metadata": {
        "id": "fqV8YImVDWpB"
      },
      "execution_count": null,
      "outputs": []
    },
    {
      "cell_type": "code",
      "source": [],
      "metadata": {
        "id": "2Gm59dwUPWNW"
      },
      "execution_count": null,
      "outputs": []
    },
    {
      "cell_type": "code",
      "source": [
        "def BigSwap(up, state):\n",
        "    if up % 2 == 0:\n",
        "      for i in range(int(up/2)-1):\n",
        "        for j in range(i, up-1-i):\n",
        "          state = CNOT(j,j+1, state)\n",
        "          state = CNOT(j+1,j, state)\n",
        "          state = CNOT(j,j+1, state)\n",
        "        for j in reversed(range(i, up-2-i)):\n",
        "          state = CNOT(j,j+1, state)\n",
        "          state = CNOT(j+1,j, state)\n",
        "          state = CNOT(j,j+1, state)\n",
        "      state = CNOT(int(up/2)-1,int(up/2), state)\n",
        "      state = CNOT(int(up/2),int(up/2)-1, state)\n",
        "      state = CNOT(int(up/2)-1,int(up/2), state)\n",
        "    else:\n",
        "      for i in range(int((up+1)/2) - 1):\n",
        "        for j in range(i, up-1-i):\n",
        "          state = CNOT(j,j+1, state)\n",
        "          state = CNOT(j+1,j, state)\n",
        "          state = CNOT(j,j+1, state)\n",
        "        for j in reversed(range(i, up-2-i)):\n",
        "          state = CNOT(j,j+1, state)\n",
        "          state = CNOT(j+1,j, state)\n",
        "          state = CNOT(j,j+1, state)\n",
        "    return state\n",
        "state=[(1, '001110')]\n",
        "BigSwap(5, state)"
      ],
      "metadata": {
        "id": "8RIZeflZyQ_E",
        "colab": {
          "base_uri": "https://localhost:8080/"
        },
        "outputId": "408125d8-2fe2-4cce-a1f7-773c6da2cb5a"
      },
      "execution_count": null,
      "outputs": [
        {
          "output_type": "execute_result",
          "data": {
            "text/plain": [
              "[(1, '111000')]"
            ]
          },
          "metadata": {},
          "execution_count": 177
        }
      ]
    },
    {
      "cell_type": "code",
      "source": [
        "def PE(up,bottom, stated, angles):\n",
        "  phi2 = []\n",
        "  for m in range(len(angles)):\n",
        "    state = stated\n",
        "    angle = angles[m]\n",
        "    for i in range(up):\n",
        "      state = H(i, state)##\n",
        "    for i in range(up):\n",
        "      for j in range(2**i):\n",
        "        for t in range(bottom):\n",
        "          state = CP(up-i-1,up+t,angle, state)\n",
        "    for i in range(0, up-1):#up=6\n",
        "      state = H(i, state)\n",
        "      for j in range(i + 1):\n",
        "        state = CP(j,i+1,-np.pi/2**(i+1)*2**(j), state)\n",
        "    state = H(up-1, state)\n",
        "    ###################\n",
        "    state = BigSwap(up, state)\n",
        "    ##################\n",
        "    vec = StateToVec(state)\n",
        "    vecs = []\n",
        "    for i in vec:\n",
        "      vecs.append(abs(i))\n",
        "    if 0.143239>=angles[m] and 0.143239<=angles[m+1]:\n",
        "      prob = []\n",
        "      x = []\n",
        "      for i in range(len(vec)):\n",
        "        prob.append(abs(vec[i])**2)\n",
        "        x.append(decimalToBinary(i).zfill(up+bottom))\n",
        "      plt.title(\"0.1432\")\n",
        "      plt.bar(x, prob)\n",
        "      plt.show()\n",
        "    maxi = max(vecs)\n",
        "    for i in range(2**(up+bottom)):\n",
        "      if vecs[i] == maxi:\n",
        "        phi2.append((i-1)/2**(up+bottom))\n",
        "        break\n",
        "  plt.plot(angles/2/np.pi, phi2)\n",
        "  plt.show()\n",
        "angles = np.linspace(0, 2*np.pi, 100)\n",
        "PE(6,2, [(1., '00000010')], angles)"
      ],
      "metadata": {
        "id": "SMAuVioyl53b"
      },
      "execution_count": null,
      "outputs": []
    },
    {
      "cell_type": "code",
      "source": [
        "bottom, gates = ReadInput('3.txt')"
      ],
      "metadata": {
        "id": "NkYLyZR39sdS"
      },
      "execution_count": null,
      "outputs": []
    },
    {
      "cell_type": "code",
      "source": [
        "print(bottom)\n",
        "print(gates)"
      ],
      "metadata": {
        "colab": {
          "base_uri": "https://localhost:8080/"
        },
        "id": "7SUqPanytms8",
        "outputId": "d97bd4f2-f7fd-4c22-adf7-a379cdabd578"
      },
      "execution_count": null,
      "outputs": [
        {
          "output_type": "stream",
          "name": "stdout",
          "text": [
            "2\n",
            "[['NOT', '0'], ['P', '0', '0.3'], ['NOT', '1']]\n"
          ]
        }
      ]
    },
    {
      "cell_type": "code",
      "source": [
        "import matplotlib.pyplot as plt\n",
        "\n",
        "def PEFile(up, bottom, stated, gates):\n",
        "    state = stated\n",
        "    for i in range(up):\n",
        "      state = H(i, state)##\n",
        "      print(\"H\", i)\n",
        "    for i in range(up):\n",
        "      for j in range(2**i):\n",
        "          for gate in gates:\n",
        "            if gate[0] == 'P':\n",
        "              state = CP(up-i-1, int(gate[1])+up, float(gate[2]), state)\n",
        "              print(\"CPHASE\", up-i-1, int(gate[1])+up, float(gate[2]))\n",
        "            elif gate[0] == 'NOT':\n",
        "              state = CNOT(up-i-1,int(gate[1])+up, state)\n",
        "              print('CNOT', up-i-1,int(gate[1])+up)\n",
        "    for i in range(0, up-1):#up=6\n",
        "      state = H(i, state)\n",
        "      for j in range(i + 1):\n",
        "        state = CP(j,i+1,-np.pi/2**(i+1)*2**(j), state)\n",
        "    state = H(up-1, state)\n",
        "    ###################\n",
        "    state = BigSwap(up, state)\n",
        "    ##################\n",
        "    vec = StateToVec(state)\n",
        "    vecs = []\n",
        "    for i in range(len(vec)):\n",
        "        prob.append(abs(vec[i])**2)\n",
        "        x.append(decimalToBinary(i).zfill(up+bottom))\n",
        "    plt.bar(x, prob)\n",
        "    plt.show()\n",
        "state=[(1, '00000')]\n",
        "PEFile(3, bottom, state, gates)"
      ],
      "metadata": {
        "id": "zBHEnaD_laO3",
        "colab": {
          "base_uri": "https://localhost:8080/",
          "height": 673
        },
        "outputId": "e5349089-970e-4609-eed1-16be4c0597ca"
      },
      "execution_count": null,
      "outputs": [
        {
          "output_type": "stream",
          "name": "stdout",
          "text": [
            "H 0\n",
            "H 1\n",
            "H 2\n",
            "CNOT 2 3\n",
            "CPHASE 2 3 0.3\n",
            "CNOT 2 4\n",
            "CNOT 1 3\n",
            "CPHASE 1 3 0.3\n",
            "CNOT 1 4\n",
            "CNOT 1 3\n",
            "CPHASE 1 3 0.3\n",
            "CNOT 1 4\n",
            "CNOT 0 3\n",
            "CPHASE 0 3 0.3\n",
            "CNOT 0 4\n",
            "CNOT 0 3\n",
            "CPHASE 0 3 0.3\n",
            "CNOT 0 4\n",
            "CNOT 0 3\n",
            "CPHASE 0 3 0.3\n",
            "CNOT 0 4\n",
            "CNOT 0 3\n",
            "CPHASE 0 3 0.3\n",
            "CNOT 0 4\n"
          ]
        },
        {
          "output_type": "display_data",
          "data": {
            "text/plain": [
              "<Figure size 432x288 with 1 Axes>"
            ],
            "image/png": "[encoded data removed]"
          },
          "metadata": {
            "needs_background": "light"
          }
        }
      ]
    },
    {
      "cell_type": "code",
      "source": [],
      "metadata": {
        "id": "H2EkmzXJ_eps"
      },
      "execution_count": null,
      "outputs": []
    },
    {
      "cell_type": "markdown",
      "source": [
        "### QFT"
      ],
      "metadata": {
        "id": "Mdpe8OZ5k5hl"
      }
    },
    {
      "cell_type": "code",
      "source": [
        "def CP(c, n, angle, state):\n",
        "  state = CNOT(c,n,state)\n",
        "  state = Phase(n, -angle/2, state)\n",
        "  state = CNOT(c,n,state)\n",
        "  state = Phase(n, angle/2, state)\n",
        "  state = Phase(c, angle/2, state)\n",
        "  return state"
      ],
      "metadata": {
        "id": "_nEeVvstpCNV"
      },
      "execution_count": null,
      "outputs": []
    },
    {
      "cell_type": "code",
      "source": [
        "state = [(1, '101')]\n",
        "CP(0, 2, np.pi/4, state)"
      ],
      "metadata": {
        "colab": {
          "base_uri": "https://localhost:8080/"
        },
        "id": "qkJ05Iy8FoBm",
        "outputId": "a160ac87-fea1-49f4-aa86-7d6d6bfe743d"
      },
      "execution_count": null,
      "outputs": [
        {
          "output_type": "execute_result",
          "data": {
            "text/plain": [
              "[((0.7071067811865475+0.7071067811865476j), '101')]"
            ]
          },
          "metadata": {},
          "execution_count": 153
        }
      ]
    },
    {
      "cell_type": "code",
      "source": [
        "def QFT(wire, state):\n",
        "  state = BigSwap(wire, state)\n",
        "  state = H(wire-1, state)\n",
        "  for i in reversed(range(0, wire-1)):\n",
        "    for j in reversed(range(i + 1)):\n",
        "      state = CP(j,i+1,np.pi/2**(i+1)*2**(j), state)\n",
        "    state = H(i, state)\n",
        "  #state = BigSwap(wire, state)\n",
        "  vec = StateToVec(state)\n",
        "  return vec\n",
        "state = [(1.,'00001')]\n",
        "vec = QFT(5,state)\n",
        "print(VecToState(vec))\n",
        "#PrettyPrintInteger(VecToState(vec))"
      ],
      "metadata": {
        "id": "BFNciiTmc9n_",
        "colab": {
          "base_uri": "https://localhost:8080/"
        },
        "outputId": "947f1e92-3ecc-458a-8ea1-b334fd8ed647"
      },
      "execution_count": null,
      "outputs": [
        {
          "output_type": "stream",
          "name": "stdout",
          "text": [
            "[((0.1767766952966368+0j), '00000'), ((0.17337998066526833+0.03448742241036787j), '00001'), ((0.163320370609547+0.06764951251827458j), '00010'), ((0.14698445030241972+0.0982118697983877j), '00011'), ((0.12499999999999997+0.12499999999999996j), '00100'), ((0.09821186979838771+0.14698445030241974j), '00101'), ((0.06764951251827458+0.16332037060954696j), '00110'), ((0.03448742241036785+0.1733799806652683j), '00111'), ((1.9626155733547187e-17+0.1767766952966368j), '01000'), ((-0.034487422410367834+0.17337998066526833j), '01001'), ((-0.06764951251827454+0.163320370609547j), '01010'), ((-0.09821186979838765+0.14698445030241972j), '01011'), ((-0.12499999999999996+0.12499999999999997j), '01100'), ((-0.14698445030241972+0.09821186979838774j), '01101'), ((-0.16332037060954693+0.06764951251827461j), '01110'), ((-0.1733799806652683+0.03448742241036786j), '01111'), ((-0.1767766952966368+0j), '10000'), ((-0.17337998066526833-0.03448742241036787j), '10001'), ((-0.163320370609547-0.06764951251827458j), '10010'), ((-0.14698445030241972-0.0982118697983877j), '10011'), ((-0.12499999999999997-0.12499999999999996j), '10100'), ((-0.09821186979838771-0.14698445030241974j), '10101'), ((-0.06764951251827458-0.16332037060954696j), '10110'), ((-0.03448742241036785-0.1733799806652683j), '10111'), ((-1.9626155733547187e-17-0.1767766952966368j), '11000'), ((0.034487422410367834-0.17337998066526833j), '11001'), ((0.06764951251827454-0.163320370609547j), '11010'), ((0.09821186979838765-0.14698445030241972j), '11011'), ((0.12499999999999996-0.12499999999999997j), '11100'), ((0.14698445030241972-0.09821186979838774j), '11101'), ((0.16332037060954693-0.06764951251827461j), '11110'), ((0.1733799806652683-0.03448742241036786j), '11111')]\n"
          ]
        }
      ]
    },
    {
      "cell_type": "code",
      "source": [
        "state = [(1.,'001')]\n",
        "print(BigSwap(3, state))"
      ],
      "metadata": {
        "colab": {
          "base_uri": "https://localhost:8080/"
        },
        "id": "OpZvjlOLQNg2",
        "outputId": "c47f7430-3e2b-4c5f-e915-fae60fcc9c86"
      },
      "execution_count": null,
      "outputs": [
        {
          "output_type": "stream",
          "name": "stdout",
          "text": [
            "[(1.0, '100')]\n"
          ]
        }
      ]
    },
    {
      "cell_type": "code",
      "source": [
        "def QFTFile(wire):\n",
        "  f = open(\"QFT.circuit\", \"w\")\n",
        "  f.write(str(wire)+'\\n')\n",
        "  f.write(\"H \"+str(wire-1)+'\\n')\n",
        "  for i in reversed(range(0, wire-1)):\n",
        "    for j in reversed(range(i + 1)):\n",
        "      f.write('CPHASE '+str(j)+\" \"+str(i+1)+\" \"+str(np.pi/2**(i+1)*2**(j))+'\\n')\n",
        "    f.write(\"H \"+str(i)+'\\n')\n",
        "  if wire % 2 == 0:\n",
        "      for i in range(int(wire/2)):\n",
        "        f.write('SWAP '+\" \"+str(i)+\" \"+str(wire-i-1)+'\\n')\n",
        "  else:\n",
        "    for i in range(int((wire-1)/2)):\n",
        "        f.write('SWAP '+\" \"+str(i)+\" \"+str(wire-i-1)+'\\n')\n",
        "QFTFile(3)"
      ],
      "metadata": {
        "id": "9RYnuEMSewPg"
      },
      "execution_count": null,
      "outputs": []
    },
    {
      "cell_type": "code",
      "source": [
        "ReadWrite('QFT.circuit', 3)"
      ],
      "metadata": {
        "id": "Fsp5O4ccoOXp"
      },
      "execution_count": null,
      "outputs": []
    },
    {
      "cell_type": "code",
      "source": [
        "\n",
        "wires, gates = ReadInput('rewrite.circuit')\n",
        "GatesAndMeasure(wires, gates)\n",
        "\n",
        "# PrettyPrintInteger(x)"
      ],
      "metadata": {
        "id": "5Smtzs9FipoE",
        "colab": {
          "base_uri": "https://localhost:8080/"
        },
        "outputId": "0169304e-2d6b-4baa-bbc2-ede4310899e0"
      },
      "execution_count": null,
      "outputs": [
        {
          "output_type": "execute_result",
          "data": {
            "text/plain": [
              "[(0.3535533905932737, '000'),\n",
              " (0.3535533905932737, '001'),\n",
              " ((0.3535533905932737+0j), '010'),\n",
              " ((0.3535533905932737+0j), '011'),\n",
              " ((-0.3535533905932736-1.3877787807814454e-17j), '100'),\n",
              " ((-0.3535533905932736-1.3877787807814454e-17j), '101'),\n",
              " ((-0.3535533905932736+0j), '110'),\n",
              " ((-0.3535533905932736+0j), '111')]"
            ]
          },
          "metadata": {},
          "execution_count": 150
        }
      ]
    },
    {
      "cell_type": "code",
      "source": [
        "def GatesAndMeasure2(wires, gates):\n",
        "  if gates[0][0] == 'INITSTATE':\n",
        "    if gates[0][1] == 'FILE':\n",
        "      state = Input2(gates[0][2])\n",
        "    else:\n",
        "      state = ([(1., gates[0][2][1:-1])])\n",
        "  else:\n",
        "    bits = ''\n",
        "    for i in range(wires):\n",
        "      bits = bits + '0'\n",
        "    state = [(1., bits)]\n",
        "  vec = (StateToVec(state))\n",
        "  for gate in gates:\n",
        "    if gate[0] == 'H':\n",
        "      vec = numpy.matmul(HadamardArray(int(gate[1]),wires), vec)\n",
        "      #vec = HadamardArray(int(gate[1]),wires) @ vec\n",
        "    elif gate[0] == 'P':\n",
        "      #vec = Phase(int(gate[1]),wires, float(gate[2])) @ vec\n",
        "      vec = numpy.matmul(PhaseArray(int(gate[1]),wires, float(gate[2])), vec)\n",
        "    elif gate[0] == 'CNOT':\n",
        "      vec = numpy.matmul(CNOTArray(int(gate[1]),int(gate[2]), wires), vec)\n",
        "    elif gate[0].lower() == 'measure':\n",
        "      state = VecToState(vec)\n",
        "      prob = []\n",
        "      for st in state:\n",
        "        prob.append((np.abs(st[0])**2, st[1]))\n",
        "      print(\"measurement:\",prob)\n",
        "  return VecToState(vec)"
      ],
      "metadata": {
        "id": "o-NaR8fFNqh6"
      },
      "execution_count": null,
      "outputs": []
    },
    {
      "cell_type": "markdown",
      "source": [
        "### shor"
      ],
      "metadata": {
        "id": "_lMMLRQWK9fL"
      }
    },
    {
      "cell_type": "code",
      "source": [
        "from math import gcd\n",
        "from numpy.random import randint\n",
        "def factorFinder(num, x):\n",
        "  if gcd(x, num) != 1:\n",
        "    return 0\n",
        "  notfound = True\n",
        "  r = 1\n",
        "  while notfound:\n",
        "    if x**r % num == 1:\n",
        "      notfound = False\n",
        "      return r\n",
        "    r= r+1\n",
        "  return 0\n",
        "def classicalShor(num):\n",
        "  badX = True\n",
        "  while badX:\n",
        "    x = randint(1, num)\n",
        "    r = factorFinder(num, x)\n",
        "    if r != 0 and r % 2 ==0:\n",
        "      print(\"N\",num,\"X\",x)\n",
        "      return \"X\",x, \"factor\",gcd((int(x**(r/2))-1) % num,num), gcd(int(x**(r/2)+1) % num,num)\n",
        "classicalShor(51)\n",
        "\n"
      ],
      "metadata": {
        "id": "MG2G29YBLBAY",
        "colab": {
          "base_uri": "https://localhost:8080/"
        },
        "outputId": "b9d840e2-52ce-4ddb-c1e2-dade7c7f94f3"
      },
      "execution_count": null,
      "outputs": [
        {
          "output_type": "stream",
          "name": "stdout",
          "text": [
            "N 51 X 10\n"
          ]
        },
        {
          "output_type": "execute_result",
          "data": {
            "text/plain": [
              "('X', 10, 'factor', 3, 17)"
            ]
          },
          "metadata": {},
          "execution_count": 27
        }
      ]
    },
    {
      "cell_type": "code",
      "source": [
        "import numpy as np\n",
        "from numpy.linalg import eig\n",
        "def Matri(x,N):\n",
        "  for i in range(N):\n",
        "    if 2**i >= N:\n",
        "      wire = i\n",
        "      break\n",
        "  #print(wire)\n",
        "  M = np.zeros([2**wire,2**wire])\n",
        "  for j in range(N):\n",
        "    M[j][x*j % N] = 1\n",
        "  for j in range(N, 2**wire):\n",
        "    M[j][j] = 1\n",
        "  return M\n",
        "Matri(3, 13) #@ Matri(3, 7).T"
      ],
      "metadata": {
        "id": "Jc1toKwoQm5s",
        "colab": {
          "base_uri": "https://localhost:8080/"
        },
        "outputId": "ab25054b-82ce-42ea-a821-359917ccb54c"
      },
      "execution_count": null,
      "outputs": [
        {
          "output_type": "execute_result",
          "data": {
            "text/plain": [
              "array([[1., 0., 0., 0., 0., 0., 0., 0., 0., 0., 0., 0., 0., 0., 0., 0.],\n",
              "       [0., 0., 0., 1., 0., 0., 0., 0., 0., 0., 0., 0., 0., 0., 0., 0.],\n",
              "       [0., 0., 0., 0., 0., 0., 1., 0., 0., 0., 0., 0., 0., 0., 0., 0.],\n",
              "       [0., 0., 0., 0., 0., 0., 0., 0., 0., 1., 0., 0., 0., 0., 0., 0.],\n",
              "       [0., 0., 0., 0., 0., 0., 0., 0., 0., 0., 0., 0., 1., 0., 0., 0.],\n",
              "       [0., 0., 1., 0., 0., 0., 0., 0., 0., 0., 0., 0., 0., 0., 0., 0.],\n",
              "       [0., 0., 0., 0., 0., 1., 0., 0., 0., 0., 0., 0., 0., 0., 0., 0.],\n",
              "       [0., 0., 0., 0., 0., 0., 0., 0., 1., 0., 0., 0., 0., 0., 0., 0.],\n",
              "       [0., 0., 0., 0., 0., 0., 0., 0., 0., 0., 0., 1., 0., 0., 0., 0.],\n",
              "       [0., 1., 0., 0., 0., 0., 0., 0., 0., 0., 0., 0., 0., 0., 0., 0.],\n",
              "       [0., 0., 0., 0., 1., 0., 0., 0., 0., 0., 0., 0., 0., 0., 0., 0.],\n",
              "       [0., 0., 0., 0., 0., 0., 0., 1., 0., 0., 0., 0., 0., 0., 0., 0.],\n",
              "       [0., 0., 0., 0., 0., 0., 0., 0., 0., 0., 1., 0., 0., 0., 0., 0.],\n",
              "       [0., 0., 0., 0., 0., 0., 0., 0., 0., 0., 0., 0., 0., 1., 0., 0.],\n",
              "       [0., 0., 0., 0., 0., 0., 0., 0., 0., 0., 0., 0., 0., 0., 1., 0.],\n",
              "       [0., 0., 0., 0., 0., 0., 0., 0., 0., 0., 0., 0., 0., 0., 0., 1.]])"
            ]
          },
          "metadata": {},
          "execution_count": 39
        }
      ]
    },
    {
      "cell_type": "code",
      "source": [],
      "metadata": {
        "id": "i35gjW5ayCme"
      },
      "execution_count": null,
      "outputs": []
    },
    {
      "cell_type": "code",
      "source": [
        "\n",
        "def PE2(up,bottom, stated, angles):\n",
        "    state = stated\n",
        "    for i in range(up):\n",
        "      state = H(i, state)##\n",
        "    for i in range(0, up):\n",
        "      for j in range(2**i):\n",
        "        for t in range(bottom):\n",
        "          state = CP(up-i-1,up+t,angle, state)\n",
        "    for i in range(0, up-1):#up=6\n",
        "      state = H(i, state)\n",
        "      for j in range(i + 1):\n",
        "        state = CP(j,i+1,-np.pi/2**(i+1)*2**(j), state)\n",
        "    state = H(up-1, state)\n",
        "    ###################\n",
        "    state = BigSwap(up, state)\n",
        "    ##################\n",
        "    vec = StateToVec(state)\n",
        "    vecs = []\n",
        "    for i in range(len(vec)):\n",
        "      vecs.append(abs(vec[i]))\n",
        "    maxi = max(vecs)\n",
        "    for i in range(2**(up+bottom)):\n",
        "      if vecs[i] == maxi:\n",
        "        phi2.append((i-1)/2**(up+bottom))\n",
        "        break\n",
        "  plt.plot(angles/2/np.pi, phi2)\n",
        "  plt.show()\n",
        "PE2(6,6, [(1., '100001111111')], angles)"
      ],
      "metadata": {
        "id": "qwLroNLO0PnY"
      },
      "execution_count": null,
      "outputs": []
    },
    {
      "cell_type": "code",
      "source": [],
      "metadata": {
        "id": "jn244HY8D3Wx"
      },
      "execution_count": null,
      "outputs": []
    }
  ]
}