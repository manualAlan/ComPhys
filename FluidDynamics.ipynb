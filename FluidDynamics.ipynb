{
  "cells": [
    {
      "cell_type": "markdown",
      "metadata": {
        "id": "view-in-github",
        "colab_type": "text"
      },
      "source": [
        "<a href=\"https://colab.research.google.com/github/manualAlan/ComPhys/blob/main/FluidDynamics.ipynb\" target=\"_parent\"><img src=\"https://colab.research.google.com/assets/colab-badge.svg\" alt=\"Open In Colab\"/></a>"
      ]
    },
    {
      "cell_type": "markdown",
      "metadata": {
        "id": "dhzleF09eJR9"
      },
      "source": [
        "<img src=\"https://courses.physics.illinois.edu/phys246/fa2022/img/FD_intro.png\" width=1000 align=left></img><br>"
      ]
    },
    {
      "cell_type": "markdown",
      "metadata": {
        "id": "V0pjaHcMeJSA"
      },
      "source": [
        "# Fluid Dynamics"
      ]
    },
    {
      "cell_type": "markdown",
      "metadata": {
        "id": "EtMkQi0eeJSA"
      },
      "source": [
        "* **Author:**\n",
        "\n",
        "* **Date:**\n",
        "\n",
        "* **Time spent on this assignment:**"
      ]
    },
    {
      "cell_type": "code",
      "execution_count": null,
      "metadata": {
        "id": "vTjcg5keeJSB"
      },
      "outputs": [],
      "source": [
        "import numpy as np\n",
        "import matplotlib.pyplot as plt\n",
        "import math\n",
        "from matplotlib.animation import FuncAnimation\n",
        "import itertools\n",
        "from IPython.display import HTML\n",
        "import pickle\n",
        "from numba import jit\n",
        "def resetMe(keepList=[]):\n",
        "    ll=%who_ls\n",
        "    keepList=keepList+['resetMe','np','plt','math','FuncAnimation',\n",
        "                       'HTML','itertools','pickle','testFunc']\n",
        "    for iiii in keepList:\n",
        "        if iiii in ll:\n",
        "            ll.remove(iiii)\n",
        "    for iiii in ll:\n",
        "        jjjj=\"^\"+iiii+\"$\"\n",
        "        %reset_selective -f {jjjj}\n",
        "    ll=%who_ls\n",
        "    return\n",
        "\n",
        "def testFunc(func,inFiles,outFiles):\n",
        "    inputs  = [pickle.load(open(f,\"rb\")) for f in inFiles]\n",
        "    outputs = [pickle.load(open(f,\"rb\")) for f in outFiles]\n",
        "    result  = func(*inputs)\n",
        "    allGood = True\n",
        "    if not isinstance(result, tuple): result = (result,)\n",
        "    for i in range(len(outputs)):\n",
        "        if np.max(np.abs(result[i]-outputs[i])) > 1e-14:\n",
        "            print(\"Failed test for\",outFiles[i],i,np.max(np.abs(result[i]-outputs[i])))\n",
        "            allGood = False\n",
        "    if allGood: print(\"Test Passed!\")\n",
        "    else:       print(\"Test Failed :(\")\n"
      ]
    },
    {
      "cell_type": "markdown",
      "metadata": {
        "id": "nBrTSxuReJSC"
      },
      "source": [
        "Download the test files here, or download from the website and upload & unzip them to wherever this notebook file is"
      ]
    },
    {
      "cell_type": "code",
      "execution_count": null,
      "metadata": {
        "colab": {
          "base_uri": "https://localhost:8080/"
        },
        "id": "6NEb1gGEeJSC",
        "outputId": "1826f58f-063e-4013-b4af-413c7808ce32"
      },
      "outputs": [
        {
          "output_type": "stream",
          "name": "stdout",
          "text": [
            "--2022-11-13 00:18:01--  https://courses.physics.illinois.edu/phys246/fa2020/code/TestFiles.zip\n",
            "Resolving courses.physics.illinois.edu (courses.physics.illinois.edu)... 130.126.151.14\n",
            "Connecting to courses.physics.illinois.edu (courses.physics.illinois.edu)|130.126.151.14|:443... connected.\n",
            "HTTP request sent, awaiting response... 200 OK\n",
            "Length: 53041362 (51M) [application/x-zip-compressed]\n",
            "Saving to: ‘TestFiles.zip.2’\n",
            "\n",
            "TestFiles.zip.2     100%[===================>]  50.58M  43.3MB/s    in 1.2s    \n",
            "\n",
            "2022-11-13 00:18:02 (43.3 MB/s) - ‘TestFiles.zip.2’ saved [53041362/53041362]\n",
            "\n",
            "Archive:  TestFiles.zip\n",
            "replace Microscopic_after_move.dat? [y]es, [n]o, [A]ll, [N]one, [r]ename: "
          ]
        }
      ],
      "source": [
        "!wget https://courses.physics.illinois.edu/phys246/fa2020/code/TestFiles.zip && unzip TestFiles.zip"
      ]
    },
    {
      "cell_type": "markdown",
      "metadata": {
        "id": "sRHvv5H4eJSD"
      },
      "source": [
        "## Python Warmup"
      ]
    },
    {
      "cell_type": "markdown",
      "metadata": {
        "id": "QYhxKWnZeJSE"
      },
      "source": [
        "### Useful functions:"
      ]
    },
    {
      "cell_type": "markdown",
      "metadata": {
        "id": "5tRGYO2SeJSF"
      },
      "source": [
        "Before we begin, we want to highlight some functions that you may find useful in this assignment. The last one we'll explore in more depth as well.\n",
        "* `np.zeros([dimensions])` - create an array filled with all zeros.\n",
        "    *Ex: `n = np.zeros([9,10,10])` creates a (9,10,10) array of all zeros\n",
        "* `np.ones([dimensions])` - same thing as `np.zeros` but with all ones.\n",
        "* `np.empty([dimensoons])` - same thing as `np,zeros` but fills array with garbage. Very fast compared to the above.\n",
        "* `np.roll(x,shift,axis)` - shift array `x` by `shift` along `axis`."
      ]
    },
    {
      "cell_type": "markdown",
      "metadata": {
        "id": "XdrGjMaheJSF"
      },
      "source": [
        "### Warmup - using `np.roll`"
      ]
    },
    {
      "cell_type": "markdown",
      "metadata": {
        "id": "sPuI-g6qeJSG"
      },
      "source": [
        "Something we'll see later in this assignment is the need to shift elements right,left,up,down, and diagonally. Let's make a little test problem to illustrate how this works."
      ]
    },
    {
      "cell_type": "code",
      "execution_count": null,
      "metadata": {
        "colab": {
          "base_uri": "https://localhost:8080/"
        },
        "id": "d-NMNTMPeJSG",
        "outputId": "05ea570b-7cea-4c0a-f365-a91fdc16e06f"
      },
      "outputs": [
        {
          "output_type": "stream",
          "name": "stdout",
          "text": [
            "[[ 0  1  2  3  4]\n",
            " [ 5  6  7  8  9]\n",
            " [10 11 12 13 14]]\n"
          ]
        }
      ],
      "source": [
        "# Run me!\n",
        "x = np.arange(15).reshape(3,5)\n",
        "print(x)"
      ]
    },
    {
      "cell_type": "markdown",
      "metadata": {
        "id": "n5fL1fOReJSH"
      },
      "source": [
        "Now we'll want to shift every element in `x` to the right, where we wrap everything around the edge. Rather than figuring this out with a for loop, we'll employ `np.roll` to do it fast!"
      ]
    },
    {
      "cell_type": "code",
      "execution_count": null,
      "metadata": {
        "colab": {
          "base_uri": "https://localhost:8080/"
        },
        "id": "ljNa3GMOeJSH",
        "outputId": "b66fde66-a4ca-45bc-941d-2345b9d8a03c"
      },
      "outputs": [
        {
          "output_type": "stream",
          "name": "stdout",
          "text": [
            "[[ 0  1  2  3  4]\n",
            " [ 5  6  7  8  9]\n",
            " [10 11 12 13 14]] \n",
            "\n",
            "[[ 4  0  1  2  3]\n",
            " [ 9  5  6  7  8]\n",
            " [14 10 11 12 13]]\n"
          ]
        }
      ],
      "source": [
        "print(x,'\\n')\n",
        "print(np.roll(x,(0,1),(0,1)))"
      ]
    },
    {
      "cell_type": "markdown",
      "metadata": {
        "id": "2dXB7f1beJSH"
      },
      "source": [
        "Now let's disect that command. The first `(0,1)` means don't shift the \"y\" direction, and to shift the \"x\" direction by +1. The next command `(0,1)` means to apply the shift to the two axes.  \n",
        "Now let's go left:"
      ]
    },
    {
      "cell_type": "code",
      "execution_count": null,
      "metadata": {
        "colab": {
          "base_uri": "https://localhost:8080/"
        },
        "id": "oOCrFqaMeJSI",
        "outputId": "d11ea1b6-e088-417e-a608-f88e2e0b2f54"
      },
      "outputs": [
        {
          "output_type": "stream",
          "name": "stdout",
          "text": [
            "[[ 0  1  2  3  4]\n",
            " [ 5  6  7  8  9]\n",
            " [10 11 12 13 14]] \n",
            "\n",
            "[[ 1  2  3  4  0]\n",
            " [ 6  7  8  9  5]\n",
            " [11 12 13 14 10]]\n"
          ]
        }
      ],
      "source": [
        "print(x,'\\n')\n",
        "print(np.roll(x,(0,-1),(0,1)))"
      ]
    },
    {
      "cell_type": "markdown",
      "metadata": {
        "id": "6Qm_9RMteJSI"
      },
      "source": [
        "---\n",
        "🦉 Now we'll try to implement a section of the Cha-Cha Slide([Lyrics](https://genius.com/Dj-casper-cha-cha-slide-lyrics))\n",
        "```\n",
        "♫Now it's time to get funky\n",
        "To the right now, to the left\n",
        "Take it back now y'all♪\n",
        "```\n",
        "\n",
        "Make your `x` array go right, then left, then \"down\". Your output should be:\n",
        "```\n",
        "[[ 4  0  1  2  3]\n",
        " [ 9  5  6  7  8]\n",
        " [14 10 11 12 13]]\n",
        "[[ 1  2  3  4  0]\n",
        " [ 6  7  8  9  5]\n",
        " [11 12 13 14 10]]\n",
        "[[ 5  6  7  8  9]\n",
        " [10 11 12 13 14]\n",
        " [ 0  1  2  3  4]]\n",
        "```\n",
        "(Notice how down isn't what you may expect...)"
      ]
    },
    {
      "cell_type": "code",
      "execution_count": null,
      "metadata": {
        "colab": {
          "base_uri": "https://localhost:8080/"
        },
        "id": "gFaBkWGjeJSI",
        "outputId": "dceab78c-5d9e-49e4-bae5-49a5795c6ab7"
      },
      "outputs": [
        {
          "output_type": "stream",
          "name": "stdout",
          "text": [
            "[[ 4  0  1  2  3]\n",
            " [ 9  5  6  7  8]\n",
            " [14 10 11 12 13]]\n",
            "[[ 1  2  3  4  0]\n",
            " [ 6  7  8  9  5]\n",
            " [11 12 13 14 10]]\n",
            "[[ 5  6  7  8  9]\n",
            " [10 11 12 13 14]\n",
            " [ 0  1  2  3  4]]\n"
          ]
        }
      ],
      "source": [
        "#!Start\n",
        "print(np.roll(x,(0,1),(0,1)))\n",
        "print(np.roll(x,(0,-1),(0,1)))\n",
        "print(np.roll(x,(-1,0),(0,1)))\n",
        "#!Stop"
      ]
    },
    {
      "cell_type": "markdown",
      "metadata": {
        "id": "POqye8mneJSI"
      },
      "source": [
        "🦉In a special version of the song, the next line goes\n",
        "```\n",
        "♫ Take it diagonally up and to the right now y'all\n",
        "```\n",
        "Implement this array move, you should get:\n",
        "```\n",
        "[[14 10 11 12 13]\n",
        " [ 4  0  1  2  3]\n",
        " [ 9  5  6  7  8]]\n",
        " ```"
      ]
    },
    {
      "cell_type": "markdown",
      "metadata": {
        "id": "VrwUxK22eJSJ"
      },
      "source": [
        "Now you're a ~~Cha-Cha Slide~~ `np.roll` master!"
      ]
    },
    {
      "cell_type": "markdown",
      "metadata": {
        "id": "G58m6vlQeJSJ"
      },
      "source": [
        "## Exercise 1: Fluid Dynamics"
      ]
    },
    {
      "cell_type": "markdown",
      "metadata": {
        "id": "_zupnZnjeJSJ"
      },
      "source": [
        "* **List of collaborators:**\n",
        "\n",
        "* **References you used in developing your code:**"
      ]
    },
    {
      "cell_type": "markdown",
      "metadata": {
        "id": "iKUA8Hl2eJSJ"
      },
      "source": [
        "In this assignment you will produce a fluid dynamics simulations.  We are going to develop a number of functions which you will store in the cell below (as well as some global variables that we will use throughout this exercise).\n",
        "\n",
        "The global variables are\n",
        "```python\n",
        "nx=520; ny=180 #size of our simulation\n",
        "```\n"
      ]
    },
    {
      "cell_type": "markdown",
      "metadata": {
        "id": "nzziKWfdjQ8m"
      },
      "source": [
        "<img src=\"https://courses.physics.illinois.edu/phys246/fa2022/img/AnsStart.svg\" width=200 align=left></img><br>"
      ]
    },
    {
      "cell_type": "code",
      "execution_count": null,
      "metadata": {
        "id": "YAiMcGCXeJSK"
      },
      "outputs": [],
      "source": [
        "### ANSWER HERE\n",
        "nx=520\n",
        "ny=180\n"
      ]
    },
    {
      "cell_type": "markdown",
      "metadata": {
        "id": "SEjRqErnjQ8m"
      },
      "source": [
        "<img src=\"https://courses.physics.illinois.edu/phys246/fa2022/img/AnsEnd.svg\" width=200 align=left></img><br>"
      ]
    },
    {
      "cell_type": "markdown",
      "metadata": {
        "id": "xHsRnOJIeJSL"
      },
      "source": [
        "<div class=\"alert alert-danger\" style=\"color:black\">\n",
        "\n",
        "If you have a function that takes in an array <code>n</code>, always make a new variable to return:\n",
        "```python\n",
        "def doMath(n):\n",
        "    # nout = n.copy() #notice the .copy(), so that they aren't the same object\n",
        "    nout = 2*n+5\n",
        "    return nout\n",
        "```\n",
        "\n",
        "</div>"
      ]
    },
    {
      "cell_type": "markdown",
      "metadata": {
        "id": "eemkTU7veJSL"
      },
      "source": [
        "### a.  Making some obstacles"
      ]
    },
    {
      "cell_type": "markdown",
      "metadata": {
        "id": "KNTt4kZGeJSL"
      },
      "source": [
        "To simulate the real world on the computer, we'll break the tunnel into $n_x\\times n_y$ squares which we'll call *voxels*.  \n",
        "\n",
        "\n",
        "Your simulation will be doing fluid dynamics in a $n_x \\times n_y$ \"tunnel\" which has some objects within it.  These objects will be represented by a boolean $n_x \\times n_y$ size array `obstacle=np.empty((nx,ny),dtype='bool')` which should be `True` where the obstacle is and `False` otherwise. For example,\n",
        "```python\n",
        "obstacle[:,:]=False\n",
        "obstacle[50:70,50:70]=True\n",
        "```\n",
        "would set up a square $20 \\times 20$ object inside our tunnel.\n",
        "\n",
        "🦉Add a `GenerateCylinderObstacle()`  function to the \"function-cell\" above which generates a object which is a cylinder located at $(n_x/4,n_y/2)$ with a radius of $n_y/9$\n",
        "\n",
        "If you do `plt.matshow(GenerateCylinderObstacle())` it should look like this\n",
        "\n",
        "<img src=\"https://courses.physics.illinois.edu/phys246/fa2022/img/FDObstacle.png\" width=1000 align=left></img><br>"
      ]
    },
    {
      "cell_type": "code",
      "execution_count": null,
      "metadata": {
        "id": "1VqHdR6Jrmt5"
      },
      "outputs": [],
      "source": [
        "\n",
        "def GenerateCylinderObstacle():\n",
        "  obstacle=np.empty((nx,ny),dtype='bool')\n",
        "  obstacle[:,:]=False\n",
        "  cx = nx/4\n",
        "  cy = ny/2\n",
        "  for i in range(0, nx):\n",
        "    for j in range(0, ny):\n",
        "      r = ((cx-i)**2+(cy-j)**2)**(1/2)\n",
        "      if (r < ny/9):\n",
        "        obstacle[i,j] = True\n",
        "  return obstacle\n",
        "#obstacle = GenerateCylinderObstacle()\n"
      ]
    },
    {
      "cell_type": "markdown",
      "metadata": {
        "id": "K2NaA41CeJSM"
      },
      "source": [
        "<div class=\"alert alert-warning\" style=\"color:black\">\n",
        "<b>Do not use the word <code>object</code> as a variable!</b> <br />Notice how <code>object</code> is green in a cell - this means it is a special keyword.<br />\n",
        "</div>"
      ]
    },
    {
      "cell_type": "markdown",
      "metadata": {
        "id": "ctT-BVBJeJSM"
      },
      "source": [
        "#### Test:"
      ]
    },
    {
      "cell_type": "code",
      "execution_count": null,
      "metadata": {
        "colab": {
          "base_uri": "https://localhost:8080/",
          "height": 54
        },
        "id": "eVEeMbvYeJSM",
        "outputId": "1861314a-b9e5-4250-ed06-185506705884"
      },
      "outputs": [
        {
          "output_type": "display_data",
          "data": {
            "text/plain": [
              "<Figure size 832x288 with 1 Axes>"
            ],
            "image/png": "[encoded data removed]"
          },
          "metadata": {
            "needs_background": "light"
          }
        }
      ],
      "source": [
        "## Call your function here to see if if works.\n",
        "plt.matshow(GenerateCylinderObstacle().transpose())\n",
        "plt.title(\"Cool Name plot\")\n",
        "#plt.savefig(\"images/object.png\")\n",
        "plt.show()\n",
        ""
      ]
    },
    {
      "cell_type": "markdown",
      "metadata": {
        "id": "vDYrEjHYeJSM"
      },
      "source": [
        "## b.  Microscopic velocities $v_i$"
      ]
    },
    {
      "cell_type": "markdown",
      "metadata": {
        "id": "ODXUxcpReJSM"
      },
      "source": [
        "To simulate the real world on the computer, we'll break the tunnel into $n_x\\times n_y$ squares which we'll call *voxels*.\n",
        "\n",
        "The key quantity in your simulation is  nine microscopic degrees of freedom\n",
        "* $n_k(i,j)$ where $0\\leq k \\leq 8$ and $(i,j)$ are over the $n_x \\times n_y$ voxels of your simulation\n",
        "\n",
        "which are going to be nine different densities (for each voxel $(i,j)$) which correspond to the density of a fluid at $(i,j)$ moving in nine different directions (or velocities $v_k$):\n",
        "* $n_0$: stationary fluid moving at velocity $v_0=(0,0)$\n",
        "* $n_1$: fluid moving up moving at velocity $v_1=(0,1)$\n",
        "* $n_2$: fluid moving down at velocity $v_2=(0,-1)$\n",
        "* $n_3$: fluid moving right at velocity $v_3=(1,0)$\n",
        "* $n_4$: fluid moving left at velocity $v_4=(-1,0)$\n",
        "* $n_5$: fluid moving left-down at velocity $v_5=(-1,-1)$\n",
        "* $n_6$: fluid moving left-up at velocity $v_6=(-1,1)$\n",
        "* $n_7$: fluid moving right-down at velocity $v_7=(1,-1)$\n",
        "* $n_8$: fluid moving right-up at velocity $v_8=(1,1)$\n",
        "    \n",
        "It will be useful to have access to these microscopic velocities as global variables.  🦉**Go ahead and add to the top of your \"function-cell\" the various velocities:**\n",
        "```python\n",
        "v=np.zeros((9,2),dtype='int')\n",
        "v[0,:]=[0,0]\n",
        "v[1,:]=[0,1]\n",
        "...\n",
        "```\n",
        "\n",
        "**Plot these (below) as**\n",
        "```python\n",
        "for i in range(0,9):\n",
        "    plt.arrow(0,0,v[i,0],v[i,1],head_width=0.05, head_length=0.1, fc='k', ec='k')\n",
        "plt.xlim(-1.2,1.2)\n",
        "plt.ylim(-1.2,1.2)\n",
        "plt.show()\n",
        "```\n",
        "and make sure it looks like\n",
        "\n",
        "<img src=\"https://courses.physics.illinois.edu/phys246/fa2022/img/FD_direction.png\" width=400 align=left></img><br>"
      ]
    },
    {
      "cell_type": "code",
      "execution_count": null,
      "metadata": {
        "id": "zDiFIoDXxnn0"
      },
      "outputs": [],
      "source": [
        "v=np.zeros((9,2),dtype='int')\n",
        "v[0,:]=[0,0]\n",
        "v[1,:]=[0,1]\n",
        "v[2,:]=[0,-1]\n",
        "v[3,:]=[1,0]\n",
        "v[4,:]=[-1,0]\n",
        "v[5,:]=[-1,-1]\n",
        "v[6,:]=[-1,1]\n",
        "v[7,:]=[1,-1]\n",
        "v[8,:]=[1,1]\n"
      ]
    },
    {
      "cell_type": "markdown",
      "metadata": {
        "id": "LFQdk3y6eJSN"
      },
      "source": [
        "#### Test:"
      ]
    },
    {
      "cell_type": "code",
      "execution_count": null,
      "metadata": {
        "colab": {
          "base_uri": "https://localhost:8080/",
          "height": 265
        },
        "id": "sI6wnNSweJSN",
        "outputId": "9b03809a-ee94-4588-d016-832ca23796be"
      },
      "outputs": [
        {
          "output_type": "display_data",
          "data": {
            "text/plain": [
              "<Figure size 432x288 with 1 Axes>"
            ],
            "image/png": "[encoded data removed]"
          },
          "metadata": {
            "needs_background": "light"
          }
        }
      ],
      "source": [
        "## Plot your microscopic velocities\n",
        "\n",
        "for i in range(0,9):\n",
        "    plt.arrow(0,0,v[i,0],v[i,1],head_width=0.05, head_length=0.1, fc='k', ec='k')\n",
        "plt.xlim(-1.2,1.2)\n",
        "plt.ylim(-1.2,1.2)\n",
        "#plt.savefig(\"images/densityDirection.png\")\n",
        "plt.show()"
      ]
    },
    {
      "cell_type": "markdown",
      "metadata": {
        "id": "MA540KiaeJSN"
      },
      "source": [
        "We will represent the microscopic densities by a variable\n",
        "* `n=np.zeros(9,nx,ny)`\n",
        "\n",
        "\n",
        "The high level algorithm for fluid dynamics is very simple.  After setting up the initial conditions, we loop many times doing\n",
        "* Adjust boundary conditions\n",
        "* Collide the microscopic densities\n",
        "* Move the microscopic densities\n"
      ]
    },
    {
      "cell_type": "markdown",
      "metadata": {
        "id": "TiQ6nO50eJSN"
      },
      "source": [
        "### c. Computing macroscopic quantities from the microscopic density"
      ]
    },
    {
      "cell_type": "markdown",
      "metadata": {
        "id": "vSJxbyfteJSN"
      },
      "source": [
        "Given the microscopic densities, there are two macroscopic quanties:\n",
        "* the macroscopic density $\\rho(i,j)=\\sum_k n_k$ (*size: $n_x \\times n_y$*)\n",
        "* the macroscopic velocity $\\vec{u}(i,j) \\equiv (u_x(i,j),u_y(i,j)$ (*size: $2 \\times n_x \\times n_y$*) where\n",
        "    * $u_x(i,j) = 1/\\rho \\sum_k v_{k,x}\\, n_k(i,j)$\n",
        "    * $u_y(i,j) = 1/\\rho \\sum_k v_{k,y}\\, n_k(i,J)$\n",
        "\n",
        "which you will compute using the function (you will write) `(rho,u) = Micro2Macro(n)`\n",
        "\n",
        "🦉Go ahead and write this function and add it to your 'function-cell'\n",
        "\n",
        "You can test it using these lines of code:\n",
        "```python\n",
        "testFunc(Micro2Macro,[\"Microscopic.dat\"],[\"rho_after_Micro2Macro.dat\",\"u_after_Micro2Macro.dat\"])\n",
        "```\n",
        "and see if it print two zeros (which is a success!)"
      ]
    },
    {
      "cell_type": "markdown",
      "metadata": {
        "id": "CSWl5tqWeJSN"
      },
      "source": [
        "**Tip:** Because `u` is $(2,n_x,n_y)$, we can get `ux` by doing `u[0]` (which is then a $(n_x,n_y)$ array) and `uy` by doing `u[1]`."
      ]
    },
    {
      "cell_type": "code",
      "execution_count": null,
      "metadata": {
        "id": "Z1hoJARA_1iC"
      },
      "outputs": [],
      "source": [
        "@jit\n",
        "def Micro2Macro(n):\n",
        "  rho = np.zeros((nx,ny))\n",
        "  u = np.zeros((2,nx,ny))\n",
        "  for i in range(nx):\n",
        "    for j in range(ny):\n",
        "      rho[i,j]=sum(n[:,i,j])\n",
        "      for k in range(9):\n",
        "        x = v[k]\n",
        "        u[0,i,j]+=x[0]*n[k,i,j]\n",
        "        u[1,i,j]+=x[1]*n[k,i,j]\n",
        "      u[:,i,j]=u[:,i,j]/rho[i,j]\n",
        "  return rho, u\n",
        "\n",
        "\n"
      ]
    },
    {
      "cell_type": "markdown",
      "metadata": {
        "id": "ebNEEmryeJSN"
      },
      "source": [
        "#### optional - `np.einsum`"
      ]
    },
    {
      "cell_type": "markdown",
      "metadata": {
        "id": "bueDCcVDeJSO"
      },
      "source": [
        "Figuring out the summations effeciently can be a pain, but we can use [`np.einsum`](https://docs.scipy.org/doc/numpy/reference/generated/numpy.einsum.html) help out here. Figure out how to rewrite the above problem with einstein summation notation. To use the function, if we have\n",
        "$$\n",
        "A_{ijk}\\cdot B_{dk} = C_{ijd},\n",
        "$$\n",
        "we'd use then call:\n",
        "```python\n",
        "C = np.einsum(\"ijk,dk->ijd\",A,B)\n",
        "```"
      ]
    },
    {
      "cell_type": "markdown",
      "metadata": {
        "id": "NAG3Y7BleJSO"
      },
      "source": [
        "#### Test:"
      ]
    },
    {
      "cell_type": "code",
      "execution_count": null,
      "metadata": {
        "colab": {
          "base_uri": "https://localhost:8080/"
        },
        "id": "587xNTrCeJSO",
        "outputId": "f8a4e086-6931-4563-cfef-8d1c058fe757"
      },
      "outputs": [
        {
          "output_type": "stream",
          "name": "stdout",
          "text": [
            "Test Passed!\n"
          ]
        }
      ],
      "source": [
        "#!Start\n",
        "#import pickle\n",
        "#np.random.seed(30)\n",
        "#microscopicDensity=np.random.random((9,nx,ny))\n",
        "#pickle.dump( microscopicDensity, open( \"Microscopic.dat\", \"wb\" ) )\n",
        "#(rho,u)=Micro2Macro(microscopicDensity)\n",
        "#pickle.dump( rho, open( \"rho_after_Micro2Macro.dat\", \"wb\" ) )\n",
        "#pickle.dump( u, open( \"u_after_Micro2Macro.dat\", \"wb\" ) )\n",
        "#!Stop\n",
        "testFunc(Micro2Macro,[\"Microscopic.dat\"],[\"rho_after_Micro2Macro.dat\",\"u_after_Micro2Macro.dat\"])"
      ]
    },
    {
      "cell_type": "markdown",
      "metadata": {
        "id": "Jg8thHameJSO"
      },
      "source": [
        "### d. Getting the equilibrium microscopic densities."
      ]
    },
    {
      "cell_type": "markdown",
      "metadata": {
        "id": "3Ty2w7wjeJSO"
      },
      "source": [
        "\n",
        "Given the macroscopic densities $\\rho$ and $\\vec{u}$, there is a *equilibrium* microscopic densities $n_{eq}$ (*size: $9 \\times n_x \\times n_y$*) which you will compute using `n_eq=Macro2Equilibrium(rho,u,obstacle)`\n",
        "\n",
        "The relevant formula for this is\n",
        "\n",
        "$$ n^{eq}(v_k) \\equiv n_k^{eq} =  \\omega_k \\rho \\left(1 + 3 \\vec{v_k} \\cdot \\vec{u} + \\frac{9}{2}(\\vec{v_k} \\cdot \\vec{u})^2- \\frac{3}{2}(\\vec{u}\\cdot \\vec{u}) \\right)  \\tag{A} $$\n",
        "\n",
        "where\n",
        "* $\\omega_{0}=4/9$\n",
        "* $\\omega_{1-4}=1/9$\n",
        "* $\\omega_{5-8}=1/36$\n",
        "\n",
        "Given some microscopic densities $n$ you should be able then to figure out the equilibrium microscopic densities $n_{eq}$.  \n",
        "\n",
        "🦉Write the functions `Macro2Equilibrium` adding them to your \"function-cell\"\n",
        "\n",
        "You can test it by checking if\n",
        "```python\n",
        "testFunc(Macro2Equilibrium,[\"rho_after_Micro2Macro.dat\",\"u_after_Micro2Macro.dat\"],[\"Microscopic_after_equilibrium.dat\"])\n",
        "```\n",
        "is equal to zero."
      ]
    },
    {
      "cell_type": "code",
      "execution_count": null,
      "metadata": {
        "id": "3Yb_wrFnEs9d"
      },
      "outputs": [],
      "source": [
        "def Macro2Equilibrium(rho,u):\n",
        "  ns = np.zeros((9,nx,ny))\n",
        "  for i in range(nx):\n",
        "    for j in range(ny):\n",
        "      for k in range(9):\n",
        "        if (k==0):\n",
        "          omega = 4/9\n",
        "        elif (k<=4):\n",
        "          omega = 1/9\n",
        "        else:\n",
        "          omega = 1/36\n",
        "        ns[k,i,j]=omega*rho[i,j]*(1+3*np.dot(v[k],u[:,i,j])+9/2*(np.dot(v[k],u[:,i,j]))**2-3/2*np.dot(u[:,i,j],u[:,i,j]))\n",
        "  return ns"
      ]
    },
    {
      "cell_type": "markdown",
      "metadata": {
        "id": "-hrU-jfteJSO"
      },
      "source": [
        "#### Test:"
      ]
    },
    {
      "cell_type": "code",
      "execution_count": null,
      "metadata": {
        "id": "wvHW0MoYeJSO",
        "colab": {
          "base_uri": "https://localhost:8080/"
        },
        "outputId": "968de3bd-1340-4712-b83e-4304e6ab2e20"
      },
      "outputs": [
        {
          "output_type": "stream",
          "name": "stdout",
          "text": [
            "Test Passed!\n"
          ]
        }
      ],
      "source": [
        "#pickle.dump( microscopicDensity, open( \"Microscopic_after_equilibrium.dat\", \"wb\" ) ) #!#\n",
        "testFunc(Macro2Equilibrium,[\"rho_after_Micro2Macro.dat\",\"u_after_Micro2Macro.dat\"],[\"Microscopic_after_equilibrium.dat\"])\n"
      ]
    },
    {
      "cell_type": "markdown",
      "metadata": {
        "id": "vUhE6cy6eJSP"
      },
      "source": [
        "### d. Implementing collision"
      ]
    },
    {
      "cell_type": "markdown",
      "metadata": {
        "collapsed": true,
        "id": "w9bTdseveJSP"
      },
      "source": [
        "Once you can compute these quantities, the next step is to implement the collision step.  \n",
        "\n",
        "🦉Write a function `Collision(n,obstacle)` which returns the density `n` after collision.  Put it in your function-cell above.\n",
        "\n",
        "\n",
        "When we collide the microscopic densities, we get new microscopic densities given as  \n",
        "* `nout = n * (1-omega) + omega * neq`\n",
        "\n",
        "Here are the steps for the function:\n",
        "1. Calculate `neq`  \n",
        "    a. take the microscopic densities $\\rightarrow$ compute the macroscopic density and velocity `(rho,u) = Micro2Macro(n)`  \n",
        "    b. take the macroscopic density and velocity $\\rightarrow$ compute the equilibrium microscopic densities `neq=Macro2Equilibrium(rho,u)`  \n",
        "2. Calculate `nout = n * (1-omega) + omega * neq`   \n",
        "    a. $\\omega$ is the viscosity parameter.  We will use $\\omega =1.9572953736654806$\n",
        "3. We moved fluid where the obstacle is, so we need to undo this. Reset all `nout` where the obstacle is to be the same as `n`\n",
        "\n",
        "\n",
        "\n",
        "Test with\n",
        "```python\n",
        "testFunc(lambda x: Collision(x,GenerateCylinderObstacle()),[\"Microscopic.dat\"],[\"Microscopic_after_collision.dat\"])\n",
        "```\n"
      ]
    },
    {
      "cell_type": "code",
      "execution_count": null,
      "metadata": {
        "id": "IIXlx2r6I6Iu"
      },
      "outputs": [],
      "source": [
        "@jit\n",
        "def Collision(n,obstacle):\n",
        "  omega = 1.9572953736654806\n",
        "  rho, u = Micro2Macro(n)\n",
        "  neq = Macro2Equilibrium(rho,u)\n",
        "  nout = n.copy()\n",
        "  for i in range(nx):\n",
        "    for j in range(ny):\n",
        "      if obstacle[i,j]== False:\n",
        "        nout[:,i,j]=n[:,i,j]*(1-omega)+omega*neq[:,i,j]\n",
        "  return nout"
      ]
    },
    {
      "cell_type": "markdown",
      "metadata": {
        "id": "NR2vMNOieJSP"
      },
      "source": [
        "#### Test:"
      ]
    },
    {
      "cell_type": "code",
      "execution_count": null,
      "metadata": {
        "colab": {
          "base_uri": "https://localhost:8080/"
        },
        "id": "ZYHury4SeJSP",
        "outputId": "d18addba-d3eb-47ba-c7f3-abb93b5cde31"
      },
      "outputs": [
        {
          "output_type": "stream",
          "name": "stdout",
          "text": [
            "Test Passed!\n"
          ]
        }
      ],
      "source": [
        "#pickle.dump( Collision(microscopicDensity,GenerateCylinderObstacle()), open( \"Microscopic_after_collision.dat\", \"wb\" ) ) #!#\n",
        "\n",
        "testFunc(lambda x: Collision(x,GenerateCylinderObstacle()),[\"Microscopic.dat\"],[\"Microscopic_after_collision.dat\"])"
      ]
    },
    {
      "cell_type": "markdown",
      "metadata": {
        "id": "hKotz78teJSP"
      },
      "source": [
        "### e. Moving"
      ]
    },
    {
      "cell_type": "markdown",
      "metadata": {
        "id": "aWqcyykYeJSP"
      },
      "source": [
        "We'll now move on to getting the fluid to move. This will be a function called, surprise, `Move(n,obstacle)`. But first we need to helper functions:\n",
        "* `Bounce(n,obstacle)`\n",
        "    * bounce the velocities - that is every velocity where the obstacle is gets reversed\n",
        "* `MoveDensity(n)`\n",
        "    * Move all your densities in the direction of the velocity (*hint* the velocity tells you where to move it)\n",
        "    * Assume periodic boundary conditions here\n",
        "\n",
        "Thus a `Move(n,obstacle)` call is just a `Bounce` then `MoveDensity`. 🦉Write this function and test!\n",
        "\n",
        "\n",
        "Test:\n",
        "```python\n",
        "testFunc(lambda x: Bounce(x,GenerateCylinderObstacle()),[\"Microscopic.dat\"],[\"Microscopic_after_bounce.dat\"])\n",
        "\n",
        "testFunc(MoveDensity,[\"Microscopic.dat\"],[\"Microscopic_after_moveDensity.dat\"])\n",
        "\n",
        "testFunc(lambda x: Move(x,GenerateCylinderObstacle()),[\"Microscopic.dat\"],[\"Microscopic_after_move.dat\"])\n",
        "```"
      ]
    },
    {
      "cell_type": "code",
      "execution_count": null,
      "metadata": {
        "id": "1tqhpdhmQ4ub"
      },
      "outputs": [],
      "source": [
        "@jit\n",
        "def Bounce(n,obstacle):\n",
        "  #nout = Collision(n,obstacle)\n",
        "  nout = n.copy()\n",
        "  for i in range(nx):\n",
        "    for j in range(ny):\n",
        "      if (obstacle[i,j]==True):\n",
        "        nout[1,i,j]= n[2,i,j]\n",
        "        nout[2,i,j]= n[1,i,j]\n",
        "        nout[3,i,j]= n[4,i,j]\n",
        "        nout[4,i,j]= n[3,i,j]\n",
        "        nout[6,i,j]= n[7,i,j]\n",
        "        nout[7,i,j]= n[6,i,j]\n",
        "        nout[5,i,j]= n[8,i,j]\n",
        "        nout[8,i,j]= n[5,i,j]\n",
        "  return nout\n",
        "@jit\n",
        "def MoveDensity(n):\n",
        "  nout = np.empty((9,nx,ny))\n",
        "  for i in range(len(n)):\n",
        "    nout += np.roll(n[i],v[i],axis=(0,0))\n",
        "  return nout\n",
        "@jit\n",
        "def Move(n, obstacle):\n",
        "  no = MoveDensity(Bounce(n,obstacle))\n",
        "  return no\n",
        "\n"
      ]
    },
    {
      "cell_type": "markdown",
      "metadata": {
        "id": "sdjeXUC7eJSP"
      },
      "source": [
        "#### Tests:"
      ]
    },
    {
      "cell_type": "code",
      "execution_count": null,
      "metadata": {
        "colab": {
          "base_uri": "https://localhost:8080/"
        },
        "id": "APFYynyWeJSQ",
        "outputId": "d4f8edd1-a5d3-4e86-e6be-d19a1d8b0273"
      },
      "outputs": [
        {
          "output_type": "stream",
          "name": "stdout",
          "text": [
            "Test Passed!\n"
          ]
        }
      ],
      "source": [
        "#!Start\n",
        "#pickle.dump( MoveDensity(microscopicDensity), open( \"Microscopic_after_moveDensity.dat\", \"wb\" ) )\n",
        "##pickle.dump( MoveDensity(microscopicDensity,GenerateCylinderObstacle()), open( \"Microscopic_after_collision.dat\", \"wb\" ) )\n",
        "##print(np.max(np.abs(Collision(microscopicDensity,GenerateCylinderObstacle())-pickle.load( open( \"Microscopic_after_collision.dat\", \"rb\" ) ))))\n",
        "#microscopicDensity=pickle.load( open( \"Microscopic.dat\", \"rb\" ) )\n",
        "#pickle.dump( Bounce(microscopicDensity,GenerateCylinderObstacle()), open( \"Microscopic_after_bounce.dat\", \"wb\" ))\n",
        "#microscopicDensity=pickle.load( open( \"Microscopic.dat\", \"rb\" ) )\n",
        "#pickle.dump( Move(microscopicDensity,GenerateCylinderObstacle()), open( \"Microscopic_after_move.dat\", \"wb\" ) )\n",
        "#!Stop\n",
        "\n",
        "testFunc(lambda x: Bounce(x,GenerateCylinderObstacle()),[\"Microscopic.dat\"],[\"Microscopic_after_bounce.dat\"])"
      ]
    },
    {
      "cell_type": "code",
      "execution_count": null,
      "metadata": {
        "colab": {
          "base_uri": "https://localhost:8080/"
        },
        "id": "XwkORsqVeJSQ",
        "outputId": "e8262ba2-f4f2-4776-ba7a-d3055ec1ac0a"
      },
      "outputs": [
        {
          "output_type": "stream",
          "name": "stdout",
          "text": [
            "Test Passed!\n"
          ]
        }
      ],
      "source": [
        "testFunc(MoveDensity,[\"Microscopic.dat\"],[\"Microscopic_after_moveDensity.dat\"])"
      ]
    },
    {
      "cell_type": "code",
      "execution_count": null,
      "metadata": {
        "colab": {
          "base_uri": "https://localhost:8080/"
        },
        "id": "1nhWSYpteJSQ",
        "outputId": "2393d7f8-491c-4235-8859-90b98113a44b"
      },
      "outputs": [
        {
          "output_type": "stream",
          "name": "stdout",
          "text": [
            "Test Passed!\n"
          ]
        }
      ],
      "source": [
        "testFunc(lambda x: Move(x,GenerateCylinderObstacle()),[\"Microscopic.dat\"],[\"Microscopic_after_move.dat\"])"
      ]
    },
    {
      "cell_type": "markdown",
      "metadata": {
        "id": "lpUCcYZgeJSQ"
      },
      "source": [
        "### f.  Boundary conditions"
      ]
    },
    {
      "cell_type": "markdown",
      "metadata": {
        "id": "_V1XL5c_eJSQ"
      },
      "source": [
        "In the y-direction, we are just going to assume that the boundary conditions are periodic. For the x-direction, we are going to assign certain boundary conditions on the left and right.  \n",
        "\n",
        "Let's call this function `FixBoundary(n,n_init)` which applies these boundary conditions and returns the new density `n`.\n",
        "\n",
        "**Left:** we are going to assume that there is a flow - this means that the microscopic densities are the same at each step.  Therefore, what we should do is simply replace the current densities on the left-most row with the initial microscopic densities (`n_init`).\n",
        "\n",
        "**Right:** we are going to assume that the gradient is zero - i.e. the important physics has dissapeared by this point.  To do this, we will set\n",
        "\n",
        "```python\n",
        "# loop over all microscopic velocities vL that are going left\n",
        "   nout[vL,-1,:] = nout[vL,-2,:]\n",
        "```\n",
        "*Hint:* there are 3 `vL`s.\n",
        "\n",
        "\n",
        "🦉Put all of this together and run the next test!\n",
        "\n",
        "Testing:\n",
        "```python\n",
        "testFunc(FixBoundary,[\"Microscopic.dat\",\"Microscopic2.dat\"], [\"Microscopic_after_boundary.dat\"])\n",
        "```\n"
      ]
    },
    {
      "cell_type": "code",
      "execution_count": null,
      "metadata": {
        "id": "snpwfBETZ2iU"
      },
      "outputs": [],
      "source": [
        "@jit\n",
        "def FixBoundary(n,n_init):\n",
        "  nout = n\n",
        "  #for vR in range(0,9):\n",
        "  for j in range(ny):\n",
        "    nout[:,0,:] = n_init[:,0,:]\n",
        "  for vL in range(4,7):\n",
        "    nout[vL,-1,:] = nout[vL,-2,:]\n",
        "  return nout"
      ]
    },
    {
      "cell_type": "markdown",
      "metadata": {
        "id": "A3OETCc9eJSQ"
      },
      "source": [
        "#### Test:"
      ]
    },
    {
      "cell_type": "code",
      "execution_count": null,
      "metadata": {
        "colab": {
          "base_uri": "https://localhost:8080/"
        },
        "id": "MeXS2YWteJSQ",
        "outputId": "899a1b30-7f22-4f1e-f9b8-00d9532df0bc"
      },
      "outputs": [
        {
          "output_type": "stream",
          "name": "stdout",
          "text": [
            "Test Passed!\n"
          ]
        }
      ],
      "source": [
        "#!Start\n",
        "#microscopicDensity2=np.random.random((9,nx,ny))\n",
        "#pickle.dump(microscopicDensity2,open( \"Microscopic2.dat\",\"wb\"))\n",
        "#pickle.dump( FixBoundary(microscopicDensity,microscopicDensity2), open( \"Microscopic_after_boundary.dat\", \"wb\" ) )\n",
        "#!Stop\n",
        "testFunc(FixBoundary,[\"Microscopic.dat\",\"Microscopic2.dat\"], [\"Microscopic_after_boundary.dat\"])"
      ]
    },
    {
      "cell_type": "markdown",
      "metadata": {
        "id": "PEh51wireJSQ"
      },
      "source": [
        "### g. Setting up the initial conditions"
      ]
    },
    {
      "cell_type": "markdown",
      "metadata": {
        "id": "MiCx7V2-eJSQ"
      },
      "source": [
        "We need to generate an initial conditions. The way that we are going to do that is\n",
        "* pick some macroscopic density $\\rho$ of size $(n_x,n_y)$ (uniformly equal to 1.0) and a\n",
        "* macroscopic velocity $\\vec{u}(i,j)$ (sizes $(2,n_x,n_y)$)\n",
        "    *  zero in the x-direction (aka 0)\n",
        "    * `0.04*(1.0+1e-4*np.sin(y/(ny)*2*np.pi))` in the y-direction (aka 1). This introduces a very tiny anisotropy to the system.\n",
        "* compute the equilibrium density $n_{eq}$ associated with the initial density and velocities.   \n",
        "**Use (and return) this as the initial conditions**\n",
        "\n",
        "🦉Write a function `Setup()` which returns the initial microscopic densities.  Remember to save this as you will need it to apply your boundary conditions.\n",
        "\n",
        "I get the following when I visualize it as `plt.matshow(Setup()[3].transpose())`\n",
        "\n",
        "<img src=\"https://courses.physics.illinois.edu/phys246/fa2022/img/FD_initialCondition.png\" width=800 align=left></img><br>\n"
      ]
    },
    {
      "cell_type": "code",
      "execution_count": null,
      "metadata": {
        "id": "4U3f8IUYbqpc"
      },
      "outputs": [],
      "source": [
        "@jit\n",
        "def Setup():\n",
        "  rhoOut = np.empty((nx,ny))\n",
        "  uout = np.empty((2,nx,ny))\n",
        "  for i in range(nx):\n",
        "    for j in range(ny):\n",
        "      rhoOut[i,j]=1.0\n",
        "      uout[:,i,j]=[0,0.04*(1.0+1e-4*np.sin(j/ny*2*np.pi))]\n",
        "  return Macro2Equilibrium(rhoOut,uout)\n",
        "\n",
        "\n"
      ]
    },
    {
      "cell_type": "markdown",
      "metadata": {
        "id": "mnT2rH-OFhPj"
      },
      "source": [
        "A quick test here is just to check that the following:\n",
        "```python\n",
        "print(\"All good?\",(np.abs(np.max(Setup())-0.443377991)<1e-5) and ((np.abs(np.min(Setup())-0.0245774711)<1e-5)))\n",
        "```"
      ]
    },
    {
      "cell_type": "markdown",
      "metadata": {
        "id": "JPpWekg5eJSR"
      },
      "source": [
        "#### Test:"
      ]
    },
    {
      "cell_type": "code",
      "execution_count": null,
      "metadata": {
        "colab": {
          "base_uri": "https://localhost:8080/",
          "height": 292
        },
        "id": "DcsOX7WlgeLM",
        "outputId": "2d0d7210-e1da-4636-8cde-50d5e1e47b1e"
      },
      "outputs": [
        {
          "output_type": "execute_result",
          "data": {
            "text/plain": [
              "<matplotlib.image.AxesImage at 0x7f6e669f5f50>"
            ]
          },
          "metadata": {},
          "execution_count": 25
        },
        {
          "output_type": "display_data",
          "data": {
            "text/plain": [
              "<Figure size 832x288 with 1 Axes>"
            ],
            "image/png": "[encoded data removed]"
          },
          "metadata": {
            "needs_background": "light"
          }
        }
      ],
      "source": [
        "plt.matshow(Setup()[3].transpose())"
      ]
    },
    {
      "cell_type": "code",
      "execution_count": null,
      "metadata": {
        "colab": {
          "base_uri": "https://localhost:8080/"
        },
        "id": "Ck_7eWSOeJSR",
        "outputId": "d794ba63-1d56-429f-bf92-34e10192759e"
      },
      "outputs": [
        {
          "output_type": "stream",
          "name": "stdout",
          "text": [
            "All good? True\n"
          ]
        }
      ],
      "source": [
        "print(\"All good?\",(np.abs(np.max(Setup())-0.443377991)<1e-5) and ((np.abs(np.min(Setup())-0.0245774711)<1e-5)))"
      ]
    },
    {
      "cell_type": "markdown",
      "metadata": {
        "id": "qV-6v3NIeJSR"
      },
      "source": [
        "### h. Putting it all together"
      ]
    },
    {
      "cell_type": "markdown",
      "metadata": {
        "collapsed": true,
        "id": "rQBPfIMReJSR"
      },
      "source": [
        "🦉Write a function `Run(steps,record,n,n_init,obstacle)` (up in your function-cell) which takes\n",
        "* the number of steps `steps` you want to run\n",
        "* how often you want to `record` the velocity and density\n",
        "* the microscopic densities `n` to start running from\n",
        "* as well as the initial microscopic densities `n_init` for the boundary conditions (often equal to `n.copy()`)\n",
        "* and the obstacle boolean array.\n",
        "\n",
        "Each step consists of:\n",
        "1. Adjust boundary conditions\n",
        "2. Collide the microscopic densities\n",
        "3. Move the microscopic densities\n",
        "\n",
        "It should return\n",
        "* a list of macroscopic densities `rhos`\n",
        "* a list of macroscopic velocities `us`\n",
        "    * This will be `u2=`$\\sqrt{\\vec{u}\\cdot\\vec{u}}$\n",
        "    * To help us later, store these as `u2.transpose()`\n",
        "* the last microscopic density `n`\n",
        "\n",
        "Now (below) call your `Setup` and `Run` functions. Then plot the final configuration (something like `plt.matshow(us[-1])`).  \n",
        "\n",
        "🦉Run for 201 steps recording every 100 steps."
      ]
    },
    {
      "cell_type": "markdown",
      "metadata": {
        "id": "cVbZEgWReJSR"
      },
      "source": [
        "#### Answer:"
      ]
    },
    {
      "cell_type": "code",
      "execution_count": null,
      "metadata": {
        "id": "OCWwlS3BnHhn"
      },
      "outputs": [],
      "source": [
        "\n",
        "def Run(steps, record, n, n_init, obstacle):\n",
        "  rhos = []\n",
        "  us = []\n",
        "  nout = n\n",
        "  nouts = []\n",
        "  for step in range(steps):\n",
        "    nout = FixBoundary(nout,n_init)\n",
        "    nout = Collision(nout,obstacle)\n",
        "    nout = Move(nout,obstacle)\n",
        "    if step % record == 0:\n",
        "      rho, u = Micro2Macro(nout)\n",
        "      us.append(np.sqrt(np.einsum('ijk,ijk->jk',u,u).transpose()))\n",
        "      rhos.append(rho)\n",
        "      #nouts.append(nout)\n",
        "      #us.append(u2)\n",
        "  return rhos, us, nout"
      ]
    },
    {
      "cell_type": "code",
      "execution_count": null,
      "metadata": {
        "id": "Txkb3StieJSR"
      },
      "outputs": [],
      "source": [
        "#!Start\n",
        "fin=Setup()\n",
        "feq_init=fin.copy()\n",
        "obstacle=GenerateCylinderObstacle()\n",
        "#!Stop"
      ]
    },
    {
      "cell_type": "code",
      "execution_count": null,
      "metadata": {
        "id": "s6rlOiOleJSR",
        "scrolled": true,
        "colab": {
          "base_uri": "https://localhost:8080/"
        },
        "outputId": "c05036c3-b133-4bfd-f46d-7f22566f3063"
      },
      "outputs": [
        {
          "metadata": {
            "tags": null
          },
          "name": "stderr",
          "output_type": "stream",
          "text": [
            "/usr/local/lib/python3.7/dist-packages/ipykernel_launcher.py:9: RuntimeWarning: overflow encountered in add\n",
            "  if __name__ == '__main__':\n"
          ]
        }
      ],
      "source": [
        "#!Start\n",
        "fins=rhos=us= [None] * 21\n",
        "fins[0]=fin.copy()\n",
        "for i in range(0,20):\n",
        "    (rhos[i],us[i],fins[i+1])=Run(200,10,fins[i],feq_init,obstacle)\n",
        "#!Stop"
      ]
    },
    {
      "cell_type": "markdown",
      "metadata": {
        "id": "4FQznVK5eJSR"
      },
      "source": [
        "### i. Animation"
      ]
    },
    {
      "cell_type": "markdown",
      "metadata": {
        "id": "WiSt15FleJSR"
      },
      "source": [
        "🦉Now write a function `AnimateMe(us_flat,vMax)` which is going to take a list of velocities `us_flat` (and maximum for the `vMax`) and going to return an animation which is going to be then produced by calling\n",
        "```python\n",
        "anim = AnimateMe(us,vMax)\n",
        "HTML(anim.to_jshtml())\n",
        "```\n",
        "\n",
        "This function will look like:\n",
        "```python\n",
        "def AnimateMe(us_flat,vMax):\n",
        "    fig, ax = plt.subplots()\n",
        "    cax = ax.imshow(us_flat[1],cmap=plt.cm.Reds,vmin=0,vmax=vMax)\n",
        "    plt.close(fig)\n",
        "    def animate(i):\n",
        "         cax.set_array(us_flat[i])\n",
        "\n",
        "    anim = FuncAnimation(fig, animate, interval=100, frames=len(us_flat))\n",
        "    return anim\n",
        "```\n",
        "\n"
      ]
    },
    {
      "cell_type": "markdown",
      "metadata": {
        "id": "VOyHg6C1eJSS"
      },
      "source": [
        "#### Answer:"
      ]
    },
    {
      "cell_type": "code",
      "execution_count": null,
      "metadata": {
        "id": "s-79fLhseJSS",
        "colab": {
          "base_uri": "https://localhost:8080/",
          "height": 386
        },
        "outputId": "42ba83ef-782a-4ede-e316-9d671e6e1691"
      },
      "outputs": [
        {
          "output_type": "execute_result",
          "data": {
            "text/plain": [
              "<IPython.core.display.HTML object>"
            ],
            "text/html": [
              "\n",
              "<link rel=\"stylesheet\"\n",
              "href=\"https://maxcdn.bootstrapcdn.com/font-awesome/4.4.0/\n",
              "css/font-awesome.min.css\">\n",
              "<script language=\"javascript\">\n",
              "  function isInternetExplorer() {\n",
              "    ua = navigator.userAgent;\n",
              "    /* MSIE used to detect old browsers and Trident used to newer ones*/\n",
              "    return ua.indexOf(\"MSIE \") > -1 || ua.indexOf(\"Trident/\") > -1;\n",
              "  }\n",
              "\n",
              "  /* Define the Animation class */\n",
              "  function Animation(frames, img_id, slider_id, interval, loop_select_id){\n",
              "    this.img_id = img_id;\n",
              "    this.slider_id = slider_id;\n",
              "    this.loop_select_id = loop_select_id;\n",
              "    this.interval = interval;\n",
              "    this.current_frame = 0;\n",
              "    this.direction = 0;\n",
              "    this.timer = null;\n",
              "    this.frames = new Array(frames.length);\n",
              "\n",
              "    for (var i=0; i<frames.length; i++)\n",
              "    {\n",
              "     this.frames[i] = new Image();\n",
              "     this.frames[i].src = frames[i];\n",
              "    }\n",
              "    var slider = document.getElementById(this.slider_id);\n",
              "    slider.max = this.frames.length - 1;\n",
              "    if (isInternetExplorer()) {\n",
              "        // switch from oninput to onchange because IE <= 11 does not conform\n",
              "        // with W3C specification. It ignores oninput and onchange behaves\n",
              "        // like oninput. In contrast, Mircosoft Edge behaves correctly.\n",
              "        slider.setAttribute('onchange', slider.getAttribute('oninput'));\n",
              "        slider.setAttribute('oninput', null);\n",
              "    }\n",
              "    this.set_frame(this.current_frame);\n",
              "  }\n",
              "\n",
              "  Animation.prototype.get_loop_state = function(){\n",
              "    var button_group = document[this.loop_select_id].state;\n",
              "    for (var i = 0; i < button_group.length; i++) {\n",
              "        var button = button_group[i];\n",
              "        if (button.checked) {\n",
              "            return button.value;\n",
              "        }\n",
              "    }\n",
              "    return undefined;\n",
              "  }\n",
              "\n",
              "  Animation.prototype.set_frame = function(frame){\n",
              "    this.current_frame = frame;\n",
              "    document.getElementById(this.img_id).src =\n",
              "            this.frames[this.current_frame].src;\n",
              "    document.getElementById(this.slider_id).value = this.current_frame;\n",
              "  }\n",
              "\n",
              "  Animation.prototype.next_frame = function()\n",
              "  {\n",
              "    this.set_frame(Math.min(this.frames.length - 1, this.current_frame + 1));\n",
              "  }\n",
              "\n",
              "  Animation.prototype.previous_frame = function()\n",
              "  {\n",
              "    this.set_frame(Math.max(0, this.current_frame - 1));\n",
              "  }\n",
              "\n",
              "  Animation.prototype.first_frame = function()\n",
              "  {\n",
              "    this.set_frame(0);\n",
              "  }\n",
              "\n",
              "  Animation.prototype.last_frame = function()\n",
              "  {\n",
              "    this.set_frame(this.frames.length - 1);\n",
              "  }\n",
              "\n",
              "  Animation.prototype.slower = function()\n",
              "  {\n",
              "    this.interval /= 0.7;\n",
              "    if(this.direction > 0){this.play_animation();}\n",
              "    else if(this.direction < 0){this.reverse_animation();}\n",
              "  }\n",
              "\n",
              "  Animation.prototype.faster = function()\n",
              "  {\n",
              "    this.interval *= 0.7;\n",
              "    if(this.direction > 0){this.play_animation();}\n",
              "    else if(this.direction < 0){this.reverse_animation();}\n",
              "  }\n",
              "\n",
              "  Animation.prototype.anim_step_forward = function()\n",
              "  {\n",
              "    this.current_frame += 1;\n",
              "    if(this.current_frame < this.frames.length){\n",
              "      this.set_frame(this.current_frame);\n",
              "    }else{\n",
              "      var loop_state = this.get_loop_state();\n",
              "      if(loop_state == \"loop\"){\n",
              "        this.first_frame();\n",
              "      }else if(loop_state == \"reflect\"){\n",
              "        this.last_frame();\n",
              "        this.reverse_animation();\n",
              "      }else{\n",
              "        this.pause_animation();\n",
              "        this.last_frame();\n",
              "      }\n",
              "    }\n",
              "  }\n",
              "\n",
              "  Animation.prototype.anim_step_reverse = function()\n",
              "  {\n",
              "    this.current_frame -= 1;\n",
              "    if(this.current_frame >= 0){\n",
              "      this.set_frame(this.current_frame);\n",
              "    }else{\n",
              "      var loop_state = this.get_loop_state();\n",
              "      if(loop_state == \"loop\"){\n",
              "        this.last_frame();\n",
              "      }else if(loop_state == \"reflect\"){\n",
              "        this.first_frame();\n",
              "        this.play_animation();\n",
              "      }else{\n",
              "        this.pause_animation();\n",
              "        this.first_frame();\n",
              "      }\n",
              "    }\n",
              "  }\n",
              "\n",
              "  Animation.prototype.pause_animation = function()\n",
              "  {\n",
              "    this.direction = 0;\n",
              "    if (this.timer){\n",
              "      clearInterval(this.timer);\n",
              "      this.timer = null;\n",
              "    }\n",
              "  }\n",
              "\n",
              "  Animation.prototype.play_animation = function()\n",
              "  {\n",
              "    this.pause_animation();\n",
              "    this.direction = 1;\n",
              "    var t = this;\n",
              "    if (!this.timer) this.timer = setInterval(function() {\n",
              "        t.anim_step_forward();\n",
              "    }, this.interval);\n",
              "  }\n",
              "\n",
              "  Animation.prototype.reverse_animation = function()\n",
              "  {\n",
              "    this.pause_animation();\n",
              "    this.direction = -1;\n",
              "    var t = this;\n",
              "    if (!this.timer) this.timer = setInterval(function() {\n",
              "        t.anim_step_reverse();\n",
              "    }, this.interval);\n",
              "  }\n",
              "</script>\n",
              "\n",
              "<style>\n",
              ".animation {\n",
              "    display: inline-block;\n",
              "    text-align: center;\n",
              "}\n",
              "input[type=range].anim-slider {\n",
              "    width: 374px;\n",
              "    margin-left: auto;\n",
              "    margin-right: auto;\n",
              "}\n",
              ".anim-buttons {\n",
              "    margin: 8px 0px;\n",
              "}\n",
              ".anim-buttons button {\n",
              "    padding: 0;\n",
              "    width: 36px;\n",
              "}\n",
              ".anim-state label {\n",
              "    margin-right: 8px;\n",
              "}\n",
              ".anim-state input {\n",
              "    margin: 0;\n",
              "    vertical-align: middle;\n",
              "}\n",
              "</style>\n",
              "\n",
              "<div class=\"animation\">\n",
              "  <img id=\"_anim_img9e7c76d0b3104c78963ed17abd9ae10a\">\n",
              "  <div class=\"anim-controls\">\n",
              "    <input id=\"_anim_slider9e7c76d0b3104c78963ed17abd9ae10a\" type=\"range\" class=\"anim-slider\"\n",
              "           name=\"points\" min=\"0\" max=\"1\" step=\"1\" value=\"0\"\n",
              "           oninput=\"anim9e7c76d0b3104c78963ed17abd9ae10a.set_frame(parseInt(this.value));\"></input>\n",
              "    <div class=\"anim-buttons\">\n",
              "      <button onclick=\"anim9e7c76d0b3104c78963ed17abd9ae10a.slower()\"><i class=\"fa fa-minus\"></i></button>\n",
              "      <button onclick=\"anim9e7c76d0b3104c78963ed17abd9ae10a.first_frame()\"><i class=\"fa fa-fast-backward\">\n",
              "          </i></button>\n",
              "      <button onclick=\"anim9e7c76d0b3104c78963ed17abd9ae10a.previous_frame()\">\n",
              "          <i class=\"fa fa-step-backward\"></i></button>\n",
              "      <button onclick=\"anim9e7c76d0b3104c78963ed17abd9ae10a.reverse_animation()\">\n",
              "          <i class=\"fa fa-play fa-flip-horizontal\"></i></button>\n",
              "      <button onclick=\"anim9e7c76d0b3104c78963ed17abd9ae10a.pause_animation()\"><i class=\"fa fa-pause\">\n",
              "          </i></button>\n",
              "      <button onclick=\"anim9e7c76d0b3104c78963ed17abd9ae10a.play_animation()\"><i class=\"fa fa-play\"></i>\n",
              "          </button>\n",
              "      <button onclick=\"anim9e7c76d0b3104c78963ed17abd9ae10a.next_frame()\"><i class=\"fa fa-step-forward\">\n",
              "          </i></button>\n",
              "      <button onclick=\"anim9e7c76d0b3104c78963ed17abd9ae10a.last_frame()\"><i class=\"fa fa-fast-forward\">\n",
              "          </i></button>\n",
              "      <button onclick=\"anim9e7c76d0b3104c78963ed17abd9ae10a.faster()\"><i class=\"fa fa-plus\"></i></button>\n",
              "    </div>\n",
              "    <form action=\"#n\" name=\"_anim_loop_select9e7c76d0b3104c78963ed17abd9ae10a\" class=\"anim-state\">\n",
              "      <input type=\"radio\" name=\"state\" value=\"once\" id=\"_anim_radio1_9e7c76d0b3104c78963ed17abd9ae10a\"\n",
              "             >\n",
              "      <label for=\"_anim_radio1_9e7c76d0b3104c78963ed17abd9ae10a\">Once</label>\n",
              "      <input type=\"radio\" name=\"state\" value=\"loop\" id=\"_anim_radio2_9e7c76d0b3104c78963ed17abd9ae10a\"\n",
              "             checked>\n",
              "      <label for=\"_anim_radio2_9e7c76d0b3104c78963ed17abd9ae10a\">Loop</label>\n",
              "      <input type=\"radio\" name=\"state\" value=\"reflect\" id=\"_anim_radio3_9e7c76d0b3104c78963ed17abd9ae10a\"\n",
              "             >\n",
              "      <label for=\"_anim_radio3_9e7c76d0b3104c78963ed17abd9ae10a\">Reflect</label>\n",
              "    </form>\n",
              "  </div>\n",
              "</div>\n",
              "\n",
              "\n",
              "<script language=\"javascript\">\n",
              "  /* Instantiate the Animation class. */\n",
              "  /* The IDs given should match those used in the template above. */\n",
              "  (function() {\n",
              "    var img_id = \"_anim_img9e7c76d0b3104c78963ed17abd9ae10a\";\n",
              "    var slider_id = \"_anim_slider9e7c76d0b3104c78963ed17abd9ae10a\";\n",
              "    var loop_select_id = \"_anim_loop_select9e7c76d0b3104c78963ed17abd9ae10a\";\n",
              "    var frames = new Array(20);\n",
              "    \n",
              "  frames[0] = \"data:image/png;base64,iVBORw0KGgoAAAANSUhEUgAAAbAAAAEgCAYAAADVKCZpAAAABHNCSVQICAgIfAhkiAAAAAlwSFlz\\\n",
              "AAALEgAACxIB0t1+/AAAADh0RVh0U29mdHdhcmUAbWF0cGxvdGxpYiB2ZXJzaW9uMy4yLjIsIGh0\\\n",
              "dHA6Ly9tYXRwbG90bGliLm9yZy+WH4yJAAAQTUlEQVR4nO3db0zVdf/H8dcRVltXpYkeYOdwSXjw\\\n",
              "DyDixR+75SYMcthwpCHWFo4WTm/Yv9W6l25NWFtbbdrWWa7hVjLnlrQ00pm0TI2OhjdsbWcM9gNk\\\n",
              "CChlTkXg87vROst012XXJXzPm/N83OJ8OeD789m+5+n5nrODzznnBACAMbO8HgAAgP8GAQMAmETA\\\n",
              "AAAmETAAgEkEDABgEgEDAJhEwAAAJhEwAIBJBAwAYBIBAwCYRMAAACYRMACASQQMAGASAQMAmETA\\\n",
              "AAAmETAAgEkEDABgEgEDAJhEwAAAJhEwAIBJBAwAYBIBAwCYRMAAACYRMACASQQMAGASAQMAmETA\\\n",
              "AAAmETAAgEkEDABgEgEDAJhEwAAAJhEwAIBJBAwAYBIBAwCYRMAAACYRMACASQQMAGASAQMAmETA\\\n",
              "AAAmETAAgEkEDABgEgEDAJhEwAAAJhEwAIBJBAwAYBIBAwCYRMAAACYRMACASQQMAGASAQMAmETA\\\n",
              "AAAmETAAgEkEDABgEgEDAJhEwAAAJhEwAIBJBAwAYBIBAwCYRMAAACYRMACASQQMAGASAQMAmETA\\\n",
              "AAAmETAAgEkEDABgEgEDAJhEwAAAJhEwAIBJBAwAYBIBAwCYRMAAACYRMACASQQMAGASAQMAmETA\\\n",
              "AAAmETAAgEkEDABgEgEDAJhEwAAAJhEwAIBJBAwAYJKZgLW1tWnx4sUKhUJqamryehwAgMd8zjnn\\\n",
              "9RD/ycTEhBYtWqRjx44pGAyquLhY+/fvV05OjtejAQA8YuIZWEdHh0KhkLKysvTAAw+otrZWra2t\\\n",
              "Xo8FAPBQstcD3Iv+/n5lZGTEbgeDQX3//ff/9mfmzUtR5j//OdWjAcCM0vN/vRoeHvZ6jHtiImD3\\\n",
              "KhwOKxwOS5L+8dA/FDnZ7u1AAGBM0aoyr0e4ZyYuIQYCAfX29sZu9/X1KRAI3HG/hoYGRSIRRSIR\\\n",
              "zZ+XMp0jAgCmmYmAFRcXKxqNqru7W2NjY2ppaVFVVZXXYwEAPGTiEmJycrJ2796tJ598UhMTE6qv\\\n",
              "r1dubq7XYwEAPGQiYJJUWVmpyspKr8cAAMQJE5cQAQD4KwIGADCJgAEATCJgAACTCBgAwCQCBgAw\\\n",
              "iYABAEwiYAAAkwgYAMAkAgYAMImAAQBMImAAAJMIGADAJAIGADCJgAEATCJgAACTCBgAwCQCBgAw\\\n",
              "iYABAEwiYAAAkwgYAMAkAgYAMImAAQBMSvZ6gL/KzMzUI488oqSkJCUnJysSiejy5cvauHGjenp6\\\n",
              "lJmZqQMHDuixxx7zelQAgIfi8hnYiRMn1NnZqUgkIklqampSWVmZotGoysrK1NTU5PGEAACvxWXA\\\n",
              "/qq1tVV1dXWSpLq6Oh06dMjjiQAAXou7gPl8PlVUVKiwsFDhcFiSNDg4qPT0dElSWlqaBgcHvRwR\\\n",
              "ABAH4u41sJMnTyoQCOjSpUsqLy/XkiVLbvu+z+eTz+e768+Gw+FY9IaGR6Z8VgCAd+LuGVggEJAk\\\n",
              "+f1+VVdXq6OjQ6mpqRoYGJAkDQwMyO/33/VnGxoaFIlEFIlENH9eyrTNDACYfnEVsGvXrunq1aux\\\n",
              "r48ePaq8vDxVVVWpublZktTc3Kx169Z5OSYAIA7E1SXEwcFBVVdXS5LGx8f17LPPas2aNSouLlZN\\\n",
              "TY327t2rBQsW6MCBAx5PCgDwWlwFLCsrS+fPn7/jeEpKio4fP+7BRACAeBVXlxABALhXBAwAYBIB\\\n",
              "AwCYRMAAACYRMACASQQMAGASAQMAmETAAAAmETAAgEkEDABgEgEDAJhEwAAAJhEwAIBJBAwAYBIB\\\n",
              "AwCYRMAAACYRMACASQQMAGASAQMAmETAAAAmETAAgEkEDABgEgEDAJjkScDq6+vl9/uVl5cXO3b5\\\n",
              "8mWVl5crOztb5eXlunLliiTJOaft27crFAopPz9f586d82JkAECc8SRgmzdvVltb223HmpqaVFZW\\\n",
              "pmg0qrKyMjU1NUmSvvzyS0WjUUWjUYXDYW3dutWLkQEAccaTgK1atUpz58697Vhra6vq6uokSXV1\\\n",
              "dTp06FDs+PPPPy+fz6cnnnhCo6OjGhgYmPaZAQDxJW5eAxscHFR6erokKS0tTYODg5Kk/v5+ZWRk\\\n",
              "xO4XDAbV39/vyYwAgPiR7PUAd+Pz+eTz+f72z4XDYYXDYUnS0PDI/R4LABBH4uYZWGpqauzS4MDA\\\n",
              "gPx+vyQpEAiot7c3dr++vj4FAoG7/o6GhgZFIhFFIhHNn5cy9UMDADwTNwGrqqpSc3OzJKm5uVnr\\\n",
              "1q2LHd+3b5+cczpz5oxmz54du9QIAEhcnlxC3LRpk9rb2zU8PKxgMKidO3fqzTffVE1Njfbu3asF\\\n",
              "CxbowIEDkqTKykodOXJEoVBIDz30kD7++GMvRgYAxBmfc855PcRUKPrXCkVOtns9BgCYUrSqTJFI\\\n",
              "xOsx7kncXEIEAODvIGAAAJMIGADAJAIGADCJgAEATCJgAACTCBgAwCQCBgAwiYABAEwiYAAAkwgY\\\n",
              "AMAkAgYAMImAAQBMImAAAJMIGADAJAIGADCJgAEATCJgAACTCBgAwCQCBgAwiYABAEwiYAAAkwgY\\\n",
              "AMAkTwJWX18vv9+vvLy82LEdO3YoEAiooKBABQUFOnLkSOx7jY2NCoVCWrx4sb766isvRgYAxBlP\\\n",
              "ArZ582a1tbXdcfyVV15RZ2enOjs7VVlZKUn66aef1NLSogsXLqitrU3btm3TxMTEdI8MAIgzngRs\\\n",
              "1apVmjt37j3dt7W1VbW1tXrwwQf1+OOPKxQKqaOjY4onBADEu7h6DWz37t3Kz89XfX29rly5Iknq\\\n",
              "7+9XRkZG7D7BYFD9/f1ejQgAiBNxE7CtW7eqq6tLnZ2dSk9P12uvvfa3f0c4HFZRUZGKioo0NDwy\\\n",
              "BVMCAOJF3AQsNTVVSUlJmjVrll588cXYZcJAIKDe3t7Y/fr6+hQIBO76OxoaGhSJRBSJRDR/Xsq0\\\n",
              "zA0A8EbcBGxgYCD29WeffRZ7h2JVVZVaWlp08+ZNdXd3KxqNqqSkxKsxAQBxItmLf3TTpk1qb2/X\\\n",
              "8PCwgsGgdu7cqfb2dnV2dsrn8ykzM1MffvihJCk3N1c1NTXKyclRcnKy9uzZo6SkJC/GBgDEEZ9z\\\n",
              "znk9xFQo+tcKRU62ez0GAJhStKpMkUjE6zHuSdxcQgQA4O8gYAAAkwgYAMAkAgYAMImAAQBMImAA\\\n",
              "AJMIGADAJAIGADCJgAEATCJgAACTCBgAwCQCBgAwiYABAEwiYAAAk2bsn1N5+OGHtWTJEq/H8NTQ\\\n",
              "0JDmz5/v9RieYf2JvX6JPfhv1t/T06Ph4eEpmuj+8uQPWk6HJUuWmPmbNlOlqKgoofeA9Sf2+iX2\\\n",
              "YKavn0uIAACTCBgAwKSkHTt27PB6iKlSWFjo9QieS/Q9YP2JvX6JPZjJ65+xb+IAAMxsXEIEAJg0\\\n",
              "IwPW1tamxYsXKxQKqampyetxpkR9fb38fr/y8vJixy5fvqzy8nJlZ2ervLxcV65ckSQ557R9+3aF\\\n",
              "QiHl5+fr3LlzXo193/T29mr16tXKyclRbm6u3n//fUmJtQc3btxQSUmJli9frtzcXL311luSpO7u\\\n",
              "bq1cuVKhUEgbN27U2NiYJOnmzZvauHGjQqGQVq5cqZ6eHg+nv38mJia0YsUKPfXUU5ISb/2ZmZla\\\n",
              "tmyZCgoKVFRUJCmBzgM3w4yPj7usrCzX1dXlbt686fLz892FCxe8Huu+++abb9zZs2ddbm5u7Njr\\\n",
              "r7/uGhsbnXPONTY2ujfeeMM559zhw4fdmjVr3OTkpDt9+rQrKSnxZOb76eLFi+7s2bPOOed+/fVX\\\n",
              "l52d7S5cuJBQezA5OemuXr3qnHNubGzMlZSUuNOnT7tnnnnG7d+/3znn3JYtW9wHH3zgnHNuz549\\\n",
              "bsuWLc455/bv3+9qamq8Gfw+e/fdd92mTZvc2rVrnXMu4da/YMECNzQ0dNuxRDkPZlzATp065Soq\\\n",
              "KmK3d+3a5Xbt2uXhRFOnu7v7toAtWrTIXbx40Tn3+wP8okWLnHPONTQ0uE8//fSu95spqqqq3NGj\\\n",
              "RxN2D65du+ZWrFjhzpw541JSUtytW7ecc7efDxUVFe7UqVPOOedu3brlUlJS3OTkpGcz3w+9vb2u\\\n",
              "tLTUHT9+3K1du9ZNTk4m1Pqdu3vAEuU8mHGXEPv7+5WRkRG7HQwG1d/f7+FE02dwcFDp6emSpLS0\\\n",
              "NA0ODkqa+XvS09OjH3/8UStXrky4PZiYmFBBQYH8fr/Ky8u1cOFCzZkzR8nJv39GwZ/X+ec9SE5O\\\n",
              "1uzZszUyMuLZ7PfDyy+/rHfeeUezZv3+UDYyMpJQ65ckn8+niooKFRYWKhwOS0qcx4IZ+0kcic7n\\\n",
              "88nn83k9xpT77bfftH79er333nt69NFHb/teIuxBUlKSOjs7NTo6qurqav38889ejzRtvvjiC/n9\\\n",
              "fhUWFqq9vd3rcTxz8uRJBQIBXbp0SeXl5Xd8hN5MPg9m3DOwQCCg3t7e2O2+vj4FAgEPJ5o+qamp\\\n",
              "GhgYkCQNDAzI7/dLmrl7cuvWLa1fv17PPfecnn76aUmJtwd/mDNnjlavXq3Tp09rdHRU4+Pjkm5f\\\n",
              "55/3YHx8XL/88otSUlI8m/l/9d133+nzzz9XZmamamtr9fXXX+ull15KmPX/4Y/1+f1+VVdXq6Oj\\\n",
              "I2HOgxkXsOLiYkWjUXV3d2tsbEwtLS2qqqryeqxpUVVVpebmZklSc3Oz1q1bFzu+b98+Oed05swZ\\\n",
              "zZ49O3Z5wSrnnF544QUtXbpUr776aux4Iu3B0NCQRkdHJUnXr1/XsWPHtHTpUq1evVoHDx6UdOce\\\n",
              "/LE3Bw8eVGlpqen/mTc2Nqqvr089PT1qaWlRaWmpPvnkk4RZvyRdu3ZNV69ejX199OhR5eXlJc55\\\n",
              "4O1LcFPj8OHDLjs722VlZbm3337b63GmRG1trUtLS3PJyckuEAi4jz76yA0PD7vS0lIXCoVcWVmZ\\\n",
              "GxkZcc79/m61bdu2uaysLJeXl+d++OEHj6f/33377bdOklu2bJlbvny5W758uTt8+HBC7cH58+dd\\\n",
              "QUGBW7ZsmcvNzXU7d+50zjnX1dXliouL3cKFC92GDRvcjRs3nHPOXb9+3W3YsMEtXLjQFRcXu66u\\\n",
              "Li/Hv69OnDgRexdiIq2/q6vL5efnu/z8fJeTkxN7vEuU84BP4gAAmDTjLiECABIDAQMAmETAAAAm\\\n",
              "ETAAgEkEDABgEgEDAJhEwAAAJhEwAIBJBAwAYBIBAwCYRMAAACYRMACASQQMAGASAQMAmETAAAAm\\\n",
              "ETAAgEkEDABgEgEDAJhEwAAAJhEwAIBJBAwAYBIBAwCYRMAAACYRMACASQQMAGASAQMAmETAAAAm\\\n",
              "ETAAgEkEDABgEgEDAJhEwAAAJhEwAIBJBAwAYBIBAwCYRMAAACYRMACASQQMAGASAQMAmETAAAAm\\\n",
              "ETAAgEkEDABgEgEDAJhEwAAAJhEwAIBJBAwAYBIBAwCYRMAAACYRMACASQQMAGASAQMAmETAAAAm\\\n",
              "ETAAgEkEDABgEgEDAJhEwAAAJhEwAIBJBAwAYBIBAwCYRMAAACYRMACASQQMAGASAQMAmETAAAAm\\\n",
              "ETAAgEkEDABgEgEDAJhEwAAAJhEwAIBJBAwAYBIBAwCYRMAAACb9P1exsPwJ1ySwAAAAAElFTkSu\\\n",
              "QmCC\\\n",
              "\"\n",
              "  frames[1] = \"data:image/png;base64,iVBORw0KGgoAAAANSUhEUgAAAbAAAAEgCAYAAADVKCZpAAAABHNCSVQICAgIfAhkiAAAAAlwSFlz\\\n",
              "AAALEgAACxIB0t1+/AAAADh0RVh0U29mdHdhcmUAbWF0cGxvdGxpYiB2ZXJzaW9uMy4yLjIsIGh0\\\n",
              "dHA6Ly9tYXRwbG90bGliLm9yZy+WH4yJAAAQPUlEQVR4nO3db2jV9d/H8ddxu37186I0xbONs+Ga\\\n",
              "Z07dnJP9sVuCG1uiMVmafwqaLJroDftH0b0Uwo0gKNCgQxITyiFCLtKWUi4ytXW0dcMIxpiwzTGd\\\n",
              "f8pEnW7v60Z0yJLfpf2c3/PeeT5u7XzP2Xx/PnDO0/P9HmfIzEwAADgzKegBAAD4JwgYAMAlAgYA\\\n",
              "cImAAQBcImAAAJcIGADAJQIGAHCJgAEAXCJgAACXCBgAwCUCBgBwiYABAFwiYAAAlwgYAMAlAgYA\\\n",
              "cImAAQBcImAAAJcIGADAJQIGAHCJgAEAXCJgAACXCBgAwCUCBgBwiYABAFwiYAAAlwgYAMAlAgYA\\\n",
              "cImAAQBcImAAAJcIGADAJQIGAHCJgAEAXCJgAACXCBgAwCUCBgBwiYABAFwiYAAAlwgYAMAlAgYA\\\n",
              "cImAAQBcImAAAJcIGADAJQIGAHCJgAEAXCJgAACXCBgAwCUCBgBwiYABAFwiYAAAlwgYAMAlAgYA\\\n",
              "cImAAQBcImAAAJcIGADAJQIGAHCJgAEAXCJgAACXCBgAwCUCBgBwiYABAFwiYAAAlwgYAMAlAgYA\\\n",
              "cImAAQBcImAAAJcIGADAJQIGAHCJgAEAXCJgAACXCBgAwCUCBgBwiYABAFwiYAAAlwgYAMAlAgYA\\\n",
              "cImAAQBcImAAAJcIGADAJQIGAHCJgAEAXCJgAACX3ASsvb1dBQUFikajam5uDnocAEDAQmZmQQ/x\\\n",
              "/xkdHdXs2bN16NAhZWdnq7y8XLt379a8efOCHg0AEBAX78A6OzsVjUaVl5enf/3rX1q7dq3a2tqC\\\n",
              "HgsAEKD0oAe4EwMDA8rJyUnczs7O1nffffcfv+fBUEgP+egzACQNm/6IhoeHgx7jjrgI2J2KxWKK\\\n",
              "xWKSpP9RSCs1OeCJAMCXeG5u0CPcMRdvUSKRiPr6+hK3+/v7FYlE/va4xsZGxeNxxeNxPajQ/RwR\\\n",
              "AHCfuQhYeXm5uru71dvbq5GREbW2tqq2tjbosQAAAXJxCjE9PV3bt2/X448/rtHRUTU0NKiwsDDo\\\n",
              "sQAAAXLxMfp/YkYojWtgAHCX4qUFisfjQY9xR1ycQgQA4K8IGADAJQIGAHCJgAEAXCJgAACXCBgA\\\n",
              "wCUCBgBwiYABAFwiYAAAlwgYAMAlAgYAcImAAQBcImAAAJcIGADAJQIGAHCJgAEAXCJgAACXCBgA\\\n",
              "wCUCBgBwiYABAFwiYAAAlwgYAMAlAgYAcCk96AH+Kjc3Vw899JDS0tKUnp6ueDyuCxcuaM2aNTp9\\\n",
              "+rRyc3O1Z88ePfLII0GPCgAIUFK+Azt8+LC6uroUj8clSc3NzaqqqlJ3d7eqqqrU3Nwc8IQAgKAl\\\n",
              "ZcD+qq2tTfX19ZKk+vp67du3L+CJAABBS7qAhUIh1dTUqLS0VLFYTJI0NDSkrKwsSVJmZqaGhoaC\\\n",
              "HBEAkASS7hrYkSNHFIlEdPbsWVVXV2vOnDm33B8KhRQKhW77vbFYLBG9a7JxnxUAEJykewcWiUQk\\\n",
              "SeFwWHV1ders7FRGRoYGBwclSYODgwqHw7f93sbGRsXjccXjcT2o20cOADAxJFXArly5osuXLye+\\\n",
              "PnjwoIqKilRbW6uWlhZJUktLi1asWBHkmACAJJBUpxCHhoZUV1cnSbp586aefvppLV26VOXl5Vq9\\\n",
              "erV27typmTNnas+ePQFPCgAIWsjMJuTFohmhNK3U5KDHAABX4qUFiX/ClOyS6hQiAAB3ioABAFwi\\\n",
              "YAAAlwgYAMAlAgYAcImAAQBcImAAAJcIGADAJQIGAHCJgAEAXCJgAACXCBgAwCUCBgBwiYABAFwi\\\n",
              "YAAAlwgYAMAlAgYAcImAAQBcImAAAJcIGADAJQIGAHCJgAEAXCJgAACXAglYQ0ODwuGwioqKEscu\\\n",
              "XLig6upq5efnq7q6WhcvXpQkmZk2b96saDSq4uJinTx5MoiRAQBJJpCArV+/Xu3t7bcca25uVlVV\\\n",
              "lbq7u1VVVaXm5mZJ0ueff67u7m51d3crFotp48aNQYwMAEgygQRs8eLFmjZt2i3H2traVF9fL0mq\\\n",
              "r6/Xvn37EsefffZZhUIhPfbYY7p06ZIGBwfv+8wAgOSSNNfAhoaGlJWVJUnKzMzU0NCQJGlgYEA5\\\n",
              "OTmJx2VnZ2tgYCCQGQEAySM96AFuJxQKKRQK3fX3xWIxxWIxSdI12b0eCwCQRJLmHVhGRkbi1ODg\\\n",
              "4KDC4bAkKRKJqK+vL/G4/v5+RSKR2/6MxsZGxeNxxeNxPai7DyAAwI+kCVhtba1aWlokSS0tLVqx\\\n",
              "YkXi+K5du2RmOn78uKZMmZI41QgASF2BnEJct26dOjo6NDw8rOzsbG3dulWvv/66Vq9erZ07d2rm\\\n",
              "zJnas2ePJGnZsmU6cOCAotGoJk+erA8//DCIkQEASSZkZhPyYtGMUJpWanLQYwCAK/HSAsXj8aDH\\\n",
              "uCNJcwoRAIC7QcAAAC4RMACASwQMAOASAQMAuETAAAAuETAAgEsEDADgEgEDALhEwAAALhEwAIBL\\\n",
              "BAwA4BIBAwC4RMAAAC4RMACASwQMAOASAQMAuETAAAAuETAAgEsEDADgEgEDALhEwAAALhEwAIBL\\\n",
              "gQSsoaFB4XBYRUVFiWNbtmxRJBJRSUmJSkpKdODAgcR9TU1NikajKigo0BdffBHEyACAJBNIwNav\\\n",
              "X6/29va/HX/ppZfU1dWlrq4uLVu2TJL0008/qbW1VadOnVJ7e7s2bdqk0dHR+z0yACDJBBKwxYsX\\\n",
              "a9q0aXf02La2Nq1du1YPPPCAHn30UUWjUXV2do7zhACAZJdU18C2b9+u4uJiNTQ06OLFi5KkgYEB\\\n",
              "5eTkJB6TnZ2tgYGBoEYEACSJpAnYxo0b1dPTo66uLmVlZemVV165658Ri8VUVlamsrIyXZONw5QA\\\n",
              "gGSRNAHLyMhQWlqaJk2apOeffz5xmjASiaivry/xuP7+fkUikdv+jMbGRsXjccXjcT2o0H2ZGwAQ\\\n",
              "jKQJ2ODgYOLrTz75JPEJxdraWrW2tur69evq7e1Vd3e3KioqghoTAJAk0oP4Q9etW6eOjg4NDw8r\\\n",
              "OztbW7duVUdHh7q6uhQKhZSbm6v3339fklRYWKjVq1dr3rx5Sk9P144dO5SWlhbE2ACAJBIyswl5\\\n",
              "sWhGKE0rNTnoMQDAlXhpgeLxeNBj3JGkOYUIAMDdIGAAAJcIGADAJQIGAHCJgAEAXCJgAACXCBgA\\\n",
              "wCUCBgBwiYABAFwiYAAAlwgYAMAlAgYAcImAAQBcImAAAJcC+f/A7oer//tvxecUBD1GoM6dO6cZ\\\n",
              "M2YEPUZgWH9qr19iD/7J+k+fPj0+w4yDCRuwOXPmuPk/bcZLWVlZSu8B60/t9UvswURfP6cQAQAu\\\n",
              "ETAAgEtpW7Zs2RL0EOOltLQ06BECl+p7wPpTe/0SezCR1x8yMwt6CAAA7hanEAEALk3IgLW3t6ug\\\n",
              "oEDRaFTNzc1BjzMuGhoaFA6HVVRUlDh24cIFVVdXKz8/X9XV1bp48aIkycy0efNmRaNRFRcX6+TJ\\\n",
              "k0GNfc/09fVpyZIlmjdvngoLC/Xuu+9KSq09uHbtmioqKrRgwQIVFhbqjTfekCT19vZq0aJFikaj\\\n",
              "WrNmjUZGRiRJ169f15o1axSNRrVo0SJXH5f+T0ZHR7Vw4UI98cQTklJv/bm5uZo/f75KSkpUVlYm\\\n",
              "KYWeBzbB3Lx50/Ly8qynp8euX79uxcXFdurUqaDHuue+/vprO3HihBUWFiaOvfrqq9bU1GRmZk1N\\\n",
              "Tfbaa6+Zmdn+/ftt6dKlNjY2ZseOHbOKiopAZr6Xzpw5YydOnDAzs19//dXy8/Pt1KlTKbUHY2Nj\\\n",
              "dvnyZTMzGxkZsYqKCjt27Jg99dRTtnv3bjMz27Bhg7333ntmZrZjxw7bsGGDmZnt3r3bVq9eHczg\\\n",
              "99jbb79t69ats+XLl5uZpdz6Z86caefOnbvlWKo8DyZcwI4ePWo1NTWJ29u2bbNt27YFONH46e3t\\\n",
              "vSVgs2fPtjNnzpjZ7y/ws2fPNjOzxsZG+/jjj2/7uImitrbWDh48mLJ7cOXKFVu4cKEdP37cpk+f\\\n",
              "bjdu3DCzW58PNTU1dvToUTMzu3Hjhk2fPt3GxsYCm/le6Ovrs8rKSvvyyy9t+fLlNjY2llLrN7t9\\\n",
              "wFLleTDhTiEODAwoJycncTs7O1sDAwMBTnT/DA0NKSsrS5KUmZmpoaEhSRN/T06fPq0ffvhBixYt\\\n",
              "Srk9GB0dVUlJicLhsKqrqzVr1ixNnTpV6em//46CP6/zz3uQnp6uKVOm6Pz584HNfi+8+OKLeuut\\\n",
              "tzRp0u8vZefPn0+p9UtSKBRSTU2NSktLFYvFJKXOa8GE/U0cqS4UCikUCgU9xrj77bfftHLlSr3z\\\n",
              "zjt6+OGHb7kvFfYgLS1NXV1dunTpkurq6vTzzz8HPdJ989lnnykcDqu0tFQdHR1BjxOYI0eOKBKJ\\\n",
              "6OzZs6qurtacOXNuuX8iPw8m3DuwSCSivr6+xO3+/n5FIpEAJ7p/MjIyNDg4KEkaHBxUOByWNHH3\\\n",
              "5MaNG1q5cqWeeeYZPfnkk5JSbw/+MHXqVC1ZskTHjh3TpUuXdPPmTUm3rvPPe3Dz5k398ssvmj59\\\n",
              "emAz/7e+/fZbffrpp8rNzdXatWv11Vdf6YUXXkiZ9f/hj/WFw2HV1dWps7MzZZ4HEy5g5eXl6u7u\\\n",
              "Vm9vr0ZGRtTa2qra2tqgx7ovamtr1dLSIklqaWnRihUrEsd37dolM9Px48c1ZcqUxOkFr8xMzz33\\\n",
              "nObOnauXX345cTyV9uDcuXO6dOmSJOnq1as6dOiQ5s6dqyVLlmjv3r2S/r4Hf+zN3r17VVlZ6fpv\\\n",
              "5k1NTerv79fp06fV2tqqyspKffTRRymzfkm6cuWKLl++nPj64MGDKioqSp3nQbCX4MbH/v37LT8/\\\n",
              "3/Ly8uzNN98MepxxsXbtWsvMzLT09HSLRCL2wQcf2PDwsFVWVlo0GrWqqio7f/68mf3+abVNmzZZ\\\n",
              "Xl6eFRUV2ffffx/w9P+9b775xiTZ/PnzbcGCBbZgwQLbv39/Su3Bjz/+aCUlJTZ//nwrLCy0rVu3\\\n",
              "mplZT0+PlZeX26xZs2zVqlV27do1MzO7evWqrVq1ymbNmmXl5eXW09MT5Pj31OHDhxOfQkyl9ff0\\\n",
              "9FhxcbEVFxfbvHnzEq93qfI84DdxAABcmnCnEAEAqYGAAQBcImAAAJcIGADAJQIGAHCJgAEAXCJg\\\n",
              "AACXCBgAwCUCBgBwiYABAFwiYAAAlwgYAMAlAgYAcImAAQBcImAAAJcIGADAJQIGAHCJgAEAXCJg\\\n",
              "AACXCBgAwCUCBgBwiYABAFwiYAAAlwgYAMAlAgYAcImAAQBcImAAAJcIGADAJQIGAHCJgAEAXCJg\\\n",
              "AACXCBgAwCUCBgBwiYABAFwiYAAAlwgYAMAlAgYAcImAAQBcImAAAJcIGADAJQIGAHCJgAEAXCJg\\\n",
              "AACXCBgAwCUCBgBwiYABAFwiYAAAlwgYAMAlAgYAcImAAQBcImAAAJcIGADAJQIGAHCJgAEAXCJg\\\n",
              "AACXCBgAwCUCBgBwiYABAFwiYAAAlwgYAMAlAgYAcImAAQBcImAAAJcIGADAJQIGAHCJgAEAXCJg\\\n",
              "AACXCBgAwCUCBgBwiYABAFwiYAAAl/4PN46pzeF6DY8AAAAASUVORK5CYII=\\\n",
              "\"\n",
              "  frames[2] = \"data:image/png;base64,iVBORw0KGgoAAAANSUhEUgAAAbAAAAEgCAYAAADVKCZpAAAABHNCSVQICAgIfAhkiAAAAAlwSFlz\\\n",
              "AAALEgAACxIB0t1+/AAAADh0RVh0U29mdHdhcmUAbWF0cGxvdGxpYiB2ZXJzaW9uMy4yLjIsIGh0\\\n",
              "dHA6Ly9tYXRwbG90bGliLm9yZy+WH4yJAAAQd0lEQVR4nO3db0zVdf/H8deRU12/Zmry6wA7MAkP\\\n",
              "/gFEHH/slptwHXLaMNIQawtHC6c37N9q3bi2dGvC2tpq07bOcg23kjm3pKWRzqRlanQ0vGFrYww2\\\n",
              "QIaikuZUBD7Xja7OstzvZ13g97zPeT5ucb4c8P35bN/z9HzP2cHnnHMCAMCYaV4PAADA30HAAAAm\\\n",
              "ETAAgEkEDABgEgEDAJhEwAAAJhEwAIBJBAwAYBIBAwCYRMAAACYRMACASQQMAGASAQMAmETAAAAm\\\n",
              "ETAAgEkEDABgEgEDAJhEwAAAJhEwAIBJBAwAYBIBAwCYRMAAACYRMACASQQMAGASAQMAmETAAAAm\\\n",
              "ETAAgEkEDABgEgEDAJhEwAAAJhEwAIBJBAwAYBIBAwCYRMAAACYRMACASQQMAGASAQMAmETAAAAm\\\n",
              "ETAAgEkEDABgEgEDAJhEwAAAJhEwAIBJBAwAYBIBAwCYRMAAACYRMACASQQMAGASAQMAmETAAAAm\\\n",
              "ETAAgEkEDABgEgEDAJhEwAAAJhEwAIBJBAwAYBIBAwCYRMAAACYRMACASQQMAGASAQMAmETAAAAm\\\n",
              "ETAAgEkEDABgEgEDAJhEwAAAJhEwAIBJBAwAYBIBAwCYRMAAACYRMACASQQMAGASAQMAmETAAAAm\\\n",
              "ETAAgEkEDABgEgEDAJhEwAAAJhEwAIBJBAwAYBIBAwCYZCZgbW1tmj9/vkKhkJqamrweBwDgMZ9z\\\n",
              "znk9xP9nfHxc8+bN0+HDh5WZmanS0lLt2bNHeXl5Xo8GAPCIiWdgHR0dCoVCysnJ0f3336/a2lq1\\\n",
              "trZ6PRYAwEN+rwe4GwMDA8rKyordzszM1Hffffd//kzqfX5NG4v7J5cAEFdc6sMaHh72eoy7YiJg\\\n",
              "dysSiSgSiUiSHpw2Tav0gMcTAYAt0exsr0e4ayYuIQaDQfX19cVu9/f3KxgM/ul+DQ0Nikajikaj\\\n",
              "+t/7Uu7liACAe8xEwEpLS9XV1aWenh6Njo6qpaVFVVVVXo8FAPCQiUuIfr9fO3bs0OOPP67x8XHV\\\n",
              "19crPz/f67EAAB4y8Tb6v2PJ9P/R0msm+gwAcSNaPF/RaNTrMe6KiUuIAAD8UcIGbGw8IZ9YAgD+\\\n",
              "I2EDdv3WuNcjAACmUMIGDACQ2AgYAMAkAgYAMImAAQBMImAAAEnSk6nTvR7hLyFgAACTCBgAwCQC\\\n",
              "BgAwiYABAEwiYAAAkwgYAMAkAgYAMImAAQBMImAAAJMIGADAJAIGADCJgAEATCJgAACTCBgAwCQC\\\n",
              "BgAwye/1AH+UnZ2thx56SCkpKfL7/YpGo7p06ZLWrVun3t5eZWdna+/evXr44Ye9HhUA4KG4fAZ2\\\n",
              "9OhRdXZ2KhqNSpKamppUUVGhrq4uVVRUqKmpyeMJAQBei8uA/VFra6vq6uokSXV1ddq/f7/HEwEA\\\n",
              "vBZ3AfP5fKqsrFRxcbEikYgkaWhoSBkZGZKk9PR0DQ0NeTkiACAOxN1rYMeOHVMwGNT58+cVDoe1\\\n",
              "YMGC277v8/nk8/nu+LORSCQWvStuYspnBQB4J+6egQWDQUlSIBBQdXW1Ojo6lJaWpsHBQUnS4OCg\\\n",
              "AoHAHX+2oaFB0WhU0WhUM3xxtzQAwCSKq0f5a9eu6erVq7GvDx06pIKCAlVVVam5uVmS1NzcrNWr\\\n",
              "V3s5JgAgDsTVJcShoSFVV1dLksbGxvTMM89oxYoVKi0tVU1NjXbt2qU5c+Zo7969Hk8KAPBaXAUs\\\n",
              "JydHZ86c+dPx1NRUHTlyxIOJAADxKq4uIQIAcLcIGADAJAIGADCJgAEATCJgAACTCBgAwCQCBgAw\\\n",
              "iYABAEwiYAAAkwgYAMAkAgYAMImAAQBMImAAAJMIGADAJAIGADCJgAEATCJgAACTCBgAwCQCBgAw\\\n",
              "iYABAEwiYAAAkwgYAMAkAgYAMMmTgNXX1ysQCKigoCB27NKlSwqHw8rNzVU4HNbly5clSc45bdmy\\\n",
              "RaFQSIWFhTp9+rQXIwMA4ownAduwYYPa2tpuO9bU1KSKigp1dXWpoqJCTU1NkqQvvvhCXV1d6urq\\\n",
              "UiQS0aZNm7wYGQAQZzwJ2LJlyzR79uzbjrW2tqqurk6SVFdXp/3798eOP/fcc/L5fHrsscc0MjKi\\\n",
              "wcHBez4zACC+xM1rYENDQ8rIyJAkpaena2hoSJI0MDCgrKys2P0yMzM1MDDgyYwAgPjh93qAO/H5\\\n",
              "fPL5fH/55yKRiCKRiCTpipuY7LEAAHEkbp6BpaWlxS4NDg4OKhAISJKCwaD6+vpi9+vv71cwGLzj\\\n",
              "72hoaFA0GlU0GtUMX9wsDQAwBeLmUb6qqkrNzc2SpObmZq1evTp2fPfu3XLO6eTJk5o5c2bsUiMA\\\n",
              "IHl5cglx/fr1am9v1/DwsDIzM7Vt2za98cYbqqmp0a5duzRnzhzt3btXkrRy5UodPHhQoVBIDz74\\\n",
              "oD766CMvRgYAxBmfc855PcRUCPnv0z/H/+H1GABgxpOp0/Wv7KCi0ajXo9yVuLmECADAX0HAAAAm\\\n",
              "ETAAgEkEDABgEgEDAJhEwAAAJhEwAIBJBAwAYBIBAwCYRMAAACYRMACASQQMAGASAQMAmETAAAAm\\\n",
              "ETAAgEkEDABgEgEDAJhEwAAAJhEwAIBJBAwAYBIBAwCYRMAAACYRMACASZ4ErL6+XoFAQAUFBbFj\\\n",
              "W7duVTAYVFFRkYqKinTw4MHY9xobGxUKhTR//nx9+eWXXowMAIgzngRsw4YNamtr+9Pxl19+WZ2d\\\n",
              "ners7NTKlSslST/++KNaWlp09uxZtbW1afPmzRofH7/XIwMA4ownAVu2bJlmz559V/dtbW1VbW2t\\\n",
              "HnjgAT366KMKhULq6OiY4gkBAPEurl4D27FjhwoLC1VfX6/Lly9LkgYGBpSVlRW7T2ZmpgYGBrwa\\\n",
              "EQAQJ+ImYJs2bVJ3d7c6OzuVkZGhV1999S//jkgkopKSEpWUlOiKm5iCKQEA8SJuApaWlqaUlBRN\\\n",
              "mzZNL7zwQuwyYTAYVF9fX+x+/f39CgaDd/wdDQ0NikajikajmuGLm6UBAKZA3DzKDw4Oxr7+9NNP\\\n",
              "Y+9QrKqqUktLi27evKmenh51dXWprKzMqzEBAHHC78U/un79erW3t2t4eFiZmZnatm2b2tvb1dnZ\\\n",
              "KZ/Pp+zsbH3wwQeSpPz8fNXU1CgvL09+v187d+5USkqKF2MDAOKIzznnvB5iKoT89+mf4//wegwA\\\n",
              "MOPJ1On6V3ZQ0WjU61HuStxcQgQA4K8gYAAAkwgYAMAkAgYAMImAAQBMImAAAJMIGADAJAIGADCJ\\\n",
              "gAEATCJgAACTCBgAwCQCBgAwiYABAEwiYAAAkxL2z6lMnz5dCxYs8HoMT124cEGPPPKI12N4hvUn\\\n",
              "9/ol9uDvrL+3t1fDw8NTNNHk8uQPWt4LCxYsMPM3baZKSUlJUu8B60/u9UvsQaKvn0uIAACTCBgA\\\n",
              "wKSUrVu3bvV6iKlSXFzs9QieS/Y9YP3JvX6JPUjk9SfsmzgAAImNS4gAAJMSMmBtbW2aP3++QqGQ\\\n",
              "mpqavB5nStTX1ysQCKigoCB27NKlSwqHw8rNzVU4HNbly5clSc45bdmyRaFQSIWFhTp9+rRXY0+a\\\n",
              "vr4+LV++XHl5ecrPz9d7770nKbn24MaNGyorK9PixYuVn5+vN998U5LU09OjpUuXKhQKad26dRod\\\n",
              "HZUk3bx5U+vWrVMoFNLSpUvV29vr4fSTZ3x8XEuWLNETTzwhKfnWn52drUWLFqmoqEglJSWSkug8\\\n",
              "cAlmbGzM5eTkuO7ubnfz5k1XWFjozp496/VYk+7rr792p06dcvn5+bFjr732mmtsbHTOOdfY2Ohe\\\n",
              "f/1155xzBw4ccCtWrHATExPuxIkTrqyszJOZJ9O5c+fcqVOnnHPOXblyxeXm5rqzZ88m1R5MTEy4\\\n",
              "q1evOuecGx0ddWVlZe7EiRPu6aefdnv27HHOObdx40b3/vvvO+ec27lzp9u4caNzzrk9e/a4mpoa\\\n",
              "bwafZO+8845bv369W7VqlXPOJd3658yZ4y5cuHDbsWQ5DxIuYMePH3eVlZWx29u3b3fbt2/3cKKp\\\n",
              "09PTc1vA5s2b586dO+ec+/UBft68ec455xoaGtwnn3xyx/sliqqqKnfo0KGk3YNr1665JUuWuJMn\\\n",
              "T7rU1FR369Yt59zt50NlZaU7fvy4c865W7duudTUVDcxMeHZzJOhr6/PlZeXuyNHjrhVq1a5iYmJ\\\n",
              "pFq/c3cOWLKcBwl3CXFgYEBZWVmx25mZmRoYGPBwontnaGhIGRkZkqT09HQNDQ1JSvw96e3t1Q8/\\\n",
              "/KClS5cm3R6Mj4+rqKhIgUBA4XBYc+fO1axZs+T3//oZBb9f5+/3wO/3a+bMmbp48aJns0+Gl156\\\n",
              "SW+//bamTfv1oezixYtJtX5J8vl8qqysVHFxsSKRiKTkeSxI2E/iSHY+n08+n8/rMabcL7/8ojVr\\\n",
              "1ujdd9/VjBkzbvteMuxBSkqKOjs7NTIyourqav30009ej3TPfP755woEAiouLlZ7e7vX43jm2LFj\\\n",
              "CgaDOn/+vMLh8J8+Qi+Rz4OEewYWDAbV19cXu93f369gMOjhRPdOWlqaBgcHJUmDg4MKBAKSEndP\\\n",
              "bt26pTVr1ujZZ5/VU089JSn59uA3s2bN0vLly3XixAmNjIxobGxM0u3r/P0ejI2N6eeff1Zqaqpn\\\n",
              "M/+3vv32W3322WfKzs5WbW2tvvrqK7344otJs/7f/La+QCCg6upqdXR0JM15kHABKy0tVVdXl3p6\\\n",
              "ejQ6OqqWlhZVVVV5PdY9UVVVpebmZklSc3OzVq9eHTu+e/duOed08uRJzZw5M3Z5wSrnnJ5//nkt\\\n",
              "XLhQr7zySux4Mu3BhQsXNDIyIkm6fv26Dh8+rIULF2r58uXat2+fpD/vwW97s2/fPpWXl5v+n3lj\\\n",
              "Y6P6+/vV29urlpYWlZeX6+OPP06a9UvStWvXdPXq1djXhw4dUkFBQfKcB96+BDc1Dhw44HJzc11O\\\n",
              "To576623vB5nStTW1rr09HTn9/tdMBh0H374oRseHnbl5eUuFAq5iooKd/HiRefcr+9W27x5s8vJ\\\n",
              "yXEFBQXu+++/93j6/94333zjJLlFixa5xYsXu8WLF7sDBw4k1R6cOXPGFRUVuUWLFrn8/Hy3bds2\\\n",
              "55xz3d3drrS01M2dO9etXbvW3bhxwznn3PXr193atWvd3LlzXWlpqevu7vZy/El19OjR2LsQk2n9\\\n",
              "3d3drrCw0BUWFrq8vLzY412ynAd8EgcAwKSEu4QIAEgOBAwAYBIBAwCYRMAAACYRMACASQQMAGAS\\\n",
              "AQMAmETAAAAmETAAgEkEDABgEgEDAJhEwAAAJhEwAIBJBAwAYBIBAwCYRMAAACYRMACASQQMAGAS\\\n",
              "AQMAmETAAAAmETAAgEkEDABgEgEDAJhEwAAAJhEwAIBJBAwAYBIBAwCYRMAAACYRMACASQQMAGAS\\\n",
              "AQMAmETAAAAmETAAgEkEDABgEgEDAJhEwAAAJhEwAIBJBAwAYBIBAwCYRMAAACYRMACASQQMAGAS\\\n",
              "AQMAmETAAAAmETAAgEkEDABgEgEDAJhEwAAAJhEwAIBJBAwAYBIBAwCYRMAAACYRMACASQQMAGAS\\\n",
              "AQMAmETAAAAmETAAgEkEDABgEgEDAJhEwAAAJhEwAIBJBAwAYBIBAwCYRMAAACYRMACASQQMAGAS\\\n",
              "AQMAmETAAAAmETAAgEkEDABgEgEDAJj0bw1ourZ2RLiiAAAAAElFTkSuQmCC\\\n",
              "\"\n",
              "  frames[3] = \"data:image/png;base64,iVBORw0KGgoAAAANSUhEUgAAAbAAAAEgCAYAAADVKCZpAAAABHNCSVQICAgIfAhkiAAAAAlwSFlz\\\n",
              "AAALEgAACxIB0t1+/AAAADh0RVh0U29mdHdhcmUAbWF0cGxvdGxpYiB2ZXJzaW9uMy4yLjIsIGh0\\\n",
              "dHA6Ly9tYXRwbG90bGliLm9yZy+WH4yJAAAQPUlEQVR4nO3db2jV9d/H8ddxu37186I0xbONs+Ga\\\n",
              "Z07dnJP9sVuCG1uiMVmafwqaLJroDftH0b0Uwo0gKNCgQxITyiFCLtKWUi4ytXW0dcMIxpiwzTGd\\\n",
              "f8pEnW7v60Z0yJLfpf2c3/PeeT5u7XzP2Xx/PnDO0/P9HmfIzEwAADgzKegBAAD4JwgYAMAlAgYA\\\n",
              "cImAAQBcImAAAJcIGADAJQIGAHCJgAEAXCJgAACXCBgAwCUCBgBwiYABAFwiYAAAlwgYAMAlAgYA\\\n",
              "cImAAQBcImAAAJcIGADAJQIGAHCJgAEAXCJgAACXCBgAwCUCBgBwiYABAFwiYAAAlwgYAMAlAgYA\\\n",
              "cImAAQBcImAAAJcIGADAJQIGAHCJgAEAXCJgAACXCBgAwCUCBgBwiYABAFwiYAAAlwgYAMAlAgYA\\\n",
              "cImAAQBcImAAAJcIGADAJQIGAHCJgAEAXCJgAACXCBgAwCUCBgBwiYABAFwiYAAAlwgYAMAlAgYA\\\n",
              "cImAAQBcImAAAJcIGADAJQIGAHCJgAEAXCJgAACXCBgAwCUCBgBwiYABAFwiYAAAlwgYAMAlAgYA\\\n",
              "cImAAQBcImAAAJcIGADAJQIGAHCJgAEAXCJgAACXCBgAwCUCBgBwiYABAFwiYAAAlwgYAMAlAgYA\\\n",
              "cImAAQBcImAAAJcIGADAJQIGAHCJgAEAXCJgAACX3ASsvb1dBQUFikajam5uDnocAEDAQmZmQQ/x\\\n",
              "/xkdHdXs2bN16NAhZWdnq7y8XLt379a8efOCHg0AEBAX78A6OzsVjUaVl5enf/3rX1q7dq3a2tqC\\\n",
              "HgsAEKD0oAe4EwMDA8rJyUnczs7O1nffffcfv+fBUEgP+egzACQNm/6IhoeHgx7jjrgI2J2KxWKK\\\n",
              "xWKSpP9RSCs1OeCJAMCXeG5u0CPcMRdvUSKRiPr6+hK3+/v7FYlE/va4xsZGxeNxxeNxPajQ/RwR\\\n",
              "AHCfuQhYeXm5uru71dvbq5GREbW2tqq2tjbosQAAAXJxCjE9PV3bt2/X448/rtHRUTU0NKiwsDDo\\\n",
              "sQAAAXLxMfp/YkYojWtgAHCX4qUFisfjQY9xR1ycQgQA4K8IGADAJQIGAHCJgAEAXCJgAACXCBgA\\\n",
              "wCUCBgBwiYABAFwiYAAAlwgYAMAlAgYAcImAAQBcImAAAJcIGADAJQIGAHCJgAEAXCJgAACXCBgA\\\n",
              "wCUCBgBwiYABAFwiYAAAlwgYAMAlAgYAcCk96AH+Kjc3Vw899JDS0tKUnp6ueDyuCxcuaM2aNTp9\\\n",
              "+rRyc3O1Z88ePfLII0GPCgAIUFK+Azt8+LC6uroUj8clSc3NzaqqqlJ3d7eqqqrU3Nwc8IQAgKAl\\\n",
              "ZcD+qq2tTfX19ZKk+vp67du3L+CJAABBS7qAhUIh1dTUqLS0VLFYTJI0NDSkrKwsSVJmZqaGhoaC\\\n",
              "HBEAkASS7hrYkSNHFIlEdPbsWVVXV2vOnDm33B8KhRQKhW77vbFYLBG9a7JxnxUAEJykewcWiUQk\\\n",
              "SeFwWHV1ders7FRGRoYGBwclSYODgwqHw7f93sbGRsXjccXjcT2o20cOADAxJFXArly5osuXLye+\\\n",
              "PnjwoIqKilRbW6uWlhZJUktLi1asWBHkmACAJJBUpxCHhoZUV1cnSbp586aefvppLV26VOXl5Vq9\\\n",
              "erV27typmTNnas+ePQFPCgAIWsjMJuTFohmhNK3U5KDHAABX4qUFiX/ClOyS6hQiAAB3ioABAFwi\\\n",
              "YAAAlwgYAMAlAgYAcImAAQBcImAAAJcIGADAJQIGAHCJgAEAXCJgAACXCBgAwCUCBgBwiYABAFwi\\\n",
              "YAAAlwgYAMAlAgYAcImAAQBcImAAAJcIGADAJQIGAHCJgAEAXCJgAACXAglYQ0ODwuGwioqKEscu\\\n",
              "XLig6upq5efnq7q6WhcvXpQkmZk2b96saDSq4uJinTx5MoiRAQBJJpCArV+/Xu3t7bcca25uVlVV\\\n",
              "lbq7u1VVVaXm5mZJ0ueff67u7m51d3crFotp48aNQYwMAEgygQRs8eLFmjZt2i3H2traVF9fL0mq\\\n",
              "r6/Xvn37EsefffZZhUIhPfbYY7p06ZIGBwfv+8wAgOSSNNfAhoaGlJWVJUnKzMzU0NCQJGlgYEA5\\\n",
              "OTmJx2VnZ2tgYCCQGQEAySM96AFuJxQKKRQK3fX3xWIxxWIxSdI12b0eCwCQRJLmHVhGRkbi1ODg\\\n",
              "4KDC4bAkKRKJqK+vL/G4/v5+RSKR2/6MxsZGxeNxxeNxPai7DyAAwI+kCVhtba1aWlokSS0tLVqx\\\n",
              "YkXi+K5du2RmOn78uKZMmZI41QgASF2BnEJct26dOjo6NDw8rOzsbG3dulWvv/66Vq9erZ07d2rm\\\n",
              "zJnas2ePJGnZsmU6cOCAotGoJk+erA8//DCIkQEASSZkZhPyYtGMUJpWanLQYwCAK/HSAsXj8aDH\\\n",
              "uCNJcwoRAIC7QcAAAC4RMACASwQMAOASAQMAuETAAAAuETAAgEsEDADgEgEDALhEwAAALhEwAIBL\\\n",
              "BAwA4BIBAwC4RMAAAC4RMACASwQMAOASAQMAuETAAAAuETAAgEsEDADgEgEDALhEwAAALhEwAIBL\\\n",
              "gQSsoaFB4XBYRUVFiWNbtmxRJBJRSUmJSkpKdODAgcR9TU1NikajKigo0BdffBHEyACAJBNIwNav\\\n",
              "X6/29va/HX/ppZfU1dWlrq4uLVu2TJL0008/qbW1VadOnVJ7e7s2bdqk0dHR+z0yACDJBBKwxYsX\\\n",
              "a9q0aXf02La2Nq1du1YPPPCAHn30UUWjUXV2do7zhACAZJdU18C2b9+u4uJiNTQ06OLFi5KkgYEB\\\n",
              "5eTkJB6TnZ2tgYGBoEYEACSJpAnYxo0b1dPTo66uLmVlZemVV165658Ri8VUVlamsrIyXZONw5QA\\\n",
              "gGSRNAHLyMhQWlqaJk2apOeffz5xmjASiaivry/xuP7+fkUikdv+jMbGRsXjccXjcT2o0H2ZGwAQ\\\n",
              "jKQJ2ODgYOLrTz75JPEJxdraWrW2tur69evq7e1Vd3e3KioqghoTAJAk0oP4Q9etW6eOjg4NDw8r\\\n",
              "OztbW7duVUdHh7q6uhQKhZSbm6v3339fklRYWKjVq1dr3rx5Sk9P144dO5SWlhbE2ACAJBIyswl5\\\n",
              "sWhGKE0rNTnoMQDAlXhpgeLxeNBj3JGkOYUIAMDdIGAAAJcIGADAJQIGAHCJgAEAXCJgAACXCBgA\\\n",
              "wCUCBgBwiYABAFwiYAAAlwgYAMAlAgYAcImAAQBcImAAAJcC+f/A7oer//tvxecUBD1GoM6dO6cZ\\\n",
              "M2YEPUZgWH9qr19iD/7J+k+fPj0+w4yDCRuwOXPmuPk/bcZLWVlZSu8B60/t9UvswURfP6cQAQAu\\\n",
              "ETAAgEtpW7Zs2RL0EOOltLQ06BECl+p7wPpTe/0SezCR1x8yMwt6CAAA7hanEAEALk3IgLW3t6ug\\\n",
              "oEDRaFTNzc1BjzMuGhoaFA6HVVRUlDh24cIFVVdXKz8/X9XV1bp48aIkycy0efNmRaNRFRcX6+TJ\\\n",
              "k0GNfc/09fVpyZIlmjdvngoLC/Xuu+9KSq09uHbtmioqKrRgwQIVFhbqjTfekCT19vZq0aJFikaj\\\n",
              "WrNmjUZGRiRJ169f15o1axSNRrVo0SJXH5f+T0ZHR7Vw4UI98cQTklJv/bm5uZo/f75KSkpUVlYm\\\n",
              "KYWeBzbB3Lx50/Ly8qynp8euX79uxcXFdurUqaDHuue+/vprO3HihBUWFiaOvfrqq9bU1GRmZk1N\\\n",
              "Tfbaa6+Zmdn+/ftt6dKlNjY2ZseOHbOKiopAZr6Xzpw5YydOnDAzs19//dXy8/Pt1KlTKbUHY2Nj\\\n",
              "dvnyZTMzGxkZsYqKCjt27Jg99dRTtnv3bjMz27Bhg7333ntmZrZjxw7bsGGDmZnt3r3bVq9eHczg\\\n",
              "99jbb79t69ats+XLl5uZpdz6Z86caefOnbvlWKo8DyZcwI4ePWo1NTWJ29u2bbNt27YFONH46e3t\\\n",
              "vSVgs2fPtjNnzpjZ7y/ws2fPNjOzxsZG+/jjj2/7uImitrbWDh48mLJ7cOXKFVu4cKEdP37cpk+f\\\n",
              "bjdu3DCzW58PNTU1dvToUTMzu3Hjhk2fPt3GxsYCm/le6Ovrs8rKSvvyyy9t+fLlNjY2llLrN7t9\\\n",
              "wFLleTDhTiEODAwoJycncTs7O1sDAwMBTnT/DA0NKSsrS5KUmZmpoaEhSRN/T06fPq0ffvhBixYt\\\n",
              "Srk9GB0dVUlJicLhsKqrqzVr1ixNnTpV6em//46CP6/zz3uQnp6uKVOm6Pz584HNfi+8+OKLeuut\\\n",
              "tzRp0u8vZefPn0+p9UtSKBRSTU2NSktLFYvFJKXOa8GE/U0cqS4UCikUCgU9xrj77bfftHLlSr3z\\\n",
              "zjt6+OGHb7kvFfYgLS1NXV1dunTpkurq6vTzzz8HPdJ989lnnykcDqu0tFQdHR1BjxOYI0eOKBKJ\\\n",
              "6OzZs6qurtacOXNuuX8iPw8m3DuwSCSivr6+xO3+/n5FIpEAJ7p/MjIyNDg4KEkaHBxUOByWNHH3\\\n",
              "5MaNG1q5cqWeeeYZPfnkk5JSbw/+MHXqVC1ZskTHjh3TpUuXdPPmTUm3rvPPe3Dz5k398ssvmj59\\\n",
              "emAz/7e+/fZbffrpp8rNzdXatWv11Vdf6YUXXkiZ9f/hj/WFw2HV1dWps7MzZZ4HEy5g5eXl6u7u\\\n",
              "Vm9vr0ZGRtTa2qra2tqgx7ovamtr1dLSIklqaWnRihUrEsd37dolM9Px48c1ZcqUxOkFr8xMzz33\\\n",
              "nObOnauXX345cTyV9uDcuXO6dOmSJOnq1as6dOiQ5s6dqyVLlmjv3r2S/r4Hf+zN3r17VVlZ6fpv\\\n",
              "5k1NTerv79fp06fV2tqqyspKffTRRymzfkm6cuWKLl++nPj64MGDKioqSp3nQbCX4MbH/v37LT8/\\\n",
              "3/Ly8uzNN98MepxxsXbtWsvMzLT09HSLRCL2wQcf2PDwsFVWVlo0GrWqqio7f/68mf3+abVNmzZZ\\\n",
              "Xl6eFRUV2ffffx/w9P+9b775xiTZ/PnzbcGCBbZgwQLbv39/Su3Bjz/+aCUlJTZ//nwrLCy0rVu3\\\n",
              "mplZT0+PlZeX26xZs2zVqlV27do1MzO7evWqrVq1ymbNmmXl5eXW09MT5Pj31OHDhxOfQkyl9ff0\\\n",
              "9FhxcbEVFxfbvHnzEq93qfI84DdxAABcmnCnEAEAqYGAAQBcImAAAJcIGADAJQIGAHCJgAEAXCJg\\\n",
              "AACXCBgAwCUCBgBwiYABAFwiYAAAlwgYAMAlAgYAcImAAQBcImAAAJcIGADAJQIGAHCJgAEAXCJg\\\n",
              "AACXCBgAwCUCBgBwiYABAFwiYAAAlwgYAMAlAgYAcImAAQBcImAAAJcIGADAJQIGAHCJgAEAXCJg\\\n",
              "AACXCBgAwCUCBgBwiYABAFwiYAAAlwgYAMAlAgYAcImAAQBcImAAAJcIGADAJQIGAHCJgAEAXCJg\\\n",
              "AACXCBgAwCUCBgBwiYABAFwiYAAAlwgYAMAlAgYAcImAAQBcImAAAJcIGADAJQIGAHCJgAEAXCJg\\\n",
              "AACXCBgAwCUCBgBwiYABAFwiYAAAlwgYAMAlAgYAcImAAQBcImAAAJcIGADAJQIGAHCJgAEAXCJg\\\n",
              "AACXCBgAwCUCBgBwiYABAFwiYAAAl/4PN46pzeF6DY8AAAAASUVORK5CYII=\\\n",
              "\"\n",
              "  frames[4] = \"data:image/png;base64,iVBORw0KGgoAAAANSUhEUgAAAbAAAAEgCAYAAADVKCZpAAAABHNCSVQICAgIfAhkiAAAAAlwSFlz\\\n",
              "AAALEgAACxIB0t1+/AAAADh0RVh0U29mdHdhcmUAbWF0cGxvdGxpYiB2ZXJzaW9uMy4yLjIsIGh0\\\n",
              "dHA6Ly9tYXRwbG90bGliLm9yZy+WH4yJAAAQPUlEQVR4nO3db2jV9d/H8ddxu37186I0xbONs+Ga\\\n",
              "Z07dnJP9sVuCG1uiMVmafwqaLJroDftH0b0Uwo0gKNCgQxITyiFCLtKWUi4ytXW0dcMIxpiwzTGd\\\n",
              "f8pEnW7v60Z0yJLfpf2c3/PeeT5u7XzP2Xx/PnDO0/P9HmfIzEwAADgzKegBAAD4JwgYAMAlAgYA\\\n",
              "cImAAQBcImAAAJcIGADAJQIGAHCJgAEAXCJgAACXCBgAwCUCBgBwiYABAFwiYAAAlwgYAMAlAgYA\\\n",
              "cImAAQBcImAAAJcIGADAJQIGAHCJgAEAXCJgAACXCBgAwCUCBgBwiYABAFwiYAAAlwgYAMAlAgYA\\\n",
              "cImAAQBcImAAAJcIGADAJQIGAHCJgAEAXCJgAACXCBgAwCUCBgBwiYABAFwiYAAAlwgYAMAlAgYA\\\n",
              "cImAAQBcImAAAJcIGADAJQIGAHCJgAEAXCJgAACXCBgAwCUCBgBwiYABAFwiYAAAlwgYAMAlAgYA\\\n",
              "cImAAQBcImAAAJcIGADAJQIGAHCJgAEAXCJgAACXCBgAwCUCBgBwiYABAFwiYAAAlwgYAMAlAgYA\\\n",
              "cImAAQBcImAAAJcIGADAJQIGAHCJgAEAXCJgAACXCBgAwCUCBgBwiYABAFwiYAAAlwgYAMAlAgYA\\\n",
              "cImAAQBcImAAAJcIGADAJQIGAHCJgAEAXCJgAACX3ASsvb1dBQUFikajam5uDnocAEDAQmZmQQ/x\\\n",
              "/xkdHdXs2bN16NAhZWdnq7y8XLt379a8efOCHg0AEBAX78A6OzsVjUaVl5enf/3rX1q7dq3a2tqC\\\n",
              "HgsAEKD0oAe4EwMDA8rJyUnczs7O1nffffcfv+fBUEgP+egzACQNm/6IhoeHgx7jjrgI2J2KxWKK\\\n",
              "xWKSpP9RSCs1OeCJAMCXeG5u0CPcMRdvUSKRiPr6+hK3+/v7FYlE/va4xsZGxeNxxeNxPajQ/RwR\\\n",
              "AHCfuQhYeXm5uru71dvbq5GREbW2tqq2tjbosQAAAXJxCjE9PV3bt2/X448/rtHRUTU0NKiwsDDo\\\n",
              "sQAAAXLxMfp/YkYojWtgAHCX4qUFisfjQY9xR1ycQgQA4K8IGADAJQIGAHCJgAEAXCJgAACXCBgA\\\n",
              "wCUCBgBwiYABAFwiYAAAlwgYAMAlAgYAcImAAQBcImAAAJcIGADAJQIGAHCJgAEAXCJgAACXCBgA\\\n",
              "wCUCBgBwiYABAFwiYAAAlwgYAMAlAgYAcCk96AH+Kjc3Vw899JDS0tKUnp6ueDyuCxcuaM2aNTp9\\\n",
              "+rRyc3O1Z88ePfLII0GPCgAIUFK+Azt8+LC6uroUj8clSc3NzaqqqlJ3d7eqqqrU3Nwc8IQAgKAl\\\n",
              "ZcD+qq2tTfX19ZKk+vp67du3L+CJAABBS7qAhUIh1dTUqLS0VLFYTJI0NDSkrKwsSVJmZqaGhoaC\\\n",
              "HBEAkASS7hrYkSNHFIlEdPbsWVVXV2vOnDm33B8KhRQKhW77vbFYLBG9a7JxnxUAEJykewcWiUQk\\\n",
              "SeFwWHV1ders7FRGRoYGBwclSYODgwqHw7f93sbGRsXjccXjcT2o20cOADAxJFXArly5osuXLye+\\\n",
              "PnjwoIqKilRbW6uWlhZJUktLi1asWBHkmACAJJBUpxCHhoZUV1cnSbp586aefvppLV26VOXl5Vq9\\\n",
              "erV27typmTNnas+ePQFPCgAIWsjMJuTFohmhNK3U5KDHAABX4qUFiX/ClOyS6hQiAAB3ioABAFwi\\\n",
              "YAAAlwgYAMAlAgYAcImAAQBcImAAAJcIGADAJQIGAHCJgAEAXCJgAACXCBgAwCUCBgBwiYABAFwi\\\n",
              "YAAAlwgYAMAlAgYAcImAAQBcImAAAJcIGADAJQIGAHCJgAEAXCJgAACXAglYQ0ODwuGwioqKEscu\\\n",
              "XLig6upq5efnq7q6WhcvXpQkmZk2b96saDSq4uJinTx5MoiRAQBJJpCArV+/Xu3t7bcca25uVlVV\\\n",
              "lbq7u1VVVaXm5mZJ0ueff67u7m51d3crFotp48aNQYwMAEgygQRs8eLFmjZt2i3H2traVF9fL0mq\\\n",
              "r6/Xvn37EsefffZZhUIhPfbYY7p06ZIGBwfv+8wAgOSSNNfAhoaGlJWVJUnKzMzU0NCQJGlgYEA5\\\n",
              "OTmJx2VnZ2tgYCCQGQEAySM96AFuJxQKKRQK3fX3xWIxxWIxSdI12b0eCwCQRJLmHVhGRkbi1ODg\\\n",
              "4KDC4bAkKRKJqK+vL/G4/v5+RSKR2/6MxsZGxeNxxeNxPai7DyAAwI+kCVhtba1aWlokSS0tLVqx\\\n",
              "YkXi+K5du2RmOn78uKZMmZI41QgASF2BnEJct26dOjo6NDw8rOzsbG3dulWvv/66Vq9erZ07d2rm\\\n",
              "zJnas2ePJGnZsmU6cOCAotGoJk+erA8//DCIkQEASSZkZhPyYtGMUJpWanLQYwCAK/HSAsXj8aDH\\\n",
              "uCNJcwoRAIC7QcAAAC4RMACASwQMAOASAQMAuETAAAAuETAAgEsEDADgEgEDALhEwAAALhEwAIBL\\\n",
              "BAwA4BIBAwC4RMAAAC4RMACASwQMAOASAQMAuETAAAAuETAAgEsEDADgEgEDALhEwAAALhEwAIBL\\\n",
              "gQSsoaFB4XBYRUVFiWNbtmxRJBJRSUmJSkpKdODAgcR9TU1NikajKigo0BdffBHEyACAJBNIwNav\\\n",
              "X6/29va/HX/ppZfU1dWlrq4uLVu2TJL0008/qbW1VadOnVJ7e7s2bdqk0dHR+z0yACDJBBKwxYsX\\\n",
              "a9q0aXf02La2Nq1du1YPPPCAHn30UUWjUXV2do7zhACAZJdU18C2b9+u4uJiNTQ06OLFi5KkgYEB\\\n",
              "5eTkJB6TnZ2tgYGBoEYEACSJpAnYxo0b1dPTo66uLmVlZemVV165658Ri8VUVlamsrIyXZONw5QA\\\n",
              "gGSRNAHLyMhQWlqaJk2apOeffz5xmjASiaivry/xuP7+fkUikdv+jMbGRsXjccXjcT2o0H2ZGwAQ\\\n",
              "jKQJ2ODgYOLrTz75JPEJxdraWrW2tur69evq7e1Vd3e3KioqghoTAJAk0oP4Q9etW6eOjg4NDw8r\\\n",
              "OztbW7duVUdHh7q6uhQKhZSbm6v3339fklRYWKjVq1dr3rx5Sk9P144dO5SWlhbE2ACAJBIyswl5\\\n",
              "sWhGKE0rNTnoMQDAlXhpgeLxeNBj3JGkOYUIAMDdIGAAAJcIGADAJQIGAHCJgAEAXCJgAACXCBgA\\\n",
              "wCUCBgBwiYABAFwiYAAAlwgYAMAlAgYAcImAAQBcImAAAJcC+f/A7oer//tvxecUBD1GoM6dO6cZ\\\n",
              "M2YEPUZgWH9qr19iD/7J+k+fPj0+w4yDCRuwOXPmuPk/bcZLWVlZSu8B60/t9UvswURfP6cQAQAu\\\n",
              "ETAAgEtpW7Zs2RL0EOOltLQ06BECl+p7wPpTe/0SezCR1x8yMwt6CAAA7hanEAEALk3IgLW3t6ug\\\n",
              "oEDRaFTNzc1BjzMuGhoaFA6HVVRUlDh24cIFVVdXKz8/X9XV1bp48aIkycy0efNmRaNRFRcX6+TJ\\\n",
              "k0GNfc/09fVpyZIlmjdvngoLC/Xuu+9KSq09uHbtmioqKrRgwQIVFhbqjTfekCT19vZq0aJFikaj\\\n",
              "WrNmjUZGRiRJ169f15o1axSNRrVo0SJXH5f+T0ZHR7Vw4UI98cQTklJv/bm5uZo/f75KSkpUVlYm\\\n",
              "KYWeBzbB3Lx50/Ly8qynp8euX79uxcXFdurUqaDHuue+/vprO3HihBUWFiaOvfrqq9bU1GRmZk1N\\\n",
              "Tfbaa6+Zmdn+/ftt6dKlNjY2ZseOHbOKiopAZr6Xzpw5YydOnDAzs19//dXy8/Pt1KlTKbUHY2Nj\\\n",
              "dvnyZTMzGxkZsYqKCjt27Jg99dRTtnv3bjMz27Bhg7333ntmZrZjxw7bsGGDmZnt3r3bVq9eHczg\\\n",
              "99jbb79t69ats+XLl5uZpdz6Z86caefOnbvlWKo8DyZcwI4ePWo1NTWJ29u2bbNt27YFONH46e3t\\\n",
              "vSVgs2fPtjNnzpjZ7y/ws2fPNjOzxsZG+/jjj2/7uImitrbWDh48mLJ7cOXKFVu4cKEdP37cpk+f\\\n",
              "bjdu3DCzW58PNTU1dvToUTMzu3Hjhk2fPt3GxsYCm/le6Ovrs8rKSvvyyy9t+fLlNjY2llLrN7t9\\\n",
              "wFLleTDhTiEODAwoJycncTs7O1sDAwMBTnT/DA0NKSsrS5KUmZmpoaEhSRN/T06fPq0ffvhBixYt\\\n",
              "Srk9GB0dVUlJicLhsKqrqzVr1ixNnTpV6em//46CP6/zz3uQnp6uKVOm6Pz584HNfi+8+OKLeuut\\\n",
              "tzRp0u8vZefPn0+p9UtSKBRSTU2NSktLFYvFJKXOa8GE/U0cqS4UCikUCgU9xrj77bfftHLlSr3z\\\n",
              "zjt6+OGHb7kvFfYgLS1NXV1dunTpkurq6vTzzz8HPdJ989lnnykcDqu0tFQdHR1BjxOYI0eOKBKJ\\\n",
              "6OzZs6qurtacOXNuuX8iPw8m3DuwSCSivr6+xO3+/n5FIpEAJ7p/MjIyNDg4KEkaHBxUOByWNHH3\\\n",
              "5MaNG1q5cqWeeeYZPfnkk5JSbw/+MHXqVC1ZskTHjh3TpUuXdPPmTUm3rvPPe3Dz5k398ssvmj59\\\n",
              "emAz/7e+/fZbffrpp8rNzdXatWv11Vdf6YUXXkiZ9f/hj/WFw2HV1dWps7MzZZ4HEy5g5eXl6u7u\\\n",
              "Vm9vr0ZGRtTa2qra2tqgx7ovamtr1dLSIklqaWnRihUrEsd37dolM9Px48c1ZcqUxOkFr8xMzz33\\\n",
              "nObOnauXX345cTyV9uDcuXO6dOmSJOnq1as6dOiQ5s6dqyVLlmjv3r2S/r4Hf+zN3r17VVlZ6fpv\\\n",
              "5k1NTerv79fp06fV2tqqyspKffTRRymzfkm6cuWKLl++nPj64MGDKioqSp3nQbCX4MbH/v37LT8/\\\n",
              "3/Ly8uzNN98MepxxsXbtWsvMzLT09HSLRCL2wQcf2PDwsFVWVlo0GrWqqio7f/68mf3+abVNmzZZ\\\n",
              "Xl6eFRUV2ffffx/w9P+9b775xiTZ/PnzbcGCBbZgwQLbv39/Su3Bjz/+aCUlJTZ//nwrLCy0rVu3\\\n",
              "mplZT0+PlZeX26xZs2zVqlV27do1MzO7evWqrVq1ymbNmmXl5eXW09MT5Pj31OHDhxOfQkyl9ff0\\\n",
              "9FhxcbEVFxfbvHnzEq93qfI84DdxAABcmnCnEAEAqYGAAQBcImAAAJcIGADAJQIGAHCJgAEAXCJg\\\n",
              "AACXCBgAwCUCBgBwiYABAFwiYAAAlwgYAMAlAgYAcImAAQBcImAAAJcIGADAJQIGAHCJgAEAXCJg\\\n",
              "AACXCBgAwCUCBgBwiYABAFwiYAAAlwgYAMAlAgYAcImAAQBcImAAAJcIGADAJQIGAHCJgAEAXCJg\\\n",
              "AACXCBgAwCUCBgBwiYABAFwiYAAAlwgYAMAlAgYAcImAAQBcImAAAJcIGADAJQIGAHCJgAEAXCJg\\\n",
              "AACXCBgAwCUCBgBwiYABAFwiYAAAlwgYAMAlAgYAcImAAQBcImAAAJcIGADAJQIGAHCJgAEAXCJg\\\n",
              "AACXCBgAwCUCBgBwiYABAFwiYAAAlwgYAMAlAgYAcImAAQBcImAAAJcIGADAJQIGAHCJgAEAXCJg\\\n",
              "AACXCBgAwCUCBgBwiYABAFwiYAAAl/4PN46pzeF6DY8AAAAASUVORK5CYII=\\\n",
              "\"\n",
              "  frames[5] = \"data:image/png;base64,iVBORw0KGgoAAAANSUhEUgAAAbAAAAEgCAYAAADVKCZpAAAABHNCSVQICAgIfAhkiAAAAAlwSFlz\\\n",
              "AAALEgAACxIB0t1+/AAAADh0RVh0U29mdHdhcmUAbWF0cGxvdGxpYiB2ZXJzaW9uMy4yLjIsIGh0\\\n",
              "dHA6Ly9tYXRwbG90bGliLm9yZy+WH4yJAAAQPUlEQVR4nO3db2jV9d/H8ddxu37186I0xbONs+Ga\\\n",
              "Z07dnJP9sVuCG1uiMVmafwqaLJroDftH0b0Uwo0gKNCgQxITyiFCLtKWUi4ytXW0dcMIxpiwzTGd\\\n",
              "f8pEnW7v60Z0yJLfpf2c3/PeeT5u7XzP2Xx/PnDO0/P9HmfIzEwAADgzKegBAAD4JwgYAMAlAgYA\\\n",
              "cImAAQBcImAAAJcIGADAJQIGAHCJgAEAXCJgAACXCBgAwCUCBgBwiYABAFwiYAAAlwgYAMAlAgYA\\\n",
              "cImAAQBcImAAAJcIGADAJQIGAHCJgAEAXCJgAACXCBgAwCUCBgBwiYABAFwiYAAAlwgYAMAlAgYA\\\n",
              "cImAAQBcImAAAJcIGADAJQIGAHCJgAEAXCJgAACXCBgAwCUCBgBwiYABAFwiYAAAlwgYAMAlAgYA\\\n",
              "cImAAQBcImAAAJcIGADAJQIGAHCJgAEAXCJgAACXCBgAwCUCBgBwiYABAFwiYAAAlwgYAMAlAgYA\\\n",
              "cImAAQBcImAAAJcIGADAJQIGAHCJgAEAXCJgAACXCBgAwCUCBgBwiYABAFwiYAAAlwgYAMAlAgYA\\\n",
              "cImAAQBcImAAAJcIGADAJQIGAHCJgAEAXCJgAACXCBgAwCUCBgBwiYABAFwiYAAAlwgYAMAlAgYA\\\n",
              "cImAAQBcImAAAJcIGADAJQIGAHCJgAEAXCJgAACX3ASsvb1dBQUFikajam5uDnocAEDAQmZmQQ/x\\\n",
              "/xkdHdXs2bN16NAhZWdnq7y8XLt379a8efOCHg0AEBAX78A6OzsVjUaVl5enf/3rX1q7dq3a2tqC\\\n",
              "HgsAEKD0oAe4EwMDA8rJyUnczs7O1nffffcfv+fBUEgP+egzACQNm/6IhoeHgx7jjrgI2J2KxWKK\\\n",
              "xWKSpP9RSCs1OeCJAMCXeG5u0CPcMRdvUSKRiPr6+hK3+/v7FYlE/va4xsZGxeNxxeNxPajQ/RwR\\\n",
              "AHCfuQhYeXm5uru71dvbq5GREbW2tqq2tjbosQAAAXJxCjE9PV3bt2/X448/rtHRUTU0NKiwsDDo\\\n",
              "sQAAAXLxMfp/YkYojWtgAHCX4qUFisfjQY9xR1ycQgQA4K8IGADAJQIGAHCJgAEAXCJgAACXCBgA\\\n",
              "wCUCBgBwiYABAFwiYAAAlwgYAMAlAgYAcImAAQBcImAAAJcIGADAJQIGAHCJgAEAXCJgAACXCBgA\\\n",
              "wCUCBgBwiYABAFwiYAAAlwgYAMAlAgYAcCk96AH+Kjc3Vw899JDS0tKUnp6ueDyuCxcuaM2aNTp9\\\n",
              "+rRyc3O1Z88ePfLII0GPCgAIUFK+Azt8+LC6uroUj8clSc3NzaqqqlJ3d7eqqqrU3Nwc8IQAgKAl\\\n",
              "ZcD+qq2tTfX19ZKk+vp67du3L+CJAABBS7qAhUIh1dTUqLS0VLFYTJI0NDSkrKwsSVJmZqaGhoaC\\\n",
              "HBEAkASS7hrYkSNHFIlEdPbsWVVXV2vOnDm33B8KhRQKhW77vbFYLBG9a7JxnxUAEJykewcWiUQk\\\n",
              "SeFwWHV1ders7FRGRoYGBwclSYODgwqHw7f93sbGRsXjccXjcT2o20cOADAxJFXArly5osuXLye+\\\n",
              "PnjwoIqKilRbW6uWlhZJUktLi1asWBHkmACAJJBUpxCHhoZUV1cnSbp586aefvppLV26VOXl5Vq9\\\n",
              "erV27typmTNnas+ePQFPCgAIWsjMJuTFohmhNK3U5KDHAABX4qUFiX/ClOyS6hQiAAB3ioABAFwi\\\n",
              "YAAAlwgYAMAlAgYAcImAAQBcImAAAJcIGADAJQIGAHCJgAEAXCJgAACXCBgAwCUCBgBwiYABAFwi\\\n",
              "YAAAlwgYAMAlAgYAcImAAQBcImAAAJcIGADAJQIGAHCJgAEAXCJgAACXAglYQ0ODwuGwioqKEscu\\\n",
              "XLig6upq5efnq7q6WhcvXpQkmZk2b96saDSq4uJinTx5MoiRAQBJJpCArV+/Xu3t7bcca25uVlVV\\\n",
              "lbq7u1VVVaXm5mZJ0ueff67u7m51d3crFotp48aNQYwMAEgygQRs8eLFmjZt2i3H2traVF9fL0mq\\\n",
              "r6/Xvn37EsefffZZhUIhPfbYY7p06ZIGBwfv+8wAgOSSNNfAhoaGlJWVJUnKzMzU0NCQJGlgYEA5\\\n",
              "OTmJx2VnZ2tgYCCQGQEAySM96AFuJxQKKRQK3fX3xWIxxWIxSdI12b0eCwCQRJLmHVhGRkbi1ODg\\\n",
              "4KDC4bAkKRKJqK+vL/G4/v5+RSKR2/6MxsZGxeNxxeNxPai7DyAAwI+kCVhtba1aWlokSS0tLVqx\\\n",
              "YkXi+K5du2RmOn78uKZMmZI41QgASF2BnEJct26dOjo6NDw8rOzsbG3dulWvv/66Vq9erZ07d2rm\\\n",
              "zJnas2ePJGnZsmU6cOCAotGoJk+erA8//DCIkQEASSZkZhPyYtGMUJpWanLQYwCAK/HSAsXj8aDH\\\n",
              "uCNJcwoRAIC7QcAAAC4RMACASwQMAOASAQMAuETAAAAuETAAgEsEDADgEgEDALhEwAAALhEwAIBL\\\n",
              "BAwA4BIBAwC4RMAAAC4RMACASwQMAOASAQMAuETAAAAuETAAgEsEDADgEgEDALhEwAAALhEwAIBL\\\n",
              "gQSsoaFB4XBYRUVFiWNbtmxRJBJRSUmJSkpKdODAgcR9TU1NikajKigo0BdffBHEyACAJBNIwNav\\\n",
              "X6/29va/HX/ppZfU1dWlrq4uLVu2TJL0008/qbW1VadOnVJ7e7s2bdqk0dHR+z0yACDJBBKwxYsX\\\n",
              "a9q0aXf02La2Nq1du1YPPPCAHn30UUWjUXV2do7zhACAZJdU18C2b9+u4uJiNTQ06OLFi5KkgYEB\\\n",
              "5eTkJB6TnZ2tgYGBoEYEACSJpAnYxo0b1dPTo66uLmVlZemVV165658Ri8VUVlamsrIyXZONw5QA\\\n",
              "gGSRNAHLyMhQWlqaJk2apOeffz5xmjASiaivry/xuP7+fkUikdv+jMbGRsXjccXjcT2o0H2ZGwAQ\\\n",
              "jKQJ2ODgYOLrTz75JPEJxdraWrW2tur69evq7e1Vd3e3KioqghoTAJAk0oP4Q9etW6eOjg4NDw8r\\\n",
              "OztbW7duVUdHh7q6uhQKhZSbm6v3339fklRYWKjVq1dr3rx5Sk9P144dO5SWlhbE2ACAJBIyswl5\\\n",
              "sWhGKE0rNTnoMQDAlXhpgeLxeNBj3JGkOYUIAMDdIGAAAJcIGADAJQIGAHCJgAEAXCJgAACXCBgA\\\n",
              "wCUCBgBwiYABAFwiYAAAlwgYAMAlAgYAcImAAQBcImAAAJcC+f/A7oer//tvxecUBD1GoM6dO6cZ\\\n",
              "M2YEPUZgWH9qr19iD/7J+k+fPj0+w4yDCRuwOXPmuPk/bcZLWVlZSu8B60/t9UvswURfP6cQAQAu\\\n",
              "ETAAgEtpW7Zs2RL0EOOltLQ06BECl+p7wPpTe/0SezCR1x8yMwt6CAAA7hanEAEALk3IgLW3t6ug\\\n",
              "oEDRaFTNzc1BjzMuGhoaFA6HVVRUlDh24cIFVVdXKz8/X9XV1bp48aIkycy0efNmRaNRFRcX6+TJ\\\n",
              "k0GNfc/09fVpyZIlmjdvngoLC/Xuu+9KSq09uHbtmioqKrRgwQIVFhbqjTfekCT19vZq0aJFikaj\\\n",
              "WrNmjUZGRiRJ169f15o1axSNRrVo0SJXH5f+T0ZHR7Vw4UI98cQTklJv/bm5uZo/f75KSkpUVlYm\\\n",
              "KYWeBzbB3Lx50/Ly8qynp8euX79uxcXFdurUqaDHuue+/vprO3HihBUWFiaOvfrqq9bU1GRmZk1N\\\n",
              "Tfbaa6+Zmdn+/ftt6dKlNjY2ZseOHbOKiopAZr6Xzpw5YydOnDAzs19//dXy8/Pt1KlTKbUHY2Nj\\\n",
              "dvnyZTMzGxkZsYqKCjt27Jg99dRTtnv3bjMz27Bhg7333ntmZrZjxw7bsGGDmZnt3r3bVq9eHczg\\\n",
              "99jbb79t69ats+XLl5uZpdz6Z86caefOnbvlWKo8DyZcwI4ePWo1NTWJ29u2bbNt27YFONH46e3t\\\n",
              "vSVgs2fPtjNnzpjZ7y/ws2fPNjOzxsZG+/jjj2/7uImitrbWDh48mLJ7cOXKFVu4cKEdP37cpk+f\\\n",
              "bjdu3DCzW58PNTU1dvToUTMzu3Hjhk2fPt3GxsYCm/le6Ovrs8rKSvvyyy9t+fLlNjY2llLrN7t9\\\n",
              "wFLleTDhTiEODAwoJycncTs7O1sDAwMBTnT/DA0NKSsrS5KUmZmpoaEhSRN/T06fPq0ffvhBixYt\\\n",
              "Srk9GB0dVUlJicLhsKqrqzVr1ixNnTpV6em//46CP6/zz3uQnp6uKVOm6Pz584HNfi+8+OKLeuut\\\n",
              "tzRp0u8vZefPn0+p9UtSKBRSTU2NSktLFYvFJKXOa8GE/U0cqS4UCikUCgU9xrj77bfftHLlSr3z\\\n",
              "zjt6+OGHb7kvFfYgLS1NXV1dunTpkurq6vTzzz8HPdJ989lnnykcDqu0tFQdHR1BjxOYI0eOKBKJ\\\n",
              "6OzZs6qurtacOXNuuX8iPw8m3DuwSCSivr6+xO3+/n5FIpEAJ7p/MjIyNDg4KEkaHBxUOByWNHH3\\\n",
              "5MaNG1q5cqWeeeYZPfnkk5JSbw/+MHXqVC1ZskTHjh3TpUuXdPPmTUm3rvPPe3Dz5k398ssvmj59\\\n",
              "emAz/7e+/fZbffrpp8rNzdXatWv11Vdf6YUXXkiZ9f/hj/WFw2HV1dWps7MzZZ4HEy5g5eXl6u7u\\\n",
              "Vm9vr0ZGRtTa2qra2tqgx7ovamtr1dLSIklqaWnRihUrEsd37dolM9Px48c1ZcqUxOkFr8xMzz33\\\n",
              "nObOnauXX345cTyV9uDcuXO6dOmSJOnq1as6dOiQ5s6dqyVLlmjv3r2S/r4Hf+zN3r17VVlZ6fpv\\\n",
              "5k1NTerv79fp06fV2tqqyspKffTRRymzfkm6cuWKLl++nPj64MGDKioqSp3nQbCX4MbH/v37LT8/\\\n",
              "3/Ly8uzNN98MepxxsXbtWsvMzLT09HSLRCL2wQcf2PDwsFVWVlo0GrWqqio7f/68mf3+abVNmzZZ\\\n",
              "Xl6eFRUV2ffffx/w9P+9b775xiTZ/PnzbcGCBbZgwQLbv39/Su3Bjz/+aCUlJTZ//nwrLCy0rVu3\\\n",
              "mplZT0+PlZeX26xZs2zVqlV27do1MzO7evWqrVq1ymbNmmXl5eXW09MT5Pj31OHDhxOfQkyl9ff0\\\n",
              "9FhxcbEVFxfbvHnzEq93qfI84DdxAABcmnCnEAEAqYGAAQBcImAAAJcIGADAJQIGAHCJgAEAXCJg\\\n",
              "AACXCBgAwCUCBgBwiYABAFwiYAAAlwgYAMAlAgYAcImAAQBcImAAAJcIGADAJQIGAHCJgAEAXCJg\\\n",
              "AACXCBgAwCUCBgBwiYABAFwiYAAAlwgYAMAlAgYAcImAAQBcImAAAJcIGADAJQIGAHCJgAEAXCJg\\\n",
              "AACXCBgAwCUCBgBwiYABAFwiYAAAlwgYAMAlAgYAcImAAQBcImAAAJcIGADAJQIGAHCJgAEAXCJg\\\n",
              "AACXCBgAwCUCBgBwiYABAFwiYAAAlwgYAMAlAgYAcImAAQBcImAAAJcIGADAJQIGAHCJgAEAXCJg\\\n",
              "AACXCBgAwCUCBgBwiYABAFwiYAAAlwgYAMAlAgYAcImAAQBcImAAAJcIGADAJQIGAHCJgAEAXCJg\\\n",
              "AACXCBgAwCUCBgBwiYABAFwiYAAAl/4PN46pzeF6DY8AAAAASUVORK5CYII=\\\n",
              "\"\n",
              "  frames[6] = \"data:image/png;base64,iVBORw0KGgoAAAANSUhEUgAAAbAAAAEgCAYAAADVKCZpAAAABHNCSVQICAgIfAhkiAAAAAlwSFlz\\\n",
              "AAALEgAACxIB0t1+/AAAADh0RVh0U29mdHdhcmUAbWF0cGxvdGxpYiB2ZXJzaW9uMy4yLjIsIGh0\\\n",
              "dHA6Ly9tYXRwbG90bGliLm9yZy+WH4yJAAAQTUlEQVR4nO3db0zVdf/H8dcRVltXpYkeYOdwSXjw\\\n",
              "DyDixR+75SYMcthwpCHWFo4WTm/Yv9W6l25NWFtbbdrWWa7hVjLnlrQ00pm0TI2OhjdsbWcM9gNk\\\n",
              "CChlTkXg87vROst012XXJXzPm/N83OJ8OeD789m+5+n5nrODzznnBACAMbO8HgAAgP8GAQMAmETA\\\n",
              "AAAmETAAgEkEDABgEgEDAJhEwAAAJhEwAIBJBAwAYBIBAwCYRMAAACYRMACASQQMAGASAQMAmETA\\\n",
              "AAAmETAAgEkEDABgEgEDAJhEwAAAJhEwAIBJBAwAYBIBAwCYRMAAACYRMACASQQMAGASAQMAmETA\\\n",
              "AAAmETAAgEkEDABgEgEDAJhEwAAAJhEwAIBJBAwAYBIBAwCYRMAAACYRMACASQQMAGASAQMAmETA\\\n",
              "AAAmETAAgEkEDABgEgEDAJhEwAAAJhEwAIBJBAwAYBIBAwCYRMAAACYRMACASQQMAGASAQMAmETA\\\n",
              "AAAmETAAgEkEDABgEgEDAJhEwAAAJhEwAIBJBAwAYBIBAwCYRMAAACYRMACASQQMAGASAQMAmETA\\\n",
              "AAAmETAAgEkEDABgEgEDAJhEwAAAJhEwAIBJBAwAYBIBAwCYRMAAACYRMACASQQMAGASAQMAmETA\\\n",
              "AAAmETAAgEkEDABgEgEDAJhEwAAAJhEwAIBJBAwAYJKZgLW1tWnx4sUKhUJqamryehwAgMd8zjnn\\\n",
              "9RD/ycTEhBYtWqRjx44pGAyquLhY+/fvV05OjtejAQA8YuIZWEdHh0KhkLKysvTAAw+otrZWra2t\\\n",
              "Xo8FAPBQstcD3Iv+/n5lZGTEbgeDQX3//ff/9mfmzUtR5j//OdWjAcCM0vN/vRoeHvZ6jHtiImD3\\\n",
              "KhwOKxwOS5L+8dA/FDnZ7u1AAGBM0aoyr0e4ZyYuIQYCAfX29sZu9/X1KRAI3HG/hoYGRSIRRSIR\\\n",
              "zZ+XMp0jAgCmmYmAFRcXKxqNqru7W2NjY2ppaVFVVZXXYwEAPGTiEmJycrJ2796tJ598UhMTE6qv\\\n",
              "r1dubq7XYwEAPGQiYJJUWVmpyspKr8cAAMQJE5cQAQD4KwIGADCJgAEATCJgAACTCBgAwCQCBgAw\\\n",
              "iYABAEwiYAAAkwgYAMAkAgYAMImAAQBMImAAAJMIGADAJAIGADCJgAEATCJgAACTCBgAwCQCBgAw\\\n",
              "iYABAEwiYAAAkwgYAMAkAgYAMImAAQBMSvZ6gL/KzMzUI488oqSkJCUnJysSiejy5cvauHGjenp6\\\n",
              "lJmZqQMHDuixxx7zelQAgIfi8hnYiRMn1NnZqUgkIklqampSWVmZotGoysrK1NTU5PGEAACvxWXA\\\n",
              "/qq1tVV1dXWSpLq6Oh06dMjjiQAAXou7gPl8PlVUVKiwsFDhcFiSNDg4qPT0dElSWlqaBgcHvRwR\\\n",
              "ABAH4u41sJMnTyoQCOjSpUsqLy/XkiVLbvu+z+eTz+e768+Gw+FY9IaGR6Z8VgCAd+LuGVggEJAk\\\n",
              "+f1+VVdXq6OjQ6mpqRoYGJAkDQwMyO/33/VnGxoaFIlEFIlENH9eyrTNDACYfnEVsGvXrunq1aux\\\n",
              "r48ePaq8vDxVVVWpublZktTc3Kx169Z5OSYAIA7E1SXEwcFBVVdXS5LGx8f17LPPas2aNSouLlZN\\\n",
              "TY327t2rBQsW6MCBAx5PCgDwWlwFLCsrS+fPn7/jeEpKio4fP+7BRACAeBVXlxABALhXBAwAYBIB\\\n",
              "AwCYRMAAACYRMACASQQMAGASAQMAmETAAAAmETAAgEkEDABgEgEDAJhEwAAAJhEwAIBJBAwAYBIB\\\n",
              "AwCYRMAAACYRMACASQQMAGASAQMAmETAAAAmETAAgEkEDABgEgEDAJjkScDq6+vl9/uVl5cXO3b5\\\n",
              "8mWVl5crOztb5eXlunLliiTJOaft27crFAopPz9f586d82JkAECc8SRgmzdvVltb223HmpqaVFZW\\\n",
              "pmg0qrKyMjU1NUmSvvzyS0WjUUWjUYXDYW3dutWLkQEAccaTgK1atUpz58697Vhra6vq6uokSXV1\\\n",
              "dTp06FDs+PPPPy+fz6cnnnhCo6OjGhgYmPaZAQDxJW5eAxscHFR6erokKS0tTYODg5Kk/v5+ZWRk\\\n",
              "xO4XDAbV39/vyYwAgPiR7PUAd+Pz+eTz+f72z4XDYYXDYUnS0PDI/R4LABBH4uYZWGpqauzS4MDA\\\n",
              "gPx+vyQpEAiot7c3dr++vj4FAoG7/o6GhgZFIhFFIhHNn5cy9UMDADwTNwGrqqpSc3OzJKm5uVnr\\\n",
              "1q2LHd+3b5+cczpz5oxmz54du9QIAEhcnlxC3LRpk9rb2zU8PKxgMKidO3fqzTffVE1Njfbu3asF\\\n",
              "CxbowIEDkqTKykodOXJEoVBIDz30kD7++GMvRgYAxBmfc855PcRUKPrXCkVOtns9BgCYUrSqTJFI\\\n",
              "xOsx7kncXEIEAODvIGAAAJMIGADAJAIGADCJgAEATCJgAACTCBgAwCQCBgAwiYABAEwiYAAAkwgY\\\n",
              "AMAkAgYAMImAAQBMImAAAJMIGADAJAIGADCJgAEATCJgAACTCBgAwCQCBgAwiYABAEwiYAAAkwgY\\\n",
              "AMAkTwJWX18vv9+vvLy82LEdO3YoEAiooKBABQUFOnLkSOx7jY2NCoVCWrx4sb766isvRgYAxBlP\\\n",
              "ArZ582a1tbXdcfyVV15RZ2enOjs7VVlZKUn66aef1NLSogsXLqitrU3btm3TxMTEdI8MAIgzngRs\\\n",
              "1apVmjt37j3dt7W1VbW1tXrwwQf1+OOPKxQKqaOjY4onBADEu7h6DWz37t3Kz89XfX29rly5Iknq\\\n",
              "7+9XRkZG7D7BYFD9/f1ejQgAiBNxE7CtW7eqq6tLnZ2dSk9P12uvvfa3f0c4HFZRUZGKioo0NDwy\\\n",
              "BVMCAOJF3AQsNTVVSUlJmjVrll588cXYZcJAIKDe3t7Y/fr6+hQIBO76OxoaGhSJRBSJRDR/Xsq0\\\n",
              "zA0A8EbcBGxgYCD29WeffRZ7h2JVVZVaWlp08+ZNdXd3KxqNqqSkxKsxAQBxItmLf3TTpk1qb2/X\\\n",
              "8PCwgsGgdu7cqfb2dnV2dsrn8ykzM1MffvihJCk3N1c1NTXKyclRcnKy9uzZo6SkJC/GBgDEEZ9z\\\n",
              "znk9xFQo+tcKRU62ez0GAJhStKpMkUjE6zHuSdxcQgQA4O8gYAAAkwgYAMAkAgYAMImAAQBMImAA\\\n",
              "AJMIGADAJAIGADCJgAEATCJgAACTCBgAwCQCBgAwiYABAEwiYAAAk2bsn1N5+OGHtWTJEq/H8NTQ\\\n",
              "0JDmz5/v9RieYf2JvX6JPfhv1t/T06Ph4eEpmuj+8uQPWk6HJUuWmPmbNlOlqKgoofeA9Sf2+iX2\\\n",
              "YKavn0uIAACTCBgAwKSkHTt27PB6iKlSWFjo9QieS/Q9YP2JvX6JPZjJ65+xb+IAAMxsXEIEAJg0\\\n",
              "IwPW1tamxYsXKxQKqampyetxpkR9fb38fr/y8vJixy5fvqzy8nJlZ2ervLxcV65ckSQ557R9+3aF\\\n",
              "QiHl5+fr3LlzXo193/T29mr16tXKyclRbm6u3n//fUmJtQc3btxQSUmJli9frtzcXL311luSpO7u\\\n",
              "bq1cuVKhUEgbN27U2NiYJOnmzZvauHGjQqGQVq5cqZ6eHg+nv38mJia0YsUKPfXUU5ISb/2ZmZla\\\n",
              "tmyZCgoKVFRUJCmBzgM3w4yPj7usrCzX1dXlbt686fLz892FCxe8Huu+++abb9zZs2ddbm5u7Njr\\\n",
              "r7/uGhsbnXPONTY2ujfeeMM559zhw4fdmjVr3OTkpDt9+rQrKSnxZOb76eLFi+7s2bPOOed+/fVX\\\n",
              "l52d7S5cuJBQezA5OemuXr3qnHNubGzMlZSUuNOnT7tnnnnG7d+/3znn3JYtW9wHH3zgnHNuz549\\\n",
              "bsuWLc455/bv3+9qamq8Gfw+e/fdd92mTZvc2rVrnXMu4da/YMECNzQ0dNuxRDkPZlzATp065Soq\\\n",
              "KmK3d+3a5Xbt2uXhRFOnu7v7toAtWrTIXbx40Tn3+wP8okWLnHPONTQ0uE8//fSu95spqqqq3NGj\\\n",
              "RxN2D65du+ZWrFjhzpw541JSUtytW7ecc7efDxUVFe7UqVPOOedu3brlUlJS3OTkpGcz3w+9vb2u\\\n",
              "tLTUHT9+3K1du9ZNTk4m1Pqdu3vAEuU8mHGXEPv7+5WRkRG7HQwG1d/f7+FE02dwcFDp6emSpLS0\\\n",
              "NA0ODkqa+XvS09OjH3/8UStXrky4PZiYmFBBQYH8fr/Ky8u1cOFCzZkzR8nJv39GwZ/X+ec9SE5O\\\n",
              "1uzZszUyMuLZ7PfDyy+/rHfeeUezZv3+UDYyMpJQ65ckn8+niooKFRYWKhwOS0qcx4IZ+0kcic7n\\\n",
              "88nn83k9xpT77bfftH79er333nt69NFHb/teIuxBUlKSOjs7NTo6qurqav38889ejzRtvvjiC/n9\\\n",
              "fhUWFqq9vd3rcTxz8uRJBQIBXbp0SeXl5Xd8hN5MPg9m3DOwQCCg3t7e2O2+vj4FAgEPJ5o+qamp\\\n",
              "GhgYkCQNDAzI7/dLmrl7cuvWLa1fv17PPfecnn76aUmJtwd/mDNnjlavXq3Tp09rdHRU4+Pjkm5f\\\n",
              "55/3YHx8XL/88otSUlI8m/l/9d133+nzzz9XZmamamtr9fXXX+ull15KmPX/4Y/1+f1+VVdXq6Oj\\\n",
              "I2HOgxkXsOLiYkWjUXV3d2tsbEwtLS2qqqryeqxpUVVVpebmZklSc3Oz1q1bFzu+b98+Oed05swZ\\\n",
              "zZ49O3Z5wSrnnF544QUtXbpUr776aux4Iu3B0NCQRkdHJUnXr1/XsWPHtHTpUq1evVoHDx6UdOce\\\n",
              "/LE3Bw8eVGlpqen/mTc2Nqqvr089PT1qaWlRaWmpPvnkk4RZvyRdu3ZNV69ejX199OhR5eXlJc55\\\n",
              "4O1LcFPj8OHDLjs722VlZbm3337b63GmRG1trUtLS3PJyckuEAi4jz76yA0PD7vS0lIXCoVcWVmZ\\\n",
              "GxkZcc79/m61bdu2uaysLJeXl+d++OEHj6f/33377bdOklu2bJlbvny5W758uTt8+HBC7cH58+dd\\\n",
              "QUGBW7ZsmcvNzXU7d+50zjnX1dXliouL3cKFC92GDRvcjRs3nHPOXb9+3W3YsMEtXLjQFRcXu66u\\\n",
              "Li/Hv69OnDgRexdiIq2/q6vL5efnu/z8fJeTkxN7vEuU84BP4gAAmDTjLiECABIDAQMAmETAAAAm\\\n",
              "ETAAgEkEDABgEgEDAJhEwAAAJhEwAIBJBAwAYBIBAwCYRMAAACYRMACASQQMAGASAQMAmETAAAAm\\\n",
              "ETAAgEkEDABgEgEDAJhEwAAAJhEwAIBJBAwAYBIBAwCYRMAAACYRMACASQQMAGASAQMAmETAAAAm\\\n",
              "ETAAgEkEDABgEgEDAJhEwAAAJhEwAIBJBAwAYBIBAwCYRMAAACYRMACASQQMAGASAQMAmETAAAAm\\\n",
              "ETAAgEkEDABgEgEDAJhEwAAAJhEwAIBJBAwAYBIBAwCYRMAAACYRMACASQQMAGASAQMAmETAAAAm\\\n",
              "ETAAgEkEDABgEgEDAJhEwAAAJhEwAIBJBAwAYBIBAwCYRMAAACYRMACASQQMAGASAQMAmETAAAAm\\\n",
              "ETAAgEkEDABgEgEDAJhEwAAAJhEwAIBJBAwAYBIBAwCYRMAAACb9P1exsPwJ1ySwAAAAAElFTkSu\\\n",
              "QmCC\\\n",
              "\"\n",
              "  frames[7] = \"data:image/png;base64,iVBORw0KGgoAAAANSUhEUgAAAbAAAAEgCAYAAADVKCZpAAAABHNCSVQICAgIfAhkiAAAAAlwSFlz\\\n",
              "AAALEgAACxIB0t1+/AAAADh0RVh0U29mdHdhcmUAbWF0cGxvdGxpYiB2ZXJzaW9uMy4yLjIsIGh0\\\n",
              "dHA6Ly9tYXRwbG90bGliLm9yZy+WH4yJAAAQPUlEQVR4nO3db2jV9d/H8ddxu37186I0xbONs+Ga\\\n",
              "Z07dnJP9sVuCG1uiMVmafwqaLJroDftH0b0Uwo0gKNCgQxITyiFCLtKWUi4ytXW0dcMIxpiwzTGd\\\n",
              "f8pEnW7v60Z0yJLfpf2c3/PeeT5u7XzP2Xx/PnDO0/P9HmfIzEwAADgzKegBAAD4JwgYAMAlAgYA\\\n",
              "cImAAQBcImAAAJcIGADAJQIGAHCJgAEAXCJgAACXCBgAwCUCBgBwiYABAFwiYAAAlwgYAMAlAgYA\\\n",
              "cImAAQBcImAAAJcIGADAJQIGAHCJgAEAXCJgAACXCBgAwCUCBgBwiYABAFwiYAAAlwgYAMAlAgYA\\\n",
              "cImAAQBcImAAAJcIGADAJQIGAHCJgAEAXCJgAACXCBgAwCUCBgBwiYABAFwiYAAAlwgYAMAlAgYA\\\n",
              "cImAAQBcImAAAJcIGADAJQIGAHCJgAEAXCJgAACXCBgAwCUCBgBwiYABAFwiYAAAlwgYAMAlAgYA\\\n",
              "cImAAQBcImAAAJcIGADAJQIGAHCJgAEAXCJgAACXCBgAwCUCBgBwiYABAFwiYAAAlwgYAMAlAgYA\\\n",
              "cImAAQBcImAAAJcIGADAJQIGAHCJgAEAXCJgAACXCBgAwCUCBgBwiYABAFwiYAAAlwgYAMAlAgYA\\\n",
              "cImAAQBcImAAAJcIGADAJQIGAHCJgAEAXCJgAACX3ASsvb1dBQUFikajam5uDnocAEDAQmZmQQ/x\\\n",
              "/xkdHdXs2bN16NAhZWdnq7y8XLt379a8efOCHg0AEBAX78A6OzsVjUaVl5enf/3rX1q7dq3a2tqC\\\n",
              "HgsAEKD0oAe4EwMDA8rJyUnczs7O1nffffcfv+fBUEgP+egzACQNm/6IhoeHgx7jjrgI2J2KxWKK\\\n",
              "xWKSpP9RSCs1OeCJAMCXeG5u0CPcMRdvUSKRiPr6+hK3+/v7FYlE/va4xsZGxeNxxeNxPajQ/RwR\\\n",
              "AHCfuQhYeXm5uru71dvbq5GREbW2tqq2tjbosQAAAXJxCjE9PV3bt2/X448/rtHRUTU0NKiwsDDo\\\n",
              "sQAAAXLxMfp/YkYojWtgAHCX4qUFisfjQY9xR1ycQgQA4K8IGADAJQIGAHCJgAEAXCJgAACXCBgA\\\n",
              "wCUCBgBwiYABAFwiYAAAlwgYAMAlAgYAcImAAQBcImAAAJcIGADAJQIGAHCJgAEAXCJgAACXCBgA\\\n",
              "wCUCBgBwiYABAFwiYAAAlwgYAMAlAgYAcCk96AH+Kjc3Vw899JDS0tKUnp6ueDyuCxcuaM2aNTp9\\\n",
              "+rRyc3O1Z88ePfLII0GPCgAIUFK+Azt8+LC6uroUj8clSc3NzaqqqlJ3d7eqqqrU3Nwc8IQAgKAl\\\n",
              "ZcD+qq2tTfX19ZKk+vp67du3L+CJAABBS7qAhUIh1dTUqLS0VLFYTJI0NDSkrKwsSVJmZqaGhoaC\\\n",
              "HBEAkASS7hrYkSNHFIlEdPbsWVVXV2vOnDm33B8KhRQKhW77vbFYLBG9a7JxnxUAEJykewcWiUQk\\\n",
              "SeFwWHV1ders7FRGRoYGBwclSYODgwqHw7f93sbGRsXjccXjcT2o20cOADAxJFXArly5osuXLye+\\\n",
              "PnjwoIqKilRbW6uWlhZJUktLi1asWBHkmACAJJBUpxCHhoZUV1cnSbp586aefvppLV26VOXl5Vq9\\\n",
              "erV27typmTNnas+ePQFPCgAIWsjMJuTFohmhNK3U5KDHAABX4qUFiX/ClOyS6hQiAAB3ioABAFwi\\\n",
              "YAAAlwgYAMAlAgYAcImAAQBcImAAAJcIGADAJQIGAHCJgAEAXCJgAACXCBgAwCUCBgBwiYABAFwi\\\n",
              "YAAAlwgYAMAlAgYAcImAAQBcImAAAJcIGADAJQIGAHCJgAEAXCJgAACXAglYQ0ODwuGwioqKEscu\\\n",
              "XLig6upq5efnq7q6WhcvXpQkmZk2b96saDSq4uJinTx5MoiRAQBJJpCArV+/Xu3t7bcca25uVlVV\\\n",
              "lbq7u1VVVaXm5mZJ0ueff67u7m51d3crFotp48aNQYwMAEgygQRs8eLFmjZt2i3H2traVF9fL0mq\\\n",
              "r6/Xvn37EsefffZZhUIhPfbYY7p06ZIGBwfv+8wAgOSSNNfAhoaGlJWVJUnKzMzU0NCQJGlgYEA5\\\n",
              "OTmJx2VnZ2tgYCCQGQEAySM96AFuJxQKKRQK3fX3xWIxxWIxSdI12b0eCwCQRJLmHVhGRkbi1ODg\\\n",
              "4KDC4bAkKRKJqK+vL/G4/v5+RSKR2/6MxsZGxeNxxeNxPai7DyAAwI+kCVhtba1aWlokSS0tLVqx\\\n",
              "YkXi+K5du2RmOn78uKZMmZI41QgASF2BnEJct26dOjo6NDw8rOzsbG3dulWvv/66Vq9erZ07d2rm\\\n",
              "zJnas2ePJGnZsmU6cOCAotGoJk+erA8//DCIkQEASSZkZhPyYtGMUJpWanLQYwCAK/HSAsXj8aDH\\\n",
              "uCNJcwoRAIC7QcAAAC4RMACASwQMAOASAQMAuETAAAAuETAAgEsEDADgEgEDALhEwAAALhEwAIBL\\\n",
              "BAwA4BIBAwC4RMAAAC4RMACASwQMAOASAQMAuETAAAAuETAAgEsEDADgEgEDALhEwAAALhEwAIBL\\\n",
              "gQSsoaFB4XBYRUVFiWNbtmxRJBJRSUmJSkpKdODAgcR9TU1NikajKigo0BdffBHEyACAJBNIwNav\\\n",
              "X6/29va/HX/ppZfU1dWlrq4uLVu2TJL0008/qbW1VadOnVJ7e7s2bdqk0dHR+z0yACDJBBKwxYsX\\\n",
              "a9q0aXf02La2Nq1du1YPPPCAHn30UUWjUXV2do7zhACAZJdU18C2b9+u4uJiNTQ06OLFi5KkgYEB\\\n",
              "5eTkJB6TnZ2tgYGBoEYEACSJpAnYxo0b1dPTo66uLmVlZemVV165658Ri8VUVlamsrIyXZONw5QA\\\n",
              "gGSRNAHLyMhQWlqaJk2apOeffz5xmjASiaivry/xuP7+fkUikdv+jMbGRsXjccXjcT2o0H2ZGwAQ\\\n",
              "jKQJ2ODgYOLrTz75JPEJxdraWrW2tur69evq7e1Vd3e3KioqghoTAJAk0oP4Q9etW6eOjg4NDw8r\\\n",
              "OztbW7duVUdHh7q6uhQKhZSbm6v3339fklRYWKjVq1dr3rx5Sk9P144dO5SWlhbE2ACAJBIyswl5\\\n",
              "sWhGKE0rNTnoMQDAlXhpgeLxeNBj3JGkOYUIAMDdIGAAAJcIGADAJQIGAHCJgAEAXCJgAACXCBgA\\\n",
              "wCUCBgBwiYABAFwiYAAAlwgYAMAlAgYAcImAAQBcImAAAJcC+f/A7oer//tvxecUBD1GoM6dO6cZ\\\n",
              "M2YEPUZgWH9qr19iD/7J+k+fPj0+w4yDCRuwOXPmuPk/bcZLWVlZSu8B60/t9UvswURfP6cQAQAu\\\n",
              "ETAAgEtpW7Zs2RL0EOOltLQ06BECl+p7wPpTe/0SezCR1x8yMwt6CAAA7hanEAEALk3IgLW3t6ug\\\n",
              "oEDRaFTNzc1BjzMuGhoaFA6HVVRUlDh24cIFVVdXKz8/X9XV1bp48aIkycy0efNmRaNRFRcX6+TJ\\\n",
              "k0GNfc/09fVpyZIlmjdvngoLC/Xuu+9KSq09uHbtmioqKrRgwQIVFhbqjTfekCT19vZq0aJFikaj\\\n",
              "WrNmjUZGRiRJ169f15o1axSNRrVo0SJXH5f+T0ZHR7Vw4UI98cQTklJv/bm5uZo/f75KSkpUVlYm\\\n",
              "KYWeBzbB3Lx50/Ly8qynp8euX79uxcXFdurUqaDHuue+/vprO3HihBUWFiaOvfrqq9bU1GRmZk1N\\\n",
              "Tfbaa6+Zmdn+/ftt6dKlNjY2ZseOHbOKiopAZr6Xzpw5YydOnDAzs19//dXy8/Pt1KlTKbUHY2Nj\\\n",
              "dvnyZTMzGxkZsYqKCjt27Jg99dRTtnv3bjMz27Bhg7333ntmZrZjxw7bsGGDmZnt3r3bVq9eHczg\\\n",
              "99jbb79t69ats+XLl5uZpdz6Z86caefOnbvlWKo8DyZcwI4ePWo1NTWJ29u2bbNt27YFONH46e3t\\\n",
              "vSVgs2fPtjNnzpjZ7y/ws2fPNjOzxsZG+/jjj2/7uImitrbWDh48mLJ7cOXKFVu4cKEdP37cpk+f\\\n",
              "bjdu3DCzW58PNTU1dvToUTMzu3Hjhk2fPt3GxsYCm/le6Ovrs8rKSvvyyy9t+fLlNjY2llLrN7t9\\\n",
              "wFLleTDhTiEODAwoJycncTs7O1sDAwMBTnT/DA0NKSsrS5KUmZmpoaEhSRN/T06fPq0ffvhBixYt\\\n",
              "Srk9GB0dVUlJicLhsKqrqzVr1ixNnTpV6em//46CP6/zz3uQnp6uKVOm6Pz584HNfi+8+OKLeuut\\\n",
              "tzRp0u8vZefPn0+p9UtSKBRSTU2NSktLFYvFJKXOa8GE/U0cqS4UCikUCgU9xrj77bfftHLlSr3z\\\n",
              "zjt6+OGHb7kvFfYgLS1NXV1dunTpkurq6vTzzz8HPdJ989lnnykcDqu0tFQdHR1BjxOYI0eOKBKJ\\\n",
              "6OzZs6qurtacOXNuuX8iPw8m3DuwSCSivr6+xO3+/n5FIpEAJ7p/MjIyNDg4KEkaHBxUOByWNHH3\\\n",
              "5MaNG1q5cqWeeeYZPfnkk5JSbw/+MHXqVC1ZskTHjh3TpUuXdPPmTUm3rvPPe3Dz5k398ssvmj59\\\n",
              "emAz/7e+/fZbffrpp8rNzdXatWv11Vdf6YUXXkiZ9f/hj/WFw2HV1dWps7MzZZ4HEy5g5eXl6u7u\\\n",
              "Vm9vr0ZGRtTa2qra2tqgx7ovamtr1dLSIklqaWnRihUrEsd37dolM9Px48c1ZcqUxOkFr8xMzz33\\\n",
              "nObOnauXX345cTyV9uDcuXO6dOmSJOnq1as6dOiQ5s6dqyVLlmjv3r2S/r4Hf+zN3r17VVlZ6fpv\\\n",
              "5k1NTerv79fp06fV2tqqyspKffTRRymzfkm6cuWKLl++nPj64MGDKioqSp3nQbCX4MbH/v37LT8/\\\n",
              "3/Ly8uzNN98MepxxsXbtWsvMzLT09HSLRCL2wQcf2PDwsFVWVlo0GrWqqio7f/68mf3+abVNmzZZ\\\n",
              "Xl6eFRUV2ffffx/w9P+9b775xiTZ/PnzbcGCBbZgwQLbv39/Su3Bjz/+aCUlJTZ//nwrLCy0rVu3\\\n",
              "mplZT0+PlZeX26xZs2zVqlV27do1MzO7evWqrVq1ymbNmmXl5eXW09MT5Pj31OHDhxOfQkyl9ff0\\\n",
              "9FhxcbEVFxfbvHnzEq93qfI84DdxAABcmnCnEAEAqYGAAQBcImAAAJcIGADAJQIGAHCJgAEAXCJg\\\n",
              "AACXCBgAwCUCBgBwiYABAFwiYAAAlwgYAMAlAgYAcImAAQBcImAAAJcIGADAJQIGAHCJgAEAXCJg\\\n",
              "AACXCBgAwCUCBgBwiYABAFwiYAAAlwgYAMAlAgYAcImAAQBcImAAAJcIGADAJQIGAHCJgAEAXCJg\\\n",
              "AACXCBgAwCUCBgBwiYABAFwiYAAAlwgYAMAlAgYAcImAAQBcImAAAJcIGADAJQIGAHCJgAEAXCJg\\\n",
              "AACXCBgAwCUCBgBwiYABAFwiYAAAlwgYAMAlAgYAcImAAQBcImAAAJcIGADAJQIGAHCJgAEAXCJg\\\n",
              "AACXCBgAwCUCBgBwiYABAFwiYAAAlwgYAMAlAgYAcImAAQBcImAAAJcIGADAJQIGAHCJgAEAXCJg\\\n",
              "AACXCBgAwCUCBgBwiYABAFwiYAAAl/4PN46pzeF6DY8AAAAASUVORK5CYII=\\\n",
              "\"\n",
              "  frames[8] = \"data:image/png;base64,iVBORw0KGgoAAAANSUhEUgAAAbAAAAEgCAYAAADVKCZpAAAABHNCSVQICAgIfAhkiAAAAAlwSFlz\\\n",
              "AAALEgAACxIB0t1+/AAAADh0RVh0U29mdHdhcmUAbWF0cGxvdGxpYiB2ZXJzaW9uMy4yLjIsIGh0\\\n",
              "dHA6Ly9tYXRwbG90bGliLm9yZy+WH4yJAAAQPUlEQVR4nO3db2jV9d/H8ddxu37186I0xbONs+Ga\\\n",
              "Z07dnJP9sVuCG1uiMVmafwqaLJroDftH0b0Uwo0gKNCgQxITyiFCLtKWUi4ytXW0dcMIxpiwzTGd\\\n",
              "f8pEnW7v60Z0yJLfpf2c3/PeeT5u7XzP2Xx/PnDO0/P9HmfIzEwAADgzKegBAAD4JwgYAMAlAgYA\\\n",
              "cImAAQBcImAAAJcIGADAJQIGAHCJgAEAXCJgAACXCBgAwCUCBgBwiYABAFwiYAAAlwgYAMAlAgYA\\\n",
              "cImAAQBcImAAAJcIGADAJQIGAHCJgAEAXCJgAACXCBgAwCUCBgBwiYABAFwiYAAAlwgYAMAlAgYA\\\n",
              "cImAAQBcImAAAJcIGADAJQIGAHCJgAEAXCJgAACXCBgAwCUCBgBwiYABAFwiYAAAlwgYAMAlAgYA\\\n",
              "cImAAQBcImAAAJcIGADAJQIGAHCJgAEAXCJgAACXCBgAwCUCBgBwiYABAFwiYAAAlwgYAMAlAgYA\\\n",
              "cImAAQBcImAAAJcIGADAJQIGAHCJgAEAXCJgAACXCBgAwCUCBgBwiYABAFwiYAAAlwgYAMAlAgYA\\\n",
              "cImAAQBcImAAAJcIGADAJQIGAHCJgAEAXCJgAACXCBgAwCUCBgBwiYABAFwiYAAAlwgYAMAlAgYA\\\n",
              "cImAAQBcImAAAJcIGADAJQIGAHCJgAEAXCJgAACX3ASsvb1dBQUFikajam5uDnocAEDAQmZmQQ/x\\\n",
              "/xkdHdXs2bN16NAhZWdnq7y8XLt379a8efOCHg0AEBAX78A6OzsVjUaVl5enf/3rX1q7dq3a2tqC\\\n",
              "HgsAEKD0oAe4EwMDA8rJyUnczs7O1nffffcfv+fBUEgP+egzACQNm/6IhoeHgx7jjrgI2J2KxWKK\\\n",
              "xWKSpP9RSCs1OeCJAMCXeG5u0CPcMRdvUSKRiPr6+hK3+/v7FYlE/va4xsZGxeNxxeNxPajQ/RwR\\\n",
              "AHCfuQhYeXm5uru71dvbq5GREbW2tqq2tjbosQAAAXJxCjE9PV3bt2/X448/rtHRUTU0NKiwsDDo\\\n",
              "sQAAAXLxMfp/YkYojWtgAHCX4qUFisfjQY9xR1ycQgQA4K8IGADAJQIGAHCJgAEAXCJgAACXCBgA\\\n",
              "wCUCBgBwiYABAFwiYAAAlwgYAMAlAgYAcImAAQBcImAAAJcIGADAJQIGAHCJgAEAXCJgAACXCBgA\\\n",
              "wCUCBgBwiYABAFwiYAAAlwgYAMAlAgYAcCk96AH+Kjc3Vw899JDS0tKUnp6ueDyuCxcuaM2aNTp9\\\n",
              "+rRyc3O1Z88ePfLII0GPCgAIUFK+Azt8+LC6uroUj8clSc3NzaqqqlJ3d7eqqqrU3Nwc8IQAgKAl\\\n",
              "ZcD+qq2tTfX19ZKk+vp67du3L+CJAABBS7qAhUIh1dTUqLS0VLFYTJI0NDSkrKwsSVJmZqaGhoaC\\\n",
              "HBEAkASS7hrYkSNHFIlEdPbsWVVXV2vOnDm33B8KhRQKhW77vbFYLBG9a7JxnxUAEJykewcWiUQk\\\n",
              "SeFwWHV1ders7FRGRoYGBwclSYODgwqHw7f93sbGRsXjccXjcT2o20cOADAxJFXArly5osuXLye+\\\n",
              "PnjwoIqKilRbW6uWlhZJUktLi1asWBHkmACAJJBUpxCHhoZUV1cnSbp586aefvppLV26VOXl5Vq9\\\n",
              "erV27typmTNnas+ePQFPCgAIWsjMJuTFohmhNK3U5KDHAABX4qUFiX/ClOyS6hQiAAB3ioABAFwi\\\n",
              "YAAAlwgYAMAlAgYAcImAAQBcImAAAJcIGADAJQIGAHCJgAEAXCJgAACXCBgAwCUCBgBwiYABAFwi\\\n",
              "YAAAlwgYAMAlAgYAcImAAQBcImAAAJcIGADAJQIGAHCJgAEAXCJgAACXAglYQ0ODwuGwioqKEscu\\\n",
              "XLig6upq5efnq7q6WhcvXpQkmZk2b96saDSq4uJinTx5MoiRAQBJJpCArV+/Xu3t7bcca25uVlVV\\\n",
              "lbq7u1VVVaXm5mZJ0ueff67u7m51d3crFotp48aNQYwMAEgygQRs8eLFmjZt2i3H2traVF9fL0mq\\\n",
              "r6/Xvn37EsefffZZhUIhPfbYY7p06ZIGBwfv+8wAgOSSNNfAhoaGlJWVJUnKzMzU0NCQJGlgYEA5\\\n",
              "OTmJx2VnZ2tgYCCQGQEAySM96AFuJxQKKRQK3fX3xWIxxWIxSdI12b0eCwCQRJLmHVhGRkbi1ODg\\\n",
              "4KDC4bAkKRKJqK+vL/G4/v5+RSKR2/6MxsZGxeNxxeNxPai7DyAAwI+kCVhtba1aWlokSS0tLVqx\\\n",
              "YkXi+K5du2RmOn78uKZMmZI41QgASF2BnEJct26dOjo6NDw8rOzsbG3dulWvv/66Vq9erZ07d2rm\\\n",
              "zJnas2ePJGnZsmU6cOCAotGoJk+erA8//DCIkQEASSZkZhPyYtGMUJpWanLQYwCAK/HSAsXj8aDH\\\n",
              "uCNJcwoRAIC7QcAAAC4RMACASwQMAOASAQMAuETAAAAuETAAgEsEDADgEgEDALhEwAAALhEwAIBL\\\n",
              "BAwA4BIBAwC4RMAAAC4RMACASwQMAOASAQMAuETAAAAuETAAgEsEDADgEgEDALhEwAAALhEwAIBL\\\n",
              "gQSsoaFB4XBYRUVFiWNbtmxRJBJRSUmJSkpKdODAgcR9TU1NikajKigo0BdffBHEyACAJBNIwNav\\\n",
              "X6/29va/HX/ppZfU1dWlrq4uLVu2TJL0008/qbW1VadOnVJ7e7s2bdqk0dHR+z0yACDJBBKwxYsX\\\n",
              "a9q0aXf02La2Nq1du1YPPPCAHn30UUWjUXV2do7zhACAZJdU18C2b9+u4uJiNTQ06OLFi5KkgYEB\\\n",
              "5eTkJB6TnZ2tgYGBoEYEACSJpAnYxo0b1dPTo66uLmVlZemVV165658Ri8VUVlamsrIyXZONw5QA\\\n",
              "gGSRNAHLyMhQWlqaJk2apOeffz5xmjASiaivry/xuP7+fkUikdv+jMbGRsXjccXjcT2o0H2ZGwAQ\\\n",
              "jKQJ2ODgYOLrTz75JPEJxdraWrW2tur69evq7e1Vd3e3KioqghoTAJAk0oP4Q9etW6eOjg4NDw8r\\\n",
              "OztbW7duVUdHh7q6uhQKhZSbm6v3339fklRYWKjVq1dr3rx5Sk9P144dO5SWlhbE2ACAJBIyswl5\\\n",
              "sWhGKE0rNTnoMQDAlXhpgeLxeNBj3JGkOYUIAMDdIGAAAJcIGADAJQIGAHCJgAEAXCJgAACXCBgA\\\n",
              "wCUCBgBwiYABAFwiYAAAlwgYAMAlAgYAcImAAQBcImAAAJcC+f/A7oer//tvxecUBD1GoM6dO6cZ\\\n",
              "M2YEPUZgWH9qr19iD/7J+k+fPj0+w4yDCRuwOXPmuPk/bcZLWVlZSu8B60/t9UvswURfP6cQAQAu\\\n",
              "ETAAgEtpW7Zs2RL0EOOltLQ06BECl+p7wPpTe/0SezCR1x8yMwt6CAAA7hanEAEALk3IgLW3t6ug\\\n",
              "oEDRaFTNzc1BjzMuGhoaFA6HVVRUlDh24cIFVVdXKz8/X9XV1bp48aIkycy0efNmRaNRFRcX6+TJ\\\n",
              "k0GNfc/09fVpyZIlmjdvngoLC/Xuu+9KSq09uHbtmioqKrRgwQIVFhbqjTfekCT19vZq0aJFikaj\\\n",
              "WrNmjUZGRiRJ169f15o1axSNRrVo0SJXH5f+T0ZHR7Vw4UI98cQTklJv/bm5uZo/f75KSkpUVlYm\\\n",
              "KYWeBzbB3Lx50/Ly8qynp8euX79uxcXFdurUqaDHuue+/vprO3HihBUWFiaOvfrqq9bU1GRmZk1N\\\n",
              "Tfbaa6+Zmdn+/ftt6dKlNjY2ZseOHbOKiopAZr6Xzpw5YydOnDAzs19//dXy8/Pt1KlTKbUHY2Nj\\\n",
              "dvnyZTMzGxkZsYqKCjt27Jg99dRTtnv3bjMz27Bhg7333ntmZrZjxw7bsGGDmZnt3r3bVq9eHczg\\\n",
              "99jbb79t69ats+XLl5uZpdz6Z86caefOnbvlWKo8DyZcwI4ePWo1NTWJ29u2bbNt27YFONH46e3t\\\n",
              "vSVgs2fPtjNnzpjZ7y/ws2fPNjOzxsZG+/jjj2/7uImitrbWDh48mLJ7cOXKFVu4cKEdP37cpk+f\\\n",
              "bjdu3DCzW58PNTU1dvToUTMzu3Hjhk2fPt3GxsYCm/le6Ovrs8rKSvvyyy9t+fLlNjY2llLrN7t9\\\n",
              "wFLleTDhTiEODAwoJycncTs7O1sDAwMBTnT/DA0NKSsrS5KUmZmpoaEhSRN/T06fPq0ffvhBixYt\\\n",
              "Srk9GB0dVUlJicLhsKqrqzVr1ixNnTpV6em//46CP6/zz3uQnp6uKVOm6Pz584HNfi+8+OKLeuut\\\n",
              "tzRp0u8vZefPn0+p9UtSKBRSTU2NSktLFYvFJKXOa8GE/U0cqS4UCikUCgU9xrj77bfftHLlSr3z\\\n",
              "zjt6+OGHb7kvFfYgLS1NXV1dunTpkurq6vTzzz8HPdJ989lnnykcDqu0tFQdHR1BjxOYI0eOKBKJ\\\n",
              "6OzZs6qurtacOXNuuX8iPw8m3DuwSCSivr6+xO3+/n5FIpEAJ7p/MjIyNDg4KEkaHBxUOByWNHH3\\\n",
              "5MaNG1q5cqWeeeYZPfnkk5JSbw/+MHXqVC1ZskTHjh3TpUuXdPPmTUm3rvPPe3Dz5k398ssvmj59\\\n",
              "emAz/7e+/fZbffrpp8rNzdXatWv11Vdf6YUXXkiZ9f/hj/WFw2HV1dWps7MzZZ4HEy5g5eXl6u7u\\\n",
              "Vm9vr0ZGRtTa2qra2tqgx7ovamtr1dLSIklqaWnRihUrEsd37dolM9Px48c1ZcqUxOkFr8xMzz33\\\n",
              "nObOnauXX345cTyV9uDcuXO6dOmSJOnq1as6dOiQ5s6dqyVLlmjv3r2S/r4Hf+zN3r17VVlZ6fpv\\\n",
              "5k1NTerv79fp06fV2tqqyspKffTRRymzfkm6cuWKLl++nPj64MGDKioqSp3nQbCX4MbH/v37LT8/\\\n",
              "3/Ly8uzNN98MepxxsXbtWsvMzLT09HSLRCL2wQcf2PDwsFVWVlo0GrWqqio7f/68mf3+abVNmzZZ\\\n",
              "Xl6eFRUV2ffffx/w9P+9b775xiTZ/PnzbcGCBbZgwQLbv39/Su3Bjz/+aCUlJTZ//nwrLCy0rVu3\\\n",
              "mplZT0+PlZeX26xZs2zVqlV27do1MzO7evWqrVq1ymbNmmXl5eXW09MT5Pj31OHDhxOfQkyl9ff0\\\n",
              "9FhxcbEVFxfbvHnzEq93qfI84DdxAABcmnCnEAEAqYGAAQBcImAAAJcIGADAJQIGAHCJgAEAXCJg\\\n",
              "AACXCBgAwCUCBgBwiYABAFwiYAAAlwgYAMAlAgYAcImAAQBcImAAAJcIGADAJQIGAHCJgAEAXCJg\\\n",
              "AACXCBgAwCUCBgBwiYABAFwiYAAAlwgYAMAlAgYAcImAAQBcImAAAJcIGADAJQIGAHCJgAEAXCJg\\\n",
              "AACXCBgAwCUCBgBwiYABAFwiYAAAlwgYAMAlAgYAcImAAQBcImAAAJcIGADAJQIGAHCJgAEAXCJg\\\n",
              "AACXCBgAwCUCBgBwiYABAFwiYAAAlwgYAMAlAgYAcImAAQBcImAAAJcIGADAJQIGAHCJgAEAXCJg\\\n",
              "AACXCBgAwCUCBgBwiYABAFwiYAAAlwgYAMAlAgYAcImAAQBcImAAAJcIGADAJQIGAHCJgAEAXCJg\\\n",
              "AACXCBgAwCUCBgBwiYABAFwiYAAAl/4PN46pzeF6DY8AAAAASUVORK5CYII=\\\n",
              "\"\n",
              "  frames[9] = \"data:image/png;base64,iVBORw0KGgoAAAANSUhEUgAAAbAAAAEgCAYAAADVKCZpAAAABHNCSVQICAgIfAhkiAAAAAlwSFlz\\\n",
              "AAALEgAACxIB0t1+/AAAADh0RVh0U29mdHdhcmUAbWF0cGxvdGxpYiB2ZXJzaW9uMy4yLjIsIGh0\\\n",
              "dHA6Ly9tYXRwbG90bGliLm9yZy+WH4yJAAAQPUlEQVR4nO3db2jV9d/H8ddxu37186I0xbONs+Ga\\\n",
              "Z07dnJP9sVuCG1uiMVmafwqaLJroDftH0b0Uwo0gKNCgQxITyiFCLtKWUi4ytXW0dcMIxpiwzTGd\\\n",
              "f8pEnW7v60Z0yJLfpf2c3/PeeT5u7XzP2Xx/PnDO0/P9HmfIzEwAADgzKegBAAD4JwgYAMAlAgYA\\\n",
              "cImAAQBcImAAAJcIGADAJQIGAHCJgAEAXCJgAACXCBgAwCUCBgBwiYABAFwiYAAAlwgYAMAlAgYA\\\n",
              "cImAAQBcImAAAJcIGADAJQIGAHCJgAEAXCJgAACXCBgAwCUCBgBwiYABAFwiYAAAlwgYAMAlAgYA\\\n",
              "cImAAQBcImAAAJcIGADAJQIGAHCJgAEAXCJgAACXCBgAwCUCBgBwiYABAFwiYAAAlwgYAMAlAgYA\\\n",
              "cImAAQBcImAAAJcIGADAJQIGAHCJgAEAXCJgAACXCBgAwCUCBgBwiYABAFwiYAAAlwgYAMAlAgYA\\\n",
              "cImAAQBcImAAAJcIGADAJQIGAHCJgAEAXCJgAACXCBgAwCUCBgBwiYABAFwiYAAAlwgYAMAlAgYA\\\n",
              "cImAAQBcImAAAJcIGADAJQIGAHCJgAEAXCJgAACXCBgAwCUCBgBwiYABAFwiYAAAlwgYAMAlAgYA\\\n",
              "cImAAQBcImAAAJcIGADAJQIGAHCJgAEAXCJgAACX3ASsvb1dBQUFikajam5uDnocAEDAQmZmQQ/x\\\n",
              "/xkdHdXs2bN16NAhZWdnq7y8XLt379a8efOCHg0AEBAX78A6OzsVjUaVl5enf/3rX1q7dq3a2tqC\\\n",
              "HgsAEKD0oAe4EwMDA8rJyUnczs7O1nffffcfv+fBUEgP+egzACQNm/6IhoeHgx7jjrgI2J2KxWKK\\\n",
              "xWKSpP9RSCs1OeCJAMCXeG5u0CPcMRdvUSKRiPr6+hK3+/v7FYlE/va4xsZGxeNxxeNxPajQ/RwR\\\n",
              "AHCfuQhYeXm5uru71dvbq5GREbW2tqq2tjbosQAAAXJxCjE9PV3bt2/X448/rtHRUTU0NKiwsDDo\\\n",
              "sQAAAXLxMfp/YkYojWtgAHCX4qUFisfjQY9xR1ycQgQA4K8IGADAJQIGAHCJgAEAXCJgAACXCBgA\\\n",
              "wCUCBgBwiYABAFwiYAAAlwgYAMAlAgYAcImAAQBcImAAAJcIGADAJQIGAHCJgAEAXCJgAACXCBgA\\\n",
              "wCUCBgBwiYABAFwiYAAAlwgYAMAlAgYAcCk96AH+Kjc3Vw899JDS0tKUnp6ueDyuCxcuaM2aNTp9\\\n",
              "+rRyc3O1Z88ePfLII0GPCgAIUFK+Azt8+LC6uroUj8clSc3NzaqqqlJ3d7eqqqrU3Nwc8IQAgKAl\\\n",
              "ZcD+qq2tTfX19ZKk+vp67du3L+CJAABBS7qAhUIh1dTUqLS0VLFYTJI0NDSkrKwsSVJmZqaGhoaC\\\n",
              "HBEAkASS7hrYkSNHFIlEdPbsWVVXV2vOnDm33B8KhRQKhW77vbFYLBG9a7JxnxUAEJykewcWiUQk\\\n",
              "SeFwWHV1ders7FRGRoYGBwclSYODgwqHw7f93sbGRsXjccXjcT2o20cOADAxJFXArly5osuXLye+\\\n",
              "PnjwoIqKilRbW6uWlhZJUktLi1asWBHkmACAJJBUpxCHhoZUV1cnSbp586aefvppLV26VOXl5Vq9\\\n",
              "erV27typmTNnas+ePQFPCgAIWsjMJuTFohmhNK3U5KDHAABX4qUFiX/ClOyS6hQiAAB3ioABAFwi\\\n",
              "YAAAlwgYAMAlAgYAcImAAQBcImAAAJcIGADAJQIGAHCJgAEAXCJgAACXCBgAwCUCBgBwiYABAFwi\\\n",
              "YAAAlwgYAMAlAgYAcImAAQBcImAAAJcIGADAJQIGAHCJgAEAXCJgAACXAglYQ0ODwuGwioqKEscu\\\n",
              "XLig6upq5efnq7q6WhcvXpQkmZk2b96saDSq4uJinTx5MoiRAQBJJpCArV+/Xu3t7bcca25uVlVV\\\n",
              "lbq7u1VVVaXm5mZJ0ueff67u7m51d3crFotp48aNQYwMAEgygQRs8eLFmjZt2i3H2traVF9fL0mq\\\n",
              "r6/Xvn37EsefffZZhUIhPfbYY7p06ZIGBwfv+8wAgOSSNNfAhoaGlJWVJUnKzMzU0NCQJGlgYEA5\\\n",
              "OTmJx2VnZ2tgYCCQGQEAySM96AFuJxQKKRQK3fX3xWIxxWIxSdI12b0eCwCQRJLmHVhGRkbi1ODg\\\n",
              "4KDC4bAkKRKJqK+vL/G4/v5+RSKR2/6MxsZGxeNxxeNxPai7DyAAwI+kCVhtba1aWlokSS0tLVqx\\\n",
              "YkXi+K5du2RmOn78uKZMmZI41QgASF2BnEJct26dOjo6NDw8rOzsbG3dulWvv/66Vq9erZ07d2rm\\\n",
              "zJnas2ePJGnZsmU6cOCAotGoJk+erA8//DCIkQEASSZkZhPyYtGMUJpWanLQYwCAK/HSAsXj8aDH\\\n",
              "uCNJcwoRAIC7QcAAAC4RMACASwQMAOASAQMAuETAAAAuETAAgEsEDADgEgEDALhEwAAALhEwAIBL\\\n",
              "BAwA4BIBAwC4RMAAAC4RMACASwQMAOASAQMAuETAAAAuETAAgEsEDADgEgEDALhEwAAALhEwAIBL\\\n",
              "gQSsoaFB4XBYRUVFiWNbtmxRJBJRSUmJSkpKdODAgcR9TU1NikajKigo0BdffBHEyACAJBNIwNav\\\n",
              "X6/29va/HX/ppZfU1dWlrq4uLVu2TJL0008/qbW1VadOnVJ7e7s2bdqk0dHR+z0yACDJBBKwxYsX\\\n",
              "a9q0aXf02La2Nq1du1YPPPCAHn30UUWjUXV2do7zhACAZJdU18C2b9+u4uJiNTQ06OLFi5KkgYEB\\\n",
              "5eTkJB6TnZ2tgYGBoEYEACSJpAnYxo0b1dPTo66uLmVlZemVV165658Ri8VUVlamsrIyXZONw5QA\\\n",
              "gGSRNAHLyMhQWlqaJk2apOeffz5xmjASiaivry/xuP7+fkUikdv+jMbGRsXjccXjcT2o0H2ZGwAQ\\\n",
              "jKQJ2ODgYOLrTz75JPEJxdraWrW2tur69evq7e1Vd3e3KioqghoTAJAk0oP4Q9etW6eOjg4NDw8r\\\n",
              "OztbW7duVUdHh7q6uhQKhZSbm6v3339fklRYWKjVq1dr3rx5Sk9P144dO5SWlhbE2ACAJBIyswl5\\\n",
              "sWhGKE0rNTnoMQDAlXhpgeLxeNBj3JGkOYUIAMDdIGAAAJcIGADAJQIGAHCJgAEAXCJgAACXCBgA\\\n",
              "wCUCBgBwiYABAFwiYAAAlwgYAMAlAgYAcImAAQBcImAAAJcC+f/A7oer//tvxecUBD1GoM6dO6cZ\\\n",
              "M2YEPUZgWH9qr19iD/7J+k+fPj0+w4yDCRuwOXPmuPk/bcZLWVlZSu8B60/t9UvswURfP6cQAQAu\\\n",
              "ETAAgEtpW7Zs2RL0EOOltLQ06BECl+p7wPpTe/0SezCR1x8yMwt6CAAA7hanEAEALk3IgLW3t6ug\\\n",
              "oEDRaFTNzc1BjzMuGhoaFA6HVVRUlDh24cIFVVdXKz8/X9XV1bp48aIkycy0efNmRaNRFRcX6+TJ\\\n",
              "k0GNfc/09fVpyZIlmjdvngoLC/Xuu+9KSq09uHbtmioqKrRgwQIVFhbqjTfekCT19vZq0aJFikaj\\\n",
              "WrNmjUZGRiRJ169f15o1axSNRrVo0SJXH5f+T0ZHR7Vw4UI98cQTklJv/bm5uZo/f75KSkpUVlYm\\\n",
              "KYWeBzbB3Lx50/Ly8qynp8euX79uxcXFdurUqaDHuue+/vprO3HihBUWFiaOvfrqq9bU1GRmZk1N\\\n",
              "Tfbaa6+Zmdn+/ftt6dKlNjY2ZseOHbOKiopAZr6Xzpw5YydOnDAzs19//dXy8/Pt1KlTKbUHY2Nj\\\n",
              "dvnyZTMzGxkZsYqKCjt27Jg99dRTtnv3bjMz27Bhg7333ntmZrZjxw7bsGGDmZnt3r3bVq9eHczg\\\n",
              "99jbb79t69ats+XLl5uZpdz6Z86caefOnbvlWKo8DyZcwI4ePWo1NTWJ29u2bbNt27YFONH46e3t\\\n",
              "vSVgs2fPtjNnzpjZ7y/ws2fPNjOzxsZG+/jjj2/7uImitrbWDh48mLJ7cOXKFVu4cKEdP37cpk+f\\\n",
              "bjdu3DCzW58PNTU1dvToUTMzu3Hjhk2fPt3GxsYCm/le6Ovrs8rKSvvyyy9t+fLlNjY2llLrN7t9\\\n",
              "wFLleTDhTiEODAwoJycncTs7O1sDAwMBTnT/DA0NKSsrS5KUmZmpoaEhSRN/T06fPq0ffvhBixYt\\\n",
              "Srk9GB0dVUlJicLhsKqrqzVr1ixNnTpV6em//46CP6/zz3uQnp6uKVOm6Pz584HNfi+8+OKLeuut\\\n",
              "tzRp0u8vZefPn0+p9UtSKBRSTU2NSktLFYvFJKXOa8GE/U0cqS4UCikUCgU9xrj77bfftHLlSr3z\\\n",
              "zjt6+OGHb7kvFfYgLS1NXV1dunTpkurq6vTzzz8HPdJ989lnnykcDqu0tFQdHR1BjxOYI0eOKBKJ\\\n",
              "6OzZs6qurtacOXNuuX8iPw8m3DuwSCSivr6+xO3+/n5FIpEAJ7p/MjIyNDg4KEkaHBxUOByWNHH3\\\n",
              "5MaNG1q5cqWeeeYZPfnkk5JSbw/+MHXqVC1ZskTHjh3TpUuXdPPmTUm3rvPPe3Dz5k398ssvmj59\\\n",
              "emAz/7e+/fZbffrpp8rNzdXatWv11Vdf6YUXXkiZ9f/hj/WFw2HV1dWps7MzZZ4HEy5g5eXl6u7u\\\n",
              "Vm9vr0ZGRtTa2qra2tqgx7ovamtr1dLSIklqaWnRihUrEsd37dolM9Px48c1ZcqUxOkFr8xMzz33\\\n",
              "nObOnauXX345cTyV9uDcuXO6dOmSJOnq1as6dOiQ5s6dqyVLlmjv3r2S/r4Hf+zN3r17VVlZ6fpv\\\n",
              "5k1NTerv79fp06fV2tqqyspKffTRRymzfkm6cuWKLl++nPj64MGDKioqSp3nQbCX4MbH/v37LT8/\\\n",
              "3/Ly8uzNN98MepxxsXbtWsvMzLT09HSLRCL2wQcf2PDwsFVWVlo0GrWqqio7f/68mf3+abVNmzZZ\\\n",
              "Xl6eFRUV2ffffx/w9P+9b775xiTZ/PnzbcGCBbZgwQLbv39/Su3Bjz/+aCUlJTZ//nwrLCy0rVu3\\\n",
              "mplZT0+PlZeX26xZs2zVqlV27do1MzO7evWqrVq1ymbNmmXl5eXW09MT5Pj31OHDhxOfQkyl9ff0\\\n",
              "9FhxcbEVFxfbvHnzEq93qfI84DdxAABcmnCnEAEAqYGAAQBcImAAAJcIGADAJQIGAHCJgAEAXCJg\\\n",
              "AACXCBgAwCUCBgBwiYABAFwiYAAAlwgYAMAlAgYAcImAAQBcImAAAJcIGADAJQIGAHCJgAEAXCJg\\\n",
              "AACXCBgAwCUCBgBwiYABAFwiYAAAlwgYAMAlAgYAcImAAQBcImAAAJcIGADAJQIGAHCJgAEAXCJg\\\n",
              "AACXCBgAwCUCBgBwiYABAFwiYAAAlwgYAMAlAgYAcImAAQBcImAAAJcIGADAJQIGAHCJgAEAXCJg\\\n",
              "AACXCBgAwCUCBgBwiYABAFwiYAAAlwgYAMAlAgYAcImAAQBcImAAAJcIGADAJQIGAHCJgAEAXCJg\\\n",
              "AACXCBgAwCUCBgBwiYABAFwiYAAAlwgYAMAlAgYAcImAAQBcImAAAJcIGADAJQIGAHCJgAEAXCJg\\\n",
              "AACXCBgAwCUCBgBwiYABAFwiYAAAl/4PN46pzeF6DY8AAAAASUVORK5CYII=\\\n",
              "\"\n",
              "  frames[10] = \"data:image/png;base64,iVBORw0KGgoAAAANSUhEUgAAAbAAAAEgCAYAAADVKCZpAAAABHNCSVQICAgIfAhkiAAAAAlwSFlz\\\n",
              "AAALEgAACxIB0t1+/AAAADh0RVh0U29mdHdhcmUAbWF0cGxvdGxpYiB2ZXJzaW9uMy4yLjIsIGh0\\\n",
              "dHA6Ly9tYXRwbG90bGliLm9yZy+WH4yJAAAQPUlEQVR4nO3db2jV9d/H8ddxu37186I0xbONs+Ga\\\n",
              "Z07dnJP9sVuCG1uiMVmafwqaLJroDftH0b0Uwo0gKNCgQxITyiFCLtKWUi4ytXW0dcMIxpiwzTGd\\\n",
              "f8pEnW7v60Z0yJLfpf2c3/PeeT5u7XzP2Xx/PnDO0/P9HmfIzEwAADgzKegBAAD4JwgYAMAlAgYA\\\n",
              "cImAAQBcImAAAJcIGADAJQIGAHCJgAEAXCJgAACXCBgAwCUCBgBwiYABAFwiYAAAlwgYAMAlAgYA\\\n",
              "cImAAQBcImAAAJcIGADAJQIGAHCJgAEAXCJgAACXCBgAwCUCBgBwiYABAFwiYAAAlwgYAMAlAgYA\\\n",
              "cImAAQBcImAAAJcIGADAJQIGAHCJgAEAXCJgAACXCBgAwCUCBgBwiYABAFwiYAAAlwgYAMAlAgYA\\\n",
              "cImAAQBcImAAAJcIGADAJQIGAHCJgAEAXCJgAACXCBgAwCUCBgBwiYABAFwiYAAAlwgYAMAlAgYA\\\n",
              "cImAAQBcImAAAJcIGADAJQIGAHCJgAEAXCJgAACXCBgAwCUCBgBwiYABAFwiYAAAlwgYAMAlAgYA\\\n",
              "cImAAQBcImAAAJcIGADAJQIGAHCJgAEAXCJgAACXCBgAwCUCBgBwiYABAFwiYAAAlwgYAMAlAgYA\\\n",
              "cImAAQBcImAAAJcIGADAJQIGAHCJgAEAXCJgAACX3ASsvb1dBQUFikajam5uDnocAEDAQmZmQQ/x\\\n",
              "/xkdHdXs2bN16NAhZWdnq7y8XLt379a8efOCHg0AEBAX78A6OzsVjUaVl5enf/3rX1q7dq3a2tqC\\\n",
              "HgsAEKD0oAe4EwMDA8rJyUnczs7O1nffffcfv+fBUEgP+egzACQNm/6IhoeHgx7jjrgI2J2KxWKK\\\n",
              "xWKSpP9RSCs1OeCJAMCXeG5u0CPcMRdvUSKRiPr6+hK3+/v7FYlE/va4xsZGxeNxxeNxPajQ/RwR\\\n",
              "AHCfuQhYeXm5uru71dvbq5GREbW2tqq2tjbosQAAAXJxCjE9PV3bt2/X448/rtHRUTU0NKiwsDDo\\\n",
              "sQAAAXLxMfp/YkYojWtgAHCX4qUFisfjQY9xR1ycQgQA4K8IGADAJQIGAHCJgAEAXCJgAACXCBgA\\\n",
              "wCUCBgBwiYABAFwiYAAAlwgYAMAlAgYAcImAAQBcImAAAJcIGADAJQIGAHCJgAEAXCJgAACXCBgA\\\n",
              "wCUCBgBwiYABAFwiYAAAlwgYAMAlAgYAcCk96AH+Kjc3Vw899JDS0tKUnp6ueDyuCxcuaM2aNTp9\\\n",
              "+rRyc3O1Z88ePfLII0GPCgAIUFK+Azt8+LC6uroUj8clSc3NzaqqqlJ3d7eqqqrU3Nwc8IQAgKAl\\\n",
              "ZcD+qq2tTfX19ZKk+vp67du3L+CJAABBS7qAhUIh1dTUqLS0VLFYTJI0NDSkrKwsSVJmZqaGhoaC\\\n",
              "HBEAkASS7hrYkSNHFIlEdPbsWVVXV2vOnDm33B8KhRQKhW77vbFYLBG9a7JxnxUAEJykewcWiUQk\\\n",
              "SeFwWHV1ders7FRGRoYGBwclSYODgwqHw7f93sbGRsXjccXjcT2o20cOADAxJFXArly5osuXLye+\\\n",
              "PnjwoIqKilRbW6uWlhZJUktLi1asWBHkmACAJJBUpxCHhoZUV1cnSbp586aefvppLV26VOXl5Vq9\\\n",
              "erV27typmTNnas+ePQFPCgAIWsjMJuTFohmhNK3U5KDHAABX4qUFiX/ClOyS6hQiAAB3ioABAFwi\\\n",
              "YAAAlwgYAMAlAgYAcImAAQBcImAAAJcIGADAJQIGAHCJgAEAXCJgAACXCBgAwCUCBgBwiYABAFwi\\\n",
              "YAAAlwgYAMAlAgYAcImAAQBcImAAAJcIGADAJQIGAHCJgAEAXCJgAACXAglYQ0ODwuGwioqKEscu\\\n",
              "XLig6upq5efnq7q6WhcvXpQkmZk2b96saDSq4uJinTx5MoiRAQBJJpCArV+/Xu3t7bcca25uVlVV\\\n",
              "lbq7u1VVVaXm5mZJ0ueff67u7m51d3crFotp48aNQYwMAEgygQRs8eLFmjZt2i3H2traVF9fL0mq\\\n",
              "r6/Xvn37EsefffZZhUIhPfbYY7p06ZIGBwfv+8wAgOSSNNfAhoaGlJWVJUnKzMzU0NCQJGlgYEA5\\\n",
              "OTmJx2VnZ2tgYCCQGQEAySM96AFuJxQKKRQK3fX3xWIxxWIxSdI12b0eCwCQRJLmHVhGRkbi1ODg\\\n",
              "4KDC4bAkKRKJqK+vL/G4/v5+RSKR2/6MxsZGxeNxxeNxPai7DyAAwI+kCVhtba1aWlokSS0tLVqx\\\n",
              "YkXi+K5du2RmOn78uKZMmZI41QgASF2BnEJct26dOjo6NDw8rOzsbG3dulWvv/66Vq9erZ07d2rm\\\n",
              "zJnas2ePJGnZsmU6cOCAotGoJk+erA8//DCIkQEASSZkZhPyYtGMUJpWanLQYwCAK/HSAsXj8aDH\\\n",
              "uCNJcwoRAIC7QcAAAC4RMACASwQMAOASAQMAuETAAAAuETAAgEsEDADgEgEDALhEwAAALhEwAIBL\\\n",
              "BAwA4BIBAwC4RMAAAC4RMACASwQMAOASAQMAuETAAAAuETAAgEsEDADgEgEDALhEwAAALhEwAIBL\\\n",
              "gQSsoaFB4XBYRUVFiWNbtmxRJBJRSUmJSkpKdODAgcR9TU1NikajKigo0BdffBHEyACAJBNIwNav\\\n",
              "X6/29va/HX/ppZfU1dWlrq4uLVu2TJL0008/qbW1VadOnVJ7e7s2bdqk0dHR+z0yACDJBBKwxYsX\\\n",
              "a9q0aXf02La2Nq1du1YPPPCAHn30UUWjUXV2do7zhACAZJdU18C2b9+u4uJiNTQ06OLFi5KkgYEB\\\n",
              "5eTkJB6TnZ2tgYGBoEYEACSJpAnYxo0b1dPTo66uLmVlZemVV165658Ri8VUVlamsrIyXZONw5QA\\\n",
              "gGSRNAHLyMhQWlqaJk2apOeffz5xmjASiaivry/xuP7+fkUikdv+jMbGRsXjccXjcT2o0H2ZGwAQ\\\n",
              "jKQJ2ODgYOLrTz75JPEJxdraWrW2tur69evq7e1Vd3e3KioqghoTAJAk0oP4Q9etW6eOjg4NDw8r\\\n",
              "OztbW7duVUdHh7q6uhQKhZSbm6v3339fklRYWKjVq1dr3rx5Sk9P144dO5SWlhbE2ACAJBIyswl5\\\n",
              "sWhGKE0rNTnoMQDAlXhpgeLxeNBj3JGkOYUIAMDdIGAAAJcIGADAJQIGAHCJgAEAXCJgAACXCBgA\\\n",
              "wCUCBgBwiYABAFwiYAAAlwgYAMAlAgYAcImAAQBcImAAAJcC+f/A7oer//tvxecUBD1GoM6dO6cZ\\\n",
              "M2YEPUZgWH9qr19iD/7J+k+fPj0+w4yDCRuwOXPmuPk/bcZLWVlZSu8B60/t9UvswURfP6cQAQAu\\\n",
              "ETAAgEtpW7Zs2RL0EOOltLQ06BECl+p7wPpTe/0SezCR1x8yMwt6CAAA7hanEAEALk3IgLW3t6ug\\\n",
              "oEDRaFTNzc1BjzMuGhoaFA6HVVRUlDh24cIFVVdXKz8/X9XV1bp48aIkycy0efNmRaNRFRcX6+TJ\\\n",
              "k0GNfc/09fVpyZIlmjdvngoLC/Xuu+9KSq09uHbtmioqKrRgwQIVFhbqjTfekCT19vZq0aJFikaj\\\n",
              "WrNmjUZGRiRJ169f15o1axSNRrVo0SJXH5f+T0ZHR7Vw4UI98cQTklJv/bm5uZo/f75KSkpUVlYm\\\n",
              "KYWeBzbB3Lx50/Ly8qynp8euX79uxcXFdurUqaDHuue+/vprO3HihBUWFiaOvfrqq9bU1GRmZk1N\\\n",
              "Tfbaa6+Zmdn+/ftt6dKlNjY2ZseOHbOKiopAZr6Xzpw5YydOnDAzs19//dXy8/Pt1KlTKbUHY2Nj\\\n",
              "dvnyZTMzGxkZsYqKCjt27Jg99dRTtnv3bjMz27Bhg7333ntmZrZjxw7bsGGDmZnt3r3bVq9eHczg\\\n",
              "99jbb79t69ats+XLl5uZpdz6Z86caefOnbvlWKo8DyZcwI4ePWo1NTWJ29u2bbNt27YFONH46e3t\\\n",
              "vSVgs2fPtjNnzpjZ7y/ws2fPNjOzxsZG+/jjj2/7uImitrbWDh48mLJ7cOXKFVu4cKEdP37cpk+f\\\n",
              "bjdu3DCzW58PNTU1dvToUTMzu3Hjhk2fPt3GxsYCm/le6Ovrs8rKSvvyyy9t+fLlNjY2llLrN7t9\\\n",
              "wFLleTDhTiEODAwoJycncTs7O1sDAwMBTnT/DA0NKSsrS5KUmZmpoaEhSRN/T06fPq0ffvhBixYt\\\n",
              "Srk9GB0dVUlJicLhsKqrqzVr1ixNnTpV6em//46CP6/zz3uQnp6uKVOm6Pz584HNfi+8+OKLeuut\\\n",
              "tzRp0u8vZefPn0+p9UtSKBRSTU2NSktLFYvFJKXOa8GE/U0cqS4UCikUCgU9xrj77bfftHLlSr3z\\\n",
              "zjt6+OGHb7kvFfYgLS1NXV1dunTpkurq6vTzzz8HPdJ989lnnykcDqu0tFQdHR1BjxOYI0eOKBKJ\\\n",
              "6OzZs6qurtacOXNuuX8iPw8m3DuwSCSivr6+xO3+/n5FIpEAJ7p/MjIyNDg4KEkaHBxUOByWNHH3\\\n",
              "5MaNG1q5cqWeeeYZPfnkk5JSbw/+MHXqVC1ZskTHjh3TpUuXdPPmTUm3rvPPe3Dz5k398ssvmj59\\\n",
              "emAz/7e+/fZbffrpp8rNzdXatWv11Vdf6YUXXkiZ9f/hj/WFw2HV1dWps7MzZZ4HEy5g5eXl6u7u\\\n",
              "Vm9vr0ZGRtTa2qra2tqgx7ovamtr1dLSIklqaWnRihUrEsd37dolM9Px48c1ZcqUxOkFr8xMzz33\\\n",
              "nObOnauXX345cTyV9uDcuXO6dOmSJOnq1as6dOiQ5s6dqyVLlmjv3r2S/r4Hf+zN3r17VVlZ6fpv\\\n",
              "5k1NTerv79fp06fV2tqqyspKffTRRymzfkm6cuWKLl++nPj64MGDKioqSp3nQbCX4MbH/v37LT8/\\\n",
              "3/Ly8uzNN98MepxxsXbtWsvMzLT09HSLRCL2wQcf2PDwsFVWVlo0GrWqqio7f/68mf3+abVNmzZZ\\\n",
              "Xl6eFRUV2ffffx/w9P+9b775xiTZ/PnzbcGCBbZgwQLbv39/Su3Bjz/+aCUlJTZ//nwrLCy0rVu3\\\n",
              "mplZT0+PlZeX26xZs2zVqlV27do1MzO7evWqrVq1ymbNmmXl5eXW09MT5Pj31OHDhxOfQkyl9ff0\\\n",
              "9FhxcbEVFxfbvHnzEq93qfI84DdxAABcmnCnEAEAqYGAAQBcImAAAJcIGADAJQIGAHCJgAEAXCJg\\\n",
              "AACXCBgAwCUCBgBwiYABAFwiYAAAlwgYAMAlAgYAcImAAQBcImAAAJcIGADAJQIGAHCJgAEAXCJg\\\n",
              "AACXCBgAwCUCBgBwiYABAFwiYAAAlwgYAMAlAgYAcImAAQBcImAAAJcIGADAJQIGAHCJgAEAXCJg\\\n",
              "AACXCBgAwCUCBgBwiYABAFwiYAAAlwgYAMAlAgYAcImAAQBcImAAAJcIGADAJQIGAHCJgAEAXCJg\\\n",
              "AACXCBgAwCUCBgBwiYABAFwiYAAAlwgYAMAlAgYAcImAAQBcImAAAJcIGADAJQIGAHCJgAEAXCJg\\\n",
              "AACXCBgAwCUCBgBwiYABAFwiYAAAlwgYAMAlAgYAcImAAQBcImAAAJcIGADAJQIGAHCJgAEAXCJg\\\n",
              "AACXCBgAwCUCBgBwiYABAFwiYAAAl/4PN46pzeF6DY8AAAAASUVORK5CYII=\\\n",
              "\"\n",
              "  frames[11] = \"data:image/png;base64,iVBORw0KGgoAAAANSUhEUgAAAbAAAAEgCAYAAADVKCZpAAAABHNCSVQICAgIfAhkiAAAAAlwSFlz\\\n",
              "AAALEgAACxIB0t1+/AAAADh0RVh0U29mdHdhcmUAbWF0cGxvdGxpYiB2ZXJzaW9uMy4yLjIsIGh0\\\n",
              "dHA6Ly9tYXRwbG90bGliLm9yZy+WH4yJAAAQPUlEQVR4nO3db2jV9d/H8ddxu37186I0xbONs+Ga\\\n",
              "Z07dnJP9sVuCG1uiMVmafwqaLJroDftH0b0Uwo0gKNCgQxITyiFCLtKWUi4ytXW0dcMIxpiwzTGd\\\n",
              "f8pEnW7v60Z0yJLfpf2c3/PeeT5u7XzP2Xx/PnDO0/P9HmfIzEwAADgzKegBAAD4JwgYAMAlAgYA\\\n",
              "cImAAQBcImAAAJcIGADAJQIGAHCJgAEAXCJgAACXCBgAwCUCBgBwiYABAFwiYAAAlwgYAMAlAgYA\\\n",
              "cImAAQBcImAAAJcIGADAJQIGAHCJgAEAXCJgAACXCBgAwCUCBgBwiYABAFwiYAAAlwgYAMAlAgYA\\\n",
              "cImAAQBcImAAAJcIGADAJQIGAHCJgAEAXCJgAACXCBgAwCUCBgBwiYABAFwiYAAAlwgYAMAlAgYA\\\n",
              "cImAAQBcImAAAJcIGADAJQIGAHCJgAEAXCJgAACXCBgAwCUCBgBwiYABAFwiYAAAlwgYAMAlAgYA\\\n",
              "cImAAQBcImAAAJcIGADAJQIGAHCJgAEAXCJgAACXCBgAwCUCBgBwiYABAFwiYAAAlwgYAMAlAgYA\\\n",
              "cImAAQBcImAAAJcIGADAJQIGAHCJgAEAXCJgAACXCBgAwCUCBgBwiYABAFwiYAAAlwgYAMAlAgYA\\\n",
              "cImAAQBcImAAAJcIGADAJQIGAHCJgAEAXCJgAACX3ASsvb1dBQUFikajam5uDnocAEDAQmZmQQ/x\\\n",
              "/xkdHdXs2bN16NAhZWdnq7y8XLt379a8efOCHg0AEBAX78A6OzsVjUaVl5enf/3rX1q7dq3a2tqC\\\n",
              "HgsAEKD0oAe4EwMDA8rJyUnczs7O1nffffcfv+fBUEgP+egzACQNm/6IhoeHgx7jjrgI2J2KxWKK\\\n",
              "xWKSpP9RSCs1OeCJAMCXeG5u0CPcMRdvUSKRiPr6+hK3+/v7FYlE/va4xsZGxeNxxeNxPajQ/RwR\\\n",
              "AHCfuQhYeXm5uru71dvbq5GREbW2tqq2tjbosQAAAXJxCjE9PV3bt2/X448/rtHRUTU0NKiwsDDo\\\n",
              "sQAAAXLxMfp/YkYojWtgAHCX4qUFisfjQY9xR1ycQgQA4K8IGADAJQIGAHCJgAEAXCJgAACXCBgA\\\n",
              "wCUCBgBwiYABAFwiYAAAlwgYAMAlAgYAcImAAQBcImAAAJcIGADAJQIGAHCJgAEAXCJgAACXCBgA\\\n",
              "wCUCBgBwiYABAFwiYAAAlwgYAMAlAgYAcCk96AH+Kjc3Vw899JDS0tKUnp6ueDyuCxcuaM2aNTp9\\\n",
              "+rRyc3O1Z88ePfLII0GPCgAIUFK+Azt8+LC6uroUj8clSc3NzaqqqlJ3d7eqqqrU3Nwc8IQAgKAl\\\n",
              "ZcD+qq2tTfX19ZKk+vp67du3L+CJAABBS7qAhUIh1dTUqLS0VLFYTJI0NDSkrKwsSVJmZqaGhoaC\\\n",
              "HBEAkASS7hrYkSNHFIlEdPbsWVVXV2vOnDm33B8KhRQKhW77vbFYLBG9a7JxnxUAEJykewcWiUQk\\\n",
              "SeFwWHV1ders7FRGRoYGBwclSYODgwqHw7f93sbGRsXjccXjcT2o20cOADAxJFXArly5osuXLye+\\\n",
              "PnjwoIqKilRbW6uWlhZJUktLi1asWBHkmACAJJBUpxCHhoZUV1cnSbp586aefvppLV26VOXl5Vq9\\\n",
              "erV27typmTNnas+ePQFPCgAIWsjMJuTFohmhNK3U5KDHAABX4qUFiX/ClOyS6hQiAAB3ioABAFwi\\\n",
              "YAAAlwgYAMAlAgYAcImAAQBcImAAAJcIGADAJQIGAHCJgAEAXCJgAACXCBgAwCUCBgBwiYABAFwi\\\n",
              "YAAAlwgYAMAlAgYAcImAAQBcImAAAJcIGADAJQIGAHCJgAEAXCJgAACXAglYQ0ODwuGwioqKEscu\\\n",
              "XLig6upq5efnq7q6WhcvXpQkmZk2b96saDSq4uJinTx5MoiRAQBJJpCArV+/Xu3t7bcca25uVlVV\\\n",
              "lbq7u1VVVaXm5mZJ0ueff67u7m51d3crFotp48aNQYwMAEgygQRs8eLFmjZt2i3H2traVF9fL0mq\\\n",
              "r6/Xvn37EsefffZZhUIhPfbYY7p06ZIGBwfv+8wAgOSSNNfAhoaGlJWVJUnKzMzU0NCQJGlgYEA5\\\n",
              "OTmJx2VnZ2tgYCCQGQEAySM96AFuJxQKKRQK3fX3xWIxxWIxSdI12b0eCwCQRJLmHVhGRkbi1ODg\\\n",
              "4KDC4bAkKRKJqK+vL/G4/v5+RSKR2/6MxsZGxeNxxeNxPai7DyAAwI+kCVhtba1aWlokSS0tLVqx\\\n",
              "YkXi+K5du2RmOn78uKZMmZI41QgASF2BnEJct26dOjo6NDw8rOzsbG3dulWvv/66Vq9erZ07d2rm\\\n",
              "zJnas2ePJGnZsmU6cOCAotGoJk+erA8//DCIkQEASSZkZhPyYtGMUJpWanLQYwCAK/HSAsXj8aDH\\\n",
              "uCNJcwoRAIC7QcAAAC4RMACASwQMAOASAQMAuETAAAAuETAAgEsEDADgEgEDALhEwAAALhEwAIBL\\\n",
              "BAwA4BIBAwC4RMAAAC4RMACASwQMAOASAQMAuETAAAAuETAAgEsEDADgEgEDALhEwAAALhEwAIBL\\\n",
              "gQSsoaFB4XBYRUVFiWNbtmxRJBJRSUmJSkpKdODAgcR9TU1NikajKigo0BdffBHEyACAJBNIwNav\\\n",
              "X6/29va/HX/ppZfU1dWlrq4uLVu2TJL0008/qbW1VadOnVJ7e7s2bdqk0dHR+z0yACDJBBKwxYsX\\\n",
              "a9q0aXf02La2Nq1du1YPPPCAHn30UUWjUXV2do7zhACAZJdU18C2b9+u4uJiNTQ06OLFi5KkgYEB\\\n",
              "5eTkJB6TnZ2tgYGBoEYEACSJpAnYxo0b1dPTo66uLmVlZemVV165658Ri8VUVlamsrIyXZONw5QA\\\n",
              "gGSRNAHLyMhQWlqaJk2apOeffz5xmjASiaivry/xuP7+fkUikdv+jMbGRsXjccXjcT2o0H2ZGwAQ\\\n",
              "jKQJ2ODgYOLrTz75JPEJxdraWrW2tur69evq7e1Vd3e3KioqghoTAJAk0oP4Q9etW6eOjg4NDw8r\\\n",
              "OztbW7duVUdHh7q6uhQKhZSbm6v3339fklRYWKjVq1dr3rx5Sk9P144dO5SWlhbE2ACAJBIyswl5\\\n",
              "sWhGKE0rNTnoMQDAlXhpgeLxeNBj3JGkOYUIAMDdIGAAAJcIGADAJQIGAHCJgAEAXCJgAACXCBgA\\\n",
              "wCUCBgBwiYABAFwiYAAAlwgYAMAlAgYAcImAAQBcImAAAJcC+f/A7oer//tvxecUBD1GoM6dO6cZ\\\n",
              "M2YEPUZgWH9qr19iD/7J+k+fPj0+w4yDCRuwOXPmuPk/bcZLWVlZSu8B60/t9UvswURfP6cQAQAu\\\n",
              "ETAAgEtpW7Zs2RL0EOOltLQ06BECl+p7wPpTe/0SezCR1x8yMwt6CAAA7hanEAEALk3IgLW3t6ug\\\n",
              "oEDRaFTNzc1BjzMuGhoaFA6HVVRUlDh24cIFVVdXKz8/X9XV1bp48aIkycy0efNmRaNRFRcX6+TJ\\\n",
              "k0GNfc/09fVpyZIlmjdvngoLC/Xuu+9KSq09uHbtmioqKrRgwQIVFhbqjTfekCT19vZq0aJFikaj\\\n",
              "WrNmjUZGRiRJ169f15o1axSNRrVo0SJXH5f+T0ZHR7Vw4UI98cQTklJv/bm5uZo/f75KSkpUVlYm\\\n",
              "KYWeBzbB3Lx50/Ly8qynp8euX79uxcXFdurUqaDHuue+/vprO3HihBUWFiaOvfrqq9bU1GRmZk1N\\\n",
              "Tfbaa6+Zmdn+/ftt6dKlNjY2ZseOHbOKiopAZr6Xzpw5YydOnDAzs19//dXy8/Pt1KlTKbUHY2Nj\\\n",
              "dvnyZTMzGxkZsYqKCjt27Jg99dRTtnv3bjMz27Bhg7333ntmZrZjxw7bsGGDmZnt3r3bVq9eHczg\\\n",
              "99jbb79t69ats+XLl5uZpdz6Z86caefOnbvlWKo8DyZcwI4ePWo1NTWJ29u2bbNt27YFONH46e3t\\\n",
              "vSVgs2fPtjNnzpjZ7y/ws2fPNjOzxsZG+/jjj2/7uImitrbWDh48mLJ7cOXKFVu4cKEdP37cpk+f\\\n",
              "bjdu3DCzW58PNTU1dvToUTMzu3Hjhk2fPt3GxsYCm/le6Ovrs8rKSvvyyy9t+fLlNjY2llLrN7t9\\\n",
              "wFLleTDhTiEODAwoJycncTs7O1sDAwMBTnT/DA0NKSsrS5KUmZmpoaEhSRN/T06fPq0ffvhBixYt\\\n",
              "Srk9GB0dVUlJicLhsKqrqzVr1ixNnTpV6em//46CP6/zz3uQnp6uKVOm6Pz584HNfi+8+OKLeuut\\\n",
              "tzRp0u8vZefPn0+p9UtSKBRSTU2NSktLFYvFJKXOa8GE/U0cqS4UCikUCgU9xrj77bfftHLlSr3z\\\n",
              "zjt6+OGHb7kvFfYgLS1NXV1dunTpkurq6vTzzz8HPdJ989lnnykcDqu0tFQdHR1BjxOYI0eOKBKJ\\\n",
              "6OzZs6qurtacOXNuuX8iPw8m3DuwSCSivr6+xO3+/n5FIpEAJ7p/MjIyNDg4KEkaHBxUOByWNHH3\\\n",
              "5MaNG1q5cqWeeeYZPfnkk5JSbw/+MHXqVC1ZskTHjh3TpUuXdPPmTUm3rvPPe3Dz5k398ssvmj59\\\n",
              "emAz/7e+/fZbffrpp8rNzdXatWv11Vdf6YUXXkiZ9f/hj/WFw2HV1dWps7MzZZ4HEy5g5eXl6u7u\\\n",
              "Vm9vr0ZGRtTa2qra2tqgx7ovamtr1dLSIklqaWnRihUrEsd37dolM9Px48c1ZcqUxOkFr8xMzz33\\\n",
              "nObOnauXX345cTyV9uDcuXO6dOmSJOnq1as6dOiQ5s6dqyVLlmjv3r2S/r4Hf+zN3r17VVlZ6fpv\\\n",
              "5k1NTerv79fp06fV2tqqyspKffTRRymzfkm6cuWKLl++nPj64MGDKioqSp3nQbCX4MbH/v37LT8/\\\n",
              "3/Ly8uzNN98MepxxsXbtWsvMzLT09HSLRCL2wQcf2PDwsFVWVlo0GrWqqio7f/68mf3+abVNmzZZ\\\n",
              "Xl6eFRUV2ffffx/w9P+9b775xiTZ/PnzbcGCBbZgwQLbv39/Su3Bjz/+aCUlJTZ//nwrLCy0rVu3\\\n",
              "mplZT0+PlZeX26xZs2zVqlV27do1MzO7evWqrVq1ymbNmmXl5eXW09MT5Pj31OHDhxOfQkyl9ff0\\\n",
              "9FhxcbEVFxfbvHnzEq93qfI84DdxAABcmnCnEAEAqYGAAQBcImAAAJcIGADAJQIGAHCJgAEAXCJg\\\n",
              "AACXCBgAwCUCBgBwiYABAFwiYAAAlwgYAMAlAgYAcImAAQBcImAAAJcIGADAJQIGAHCJgAEAXCJg\\\n",
              "AACXCBgAwCUCBgBwiYABAFwiYAAAlwgYAMAlAgYAcImAAQBcImAAAJcIGADAJQIGAHCJgAEAXCJg\\\n",
              "AACXCBgAwCUCBgBwiYABAFwiYAAAlwgYAMAlAgYAcImAAQBcImAAAJcIGADAJQIGAHCJgAEAXCJg\\\n",
              "AACXCBgAwCUCBgBwiYABAFwiYAAAlwgYAMAlAgYAcImAAQBcImAAAJcIGADAJQIGAHCJgAEAXCJg\\\n",
              "AACXCBgAwCUCBgBwiYABAFwiYAAAlwgYAMAlAgYAcImAAQBcImAAAJcIGADAJQIGAHCJgAEAXCJg\\\n",
              "AACXCBgAwCUCBgBwiYABAFwiYAAAl/4PN46pzeF6DY8AAAAASUVORK5CYII=\\\n",
              "\"\n",
              "  frames[12] = \"data:image/png;base64,iVBORw0KGgoAAAANSUhEUgAAAbAAAAEgCAYAAADVKCZpAAAABHNCSVQICAgIfAhkiAAAAAlwSFlz\\\n",
              "AAALEgAACxIB0t1+/AAAADh0RVh0U29mdHdhcmUAbWF0cGxvdGxpYiB2ZXJzaW9uMy4yLjIsIGh0\\\n",
              "dHA6Ly9tYXRwbG90bGliLm9yZy+WH4yJAAAQPUlEQVR4nO3db2jV9d/H8ddxu37186I0xbONs+Ga\\\n",
              "Z07dnJP9sVuCG1uiMVmafwqaLJroDftH0b0Uwo0gKNCgQxITyiFCLtKWUi4ytXW0dcMIxpiwzTGd\\\n",
              "f8pEnW7v60Z0yJLfpf2c3/PeeT5u7XzP2Xx/PnDO0/P9HmfIzEwAADgzKegBAAD4JwgYAMAlAgYA\\\n",
              "cImAAQBcImAAAJcIGADAJQIGAHCJgAEAXCJgAACXCBgAwCUCBgBwiYABAFwiYAAAlwgYAMAlAgYA\\\n",
              "cImAAQBcImAAAJcIGADAJQIGAHCJgAEAXCJgAACXCBgAwCUCBgBwiYABAFwiYAAAlwgYAMAlAgYA\\\n",
              "cImAAQBcImAAAJcIGADAJQIGAHCJgAEAXCJgAACXCBgAwCUCBgBwiYABAFwiYAAAlwgYAMAlAgYA\\\n",
              "cImAAQBcImAAAJcIGADAJQIGAHCJgAEAXCJgAACXCBgAwCUCBgBwiYABAFwiYAAAlwgYAMAlAgYA\\\n",
              "cImAAQBcImAAAJcIGADAJQIGAHCJgAEAXCJgAACXCBgAwCUCBgBwiYABAFwiYAAAlwgYAMAlAgYA\\\n",
              "cImAAQBcImAAAJcIGADAJQIGAHCJgAEAXCJgAACXCBgAwCUCBgBwiYABAFwiYAAAlwgYAMAlAgYA\\\n",
              "cImAAQBcImAAAJcIGADAJQIGAHCJgAEAXCJgAACX3ASsvb1dBQUFikajam5uDnocAEDAQmZmQQ/x\\\n",
              "/xkdHdXs2bN16NAhZWdnq7y8XLt379a8efOCHg0AEBAX78A6OzsVjUaVl5enf/3rX1q7dq3a2tqC\\\n",
              "HgsAEKD0oAe4EwMDA8rJyUnczs7O1nffffcfv+fBUEgP+egzACQNm/6IhoeHgx7jjrgI2J2KxWKK\\\n",
              "xWKSpP9RSCs1OeCJAMCXeG5u0CPcMRdvUSKRiPr6+hK3+/v7FYlE/va4xsZGxeNxxeNxPajQ/RwR\\\n",
              "AHCfuQhYeXm5uru71dvbq5GREbW2tqq2tjbosQAAAXJxCjE9PV3bt2/X448/rtHRUTU0NKiwsDDo\\\n",
              "sQAAAXLxMfp/YkYojWtgAHCX4qUFisfjQY9xR1ycQgQA4K8IGADAJQIGAHCJgAEAXCJgAACXCBgA\\\n",
              "wCUCBgBwiYABAFwiYAAAlwgYAMAlAgYAcImAAQBcImAAAJcIGADAJQIGAHCJgAEAXCJgAACXCBgA\\\n",
              "wCUCBgBwiYABAFwiYAAAlwgYAMAlAgYAcCk96AH+Kjc3Vw899JDS0tKUnp6ueDyuCxcuaM2aNTp9\\\n",
              "+rRyc3O1Z88ePfLII0GPCgAIUFK+Azt8+LC6uroUj8clSc3NzaqqqlJ3d7eqqqrU3Nwc8IQAgKAl\\\n",
              "ZcD+qq2tTfX19ZKk+vp67du3L+CJAABBS7qAhUIh1dTUqLS0VLFYTJI0NDSkrKwsSVJmZqaGhoaC\\\n",
              "HBEAkASS7hrYkSNHFIlEdPbsWVVXV2vOnDm33B8KhRQKhW77vbFYLBG9a7JxnxUAEJykewcWiUQk\\\n",
              "SeFwWHV1ders7FRGRoYGBwclSYODgwqHw7f93sbGRsXjccXjcT2o20cOADAxJFXArly5osuXLye+\\\n",
              "PnjwoIqKilRbW6uWlhZJUktLi1asWBHkmACAJJBUpxCHhoZUV1cnSbp586aefvppLV26VOXl5Vq9\\\n",
              "erV27typmTNnas+ePQFPCgAIWsjMJuTFohmhNK3U5KDHAABX4qUFiX/ClOyS6hQiAAB3ioABAFwi\\\n",
              "YAAAlwgYAMAlAgYAcImAAQBcImAAAJcIGADAJQIGAHCJgAEAXCJgAACXCBgAwCUCBgBwiYABAFwi\\\n",
              "YAAAlwgYAMAlAgYAcImAAQBcImAAAJcIGADAJQIGAHCJgAEAXCJgAACXAglYQ0ODwuGwioqKEscu\\\n",
              "XLig6upq5efnq7q6WhcvXpQkmZk2b96saDSq4uJinTx5MoiRAQBJJpCArV+/Xu3t7bcca25uVlVV\\\n",
              "lbq7u1VVVaXm5mZJ0ueff67u7m51d3crFotp48aNQYwMAEgygQRs8eLFmjZt2i3H2traVF9fL0mq\\\n",
              "r6/Xvn37EsefffZZhUIhPfbYY7p06ZIGBwfv+8wAgOSSNNfAhoaGlJWVJUnKzMzU0NCQJGlgYEA5\\\n",
              "OTmJx2VnZ2tgYCCQGQEAySM96AFuJxQKKRQK3fX3xWIxxWIxSdI12b0eCwCQRJLmHVhGRkbi1ODg\\\n",
              "4KDC4bAkKRKJqK+vL/G4/v5+RSKR2/6MxsZGxeNxxeNxPai7DyAAwI+kCVhtba1aWlokSS0tLVqx\\\n",
              "YkXi+K5du2RmOn78uKZMmZI41QgASF2BnEJct26dOjo6NDw8rOzsbG3dulWvv/66Vq9erZ07d2rm\\\n",
              "zJnas2ePJGnZsmU6cOCAotGoJk+erA8//DCIkQEASSZkZhPyYtGMUJpWanLQYwCAK/HSAsXj8aDH\\\n",
              "uCNJcwoRAIC7QcAAAC4RMACASwQMAOASAQMAuETAAAAuETAAgEsEDADgEgEDALhEwAAALhEwAIBL\\\n",
              "BAwA4BIBAwC4RMAAAC4RMACASwQMAOASAQMAuETAAAAuETAAgEsEDADgEgEDALhEwAAALhEwAIBL\\\n",
              "gQSsoaFB4XBYRUVFiWNbtmxRJBJRSUmJSkpKdODAgcR9TU1NikajKigo0BdffBHEyACAJBNIwNav\\\n",
              "X6/29va/HX/ppZfU1dWlrq4uLVu2TJL0008/qbW1VadOnVJ7e7s2bdqk0dHR+z0yACDJBBKwxYsX\\\n",
              "a9q0aXf02La2Nq1du1YPPPCAHn30UUWjUXV2do7zhACAZJdU18C2b9+u4uJiNTQ06OLFi5KkgYEB\\\n",
              "5eTkJB6TnZ2tgYGBoEYEACSJpAnYxo0b1dPTo66uLmVlZemVV165658Ri8VUVlamsrIyXZONw5QA\\\n",
              "gGSRNAHLyMhQWlqaJk2apOeffz5xmjASiaivry/xuP7+fkUikdv+jMbGRsXjccXjcT2o0H2ZGwAQ\\\n",
              "jKQJ2ODgYOLrTz75JPEJxdraWrW2tur69evq7e1Vd3e3KioqghoTAJAk0oP4Q9etW6eOjg4NDw8r\\\n",
              "OztbW7duVUdHh7q6uhQKhZSbm6v3339fklRYWKjVq1dr3rx5Sk9P144dO5SWlhbE2ACAJBIyswl5\\\n",
              "sWhGKE0rNTnoMQDAlXhpgeLxeNBj3JGkOYUIAMDdIGAAAJcIGADAJQIGAHCJgAEAXCJgAACXCBgA\\\n",
              "wCUCBgBwiYABAFwiYAAAlwgYAMAlAgYAcImAAQBcImAAAJcC+f/A7oer//tvxecUBD1GoM6dO6cZ\\\n",
              "M2YEPUZgWH9qr19iD/7J+k+fPj0+w4yDCRuwOXPmuPk/bcZLWVlZSu8B60/t9UvswURfP6cQAQAu\\\n",
              "ETAAgEtpW7Zs2RL0EOOltLQ06BECl+p7wPpTe/0SezCR1x8yMwt6CAAA7hanEAEALk3IgLW3t6ug\\\n",
              "oEDRaFTNzc1BjzMuGhoaFA6HVVRUlDh24cIFVVdXKz8/X9XV1bp48aIkycy0efNmRaNRFRcX6+TJ\\\n",
              "k0GNfc/09fVpyZIlmjdvngoLC/Xuu+9KSq09uHbtmioqKrRgwQIVFhbqjTfekCT19vZq0aJFikaj\\\n",
              "WrNmjUZGRiRJ169f15o1axSNRrVo0SJXH5f+T0ZHR7Vw4UI98cQTklJv/bm5uZo/f75KSkpUVlYm\\\n",
              "KYWeBzbB3Lx50/Ly8qynp8euX79uxcXFdurUqaDHuue+/vprO3HihBUWFiaOvfrqq9bU1GRmZk1N\\\n",
              "Tfbaa6+Zmdn+/ftt6dKlNjY2ZseOHbOKiopAZr6Xzpw5YydOnDAzs19//dXy8/Pt1KlTKbUHY2Nj\\\n",
              "dvnyZTMzGxkZsYqKCjt27Jg99dRTtnv3bjMz27Bhg7333ntmZrZjxw7bsGGDmZnt3r3bVq9eHczg\\\n",
              "99jbb79t69ats+XLl5uZpdz6Z86caefOnbvlWKo8DyZcwI4ePWo1NTWJ29u2bbNt27YFONH46e3t\\\n",
              "vSVgs2fPtjNnzpjZ7y/ws2fPNjOzxsZG+/jjj2/7uImitrbWDh48mLJ7cOXKFVu4cKEdP37cpk+f\\\n",
              "bjdu3DCzW58PNTU1dvToUTMzu3Hjhk2fPt3GxsYCm/le6Ovrs8rKSvvyyy9t+fLlNjY2llLrN7t9\\\n",
              "wFLleTDhTiEODAwoJycncTs7O1sDAwMBTnT/DA0NKSsrS5KUmZmpoaEhSRN/T06fPq0ffvhBixYt\\\n",
              "Srk9GB0dVUlJicLhsKqrqzVr1ixNnTpV6em//46CP6/zz3uQnp6uKVOm6Pz584HNfi+8+OKLeuut\\\n",
              "tzRp0u8vZefPn0+p9UtSKBRSTU2NSktLFYvFJKXOa8GE/U0cqS4UCikUCgU9xrj77bfftHLlSr3z\\\n",
              "zjt6+OGHb7kvFfYgLS1NXV1dunTpkurq6vTzzz8HPdJ989lnnykcDqu0tFQdHR1BjxOYI0eOKBKJ\\\n",
              "6OzZs6qurtacOXNuuX8iPw8m3DuwSCSivr6+xO3+/n5FIpEAJ7p/MjIyNDg4KEkaHBxUOByWNHH3\\\n",
              "5MaNG1q5cqWeeeYZPfnkk5JSbw/+MHXqVC1ZskTHjh3TpUuXdPPmTUm3rvPPe3Dz5k398ssvmj59\\\n",
              "emAz/7e+/fZbffrpp8rNzdXatWv11Vdf6YUXXkiZ9f/hj/WFw2HV1dWps7MzZZ4HEy5g5eXl6u7u\\\n",
              "Vm9vr0ZGRtTa2qra2tqgx7ovamtr1dLSIklqaWnRihUrEsd37dolM9Px48c1ZcqUxOkFr8xMzz33\\\n",
              "nObOnauXX345cTyV9uDcuXO6dOmSJOnq1as6dOiQ5s6dqyVLlmjv3r2S/r4Hf+zN3r17VVlZ6fpv\\\n",
              "5k1NTerv79fp06fV2tqqyspKffTRRymzfkm6cuWKLl++nPj64MGDKioqSp3nQbCX4MbH/v37LT8/\\\n",
              "3/Ly8uzNN98MepxxsXbtWsvMzLT09HSLRCL2wQcf2PDwsFVWVlo0GrWqqio7f/68mf3+abVNmzZZ\\\n",
              "Xl6eFRUV2ffffx/w9P+9b775xiTZ/PnzbcGCBbZgwQLbv39/Su3Bjz/+aCUlJTZ//nwrLCy0rVu3\\\n",
              "mplZT0+PlZeX26xZs2zVqlV27do1MzO7evWqrVq1ymbNmmXl5eXW09MT5Pj31OHDhxOfQkyl9ff0\\\n",
              "9FhxcbEVFxfbvHnzEq93qfI84DdxAABcmnCnEAEAqYGAAQBcImAAAJcIGADAJQIGAHCJgAEAXCJg\\\n",
              "AACXCBgAwCUCBgBwiYABAFwiYAAAlwgYAMAlAgYAcImAAQBcImAAAJcIGADAJQIGAHCJgAEAXCJg\\\n",
              "AACXCBgAwCUCBgBwiYABAFwiYAAAlwgYAMAlAgYAcImAAQBcImAAAJcIGADAJQIGAHCJgAEAXCJg\\\n",
              "AACXCBgAwCUCBgBwiYABAFwiYAAAlwgYAMAlAgYAcImAAQBcImAAAJcIGADAJQIGAHCJgAEAXCJg\\\n",
              "AACXCBgAwCUCBgBwiYABAFwiYAAAlwgYAMAlAgYAcImAAQBcImAAAJcIGADAJQIGAHCJgAEAXCJg\\\n",
              "AACXCBgAwCUCBgBwiYABAFwiYAAAlwgYAMAlAgYAcImAAQBcImAAAJcIGADAJQIGAHCJgAEAXCJg\\\n",
              "AACXCBgAwCUCBgBwiYABAFwiYAAAl/4PN46pzeF6DY8AAAAASUVORK5CYII=\\\n",
              "\"\n",
              "  frames[13] = \"data:image/png;base64,iVBORw0KGgoAAAANSUhEUgAAAbAAAAEgCAYAAADVKCZpAAAABHNCSVQICAgIfAhkiAAAAAlwSFlz\\\n",
              "AAALEgAACxIB0t1+/AAAADh0RVh0U29mdHdhcmUAbWF0cGxvdGxpYiB2ZXJzaW9uMy4yLjIsIGh0\\\n",
              "dHA6Ly9tYXRwbG90bGliLm9yZy+WH4yJAAAQPUlEQVR4nO3db2jV9d/H8ddxu37186I0xbONs+Ga\\\n",
              "Z07dnJP9sVuCG1uiMVmafwqaLJroDftH0b0Uwo0gKNCgQxITyiFCLtKWUi4ytXW0dcMIxpiwzTGd\\\n",
              "f8pEnW7v60Z0yJLfpf2c3/PeeT5u7XzP2Xx/PnDO0/P9HmfIzEwAADgzKegBAAD4JwgYAMAlAgYA\\\n",
              "cImAAQBcImAAAJcIGADAJQIGAHCJgAEAXCJgAACXCBgAwCUCBgBwiYABAFwiYAAAlwgYAMAlAgYA\\\n",
              "cImAAQBcImAAAJcIGADAJQIGAHCJgAEAXCJgAACXCBgAwCUCBgBwiYABAFwiYAAAlwgYAMAlAgYA\\\n",
              "cImAAQBcImAAAJcIGADAJQIGAHCJgAEAXCJgAACXCBgAwCUCBgBwiYABAFwiYAAAlwgYAMAlAgYA\\\n",
              "cImAAQBcImAAAJcIGADAJQIGAHCJgAEAXCJgAACXCBgAwCUCBgBwiYABAFwiYAAAlwgYAMAlAgYA\\\n",
              "cImAAQBcImAAAJcIGADAJQIGAHCJgAEAXCJgAACXCBgAwCUCBgBwiYABAFwiYAAAlwgYAMAlAgYA\\\n",
              "cImAAQBcImAAAJcIGADAJQIGAHCJgAEAXCJgAACXCBgAwCUCBgBwiYABAFwiYAAAlwgYAMAlAgYA\\\n",
              "cImAAQBcImAAAJcIGADAJQIGAHCJgAEAXCJgAACX3ASsvb1dBQUFikajam5uDnocAEDAQmZmQQ/x\\\n",
              "/xkdHdXs2bN16NAhZWdnq7y8XLt379a8efOCHg0AEBAX78A6OzsVjUaVl5enf/3rX1q7dq3a2tqC\\\n",
              "HgsAEKD0oAe4EwMDA8rJyUnczs7O1nffffcfv+fBUEgP+egzACQNm/6IhoeHgx7jjrgI2J2KxWKK\\\n",
              "xWKSpP9RSCs1OeCJAMCXeG5u0CPcMRdvUSKRiPr6+hK3+/v7FYlE/va4xsZGxeNxxeNxPajQ/RwR\\\n",
              "AHCfuQhYeXm5uru71dvbq5GREbW2tqq2tjbosQAAAXJxCjE9PV3bt2/X448/rtHRUTU0NKiwsDDo\\\n",
              "sQAAAXLxMfp/YkYojWtgAHCX4qUFisfjQY9xR1ycQgQA4K8IGADAJQIGAHCJgAEAXCJgAACXCBgA\\\n",
              "wCUCBgBwiYABAFwiYAAAlwgYAMAlAgYAcImAAQBcImAAAJcIGADAJQIGAHCJgAEAXCJgAACXCBgA\\\n",
              "wCUCBgBwiYABAFwiYAAAlwgYAMAlAgYAcCk96AH+Kjc3Vw899JDS0tKUnp6ueDyuCxcuaM2aNTp9\\\n",
              "+rRyc3O1Z88ePfLII0GPCgAIUFK+Azt8+LC6uroUj8clSc3NzaqqqlJ3d7eqqqrU3Nwc8IQAgKAl\\\n",
              "ZcD+qq2tTfX19ZKk+vp67du3L+CJAABBS7qAhUIh1dTUqLS0VLFYTJI0NDSkrKwsSVJmZqaGhoaC\\\n",
              "HBEAkASS7hrYkSNHFIlEdPbsWVVXV2vOnDm33B8KhRQKhW77vbFYLBG9a7JxnxUAEJykewcWiUQk\\\n",
              "SeFwWHV1ders7FRGRoYGBwclSYODgwqHw7f93sbGRsXjccXjcT2o20cOADAxJFXArly5osuXLye+\\\n",
              "PnjwoIqKilRbW6uWlhZJUktLi1asWBHkmACAJJBUpxCHhoZUV1cnSbp586aefvppLV26VOXl5Vq9\\\n",
              "erV27typmTNnas+ePQFPCgAIWsjMJuTFohmhNK3U5KDHAABX4qUFiX/ClOyS6hQiAAB3ioABAFwi\\\n",
              "YAAAlwgYAMAlAgYAcImAAQBcImAAAJcIGADAJQIGAHCJgAEAXCJgAACXCBgAwCUCBgBwiYABAFwi\\\n",
              "YAAAlwgYAMAlAgYAcImAAQBcImAAAJcIGADAJQIGAHCJgAEAXCJgAACXAglYQ0ODwuGwioqKEscu\\\n",
              "XLig6upq5efnq7q6WhcvXpQkmZk2b96saDSq4uJinTx5MoiRAQBJJpCArV+/Xu3t7bcca25uVlVV\\\n",
              "lbq7u1VVVaXm5mZJ0ueff67u7m51d3crFotp48aNQYwMAEgygQRs8eLFmjZt2i3H2traVF9fL0mq\\\n",
              "r6/Xvn37EsefffZZhUIhPfbYY7p06ZIGBwfv+8wAgOSSNNfAhoaGlJWVJUnKzMzU0NCQJGlgYEA5\\\n",
              "OTmJx2VnZ2tgYCCQGQEAySM96AFuJxQKKRQK3fX3xWIxxWIxSdI12b0eCwCQRJLmHVhGRkbi1ODg\\\n",
              "4KDC4bAkKRKJqK+vL/G4/v5+RSKR2/6MxsZGxeNxxeNxPai7DyAAwI+kCVhtba1aWlokSS0tLVqx\\\n",
              "YkXi+K5du2RmOn78uKZMmZI41QgASF2BnEJct26dOjo6NDw8rOzsbG3dulWvv/66Vq9erZ07d2rm\\\n",
              "zJnas2ePJGnZsmU6cOCAotGoJk+erA8//DCIkQEASSZkZhPyYtGMUJpWanLQYwCAK/HSAsXj8aDH\\\n",
              "uCNJcwoRAIC7QcAAAC4RMACASwQMAOASAQMAuETAAAAuETAAgEsEDADgEgEDALhEwAAALhEwAIBL\\\n",
              "BAwA4BIBAwC4RMAAAC4RMACASwQMAOASAQMAuETAAAAuETAAgEsEDADgEgEDALhEwAAALhEwAIBL\\\n",
              "gQSsoaFB4XBYRUVFiWNbtmxRJBJRSUmJSkpKdODAgcR9TU1NikajKigo0BdffBHEyACAJBNIwNav\\\n",
              "X6/29va/HX/ppZfU1dWlrq4uLVu2TJL0008/qbW1VadOnVJ7e7s2bdqk0dHR+z0yACDJBBKwxYsX\\\n",
              "a9q0aXf02La2Nq1du1YPPPCAHn30UUWjUXV2do7zhACAZJdU18C2b9+u4uJiNTQ06OLFi5KkgYEB\\\n",
              "5eTkJB6TnZ2tgYGBoEYEACSJpAnYxo0b1dPTo66uLmVlZemVV165658Ri8VUVlamsrIyXZONw5QA\\\n",
              "gGSRNAHLyMhQWlqaJk2apOeffz5xmjASiaivry/xuP7+fkUikdv+jMbGRsXjccXjcT2o0H2ZGwAQ\\\n",
              "jKQJ2ODgYOLrTz75JPEJxdraWrW2tur69evq7e1Vd3e3KioqghoTAJAk0oP4Q9etW6eOjg4NDw8r\\\n",
              "OztbW7duVUdHh7q6uhQKhZSbm6v3339fklRYWKjVq1dr3rx5Sk9P144dO5SWlhbE2ACAJBIyswl5\\\n",
              "sWhGKE0rNTnoMQDAlXhpgeLxeNBj3JGkOYUIAMDdIGAAAJcIGADAJQIGAHCJgAEAXCJgAACXCBgA\\\n",
              "wCUCBgBwiYABAFwiYAAAlwgYAMAlAgYAcImAAQBcImAAAJcC+f/A7oer//tvxecUBD1GoM6dO6cZ\\\n",
              "M2YEPUZgWH9qr19iD/7J+k+fPj0+w4yDCRuwOXPmuPk/bcZLWVlZSu8B60/t9UvswURfP6cQAQAu\\\n",
              "ETAAgEtpW7Zs2RL0EOOltLQ06BECl+p7wPpTe/0SezCR1x8yMwt6CAAA7hanEAEALk3IgLW3t6ug\\\n",
              "oEDRaFTNzc1BjzMuGhoaFA6HVVRUlDh24cIFVVdXKz8/X9XV1bp48aIkycy0efNmRaNRFRcX6+TJ\\\n",
              "k0GNfc/09fVpyZIlmjdvngoLC/Xuu+9KSq09uHbtmioqKrRgwQIVFhbqjTfekCT19vZq0aJFikaj\\\n",
              "WrNmjUZGRiRJ169f15o1axSNRrVo0SJXH5f+T0ZHR7Vw4UI98cQTklJv/bm5uZo/f75KSkpUVlYm\\\n",
              "KYWeBzbB3Lx50/Ly8qynp8euX79uxcXFdurUqaDHuue+/vprO3HihBUWFiaOvfrqq9bU1GRmZk1N\\\n",
              "Tfbaa6+Zmdn+/ftt6dKlNjY2ZseOHbOKiopAZr6Xzpw5YydOnDAzs19//dXy8/Pt1KlTKbUHY2Nj\\\n",
              "dvnyZTMzGxkZsYqKCjt27Jg99dRTtnv3bjMz27Bhg7333ntmZrZjxw7bsGGDmZnt3r3bVq9eHczg\\\n",
              "99jbb79t69ats+XLl5uZpdz6Z86caefOnbvlWKo8DyZcwI4ePWo1NTWJ29u2bbNt27YFONH46e3t\\\n",
              "vSVgs2fPtjNnzpjZ7y/ws2fPNjOzxsZG+/jjj2/7uImitrbWDh48mLJ7cOXKFVu4cKEdP37cpk+f\\\n",
              "bjdu3DCzW58PNTU1dvToUTMzu3Hjhk2fPt3GxsYCm/le6Ovrs8rKSvvyyy9t+fLlNjY2llLrN7t9\\\n",
              "wFLleTDhTiEODAwoJycncTs7O1sDAwMBTnT/DA0NKSsrS5KUmZmpoaEhSRN/T06fPq0ffvhBixYt\\\n",
              "Srk9GB0dVUlJicLhsKqrqzVr1ixNnTpV6em//46CP6/zz3uQnp6uKVOm6Pz584HNfi+8+OKLeuut\\\n",
              "tzRp0u8vZefPn0+p9UtSKBRSTU2NSktLFYvFJKXOa8GE/U0cqS4UCikUCgU9xrj77bfftHLlSr3z\\\n",
              "zjt6+OGHb7kvFfYgLS1NXV1dunTpkurq6vTzzz8HPdJ989lnnykcDqu0tFQdHR1BjxOYI0eOKBKJ\\\n",
              "6OzZs6qurtacOXNuuX8iPw8m3DuwSCSivr6+xO3+/n5FIpEAJ7p/MjIyNDg4KEkaHBxUOByWNHH3\\\n",
              "5MaNG1q5cqWeeeYZPfnkk5JSbw/+MHXqVC1ZskTHjh3TpUuXdPPmTUm3rvPPe3Dz5k398ssvmj59\\\n",
              "emAz/7e+/fZbffrpp8rNzdXatWv11Vdf6YUXXkiZ9f/hj/WFw2HV1dWps7MzZZ4HEy5g5eXl6u7u\\\n",
              "Vm9vr0ZGRtTa2qra2tqgx7ovamtr1dLSIklqaWnRihUrEsd37dolM9Px48c1ZcqUxOkFr8xMzz33\\\n",
              "nObOnauXX345cTyV9uDcuXO6dOmSJOnq1as6dOiQ5s6dqyVLlmjv3r2S/r4Hf+zN3r17VVlZ6fpv\\\n",
              "5k1NTerv79fp06fV2tqqyspKffTRRymzfkm6cuWKLl++nPj64MGDKioqSp3nQbCX4MbH/v37LT8/\\\n",
              "3/Ly8uzNN98MepxxsXbtWsvMzLT09HSLRCL2wQcf2PDwsFVWVlo0GrWqqio7f/68mf3+abVNmzZZ\\\n",
              "Xl6eFRUV2ffffx/w9P+9b775xiTZ/PnzbcGCBbZgwQLbv39/Su3Bjz/+aCUlJTZ//nwrLCy0rVu3\\\n",
              "mplZT0+PlZeX26xZs2zVqlV27do1MzO7evWqrVq1ymbNmmXl5eXW09MT5Pj31OHDhxOfQkyl9ff0\\\n",
              "9FhxcbEVFxfbvHnzEq93qfI84DdxAABcmnCnEAEAqYGAAQBcImAAAJcIGADAJQIGAHCJgAEAXCJg\\\n",
              "AACXCBgAwCUCBgBwiYABAFwiYAAAlwgYAMAlAgYAcImAAQBcImAAAJcIGADAJQIGAHCJgAEAXCJg\\\n",
              "AACXCBgAwCUCBgBwiYABAFwiYAAAlwgYAMAlAgYAcImAAQBcImAAAJcIGADAJQIGAHCJgAEAXCJg\\\n",
              "AACXCBgAwCUCBgBwiYABAFwiYAAAlwgYAMAlAgYAcImAAQBcImAAAJcIGADAJQIGAHCJgAEAXCJg\\\n",
              "AACXCBgAwCUCBgBwiYABAFwiYAAAlwgYAMAlAgYAcImAAQBcImAAAJcIGADAJQIGAHCJgAEAXCJg\\\n",
              "AACXCBgAwCUCBgBwiYABAFwiYAAAlwgYAMAlAgYAcImAAQBcImAAAJcIGADAJQIGAHCJgAEAXCJg\\\n",
              "AACXCBgAwCUCBgBwiYABAFwiYAAAl/4PN46pzeF6DY8AAAAASUVORK5CYII=\\\n",
              "\"\n",
              "  frames[14] = \"data:image/png;base64,iVBORw0KGgoAAAANSUhEUgAAAbAAAAEgCAYAAADVKCZpAAAABHNCSVQICAgIfAhkiAAAAAlwSFlz\\\n",
              "AAALEgAACxIB0t1+/AAAADh0RVh0U29mdHdhcmUAbWF0cGxvdGxpYiB2ZXJzaW9uMy4yLjIsIGh0\\\n",
              "dHA6Ly9tYXRwbG90bGliLm9yZy+WH4yJAAAQTUlEQVR4nO3db0zVdf/H8dcRVltXpYkeYOdwSXjw\\\n",
              "DyDixR+75SYMcthwpCHWFo4WTm/Yv9W6l25NWFtbbdrWWa7hVjLnlrQ00pm0TI2OhjdsbWcM9gNk\\\n",
              "CChlTkXg87vROst012XXJXzPm/N83OJ8OeD789m+5+n5nrODzznnBACAMbO8HgAAgP8GAQMAmETA\\\n",
              "AAAmETAAgEkEDABgEgEDAJhEwAAAJhEwAIBJBAwAYBIBAwCYRMAAACYRMACASQQMAGASAQMAmETA\\\n",
              "AAAmETAAgEkEDABgEgEDAJhEwAAAJhEwAIBJBAwAYBIBAwCYRMAAACYRMACASQQMAGASAQMAmETA\\\n",
              "AAAmETAAgEkEDABgEgEDAJhEwAAAJhEwAIBJBAwAYBIBAwCYRMAAACYRMACASQQMAGASAQMAmETA\\\n",
              "AAAmETAAgEkEDABgEgEDAJhEwAAAJhEwAIBJBAwAYBIBAwCYRMAAACYRMACASQQMAGASAQMAmETA\\\n",
              "AAAmETAAgEkEDABgEgEDAJhEwAAAJhEwAIBJBAwAYBIBAwCYRMAAACYRMACASQQMAGASAQMAmETA\\\n",
              "AAAmETAAgEkEDABgEgEDAJhEwAAAJhEwAIBJBAwAYBIBAwCYRMAAACYRMACASQQMAGASAQMAmETA\\\n",
              "AAAmETAAgEkEDABgEgEDAJhEwAAAJhEwAIBJBAwAYJKZgLW1tWnx4sUKhUJqamryehwAgMd8zjnn\\\n",
              "9RD/ycTEhBYtWqRjx44pGAyquLhY+/fvV05OjtejAQA8YuIZWEdHh0KhkLKysvTAAw+otrZWra2t\\\n",
              "Xo8FAPBQstcD3Iv+/n5lZGTEbgeDQX3//ff/9mfmzUtR5j//OdWjAcCM0vN/vRoeHvZ6jHtiImD3\\\n",
              "KhwOKxwOS5L+8dA/FDnZ7u1AAGBM0aoyr0e4ZyYuIQYCAfX29sZu9/X1KRAI3HG/hoYGRSIRRSIR\\\n",
              "zZ+XMp0jAgCmmYmAFRcXKxqNqru7W2NjY2ppaVFVVZXXYwEAPGTiEmJycrJ2796tJ598UhMTE6qv\\\n",
              "r1dubq7XYwEAPGQiYJJUWVmpyspKr8cAAMQJE5cQAQD4KwIGADCJgAEATCJgAACTCBgAwCQCBgAw\\\n",
              "iYABAEwiYAAAkwgYAMAkAgYAMImAAQBMImAAAJMIGADAJAIGADCJgAEATCJgAACTCBgAwCQCBgAw\\\n",
              "iYABAEwiYAAAkwgYAMAkAgYAMImAAQBMSvZ6gL/KzMzUI488oqSkJCUnJysSiejy5cvauHGjenp6\\\n",
              "lJmZqQMHDuixxx7zelQAgIfi8hnYiRMn1NnZqUgkIklqampSWVmZotGoysrK1NTU5PGEAACvxWXA\\\n",
              "/qq1tVV1dXWSpLq6Oh06dMjjiQAAXou7gPl8PlVUVKiwsFDhcFiSNDg4qPT0dElSWlqaBgcHvRwR\\\n",
              "ABAH4u41sJMnTyoQCOjSpUsqLy/XkiVLbvu+z+eTz+e768+Gw+FY9IaGR6Z8VgCAd+LuGVggEJAk\\\n",
              "+f1+VVdXq6OjQ6mpqRoYGJAkDQwMyO/33/VnGxoaFIlEFIlENH9eyrTNDACYfnEVsGvXrunq1aux\\\n",
              "r48ePaq8vDxVVVWpublZktTc3Kx169Z5OSYAIA7E1SXEwcFBVVdXS5LGx8f17LPPas2aNSouLlZN\\\n",
              "TY327t2rBQsW6MCBAx5PCgDwWlwFLCsrS+fPn7/jeEpKio4fP+7BRACAeBVXlxABALhXBAwAYBIB\\\n",
              "AwCYRMAAACYRMACASQQMAGASAQMAmETAAAAmETAAgEkEDABgEgEDAJhEwAAAJhEwAIBJBAwAYBIB\\\n",
              "AwCYRMAAACYRMACASQQMAGASAQMAmETAAAAmETAAgEkEDABgEgEDAJjkScDq6+vl9/uVl5cXO3b5\\\n",
              "8mWVl5crOztb5eXlunLliiTJOaft27crFAopPz9f586d82JkAECc8SRgmzdvVltb223HmpqaVFZW\\\n",
              "pmg0qrKyMjU1NUmSvvzyS0WjUUWjUYXDYW3dutWLkQEAccaTgK1atUpz58697Vhra6vq6uokSXV1\\\n",
              "dTp06FDs+PPPPy+fz6cnnnhCo6OjGhgYmPaZAQDxJW5eAxscHFR6erokKS0tTYODg5Kk/v5+ZWRk\\\n",
              "xO4XDAbV39/vyYwAgPiR7PUAd+Pz+eTz+f72z4XDYYXDYUnS0PDI/R4LABBH4uYZWGpqauzS4MDA\\\n",
              "gPx+vyQpEAiot7c3dr++vj4FAoG7/o6GhgZFIhFFIhHNn5cy9UMDADwTNwGrqqpSc3OzJKm5uVnr\\\n",
              "1q2LHd+3b5+cczpz5oxmz54du9QIAEhcnlxC3LRpk9rb2zU8PKxgMKidO3fqzTffVE1Njfbu3asF\\\n",
              "CxbowIEDkqTKykodOXJEoVBIDz30kD7++GMvRgYAxBmfc855PcRUKPrXCkVOtns9BgCYUrSqTJFI\\\n",
              "xOsx7kncXEIEAODvIGAAAJMIGADAJAIGADCJgAEATCJgAACTCBgAwCQCBgAwiYABAEwiYAAAkwgY\\\n",
              "AMAkAgYAMImAAQBMImAAAJMIGADAJAIGADCJgAEATCJgAACTCBgAwCQCBgAwiYABAEwiYAAAkwgY\\\n",
              "AMAkTwJWX18vv9+vvLy82LEdO3YoEAiooKBABQUFOnLkSOx7jY2NCoVCWrx4sb766isvRgYAxBlP\\\n",
              "ArZ582a1tbXdcfyVV15RZ2enOjs7VVlZKUn66aef1NLSogsXLqitrU3btm3TxMTEdI8MAIgzngRs\\\n",
              "1apVmjt37j3dt7W1VbW1tXrwwQf1+OOPKxQKqaOjY4onBADEu7h6DWz37t3Kz89XfX29rly5Iknq\\\n",
              "7+9XRkZG7D7BYFD9/f1ejQgAiBNxE7CtW7eqq6tLnZ2dSk9P12uvvfa3f0c4HFZRUZGKioo0NDwy\\\n",
              "BVMCAOJF3AQsNTVVSUlJmjVrll588cXYZcJAIKDe3t7Y/fr6+hQIBO76OxoaGhSJRBSJRDR/Xsq0\\\n",
              "zA0A8EbcBGxgYCD29WeffRZ7h2JVVZVaWlp08+ZNdXd3KxqNqqSkxKsxAQBxItmLf3TTpk1qb2/X\\\n",
              "8PCwgsGgdu7cqfb2dnV2dsrn8ykzM1MffvihJCk3N1c1NTXKyclRcnKy9uzZo6SkJC/GBgDEEZ9z\\\n",
              "znk9xFQo+tcKRU62ez0GAJhStKpMkUjE6zHuSdxcQgQA4O8gYAAAkwgYAMAkAgYAMImAAQBMImAA\\\n",
              "AJMIGADAJAIGADCJgAEATCJgAACTCBgAwCQCBgAwiYABAEwiYAAAk2bsn1N5+OGHtWTJEq/H8NTQ\\\n",
              "0JDmz5/v9RieYf2JvX6JPfhv1t/T06Ph4eEpmuj+8uQPWk6HJUuWmPmbNlOlqKgoofeA9Sf2+iX2\\\n",
              "YKavn0uIAACTCBgAwKSkHTt27PB6iKlSWFjo9QieS/Q9YP2JvX6JPZjJ65+xb+IAAMxsXEIEAJg0\\\n",
              "IwPW1tamxYsXKxQKqampyetxpkR9fb38fr/y8vJixy5fvqzy8nJlZ2ervLxcV65ckSQ557R9+3aF\\\n",
              "QiHl5+fr3LlzXo193/T29mr16tXKyclRbm6u3n//fUmJtQc3btxQSUmJli9frtzcXL311luSpO7u\\\n",
              "bq1cuVKhUEgbN27U2NiYJOnmzZvauHGjQqGQVq5cqZ6eHg+nv38mJia0YsUKPfXUU5ISb/2ZmZla\\\n",
              "tmyZCgoKVFRUJCmBzgM3w4yPj7usrCzX1dXlbt686fLz892FCxe8Huu+++abb9zZs2ddbm5u7Njr\\\n",
              "r7/uGhsbnXPONTY2ujfeeMM559zhw4fdmjVr3OTkpDt9+rQrKSnxZOb76eLFi+7s2bPOOed+/fVX\\\n",
              "l52d7S5cuJBQezA5OemuXr3qnHNubGzMlZSUuNOnT7tnnnnG7d+/3znn3JYtW9wHH3zgnHNuz549\\\n",
              "bsuWLc455/bv3+9qamq8Gfw+e/fdd92mTZvc2rVrnXMu4da/YMECNzQ0dNuxRDkPZlzATp065Soq\\\n",
              "KmK3d+3a5Xbt2uXhRFOnu7v7toAtWrTIXbx40Tn3+wP8okWLnHPONTQ0uE8//fSu95spqqqq3NGj\\\n",
              "RxN2D65du+ZWrFjhzpw541JSUtytW7ecc7efDxUVFe7UqVPOOedu3brlUlJS3OTkpGcz3w+9vb2u\\\n",
              "tLTUHT9+3K1du9ZNTk4m1Pqdu3vAEuU8mHGXEPv7+5WRkRG7HQwG1d/f7+FE02dwcFDp6emSpLS0\\\n",
              "NA0ODkqa+XvS09OjH3/8UStXrky4PZiYmFBBQYH8fr/Ky8u1cOFCzZkzR8nJv39GwZ/X+ec9SE5O\\\n",
              "1uzZszUyMuLZ7PfDyy+/rHfeeUezZv3+UDYyMpJQ65ckn8+niooKFRYWKhwOS0qcx4IZ+0kcic7n\\\n",
              "88nn83k9xpT77bfftH79er333nt69NFHb/teIuxBUlKSOjs7NTo6qurqav38889ejzRtvvjiC/n9\\\n",
              "fhUWFqq9vd3rcTxz8uRJBQIBXbp0SeXl5Xd8hN5MPg9m3DOwQCCg3t7e2O2+vj4FAgEPJ5o+qamp\\\n",
              "GhgYkCQNDAzI7/dLmrl7cuvWLa1fv17PPfecnn76aUmJtwd/mDNnjlavXq3Tp09rdHRU4+Pjkm5f\\\n",
              "55/3YHx8XL/88otSUlI8m/l/9d133+nzzz9XZmamamtr9fXXX+ull15KmPX/4Y/1+f1+VVdXq6Oj\\\n",
              "I2HOgxkXsOLiYkWjUXV3d2tsbEwtLS2qqqryeqxpUVVVpebmZklSc3Oz1q1bFzu+b98+Oed05swZ\\\n",
              "zZ49O3Z5wSrnnF544QUtXbpUr776aux4Iu3B0NCQRkdHJUnXr1/XsWPHtHTpUq1evVoHDx6UdOce\\\n",
              "/LE3Bw8eVGlpqen/mTc2Nqqvr089PT1qaWlRaWmpPvnkk4RZvyRdu3ZNV69ejX199OhR5eXlJc55\\\n",
              "4O1LcFPj8OHDLjs722VlZbm3337b63GmRG1trUtLS3PJyckuEAi4jz76yA0PD7vS0lIXCoVcWVmZ\\\n",
              "GxkZcc79/m61bdu2uaysLJeXl+d++OEHj6f/33377bdOklu2bJlbvny5W758uTt8+HBC7cH58+dd\\\n",
              "QUGBW7ZsmcvNzXU7d+50zjnX1dXliouL3cKFC92GDRvcjRs3nHPOXb9+3W3YsMEtXLjQFRcXu66u\\\n",
              "Li/Hv69OnDgRexdiIq2/q6vL5efnu/z8fJeTkxN7vEuU84BP4gAAmDTjLiECABIDAQMAmETAAAAm\\\n",
              "ETAAgEkEDABgEgEDAJhEwAAAJhEwAIBJBAwAYBIBAwCYRMAAACYRMACASQQMAGASAQMAmETAAAAm\\\n",
              "ETAAgEkEDABgEgEDAJhEwAAAJhEwAIBJBAwAYBIBAwCYRMAAACYRMACASQQMAGASAQMAmETAAAAm\\\n",
              "ETAAgEkEDABgEgEDAJhEwAAAJhEwAIBJBAwAYBIBAwCYRMAAACYRMACASQQMAGASAQMAmETAAAAm\\\n",
              "ETAAgEkEDABgEgEDAJhEwAAAJhEwAIBJBAwAYBIBAwCYRMAAACYRMACASQQMAGASAQMAmETAAAAm\\\n",
              "ETAAgEkEDABgEgEDAJhEwAAAJhEwAIBJBAwAYBIBAwCYRMAAACYRMACASQQMAGASAQMAmETAAAAm\\\n",
              "ETAAgEkEDABgEgEDAJhEwAAAJhEwAIBJBAwAYBIBAwCYRMAAACb9P1exsPwJ1ySwAAAAAElFTkSu\\\n",
              "QmCC\\\n",
              "\"\n",
              "  frames[15] = \"data:image/png;base64,iVBORw0KGgoAAAANSUhEUgAAAbAAAAEgCAYAAADVKCZpAAAABHNCSVQICAgIfAhkiAAAAAlwSFlz\\\n",
              "AAALEgAACxIB0t1+/AAAADh0RVh0U29mdHdhcmUAbWF0cGxvdGxpYiB2ZXJzaW9uMy4yLjIsIGh0\\\n",
              "dHA6Ly9tYXRwbG90bGliLm9yZy+WH4yJAAASI0lEQVR4nO3db2xUdb7H8c+ZGWV1s4LWncKdctst\\\n",
              "w7+2lJJS2GQTE2iKBDclqMsfN1lMjTX6wNXdrPHZQrKBxmST3QQ3cSIxJVEaYqKYha0YFSMrLDtq\\\n",
              "fYDxpmlK0tamUv4ocpG2M9/7oMtcWVkE7fTMd+b9etSeTsfvOXHm3fObYU5gZiYAAJyJhD0AAADf\\\n",
              "BQEDALhEwAAALhEwAIBLBAwA4BIBAwC4RMAAAC4RMACASwQMAOASAQMAuETAAAAuETAAgEsEDADg\\\n",
              "EgEDALhEwAAALhEwAIBLBAwA4BIBAwC4RMAAAC4RMACASwQMAOASAQMAuETAAAAuETAAgEsEDADg\\\n",
              "EgEDALhEwAAALhEwAIBLBAwA4BIBAwC4RMAAAC4RMACASwQMAOASAQMAuETAAAAuETAAgEsEDADg\\\n",
              "EgEDALhEwAAALhEwAIBLBAwA4BIBAwC4RMAAAC4RMACASwQMAOASAQMAuETAAAAuETAAgEsEDADg\\\n",
              "EgEDALhEwAAALhEwAIBLBAwA4BIBAwC4RMAAAC4RMACASwQMAOASAQMAuETAAAAuETAAgEsEDADg\\\n",
              "EgEDALhEwAAALhEwAIBLBAwA4BIBAwC4RMAAAC4RMACASwQMAOASAQMAuETAAAAuETAAgEsEDADg\\\n",
              "EgEDALhEwAAALhEwAIBLBAwA4BIBAwC4RMAAAC4RMACASwQMAOCSm4B1d3dr4cKFSiaT6ujoCHsc\\\n",
              "AEDIAjOzsIf4NplMRgsWLNAbb7yhiooKNTU1ae/evaqpqQl7NABASFycgR0/flzJZFLV1dW6+eab\\\n",
              "tXnzZu3fvz/ssQAAIYqFPcD1GBoa0ty5c3PfV1RU6B//+Mc1f+fOH96i/54Rk41n8j0eABSNgRm3\\\n",
              "anR0NOwxrouLgF2vVCqlVColSfrhzTEdaVmm8ZEvQp4KAPxo/tJPFlwsISYSCQ0MDOS+HxwcVCKR\\\n",
              "+Mbt2tvblU6nlU6ndecPb5nOEQEA08xFwJqamtTb26v+/n6NjY2pq6tLra2tYY8FAAiRi3PFWCym\\\n",
              "Xbt26e6771Ymk1FbW5tqa2vDHgsAECIXAZOkdevWad26dWGPAQAoEC6WEAEA+HfFGzAz2dhE2FMA\\\n",
              "APKkeAM2MaGJs/8b9hQAgDwp3oABAIoaAQMAuETAAAAuETAAgCQpuCka9gg3hIABACRJM/5rVtgj\\\n",
              "3BACBgBwiYABAFwiYAAAlwgYAMAlAgYAcImAAQBcImAAAJcIGADAJQIGAHCJgAEAXCJgAACXCBgA\\\n",
              "wCUCBgBwiYABAFwiYAAAl2JhD/Dvqqqq9KMf/UjRaFSxWEzpdFpnzpzRpk2bdPLkSVVVVWnfvn26\\\n",
              "/fbbwx4VABCigjwDe/vtt9XT06N0Oi1J6ujoUHNzs3p7e9Xc3KyOjo6QJwQAhK0gA/bv9u/fr61b\\\n",
              "t0qStm7dqldffTXkiQAAYSu4gAVBoDVr1qixsVGpVEqSNDIyojlz5kiSZs+erZGRkTBHBAAUgIJ7\\\n",
              "DezIkSNKJBL67LPP1NLSokWLFl3x8yAIFATBVX83lUrlojd68VLeZwUAhKfgzsASiYQkKR6Pa8OG\\\n",
              "DTp+/LjKy8s1PDwsSRoeHlY8Hr/q77a3tyudTiudTuvOW2ZM28wAgOlXUAG7cOGCzp8/n/v60KFD\\\n",
              "qqurU2trqzo7OyVJnZ2dWr9+fZhjAgAKQEEtIY6MjGjDhg2SpImJCT3wwANau3atmpqatHHjRu3e\\\n",
              "vVuVlZXat29fyJMCAMJWUAGrrq7WRx999I3tZWVlevPNN0OYCABQqApqCREAgOtFwAAALhEwAIBL\\\n",
              "BAwA4BIBAwC4RMAAAC4RMACASwQM3xS5+mdNXmZmMrNpGgYArq6g/iEzwhdEJ/+msYik7DUilcnK\\\n",
              "JCka+Y8frgwA+UTAIOlf4YoEsvHMt982CKRYdPIsLJNV1kxBLErIAEwrlhBLXSRQcFNUkq4rXl8X\\\n",
              "BMHkGVg0MnlGls3mY0IAuCrOwEpZJFAQi8gmstdeLryGIAikIJApK8tMBiyI8HcRgPzjmaaEBdGI\\\n",
              "ZPrO8briviKTr4VZJssbPABMCwJWonJv1rjBZcNrunyfExkiBiDvCFgpigRSNJiSM6+vC4JAQTQi\\\n",
              "2gVgOhCwEnT53YKXX7Oa4jtXEHAWBiD/CFip+dfZl03k5x2DQRAoiEUnz8IIGIA8ImAAAJcIGADA\\\n",
              "JQIGAHCJgAEAXCJgAACXCBgAwKVQAtbW1qZ4PK66urrctjNnzqilpUXz589XS0uLzp49K2ny2lOP\\\n",
              "P/64ksmk6uvr9cEHH4QxMgCgwIQSsAcffFDd3d1XbOvo6FBzc7N6e3vV3Nysjo4OSdLf/vY39fb2\\\n",
              "qre3V6lUSo8++mgYIxePrEmm/F76xExBIInLqwDIo1ACdtddd+mOO+64Ytv+/fu1detWSdLWrVv1\\\n",
              "6quv5rb/6le/UhAE+ulPf6pz585peHh42mcuKlmb/Cipb7ny8ndhZrJMdvIfNBMwAHlUMK+BjYyM\\\n",
              "aM6cOZKk2bNna2RkRJI0NDSkuXPn5m5XUVGhoaGhUGYsFrnLnuQjMGaTH8ARLZj/tQAUqYK8Hth3\\\n",
              "/es9lUoplUpJkkYvXprqsYqKTWQVxCKSTd2H+lp28ppgkViEsy8AeVcwfyaXl5fnlgaHh4cVj8cl\\\n",
              "SYlEQgMDA7nbDQ4OKpFIXPU+2tvblU6nlU6ndectM/I/tGeXXwubojOly0uHknjtC8C0KJiAtba2\\\n",
              "qrOzU5LU2dmp9evX57bv2bNHZqZjx45p5syZuaVGfD+XrwUW3BT9/nd2eVkyFuXsC8C0CGUJccuW\\\n",
              "LTp8+LBGR0dVUVGh7du36+mnn9bGjRu1e/duVVZWat++fZKkdevW6eDBg0omk7r11lv1wgsvhDFy\\\n",
              "0bLxjIJoRMFN0ckzqBtcTjQz2cS/7iNg6RDA9AmsSC/a1Fh+u95aXBn2GH5EJi9Gqaxd13XCzGzy\\\n",
              "cilZm/zdSMGczAP4jn5QWaafnfhc6XQ67FGuS0G+iQMhyJosm/n/kOk/X/DSstlcuBTlrAtAOAgY\\\n",
              "rpQ1ma59Uh5EIgX06imAUsXTEADAJQIGAHCJgAEAXCJgAACXCBgAwCUCBgBwiYABAFwiYAAAlwgY\\\n",
              "AMAlAgYAcImAAQBcImAAAJcIGADAJQIGAHCJgAEAXCJgAACXCBgAwCUCBgBwiYABAFwiYAAAlwgY\\\n",
              "AMClUALW1tameDyuurq63LZt27YpkUiooaFBDQ0NOnjwYO5nO3fuVDKZ1MKFC/X666+HMTIAoMCE\\\n",
              "ErAHH3xQ3d3d39j+5JNPqqenRz09PVq3bp0k6eOPP1ZXV5dOnDih7u5uPfbYY8pkMtM9MgCgwIQS\\\n",
              "sLvuukt33HHHdd12//792rx5s2bMmKGf/OQnSiaTOn78eJ4nBAAUuoJ6DWzXrl2qr69XW1ubzp49\\\n",
              "K0kaGhrS3Llzc7epqKjQ0NBQWCMCAApEwQTs0UcfVV9fn3p6ejRnzhz99re/veH7SKVSWr58uZYv\\\n",
              "X67Ri5fyMCUAoFAUTMDKy8sVjUYViUT08MMP55YJE4mEBgYGcrcbHBxUIpG46n20t7crnU4rnU7r\\\n",
              "zltmTMvcAIBwFEzAhoeHc1+/8soruXcotra2qqurS5cuXVJ/f796e3u1YsWKsMYEABSIWBj/0S1b\\\n",
              "tujw4cMaHR1VRUWFtm/frsOHD6unp0dBEKiqqkrPPfecJKm2tlYbN25UTU2NYrGYnn32WUWj0TDG\\\n",
              "BgAUkMDMLOwh8qGx/Ha9tbgy7DEAwI0fVJbpZyc+VzqdDnuU61IwS4gAANwIAgYAcImAAQBcImAA\\\n",
              "AJcIGADAJQIGAHCJgAEAXCJgAACXCBgAwCUCBgBwiYABAFwiYAAAlwgYAMAlAgYAcCmU64FNh/+5\\\n",
              "MK7mL4t2967LqVOn9OMf/zjsMULD/pf2/kscgxve/xOf6+TJk3mbZ6oV7TP8okWL3FzTJl+WL19e\\\n",
              "0seA/S/t/Zc4BsW+/ywhAgBcImAAAJei27Zt2xb2EPnS2NgY9gihK/VjwP6X9v5LHINi3v/AzCzs\\\n",
              "IQAAuFEsIQIAXCrKgHV3d2vhwoVKJpPq6OgIe5y8aGtrUzweV11dXW7bmTNn1NLSovnz56ulpUVn\\\n",
              "z56VJJmZHn/8cSWTSdXX1+uDDz4Ia+wpMzAwoFWrVqmmpka1tbX685//LKm0jsFXX32lFStWaOnS\\\n",
              "paqtrdXvf/97SVJ/f79WrlypZDKpTZs2aWxsTJJ06dIlbdq0SclkUitXrnT1dulryWQyWrZsmX7+\\\n",
              "859LKr39r6qq0pIlS9TQ0KDly5dLKqHHgRWZiYkJq66utr6+Prt06ZLV19fbiRMnwh5ryr3zzjv2\\\n",
              "/vvvW21tbW7b7373O9u5c6eZme3cudOeeuopMzM7cOCArV271rLZrB09etRWrFgRysxT6dNPP7X3\\\n",
              "33/fzMy++OILmz9/vp04caKkjkE2m7Xz58+bmdnY2JitWLHCjh49ar/4xS9s7969Zmb2yCOP2F/+\\\n",
              "8hczM3v22WftkUceMTOzvXv32saNG8MZfIr98Y9/tC1bttg999xjZlZy+19ZWWmnTp26YlupPA6K\\\n",
              "LmDvvfeerVmzJvf9jh07bMeOHSFOlD/9/f1XBGzBggX26aefmtnkE/yCBQvMzKy9vd1eeumlq96u\\\n",
              "WLS2ttqhQ4dK9hhcuHDBli1bZseOHbOysjIbHx83sysfD2vWrLH33nvPzMzGx8etrKzMstlsaDNP\\\n",
              "hYGBAVu9erW9+eabds8991g2my2p/Te7esBK5XFQdEuIQ0NDmjt3bu77iooKDQ0NhTjR9BkZGdGc\\\n",
              "OXMkSbNnz9bIyIik4j8mJ0+e1IcffqiVK1eW3DHIZDJqaGhQPB5XS0uL5s2bp1mzZikWm/yMgq/v\\\n",
              "59ePQSwW08yZM3X69OnQZp8KTzzxhJ555hlFIpNPZadPny6p/ZekIAi0Zs0aNTY2KpVKSSqd54Ki\\\n",
              "/SSOUhcEgYIgCHuMvPvyyy9133336U9/+pNuu+22K35WCscgGo2qp6dH586d04YNG/TJJ5+EPdK0\\\n",
              "+etf/6p4PK7GxkYdPnw47HFCc+TIESUSCX322WdqaWnRokWLrvh5MT8Oiu4MLJFIaGBgIPf94OCg\\\n",
              "EolEiBNNn/Lycg0PD0uShoeHFY/HJRXvMRkfH9d9992nX/7yl7r33nslld4xuGzWrFlatWqVjh49\\\n",
              "qnPnzmliYkLSlfv59WMwMTGhzz//XGVlZaHN/H39/e9/12uvvaaqqipt3rxZb731ln7961+XzP5f\\\n",
              "dnn/4vG4NmzYoOPHj5fM46DoAtbU1KTe3l719/drbGxMXV1dam1tDXusadHa2qrOzk5JUmdnp9av\\\n",
              "X5/bvmfPHpmZjh07ppkzZ+aWF7wyMz300ENavHixfvOb3+S2l9IxOHXqlM6dOydJunjxot544w0t\\\n",
              "XrxYq1at0ssvvyzpm8fg8rF5+eWXtXr1atd/me/cuVODg4M6efKkurq6tHr1ar344osls/+SdOHC\\\n",
              "BZ0/fz739aFDh1RXV1c6j4NwX4LLjwMHDtj8+fOturra/vCHP4Q9Tl5s3rzZZs+ebbFYzBKJhD3/\\\n",
              "/PM2Ojpqq1evtmQyac3NzXb69Gkzm3y32mOPPWbV1dVWV1dn//znP0Oe/vt79913TZItWbLEli5d\\\n",
              "akuXLrUDBw6U1DH46KOPrKGhwZYsWWK1tbW2fft2MzPr6+uzpqYmmzdvnt1///321VdfmZnZxYsX\\\n",
              "7f7777d58+ZZU1OT9fX1hTn+lHr77bdz70Ispf3v6+uz+vp6q6+vt5qamtzzXak8DvgkDgCAS0W3\\\n",
              "hAgAKA0EDADgEgEDALhEwAAALhEwAIBLBAwA4BIBAwC4RMAAAC4RMACASwQMAOASAQMAuETAAAAu\\\n",
              "ETAAgEsEDADgEgEDALhEwAAALhEwAIBLBAwA4BIBAwC4RMAAAC4RMACASwQMAOASAQMAuETAAAAu\\\n",
              "ETAAgEsEDADgEgEDALhEwAAALhEwAIBLBAwA4BIBAwC4RMAAAC4RMACASwQMAOASAQMAuETAAAAu\\\n",
              "ETAAgEsEDADgEgEDALhEwAAALhEwAIBLBAwA4BIBAwC4RMAAAC4RMACASwQMAOASAQMAuETAAAAu\\\n",
              "ETAAgEsEDADgEgEDALhEwAAALhEwAIBLBAwA4BIBAwC4RMAAAC4RMACASwQMAOASAQMAuETAAAAu\\\n",
              "ETAAgEsEDADgEgEDALhEwAAALhEwAIBLBAwA4BIBAwC4RMAAAC4RMACASwQMAOASAQMAuPR/b2Nk\\\n",
              "w5xhAiAAAAAASUVORK5CYII=\\\n",
              "\"\n",
              "  frames[16] = \"data:image/png;base64,iVBORw0KGgoAAAANSUhEUgAAAbAAAAEgCAYAAADVKCZpAAAABHNCSVQICAgIfAhkiAAAAAlwSFlz\\\n",
              "AAALEgAACxIB0t1+/AAAADh0RVh0U29mdHdhcmUAbWF0cGxvdGxpYiB2ZXJzaW9uMy4yLjIsIGh0\\\n",
              "dHA6Ly9tYXRwbG90bGliLm9yZy+WH4yJAAAQPUlEQVR4nO3db2jV9d/H8ddxu37186I0xbONs+Ga\\\n",
              "Z07dnJP9sVuCG1uiMVmafwqaLJroDftH0b0Uwo0gKNCgQxITyiFCLtKWUi4ytXW0dcMIxpiwzTGd\\\n",
              "f8pEnW7v60Z0yJLfpf2c3/PeeT5u7XzP2Xx/PnDO0/P9HmfIzEwAADgzKegBAAD4JwgYAMAlAgYA\\\n",
              "cImAAQBcImAAAJcIGADAJQIGAHCJgAEAXCJgAACXCBgAwCUCBgBwiYABAFwiYAAAlwgYAMAlAgYA\\\n",
              "cImAAQBcImAAAJcIGADAJQIGAHCJgAEAXCJgAACXCBgAwCUCBgBwiYABAFwiYAAAlwgYAMAlAgYA\\\n",
              "cImAAQBcImAAAJcIGADAJQIGAHCJgAEAXCJgAACXCBgAwCUCBgBwiYABAFwiYAAAlwgYAMAlAgYA\\\n",
              "cImAAQBcImAAAJcIGADAJQIGAHCJgAEAXCJgAACXCBgAwCUCBgBwiYABAFwiYAAAlwgYAMAlAgYA\\\n",
              "cImAAQBcImAAAJcIGADAJQIGAHCJgAEAXCJgAACXCBgAwCUCBgBwiYABAFwiYAAAlwgYAMAlAgYA\\\n",
              "cImAAQBcImAAAJcIGADAJQIGAHCJgAEAXCJgAACXCBgAwCUCBgBwiYABAFwiYAAAlwgYAMAlAgYA\\\n",
              "cImAAQBcImAAAJcIGADAJQIGAHCJgAEAXCJgAACX3ASsvb1dBQUFikajam5uDnocAEDAQmZmQQ/x\\\n",
              "/xkdHdXs2bN16NAhZWdnq7y8XLt379a8efOCHg0AEBAX78A6OzsVjUaVl5enf/3rX1q7dq3a2tqC\\\n",
              "HgsAEKD0oAe4EwMDA8rJyUnczs7O1nffffcfv+fBUEgP+egzACQNm/6IhoeHgx7jjrgI2J2KxWKK\\\n",
              "xWKSpP9RSCs1OeCJAMCXeG5u0CPcMRdvUSKRiPr6+hK3+/v7FYlE/va4xsZGxeNxxeNxPajQ/RwR\\\n",
              "AHCfuQhYeXm5uru71dvbq5GREbW2tqq2tjbosQAAAXJxCjE9PV3bt2/X448/rtHRUTU0NKiwsDDo\\\n",
              "sQAAAXLxMfp/YkYojWtgAHCX4qUFisfjQY9xR1ycQgQA4K8IGADAJQIGAHCJgAEAXCJgAACXCBgA\\\n",
              "wCUCBgBwiYABAFwiYAAAlwgYAMAlAgYAcImAAQBcImAAAJcIGADAJQIGAHCJgAEAXCJgAACXCBgA\\\n",
              "wCUCBgBwiYABAFwiYAAAlwgYAMAlAgYAcCk96AH+Kjc3Vw899JDS0tKUnp6ueDyuCxcuaM2aNTp9\\\n",
              "+rRyc3O1Z88ePfLII0GPCgAIUFK+Azt8+LC6uroUj8clSc3NzaqqqlJ3d7eqqqrU3Nwc8IQAgKAl\\\n",
              "ZcD+qq2tTfX19ZKk+vp67du3L+CJAABBS7qAhUIh1dTUqLS0VLFYTJI0NDSkrKwsSVJmZqaGhoaC\\\n",
              "HBEAkASS7hrYkSNHFIlEdPbsWVVXV2vOnDm33B8KhRQKhW77vbFYLBG9a7JxnxUAEJykewcWiUQk\\\n",
              "SeFwWHV1ders7FRGRoYGBwclSYODgwqHw7f93sbGRsXjccXjcT2o20cOADAxJFXArly5osuXLye+\\\n",
              "PnjwoIqKilRbW6uWlhZJUktLi1asWBHkmACAJJBUpxCHhoZUV1cnSbp586aefvppLV26VOXl5Vq9\\\n",
              "erV27typmTNnas+ePQFPCgAIWsjMJuTFohmhNK3U5KDHAABX4qUFiX/ClOyS6hQiAAB3ioABAFwi\\\n",
              "YAAAlwgYAMAlAgYAcImAAQBcImAAAJcIGADAJQIGAHCJgAEAXCJgAACXCBgAwCUCBgBwiYABAFwi\\\n",
              "YAAAlwgYAMAlAgYAcImAAQBcImAAAJcIGADAJQIGAHCJgAEAXCJgAACXAglYQ0ODwuGwioqKEscu\\\n",
              "XLig6upq5efnq7q6WhcvXpQkmZk2b96saDSq4uJinTx5MoiRAQBJJpCArV+/Xu3t7bcca25uVlVV\\\n",
              "lbq7u1VVVaXm5mZJ0ueff67u7m51d3crFotp48aNQYwMAEgygQRs8eLFmjZt2i3H2traVF9fL0mq\\\n",
              "r6/Xvn37EsefffZZhUIhPfbYY7p06ZIGBwfv+8wAgOSSNNfAhoaGlJWVJUnKzMzU0NCQJGlgYEA5\\\n",
              "OTmJx2VnZ2tgYCCQGQEAySM96AFuJxQKKRQK3fX3xWIxxWIxSdI12b0eCwCQRJLmHVhGRkbi1ODg\\\n",
              "4KDC4bAkKRKJqK+vL/G4/v5+RSKR2/6MxsZGxeNxxeNxPai7DyAAwI+kCVhtba1aWlokSS0tLVqx\\\n",
              "YkXi+K5du2RmOn78uKZMmZI41QgASF2BnEJct26dOjo6NDw8rOzsbG3dulWvv/66Vq9erZ07d2rm\\\n",
              "zJnas2ePJGnZsmU6cOCAotGoJk+erA8//DCIkQEASSZkZhPyYtGMUJpWanLQYwCAK/HSAsXj8aDH\\\n",
              "uCNJcwoRAIC7QcAAAC4RMACASwQMAOASAQMAuETAAAAuETAAgEsEDADgEgEDALhEwAAALhEwAIBL\\\n",
              "BAwA4BIBAwC4RMAAAC4RMACASwQMAOASAQMAuETAAAAuETAAgEsEDADgEgEDALhEwAAALhEwAIBL\\\n",
              "gQSsoaFB4XBYRUVFiWNbtmxRJBJRSUmJSkpKdODAgcR9TU1NikajKigo0BdffBHEyACAJBNIwNav\\\n",
              "X6/29va/HX/ppZfU1dWlrq4uLVu2TJL0008/qbW1VadOnVJ7e7s2bdqk0dHR+z0yACDJBBKwxYsX\\\n",
              "a9q0aXf02La2Nq1du1YPPPCAHn30UUWjUXV2do7zhACAZJdU18C2b9+u4uJiNTQ06OLFi5KkgYEB\\\n",
              "5eTkJB6TnZ2tgYGBoEYEACSJpAnYxo0b1dPTo66uLmVlZemVV165658Ri8VUVlamsrIyXZONw5QA\\\n",
              "gGSRNAHLyMhQWlqaJk2apOeffz5xmjASiaivry/xuP7+fkUikdv+jMbGRsXjccXjcT2o0H2ZGwAQ\\\n",
              "jKQJ2ODgYOLrTz75JPEJxdraWrW2tur69evq7e1Vd3e3KioqghoTAJAk0oP4Q9etW6eOjg4NDw8r\\\n",
              "OztbW7duVUdHh7q6uhQKhZSbm6v3339fklRYWKjVq1dr3rx5Sk9P144dO5SWlhbE2ACAJBIyswl5\\\n",
              "sWhGKE0rNTnoMQDAlXhpgeLxeNBj3JGkOYUIAMDdIGAAAJcIGADAJQIGAHCJgAEAXCJgAACXCBgA\\\n",
              "wCUCBgBwiYABAFwiYAAAlwgYAMAlAgYAcImAAQBcImAAAJcC+f/A7oer//tvxecUBD1GoM6dO6cZ\\\n",
              "M2YEPUZgWH9qr19iD/7J+k+fPj0+w4yDCRuwOXPmuPk/bcZLWVlZSu8B60/t9UvswURfP6cQAQAu\\\n",
              "ETAAgEtpW7Zs2RL0EOOltLQ06BECl+p7wPpTe/0SezCR1x8yMwt6CAAA7hanEAEALk3IgLW3t6ug\\\n",
              "oEDRaFTNzc1BjzMuGhoaFA6HVVRUlDh24cIFVVdXKz8/X9XV1bp48aIkycy0efNmRaNRFRcX6+TJ\\\n",
              "k0GNfc/09fVpyZIlmjdvngoLC/Xuu+9KSq09uHbtmioqKrRgwQIVFhbqjTfekCT19vZq0aJFikaj\\\n",
              "WrNmjUZGRiRJ169f15o1axSNRrVo0SJXH5f+T0ZHR7Vw4UI98cQTklJv/bm5uZo/f75KSkpUVlYm\\\n",
              "KYWeBzbB3Lx50/Ly8qynp8euX79uxcXFdurUqaDHuue+/vprO3HihBUWFiaOvfrqq9bU1GRmZk1N\\\n",
              "Tfbaa6+Zmdn+/ftt6dKlNjY2ZseOHbOKiopAZr6Xzpw5YydOnDAzs19//dXy8/Pt1KlTKbUHY2Nj\\\n",
              "dvnyZTMzGxkZsYqKCjt27Jg99dRTtnv3bjMz27Bhg7333ntmZrZjxw7bsGGDmZnt3r3bVq9eHczg\\\n",
              "99jbb79t69ats+XLl5uZpdz6Z86caefOnbvlWKo8DyZcwI4ePWo1NTWJ29u2bbNt27YFONH46e3t\\\n",
              "vSVgs2fPtjNnzpjZ7y/ws2fPNjOzxsZG+/jjj2/7uImitrbWDh48mLJ7cOXKFVu4cKEdP37cpk+f\\\n",
              "bjdu3DCzW58PNTU1dvToUTMzu3Hjhk2fPt3GxsYCm/le6Ovrs8rKSvvyyy9t+fLlNjY2llLrN7t9\\\n",
              "wFLleTDhTiEODAwoJycncTs7O1sDAwMBTnT/DA0NKSsrS5KUmZmpoaEhSRN/T06fPq0ffvhBixYt\\\n",
              "Srk9GB0dVUlJicLhsKqrqzVr1ixNnTpV6em//46CP6/zz3uQnp6uKVOm6Pz584HNfi+8+OKLeuut\\\n",
              "tzRp0u8vZefPn0+p9UtSKBRSTU2NSktLFYvFJKXOa8GE/U0cqS4UCikUCgU9xrj77bfftHLlSr3z\\\n",
              "zjt6+OGHb7kvFfYgLS1NXV1dunTpkurq6vTzzz8HPdJ989lnnykcDqu0tFQdHR1BjxOYI0eOKBKJ\\\n",
              "6OzZs6qurtacOXNuuX8iPw8m3DuwSCSivr6+xO3+/n5FIpEAJ7p/MjIyNDg4KEkaHBxUOByWNHH3\\\n",
              "5MaNG1q5cqWeeeYZPfnkk5JSbw/+MHXqVC1ZskTHjh3TpUuXdPPmTUm3rvPPe3Dz5k398ssvmj59\\\n",
              "emAz/7e+/fZbffrpp8rNzdXatWv11Vdf6YUXXkiZ9f/hj/WFw2HV1dWps7MzZZ4HEy5g5eXl6u7u\\\n",
              "Vm9vr0ZGRtTa2qra2tqgx7ovamtr1dLSIklqaWnRihUrEsd37dolM9Px48c1ZcqUxOkFr8xMzz33\\\n",
              "nObOnauXX345cTyV9uDcuXO6dOmSJOnq1as6dOiQ5s6dqyVLlmjv3r2S/r4Hf+zN3r17VVlZ6fpv\\\n",
              "5k1NTerv79fp06fV2tqqyspKffTRRymzfkm6cuWKLl++nPj64MGDKioqSp3nQbCX4MbH/v37LT8/\\\n",
              "3/Ly8uzNN98MepxxsXbtWsvMzLT09HSLRCL2wQcf2PDwsFVWVlo0GrWqqio7f/68mf3+abVNmzZZ\\\n",
              "Xl6eFRUV2ffffx/w9P+9b775xiTZ/PnzbcGCBbZgwQLbv39/Su3Bjz/+aCUlJTZ//nwrLCy0rVu3\\\n",
              "mplZT0+PlZeX26xZs2zVqlV27do1MzO7evWqrVq1ymbNmmXl5eXW09MT5Pj31OHDhxOfQkyl9ff0\\\n",
              "9FhxcbEVFxfbvHnzEq93qfI84DdxAABcmnCnEAEAqYGAAQBcImAAAJcIGADAJQIGAHCJgAEAXCJg\\\n",
              "AACXCBgAwCUCBgBwiYABAFwiYAAAlwgYAMAlAgYAcImAAQBcImAAAJcIGADAJQIGAHCJgAEAXCJg\\\n",
              "AACXCBgAwCUCBgBwiYABAFwiYAAAlwgYAMAlAgYAcImAAQBcImAAAJcIGADAJQIGAHCJgAEAXCJg\\\n",
              "AACXCBgAwCUCBgBwiYABAFwiYAAAlwgYAMAlAgYAcImAAQBcImAAAJcIGADAJQIGAHCJgAEAXCJg\\\n",
              "AACXCBgAwCUCBgBwiYABAFwiYAAAlwgYAMAlAgYAcImAAQBcImAAAJcIGADAJQIGAHCJgAEAXCJg\\\n",
              "AACXCBgAwCUCBgBwiYABAFwiYAAAlwgYAMAlAgYAcImAAQBcImAAAJcIGADAJQIGAHCJgAEAXCJg\\\n",
              "AACXCBgAwCUCBgBwiYABAFwiYAAAl/4PN46pzeF6DY8AAAAASUVORK5CYII=\\\n",
              "\"\n",
              "  frames[17] = \"data:image/png;base64,iVBORw0KGgoAAAANSUhEUgAAAbAAAAEgCAYAAADVKCZpAAAABHNCSVQICAgIfAhkiAAAAAlwSFlz\\\n",
              "AAALEgAACxIB0t1+/AAAADh0RVh0U29mdHdhcmUAbWF0cGxvdGxpYiB2ZXJzaW9uMy4yLjIsIGh0\\\n",
              "dHA6Ly9tYXRwbG90bGliLm9yZy+WH4yJAAAQPUlEQVR4nO3db2jV9d/H8ddxu37186I0xbONs+Ga\\\n",
              "Z07dnJP9sVuCG1uiMVmafwqaLJroDftH0b0Uwo0gKNCgQxITyiFCLtKWUi4ytXW0dcMIxpiwzTGd\\\n",
              "f8pEnW7v60Z0yJLfpf2c3/PeeT5u7XzP2Xx/PnDO0/P9HmfIzEwAADgzKegBAAD4JwgYAMAlAgYA\\\n",
              "cImAAQBcImAAAJcIGADAJQIGAHCJgAEAXCJgAACXCBgAwCUCBgBwiYABAFwiYAAAlwgYAMAlAgYA\\\n",
              "cImAAQBcImAAAJcIGADAJQIGAHCJgAEAXCJgAACXCBgAwCUCBgBwiYABAFwiYAAAlwgYAMAlAgYA\\\n",
              "cImAAQBcImAAAJcIGADAJQIGAHCJgAEAXCJgAACXCBgAwCUCBgBwiYABAFwiYAAAlwgYAMAlAgYA\\\n",
              "cImAAQBcImAAAJcIGADAJQIGAHCJgAEAXCJgAACXCBgAwCUCBgBwiYABAFwiYAAAlwgYAMAlAgYA\\\n",
              "cImAAQBcImAAAJcIGADAJQIGAHCJgAEAXCJgAACXCBgAwCUCBgBwiYABAFwiYAAAlwgYAMAlAgYA\\\n",
              "cImAAQBcImAAAJcIGADAJQIGAHCJgAEAXCJgAACXCBgAwCUCBgBwiYABAFwiYAAAlwgYAMAlAgYA\\\n",
              "cImAAQBcImAAAJcIGADAJQIGAHCJgAEAXCJgAACX3ASsvb1dBQUFikajam5uDnocAEDAQmZmQQ/x\\\n",
              "/xkdHdXs2bN16NAhZWdnq7y8XLt379a8efOCHg0AEBAX78A6OzsVjUaVl5enf/3rX1q7dq3a2tqC\\\n",
              "HgsAEKD0oAe4EwMDA8rJyUnczs7O1nffffcfv+fBUEgP+egzACQNm/6IhoeHgx7jjrgI2J2KxWKK\\\n",
              "xWKSpP9RSCs1OeCJAMCXeG5u0CPcMRdvUSKRiPr6+hK3+/v7FYlE/va4xsZGxeNxxeNxPajQ/RwR\\\n",
              "AHCfuQhYeXm5uru71dvbq5GREbW2tqq2tjbosQAAAXJxCjE9PV3bt2/X448/rtHRUTU0NKiwsDDo\\\n",
              "sQAAAXLxMfp/YkYojWtgAHCX4qUFisfjQY9xR1ycQgQA4K8IGADAJQIGAHCJgAEAXCJgAACXCBgA\\\n",
              "wCUCBgBwiYABAFwiYAAAlwgYAMAlAgYAcImAAQBcImAAAJcIGADAJQIGAHCJgAEAXCJgAACXCBgA\\\n",
              "wCUCBgBwiYABAFwiYAAAlwgYAMAlAgYAcCk96AH+Kjc3Vw899JDS0tKUnp6ueDyuCxcuaM2aNTp9\\\n",
              "+rRyc3O1Z88ePfLII0GPCgAIUFK+Azt8+LC6uroUj8clSc3NzaqqqlJ3d7eqqqrU3Nwc8IQAgKAl\\\n",
              "ZcD+qq2tTfX19ZKk+vp67du3L+CJAABBS7qAhUIh1dTUqLS0VLFYTJI0NDSkrKwsSVJmZqaGhoaC\\\n",
              "HBEAkASS7hrYkSNHFIlEdPbsWVVXV2vOnDm33B8KhRQKhW77vbFYLBG9a7JxnxUAEJykewcWiUQk\\\n",
              "SeFwWHV1ders7FRGRoYGBwclSYODgwqHw7f93sbGRsXjccXjcT2o20cOADAxJFXArly5osuXLye+\\\n",
              "PnjwoIqKilRbW6uWlhZJUktLi1asWBHkmACAJJBUpxCHhoZUV1cnSbp586aefvppLV26VOXl5Vq9\\\n",
              "erV27typmTNnas+ePQFPCgAIWsjMJuTFohmhNK3U5KDHAABX4qUFiX/ClOyS6hQiAAB3ioABAFwi\\\n",
              "YAAAlwgYAMAlAgYAcImAAQBcImAAAJcIGADAJQIGAHCJgAEAXCJgAACXCBgAwCUCBgBwiYABAFwi\\\n",
              "YAAAlwgYAMAlAgYAcImAAQBcImAAAJcIGADAJQIGAHCJgAEAXCJgAACXAglYQ0ODwuGwioqKEscu\\\n",
              "XLig6upq5efnq7q6WhcvXpQkmZk2b96saDSq4uJinTx5MoiRAQBJJpCArV+/Xu3t7bcca25uVlVV\\\n",
              "lbq7u1VVVaXm5mZJ0ueff67u7m51d3crFotp48aNQYwMAEgygQRs8eLFmjZt2i3H2traVF9fL0mq\\\n",
              "r6/Xvn37EsefffZZhUIhPfbYY7p06ZIGBwfv+8wAgOSSNNfAhoaGlJWVJUnKzMzU0NCQJGlgYEA5\\\n",
              "OTmJx2VnZ2tgYCCQGQEAySM96AFuJxQKKRQK3fX3xWIxxWIxSdI12b0eCwCQRJLmHVhGRkbi1ODg\\\n",
              "4KDC4bAkKRKJqK+vL/G4/v5+RSKR2/6MxsZGxeNxxeNxPai7DyAAwI+kCVhtba1aWlokSS0tLVqx\\\n",
              "YkXi+K5du2RmOn78uKZMmZI41QgASF2BnEJct26dOjo6NDw8rOzsbG3dulWvv/66Vq9erZ07d2rm\\\n",
              "zJnas2ePJGnZsmU6cOCAotGoJk+erA8//DCIkQEASSZkZhPyYtGMUJpWanLQYwCAK/HSAsXj8aDH\\\n",
              "uCNJcwoRAIC7QcAAAC4RMACASwQMAOASAQMAuETAAAAuETAAgEsEDADgEgEDALhEwAAALhEwAIBL\\\n",
              "BAwA4BIBAwC4RMAAAC4RMACASwQMAOASAQMAuETAAAAuETAAgEsEDADgEgEDALhEwAAALhEwAIBL\\\n",
              "gQSsoaFB4XBYRUVFiWNbtmxRJBJRSUmJSkpKdODAgcR9TU1NikajKigo0BdffBHEyACAJBNIwNav\\\n",
              "X6/29va/HX/ppZfU1dWlrq4uLVu2TJL0008/qbW1VadOnVJ7e7s2bdqk0dHR+z0yACDJBBKwxYsX\\\n",
              "a9q0aXf02La2Nq1du1YPPPCAHn30UUWjUXV2do7zhACAZJdU18C2b9+u4uJiNTQ06OLFi5KkgYEB\\\n",
              "5eTkJB6TnZ2tgYGBoEYEACSJpAnYxo0b1dPTo66uLmVlZemVV165658Ri8VUVlamsrIyXZONw5QA\\\n",
              "gGSRNAHLyMhQWlqaJk2apOeffz5xmjASiaivry/xuP7+fkUikdv+jMbGRsXjccXjcT2o0H2ZGwAQ\\\n",
              "jKQJ2ODgYOLrTz75JPEJxdraWrW2tur69evq7e1Vd3e3KioqghoTAJAk0oP4Q9etW6eOjg4NDw8r\\\n",
              "OztbW7duVUdHh7q6uhQKhZSbm6v3339fklRYWKjVq1dr3rx5Sk9P144dO5SWlhbE2ACAJBIyswl5\\\n",
              "sWhGKE0rNTnoMQDAlXhpgeLxeNBj3JGkOYUIAMDdIGAAAJcIGADAJQIGAHCJgAEAXCJgAACXCBgA\\\n",
              "wCUCBgBwiYABAFwiYAAAlwgYAMAlAgYAcImAAQBcImAAAJcC+f/A7oer//tvxecUBD1GoM6dO6cZ\\\n",
              "M2YEPUZgWH9qr19iD/7J+k+fPj0+w4yDCRuwOXPmuPk/bcZLWVlZSu8B60/t9UvswURfP6cQAQAu\\\n",
              "ETAAgEtpW7Zs2RL0EOOltLQ06BECl+p7wPpTe/0SezCR1x8yMwt6CAAA7hanEAEALk3IgLW3t6ug\\\n",
              "oEDRaFTNzc1BjzMuGhoaFA6HVVRUlDh24cIFVVdXKz8/X9XV1bp48aIkycy0efNmRaNRFRcX6+TJ\\\n",
              "k0GNfc/09fVpyZIlmjdvngoLC/Xuu+9KSq09uHbtmioqKrRgwQIVFhbqjTfekCT19vZq0aJFikaj\\\n",
              "WrNmjUZGRiRJ169f15o1axSNRrVo0SJXH5f+T0ZHR7Vw4UI98cQTklJv/bm5uZo/f75KSkpUVlYm\\\n",
              "KYWeBzbB3Lx50/Ly8qynp8euX79uxcXFdurUqaDHuue+/vprO3HihBUWFiaOvfrqq9bU1GRmZk1N\\\n",
              "Tfbaa6+Zmdn+/ftt6dKlNjY2ZseOHbOKiopAZr6Xzpw5YydOnDAzs19//dXy8/Pt1KlTKbUHY2Nj\\\n",
              "dvnyZTMzGxkZsYqKCjt27Jg99dRTtnv3bjMz27Bhg7333ntmZrZjxw7bsGGDmZnt3r3bVq9eHczg\\\n",
              "99jbb79t69ats+XLl5uZpdz6Z86caefOnbvlWKo8DyZcwI4ePWo1NTWJ29u2bbNt27YFONH46e3t\\\n",
              "vSVgs2fPtjNnzpjZ7y/ws2fPNjOzxsZG+/jjj2/7uImitrbWDh48mLJ7cOXKFVu4cKEdP37cpk+f\\\n",
              "bjdu3DCzW58PNTU1dvToUTMzu3Hjhk2fPt3GxsYCm/le6Ovrs8rKSvvyyy9t+fLlNjY2llLrN7t9\\\n",
              "wFLleTDhTiEODAwoJycncTs7O1sDAwMBTnT/DA0NKSsrS5KUmZmpoaEhSRN/T06fPq0ffvhBixYt\\\n",
              "Srk9GB0dVUlJicLhsKqrqzVr1ixNnTpV6em//46CP6/zz3uQnp6uKVOm6Pz584HNfi+8+OKLeuut\\\n",
              "tzRp0u8vZefPn0+p9UtSKBRSTU2NSktLFYvFJKXOa8GE/U0cqS4UCikUCgU9xrj77bfftHLlSr3z\\\n",
              "zjt6+OGHb7kvFfYgLS1NXV1dunTpkurq6vTzzz8HPdJ989lnnykcDqu0tFQdHR1BjxOYI0eOKBKJ\\\n",
              "6OzZs6qurtacOXNuuX8iPw8m3DuwSCSivr6+xO3+/n5FIpEAJ7p/MjIyNDg4KEkaHBxUOByWNHH3\\\n",
              "5MaNG1q5cqWeeeYZPfnkk5JSbw/+MHXqVC1ZskTHjh3TpUuXdPPmTUm3rvPPe3Dz5k398ssvmj59\\\n",
              "emAz/7e+/fZbffrpp8rNzdXatWv11Vdf6YUXXkiZ9f/hj/WFw2HV1dWps7MzZZ4HEy5g5eXl6u7u\\\n",
              "Vm9vr0ZGRtTa2qra2tqgx7ovamtr1dLSIklqaWnRihUrEsd37dolM9Px48c1ZcqUxOkFr8xMzz33\\\n",
              "nObOnauXX345cTyV9uDcuXO6dOmSJOnq1as6dOiQ5s6dqyVLlmjv3r2S/r4Hf+zN3r17VVlZ6fpv\\\n",
              "5k1NTerv79fp06fV2tqqyspKffTRRymzfkm6cuWKLl++nPj64MGDKioqSp3nQbCX4MbH/v37LT8/\\\n",
              "3/Ly8uzNN98MepxxsXbtWsvMzLT09HSLRCL2wQcf2PDwsFVWVlo0GrWqqio7f/68mf3+abVNmzZZ\\\n",
              "Xl6eFRUV2ffffx/w9P+9b775xiTZ/PnzbcGCBbZgwQLbv39/Su3Bjz/+aCUlJTZ//nwrLCy0rVu3\\\n",
              "mplZT0+PlZeX26xZs2zVqlV27do1MzO7evWqrVq1ymbNmmXl5eXW09MT5Pj31OHDhxOfQkyl9ff0\\\n",
              "9FhxcbEVFxfbvHnzEq93qfI84DdxAABcmnCnEAEAqYGAAQBcImAAAJcIGADAJQIGAHCJgAEAXCJg\\\n",
              "AACXCBgAwCUCBgBwiYABAFwiYAAAlwgYAMAlAgYAcImAAQBcImAAAJcIGADAJQIGAHCJgAEAXCJg\\\n",
              "AACXCBgAwCUCBgBwiYABAFwiYAAAlwgYAMAlAgYAcImAAQBcImAAAJcIGADAJQIGAHCJgAEAXCJg\\\n",
              "AACXCBgAwCUCBgBwiYABAFwiYAAAlwgYAMAlAgYAcImAAQBcImAAAJcIGADAJQIGAHCJgAEAXCJg\\\n",
              "AACXCBgAwCUCBgBwiYABAFwiYAAAlwgYAMAlAgYAcImAAQBcImAAAJcIGADAJQIGAHCJgAEAXCJg\\\n",
              "AACXCBgAwCUCBgBwiYABAFwiYAAAlwgYAMAlAgYAcImAAQBcImAAAJcIGADAJQIGAHCJgAEAXCJg\\\n",
              "AACXCBgAwCUCBgBwiYABAFwiYAAAl/4PN46pzeF6DY8AAAAASUVORK5CYII=\\\n",
              "\"\n",
              "  frames[18] = \"data:image/png;base64,iVBORw0KGgoAAAANSUhEUgAAAbAAAAEgCAYAAADVKCZpAAAABHNCSVQICAgIfAhkiAAAAAlwSFlz\\\n",
              "AAALEgAACxIB0t1+/AAAADh0RVh0U29mdHdhcmUAbWF0cGxvdGxpYiB2ZXJzaW9uMy4yLjIsIGh0\\\n",
              "dHA6Ly9tYXRwbG90bGliLm9yZy+WH4yJAAAQPUlEQVR4nO3db2jV9d/H8ddxu37186I0xbONs+Ga\\\n",
              "Z07dnJP9sVuCG1uiMVmafwqaLJroDftH0b0Uwo0gKNCgQxITyiFCLtKWUi4ytXW0dcMIxpiwzTGd\\\n",
              "f8pEnW7v60Z0yJLfpf2c3/PeeT5u7XzP2Xx/PnDO0/P9HmfIzEwAADgzKegBAAD4JwgYAMAlAgYA\\\n",
              "cImAAQBcImAAAJcIGADAJQIGAHCJgAEAXCJgAACXCBgAwCUCBgBwiYABAFwiYAAAlwgYAMAlAgYA\\\n",
              "cImAAQBcImAAAJcIGADAJQIGAHCJgAEAXCJgAACXCBgAwCUCBgBwiYABAFwiYAAAlwgYAMAlAgYA\\\n",
              "cImAAQBcImAAAJcIGADAJQIGAHCJgAEAXCJgAACXCBgAwCUCBgBwiYABAFwiYAAAlwgYAMAlAgYA\\\n",
              "cImAAQBcImAAAJcIGADAJQIGAHCJgAEAXCJgAACXCBgAwCUCBgBwiYABAFwiYAAAlwgYAMAlAgYA\\\n",
              "cImAAQBcImAAAJcIGADAJQIGAHCJgAEAXCJgAACXCBgAwCUCBgBwiYABAFwiYAAAlwgYAMAlAgYA\\\n",
              "cImAAQBcImAAAJcIGADAJQIGAHCJgAEAXCJgAACXCBgAwCUCBgBwiYABAFwiYAAAlwgYAMAlAgYA\\\n",
              "cImAAQBcImAAAJcIGADAJQIGAHCJgAEAXCJgAACX3ASsvb1dBQUFikajam5uDnocAEDAQmZmQQ/x\\\n",
              "/xkdHdXs2bN16NAhZWdnq7y8XLt379a8efOCHg0AEBAX78A6OzsVjUaVl5enf/3rX1q7dq3a2tqC\\\n",
              "HgsAEKD0oAe4EwMDA8rJyUnczs7O1nffffcfv+fBUEgP+egzACQNm/6IhoeHgx7jjrgI2J2KxWKK\\\n",
              "xWKSpP9RSCs1OeCJAMCXeG5u0CPcMRdvUSKRiPr6+hK3+/v7FYlE/va4xsZGxeNxxeNxPajQ/RwR\\\n",
              "AHCfuQhYeXm5uru71dvbq5GREbW2tqq2tjbosQAAAXJxCjE9PV3bt2/X448/rtHRUTU0NKiwsDDo\\\n",
              "sQAAAXLxMfp/YkYojWtgAHCX4qUFisfjQY9xR1ycQgQA4K8IGADAJQIGAHCJgAEAXCJgAACXCBgA\\\n",
              "wCUCBgBwiYABAFwiYAAAlwgYAMAlAgYAcImAAQBcImAAAJcIGADAJQIGAHCJgAEAXCJgAACXCBgA\\\n",
              "wCUCBgBwiYABAFwiYAAAlwgYAMAlAgYAcCk96AH+Kjc3Vw899JDS0tKUnp6ueDyuCxcuaM2aNTp9\\\n",
              "+rRyc3O1Z88ePfLII0GPCgAIUFK+Azt8+LC6uroUj8clSc3NzaqqqlJ3d7eqqqrU3Nwc8IQAgKAl\\\n",
              "ZcD+qq2tTfX19ZKk+vp67du3L+CJAABBS7qAhUIh1dTUqLS0VLFYTJI0NDSkrKwsSVJmZqaGhoaC\\\n",
              "HBEAkASS7hrYkSNHFIlEdPbsWVVXV2vOnDm33B8KhRQKhW77vbFYLBG9a7JxnxUAEJykewcWiUQk\\\n",
              "SeFwWHV1ders7FRGRoYGBwclSYODgwqHw7f93sbGRsXjccXjcT2o20cOADAxJFXArly5osuXLye+\\\n",
              "PnjwoIqKilRbW6uWlhZJUktLi1asWBHkmACAJJBUpxCHhoZUV1cnSbp586aefvppLV26VOXl5Vq9\\\n",
              "erV27typmTNnas+ePQFPCgAIWsjMJuTFohmhNK3U5KDHAABX4qUFiX/ClOyS6hQiAAB3ioABAFwi\\\n",
              "YAAAlwgYAMAlAgYAcImAAQBcImAAAJcIGADAJQIGAHCJgAEAXCJgAACXCBgAwCUCBgBwiYABAFwi\\\n",
              "YAAAlwgYAMAlAgYAcImAAQBcImAAAJcIGADAJQIGAHCJgAEAXCJgAACXAglYQ0ODwuGwioqKEscu\\\n",
              "XLig6upq5efnq7q6WhcvXpQkmZk2b96saDSq4uJinTx5MoiRAQBJJpCArV+/Xu3t7bcca25uVlVV\\\n",
              "lbq7u1VVVaXm5mZJ0ueff67u7m51d3crFotp48aNQYwMAEgygQRs8eLFmjZt2i3H2traVF9fL0mq\\\n",
              "r6/Xvn37EsefffZZhUIhPfbYY7p06ZIGBwfv+8wAgOSSNNfAhoaGlJWVJUnKzMzU0NCQJGlgYEA5\\\n",
              "OTmJx2VnZ2tgYCCQGQEAySM96AFuJxQKKRQK3fX3xWIxxWIxSdI12b0eCwCQRJLmHVhGRkbi1ODg\\\n",
              "4KDC4bAkKRKJqK+vL/G4/v5+RSKR2/6MxsZGxeNxxeNxPai7DyAAwI+kCVhtba1aWlokSS0tLVqx\\\n",
              "YkXi+K5du2RmOn78uKZMmZI41QgASF2BnEJct26dOjo6NDw8rOzsbG3dulWvv/66Vq9erZ07d2rm\\\n",
              "zJnas2ePJGnZsmU6cOCAotGoJk+erA8//DCIkQEASSZkZhPyYtGMUJpWanLQYwCAK/HSAsXj8aDH\\\n",
              "uCNJcwoRAIC7QcAAAC4RMACASwQMAOASAQMAuETAAAAuETAAgEsEDADgEgEDALhEwAAALhEwAIBL\\\n",
              "BAwA4BIBAwC4RMAAAC4RMACASwQMAOASAQMAuETAAAAuETAAgEsEDADgEgEDALhEwAAALhEwAIBL\\\n",
              "gQSsoaFB4XBYRUVFiWNbtmxRJBJRSUmJSkpKdODAgcR9TU1NikajKigo0BdffBHEyACAJBNIwNav\\\n",
              "X6/29va/HX/ppZfU1dWlrq4uLVu2TJL0008/qbW1VadOnVJ7e7s2bdqk0dHR+z0yACDJBBKwxYsX\\\n",
              "a9q0aXf02La2Nq1du1YPPPCAHn30UUWjUXV2do7zhACAZJdU18C2b9+u4uJiNTQ06OLFi5KkgYEB\\\n",
              "5eTkJB6TnZ2tgYGBoEYEACSJpAnYxo0b1dPTo66uLmVlZemVV165658Ri8VUVlamsrIyXZONw5QA\\\n",
              "gGSRNAHLyMhQWlqaJk2apOeffz5xmjASiaivry/xuP7+fkUikdv+jMbGRsXjccXjcT2o0H2ZGwAQ\\\n",
              "jKQJ2ODgYOLrTz75JPEJxdraWrW2tur69evq7e1Vd3e3KioqghoTAJAk0oP4Q9etW6eOjg4NDw8r\\\n",
              "OztbW7duVUdHh7q6uhQKhZSbm6v3339fklRYWKjVq1dr3rx5Sk9P144dO5SWlhbE2ACAJBIyswl5\\\n",
              "sWhGKE0rNTnoMQDAlXhpgeLxeNBj3JGkOYUIAMDdIGAAAJcIGADAJQIGAHCJgAEAXCJgAACXCBgA\\\n",
              "wCUCBgBwiYABAFwiYAAAlwgYAMAlAgYAcImAAQBcImAAAJcC+f/A7oer//tvxecUBD1GoM6dO6cZ\\\n",
              "M2YEPUZgWH9qr19iD/7J+k+fPj0+w4yDCRuwOXPmuPk/bcZLWVlZSu8B60/t9UvswURfP6cQAQAu\\\n",
              "ETAAgEtpW7Zs2RL0EOOltLQ06BECl+p7wPpTe/0SezCR1x8yMwt6CAAA7hanEAEALk3IgLW3t6ug\\\n",
              "oEDRaFTNzc1BjzMuGhoaFA6HVVRUlDh24cIFVVdXKz8/X9XV1bp48aIkycy0efNmRaNRFRcX6+TJ\\\n",
              "k0GNfc/09fVpyZIlmjdvngoLC/Xuu+9KSq09uHbtmioqKrRgwQIVFhbqjTfekCT19vZq0aJFikaj\\\n",
              "WrNmjUZGRiRJ169f15o1axSNRrVo0SJXH5f+T0ZHR7Vw4UI98cQTklJv/bm5uZo/f75KSkpUVlYm\\\n",
              "KYWeBzbB3Lx50/Ly8qynp8euX79uxcXFdurUqaDHuue+/vprO3HihBUWFiaOvfrqq9bU1GRmZk1N\\\n",
              "Tfbaa6+Zmdn+/ftt6dKlNjY2ZseOHbOKiopAZr6Xzpw5YydOnDAzs19//dXy8/Pt1KlTKbUHY2Nj\\\n",
              "dvnyZTMzGxkZsYqKCjt27Jg99dRTtnv3bjMz27Bhg7333ntmZrZjxw7bsGGDmZnt3r3bVq9eHczg\\\n",
              "99jbb79t69ats+XLl5uZpdz6Z86caefOnbvlWKo8DyZcwI4ePWo1NTWJ29u2bbNt27YFONH46e3t\\\n",
              "vSVgs2fPtjNnzpjZ7y/ws2fPNjOzxsZG+/jjj2/7uImitrbWDh48mLJ7cOXKFVu4cKEdP37cpk+f\\\n",
              "bjdu3DCzW58PNTU1dvToUTMzu3Hjhk2fPt3GxsYCm/le6Ovrs8rKSvvyyy9t+fLlNjY2llLrN7t9\\\n",
              "wFLleTDhTiEODAwoJycncTs7O1sDAwMBTnT/DA0NKSsrS5KUmZmpoaEhSRN/T06fPq0ffvhBixYt\\\n",
              "Srk9GB0dVUlJicLhsKqrqzVr1ixNnTpV6em//46CP6/zz3uQnp6uKVOm6Pz584HNfi+8+OKLeuut\\\n",
              "tzRp0u8vZefPn0+p9UtSKBRSTU2NSktLFYvFJKXOa8GE/U0cqS4UCikUCgU9xrj77bfftHLlSr3z\\\n",
              "zjt6+OGHb7kvFfYgLS1NXV1dunTpkurq6vTzzz8HPdJ989lnnykcDqu0tFQdHR1BjxOYI0eOKBKJ\\\n",
              "6OzZs6qurtacOXNuuX8iPw8m3DuwSCSivr6+xO3+/n5FIpEAJ7p/MjIyNDg4KEkaHBxUOByWNHH3\\\n",
              "5MaNG1q5cqWeeeYZPfnkk5JSbw/+MHXqVC1ZskTHjh3TpUuXdPPmTUm3rvPPe3Dz5k398ssvmj59\\\n",
              "emAz/7e+/fZbffrpp8rNzdXatWv11Vdf6YUXXkiZ9f/hj/WFw2HV1dWps7MzZZ4HEy5g5eXl6u7u\\\n",
              "Vm9vr0ZGRtTa2qra2tqgx7ovamtr1dLSIklqaWnRihUrEsd37dolM9Px48c1ZcqUxOkFr8xMzz33\\\n",
              "nObOnauXX345cTyV9uDcuXO6dOmSJOnq1as6dOiQ5s6dqyVLlmjv3r2S/r4Hf+zN3r17VVlZ6fpv\\\n",
              "5k1NTerv79fp06fV2tqqyspKffTRRymzfkm6cuWKLl++nPj64MGDKioqSp3nQbCX4MbH/v37LT8/\\\n",
              "3/Ly8uzNN98MepxxsXbtWsvMzLT09HSLRCL2wQcf2PDwsFVWVlo0GrWqqio7f/68mf3+abVNmzZZ\\\n",
              "Xl6eFRUV2ffffx/w9P+9b775xiTZ/PnzbcGCBbZgwQLbv39/Su3Bjz/+aCUlJTZ//nwrLCy0rVu3\\\n",
              "mplZT0+PlZeX26xZs2zVqlV27do1MzO7evWqrVq1ymbNmmXl5eXW09MT5Pj31OHDhxOfQkyl9ff0\\\n",
              "9FhxcbEVFxfbvHnzEq93qfI84DdxAABcmnCnEAEAqYGAAQBcImAAAJcIGADAJQIGAHCJgAEAXCJg\\\n",
              "AACXCBgAwCUCBgBwiYABAFwiYAAAlwgYAMAlAgYAcImAAQBcImAAAJcIGADAJQIGAHCJgAEAXCJg\\\n",
              "AACXCBgAwCUCBgBwiYABAFwiYAAAlwgYAMAlAgYAcImAAQBcImAAAJcIGADAJQIGAHCJgAEAXCJg\\\n",
              "AACXCBgAwCUCBgBwiYABAFwiYAAAlwgYAMAlAgYAcImAAQBcImAAAJcIGADAJQIGAHCJgAEAXCJg\\\n",
              "AACXCBgAwCUCBgBwiYABAFwiYAAAlwgYAMAlAgYAcImAAQBcImAAAJcIGADAJQIGAHCJgAEAXCJg\\\n",
              "AACXCBgAwCUCBgBwiYABAFwiYAAAlwgYAMAlAgYAcImAAQBcImAAAJcIGADAJQIGAHCJgAEAXCJg\\\n",
              "AACXCBgAwCUCBgBwiYABAFwiYAAAl/4PN46pzeF6DY8AAAAASUVORK5CYII=\\\n",
              "\"\n",
              "  frames[19] = \"data:image/png;base64,iVBORw0KGgoAAAANSUhEUgAAAbAAAAEgCAYAAADVKCZpAAAABHNCSVQICAgIfAhkiAAAAAlwSFlz\\\n",
              "AAALEgAACxIB0t1+/AAAADh0RVh0U29mdHdhcmUAbWF0cGxvdGxpYiB2ZXJzaW9uMy4yLjIsIGh0\\\n",
              "dHA6Ly9tYXRwbG90bGliLm9yZy+WH4yJAAAQPUlEQVR4nO3db2jV9d/H8ddxu37186I0xbONs+Ga\\\n",
              "Z07dnJP9sVuCG1uiMVmafwqaLJroDftH0b0Uwo0gKNCgQxITyiFCLtKWUi4ytXW0dcMIxpiwzTGd\\\n",
              "f8pEnW7v60Z0yJLfpf2c3/PeeT5u7XzP2Xx/PnDO0/P9HmfIzEwAADgzKegBAAD4JwgYAMAlAgYA\\\n",
              "cImAAQBcImAAAJcIGADAJQIGAHCJgAEAXCJgAACXCBgAwCUCBgBwiYABAFwiYAAAlwgYAMAlAgYA\\\n",
              "cImAAQBcImAAAJcIGADAJQIGAHCJgAEAXCJgAACXCBgAwCUCBgBwiYABAFwiYAAAlwgYAMAlAgYA\\\n",
              "cImAAQBcImAAAJcIGADAJQIGAHCJgAEAXCJgAACXCBgAwCUCBgBwiYABAFwiYAAAlwgYAMAlAgYA\\\n",
              "cImAAQBcImAAAJcIGADAJQIGAHCJgAEAXCJgAACXCBgAwCUCBgBwiYABAFwiYAAAlwgYAMAlAgYA\\\n",
              "cImAAQBcImAAAJcIGADAJQIGAHCJgAEAXCJgAACXCBgAwCUCBgBwiYABAFwiYAAAlwgYAMAlAgYA\\\n",
              "cImAAQBcImAAAJcIGADAJQIGAHCJgAEAXCJgAACXCBgAwCUCBgBwiYABAFwiYAAAlwgYAMAlAgYA\\\n",
              "cImAAQBcImAAAJcIGADAJQIGAHCJgAEAXCJgAACX3ASsvb1dBQUFikajam5uDnocAEDAQmZmQQ/x\\\n",
              "/xkdHdXs2bN16NAhZWdnq7y8XLt379a8efOCHg0AEBAX78A6OzsVjUaVl5enf/3rX1q7dq3a2tqC\\\n",
              "HgsAEKD0oAe4EwMDA8rJyUnczs7O1nffffcfv+fBUEgP+egzACQNm/6IhoeHgx7jjrgI2J2KxWKK\\\n",
              "xWKSpP9RSCs1OeCJAMCXeG5u0CPcMRdvUSKRiPr6+hK3+/v7FYlE/va4xsZGxeNxxeNxPajQ/RwR\\\n",
              "AHCfuQhYeXm5uru71dvbq5GREbW2tqq2tjbosQAAAXJxCjE9PV3bt2/X448/rtHRUTU0NKiwsDDo\\\n",
              "sQAAAXLxMfp/YkYojWtgAHCX4qUFisfjQY9xR1ycQgQA4K8IGADAJQIGAHCJgAEAXCJgAACXCBgA\\\n",
              "wCUCBgBwiYABAFwiYAAAlwgYAMAlAgYAcImAAQBcImAAAJcIGADAJQIGAHCJgAEAXCJgAACXCBgA\\\n",
              "wCUCBgBwiYABAFwiYAAAlwgYAMAlAgYAcCk96AH+Kjc3Vw899JDS0tKUnp6ueDyuCxcuaM2aNTp9\\\n",
              "+rRyc3O1Z88ePfLII0GPCgAIUFK+Azt8+LC6uroUj8clSc3NzaqqqlJ3d7eqqqrU3Nwc8IQAgKAl\\\n",
              "ZcD+qq2tTfX19ZKk+vp67du3L+CJAABBS7qAhUIh1dTUqLS0VLFYTJI0NDSkrKwsSVJmZqaGhoaC\\\n",
              "HBEAkASS7hrYkSNHFIlEdPbsWVVXV2vOnDm33B8KhRQKhW77vbFYLBG9a7JxnxUAEJykewcWiUQk\\\n",
              "SeFwWHV1ders7FRGRoYGBwclSYODgwqHw7f93sbGRsXjccXjcT2o20cOADAxJFXArly5osuXLye+\\\n",
              "PnjwoIqKilRbW6uWlhZJUktLi1asWBHkmACAJJBUpxCHhoZUV1cnSbp586aefvppLV26VOXl5Vq9\\\n",
              "erV27typmTNnas+ePQFPCgAIWsjMJuTFohmhNK3U5KDHAABX4qUFiX/ClOyS6hQiAAB3ioABAFwi\\\n",
              "YAAAlwgYAMAlAgYAcImAAQBcImAAAJcIGADAJQIGAHCJgAEAXCJgAACXCBgAwCUCBgBwiYABAFwi\\\n",
              "YAAAlwgYAMAlAgYAcImAAQBcImAAAJcIGADAJQIGAHCJgAEAXCJgAACXAglYQ0ODwuGwioqKEscu\\\n",
              "XLig6upq5efnq7q6WhcvXpQkmZk2b96saDSq4uJinTx5MoiRAQBJJpCArV+/Xu3t7bcca25uVlVV\\\n",
              "lbq7u1VVVaXm5mZJ0ueff67u7m51d3crFotp48aNQYwMAEgygQRs8eLFmjZt2i3H2traVF9fL0mq\\\n",
              "r6/Xvn37EsefffZZhUIhPfbYY7p06ZIGBwfv+8wAgOSSNNfAhoaGlJWVJUnKzMzU0NCQJGlgYEA5\\\n",
              "OTmJx2VnZ2tgYCCQGQEAySM96AFuJxQKKRQK3fX3xWIxxWIxSdI12b0eCwCQRJLmHVhGRkbi1ODg\\\n",
              "4KDC4bAkKRKJqK+vL/G4/v5+RSKR2/6MxsZGxeNxxeNxPai7DyAAwI+kCVhtba1aWlokSS0tLVqx\\\n",
              "YkXi+K5du2RmOn78uKZMmZI41QgASF2BnEJct26dOjo6NDw8rOzsbG3dulWvv/66Vq9erZ07d2rm\\\n",
              "zJnas2ePJGnZsmU6cOCAotGoJk+erA8//DCIkQEASSZkZhPyYtGMUJpWanLQYwCAK/HSAsXj8aDH\\\n",
              "uCNJcwoRAIC7QcAAAC4RMACASwQMAOASAQMAuETAAAAuETAAgEsEDADgEgEDALhEwAAALhEwAIBL\\\n",
              "BAwA4BIBAwC4RMAAAC4RMACASwQMAOASAQMAuETAAAAuETAAgEsEDADgEgEDALhEwAAALhEwAIBL\\\n",
              "gQSsoaFB4XBYRUVFiWNbtmxRJBJRSUmJSkpKdODAgcR9TU1NikajKigo0BdffBHEyACAJBNIwNav\\\n",
              "X6/29va/HX/ppZfU1dWlrq4uLVu2TJL0008/qbW1VadOnVJ7e7s2bdqk0dHR+z0yACDJBBKwxYsX\\\n",
              "a9q0aXf02La2Nq1du1YPPPCAHn30UUWjUXV2do7zhACAZJdU18C2b9+u4uJiNTQ06OLFi5KkgYEB\\\n",
              "5eTkJB6TnZ2tgYGBoEYEACSJpAnYxo0b1dPTo66uLmVlZemVV165658Ri8VUVlamsrIyXZONw5QA\\\n",
              "gGSRNAHLyMhQWlqaJk2apOeffz5xmjASiaivry/xuP7+fkUikdv+jMbGRsXjccXjcT2o0H2ZGwAQ\\\n",
              "jKQJ2ODgYOLrTz75JPEJxdraWrW2tur69evq7e1Vd3e3KioqghoTAJAk0oP4Q9etW6eOjg4NDw8r\\\n",
              "OztbW7duVUdHh7q6uhQKhZSbm6v3339fklRYWKjVq1dr3rx5Sk9P144dO5SWlhbE2ACAJBIyswl5\\\n",
              "sWhGKE0rNTnoMQDAlXhpgeLxeNBj3JGkOYUIAMDdIGAAAJcIGADAJQIGAHCJgAEAXCJgAACXCBgA\\\n",
              "wCUCBgBwiYABAFwiYAAAlwgYAMAlAgYAcImAAQBcImAAAJcC+f/A7oer//tvxecUBD1GoM6dO6cZ\\\n",
              "M2YEPUZgWH9qr19iD/7J+k+fPj0+w4yDCRuwOXPmuPk/bcZLWVlZSu8B60/t9UvswURfP6cQAQAu\\\n",
              "ETAAgEtpW7Zs2RL0EOOltLQ06BECl+p7wPpTe/0SezCR1x8yMwt6CAAA7hanEAEALk3IgLW3t6ug\\\n",
              "oEDRaFTNzc1BjzMuGhoaFA6HVVRUlDh24cIFVVdXKz8/X9XV1bp48aIkycy0efNmRaNRFRcX6+TJ\\\n",
              "k0GNfc/09fVpyZIlmjdvngoLC/Xuu+9KSq09uHbtmioqKrRgwQIVFhbqjTfekCT19vZq0aJFikaj\\\n",
              "WrNmjUZGRiRJ169f15o1axSNRrVo0SJXH5f+T0ZHR7Vw4UI98cQTklJv/bm5uZo/f75KSkpUVlYm\\\n",
              "KYWeBzbB3Lx50/Ly8qynp8euX79uxcXFdurUqaDHuue+/vprO3HihBUWFiaOvfrqq9bU1GRmZk1N\\\n",
              "Tfbaa6+Zmdn+/ftt6dKlNjY2ZseOHbOKiopAZr6Xzpw5YydOnDAzs19//dXy8/Pt1KlTKbUHY2Nj\\\n",
              "dvnyZTMzGxkZsYqKCjt27Jg99dRTtnv3bjMz27Bhg7333ntmZrZjxw7bsGGDmZnt3r3bVq9eHczg\\\n",
              "99jbb79t69ats+XLl5uZpdz6Z86caefOnbvlWKo8DyZcwI4ePWo1NTWJ29u2bbNt27YFONH46e3t\\\n",
              "vSVgs2fPtjNnzpjZ7y/ws2fPNjOzxsZG+/jjj2/7uImitrbWDh48mLJ7cOXKFVu4cKEdP37cpk+f\\\n",
              "bjdu3DCzW58PNTU1dvToUTMzu3Hjhk2fPt3GxsYCm/le6Ovrs8rKSvvyyy9t+fLlNjY2llLrN7t9\\\n",
              "wFLleTDhTiEODAwoJycncTs7O1sDAwMBTnT/DA0NKSsrS5KUmZmpoaEhSRN/T06fPq0ffvhBixYt\\\n",
              "Srk9GB0dVUlJicLhsKqrqzVr1ixNnTpV6em//46CP6/zz3uQnp6uKVOm6Pz584HNfi+8+OKLeuut\\\n",
              "tzRp0u8vZefPn0+p9UtSKBRSTU2NSktLFYvFJKXOa8GE/U0cqS4UCikUCgU9xrj77bfftHLlSr3z\\\n",
              "zjt6+OGHb7kvFfYgLS1NXV1dunTpkurq6vTzzz8HPdJ989lnnykcDqu0tFQdHR1BjxOYI0eOKBKJ\\\n",
              "6OzZs6qurtacOXNuuX8iPw8m3DuwSCSivr6+xO3+/n5FIpEAJ7p/MjIyNDg4KEkaHBxUOByWNHH3\\\n",
              "5MaNG1q5cqWeeeYZPfnkk5JSbw/+MHXqVC1ZskTHjh3TpUuXdPPmTUm3rvPPe3Dz5k398ssvmj59\\\n",
              "emAz/7e+/fZbffrpp8rNzdXatWv11Vdf6YUXXkiZ9f/hj/WFw2HV1dWps7MzZZ4HEy5g5eXl6u7u\\\n",
              "Vm9vr0ZGRtTa2qra2tqgx7ovamtr1dLSIklqaWnRihUrEsd37dolM9Px48c1ZcqUxOkFr8xMzz33\\\n",
              "nObOnauXX345cTyV9uDcuXO6dOmSJOnq1as6dOiQ5s6dqyVLlmjv3r2S/r4Hf+zN3r17VVlZ6fpv\\\n",
              "5k1NTerv79fp06fV2tqqyspKffTRRymzfkm6cuWKLl++nPj64MGDKioqSp3nQbCX4MbH/v37LT8/\\\n",
              "3/Ly8uzNN98MepxxsXbtWsvMzLT09HSLRCL2wQcf2PDwsFVWVlo0GrWqqio7f/68mf3+abVNmzZZ\\\n",
              "Xl6eFRUV2ffffx/w9P+9b775xiTZ/PnzbcGCBbZgwQLbv39/Su3Bjz/+aCUlJTZ//nwrLCy0rVu3\\\n",
              "mplZT0+PlZeX26xZs2zVqlV27do1MzO7evWqrVq1ymbNmmXl5eXW09MT5Pj31OHDhxOfQkyl9ff0\\\n",
              "9FhxcbEVFxfbvHnzEq93qfI84DdxAABcmnCnEAEAqYGAAQBcImAAAJcIGADAJQIGAHCJgAEAXCJg\\\n",
              "AACXCBgAwCUCBgBwiYABAFwiYAAAlwgYAMAlAgYAcImAAQBcImAAAJcIGADAJQIGAHCJgAEAXCJg\\\n",
              "AACXCBgAwCUCBgBwiYABAFwiYAAAlwgYAMAlAgYAcImAAQBcImAAAJcIGADAJQIGAHCJgAEAXCJg\\\n",
              "AACXCBgAwCUCBgBwiYABAFwiYAAAlwgYAMAlAgYAcImAAQBcImAAAJcIGADAJQIGAHCJgAEAXCJg\\\n",
              "AACXCBgAwCUCBgBwiYABAFwiYAAAlwgYAMAlAgYAcImAAQBcImAAAJcIGADAJQIGAHCJgAEAXCJg\\\n",
              "AACXCBgAwCUCBgBwiYABAFwiYAAAlwgYAMAlAgYAcImAAQBcImAAAJcIGADAJQIGAHCJgAEAXCJg\\\n",
              "AACXCBgAwCUCBgBwiYABAFwiYAAAl/4PN46pzeF6DY8AAAAASUVORK5CYII=\\\n",
              "\"\n",
              "\n",
              "\n",
              "    /* set a timeout to make sure all the above elements are created before\n",
              "       the object is initialized. */\n",
              "    setTimeout(function() {\n",
              "        anim9e7c76d0b3104c78963ed17abd9ae10a = new Animation(frames, img_id, slider_id, 100.0,\n",
              "                                 loop_select_id);\n",
              "    }, 0);\n",
              "  })()\n",
              "</script>\n"
            ]
          },
          "metadata": {},
          "execution_count": 32
        }
      ],
      "source": [
        "#!Start\n",
        "def AnimateMe(us_flat,vMax):\n",
        "    fig, ax = plt.subplots()\n",
        "    cax = ax.imshow(us_flat[1],cmap=plt.cm.Reds,vmin=0,vmax=vMax)\n",
        "    plt.close(fig)\n",
        "    def animate(i):\n",
        "         cax.set_array(us_flat[i])\n",
        "\n",
        "    anim = FuncAnimation(fig, animate, interval=100, frames=len(us_flat))\n",
        "    return anim\n",
        "us_flat = list(itertools.chain.from_iterable(us[:-1]))\n",
        "#us_flat = list(itertools.chain.from_iterable(us[0:17]))\n",
        "anim=AnimateMe(us_flat,0.07)\n",
        "HTML(anim.to_jshtml())\n",
        "#!Stop"
      ]
    },
    {
      "cell_type": "markdown",
      "metadata": {
        "id": "vHCmCn8DeJSb"
      },
      "source": [
        "### j. Speed Test (EC)\n",
        "*5 Points*"
      ]
    },
    {
      "cell_type": "markdown",
      "metadata": {
        "id": "SHvgCvRZeJSb"
      },
      "source": [
        "Our code for for `%time Run(2000,3000,Setup(),Setup(),GenerateCylinderObstacle())` takes between 45 and 60 seconds. We'll give 5 points if you can make your code faster than 40 seconds runtime (on the server). Warning: we aren't sure this is possible!"
      ]
    },
    {
      "cell_type": "markdown",
      "metadata": {
        "id": "WV1IFCBNeJSb"
      },
      "source": [
        "#### Answer:"
      ]
    },
    {
      "cell_type": "code",
      "execution_count": null,
      "metadata": {
        "id": "GRwdoaedeJSb"
      },
      "outputs": [],
      "source": []
    },
    {
      "cell_type": "markdown",
      "metadata": {
        "id": "-UkPR4PoeJSb"
      },
      "source": [
        "## Exercise 2: Walls"
      ]
    },
    {
      "cell_type": "markdown",
      "metadata": {
        "id": "8ToHJ2TMeJSb"
      },
      "source": [
        "* **List of collaborators:**\n",
        "\n",
        "* **References you used in developing your code:**"
      ]
    },
    {
      "cell_type": "markdown",
      "metadata": {
        "id": "NbbqddRWeJSb"
      },
      "source": [
        "In this exercise we are going to use all the same code but generate a different object.  Here generate an object which consists of two walls:\n",
        "* one spans $50 \\leq x \\leq 60$ and $n_y/4 \\leq y \\leq 3n_y/4$\n",
        "* the other spans $200 \\leq x \\leq 210$ and $n_y/4 \\leq y \\leq 3n_y/4$\n",
        "\n",
        "🦉Run your code again with this new obstacle and generate a new animation."
      ]
    },
    {
      "cell_type": "markdown",
      "metadata": {
        "id": "woq9eSxCeJSc"
      },
      "source": [
        "#### Answer:"
      ]
    },
    {
      "cell_type": "code",
      "source": [
        "def GenerateWallObstacle():\n",
        "    obstacle=np.empty((nx,ny),dtype='bool')\n",
        "    obstacle[:,:]=False\n",
        "    for i in range(50, 60):\n",
        "      for j in range(ny/4, ny/4*3+1):\n",
        "        obstacle[i,j] = True\n",
        "    for i in range(200, 210):\n",
        "      for j in range(ny/4, ny/4*3+1):\n",
        "        obstacle[i,j] = True\n",
        "    return obstacle\n"
      ],
      "metadata": {
        "id": "iO1mvfKbeo0K"
      },
      "execution_count": null,
      "outputs": []
    },
    {
      "cell_type": "code",
      "execution_count": null,
      "metadata": {
        "id": "s14cSmNaeJSc"
      },
      "outputs": [],
      "source": [
        "#!Start\n",
        "fin=Setup()\n",
        "feq_init=fin.copy()\n",
        "\n",
        "obstacle=GenerateWallObstacle()\n",
        "fins=rhos=us= [None] * 21\n",
        "fins[0]=fin.copy()\n",
        "for i in range(0,20):\n",
        "    %time (rhos[i],us[i],fins[i+1])=Run(2000,100,fins[i],feq_init,obstacle)\n",
        "#!Stop"
      ]
    },
    {
      "cell_type": "code",
      "execution_count": null,
      "metadata": {
        "id": "9U4c3JVqeJSc"
      },
      "outputs": [],
      "source": [
        "#!Start\n",
        "us_flat = list(itertools.chain.from_iterable(us[0:-1]))\n",
        "anim=AnimateMe(us_flat,0.2)\n",
        "HTML(anim.to_jshtml())\n",
        "#!Stop"
      ]
    },
    {
      "cell_type": "markdown",
      "metadata": {
        "id": "UsIgRiv4eJSc"
      },
      "source": [
        "## Exercise 3: Something new... (EC)\n",
        "*(Extra credit: 5 points)*\n"
      ]
    },
    {
      "cell_type": "markdown",
      "metadata": {
        "id": "0oyYHG-YeJSc"
      },
      "source": [
        "* **List of collaborators:**\n",
        "\n",
        "* **References you used in developing your code:**"
      ]
    },
    {
      "cell_type": "markdown",
      "metadata": {
        "id": "yL-LzPQdeJSc"
      },
      "source": [
        "🦉Come up with something new and cool to do with this animation code.  Maybe try out some other interesting obstacles are add some friction to the walls or such."
      ]
    },
    {
      "cell_type": "markdown",
      "metadata": {
        "id": "scQSpOhAeJSc"
      },
      "source": [
        "#### Answer:"
      ]
    },
    {
      "cell_type": "code",
      "execution_count": null,
      "metadata": {
        "id": "6HoGffFmeJSc"
      },
      "outputs": [],
      "source": []
    },
    {
      "cell_type": "markdown",
      "metadata": {
        "id": "F3AF054DeJSc"
      },
      "source": [
        "**Acknowledgement:** This assignment originally inspired from code from flowkit.com\n",
        "* Bryan Clark (original)\n",
        "\n",
        "\n",
        "Copyright: 2021"
      ]
    }
  ],
  "metadata": {
    "colab": {
      "collapsed_sections": [
        "ctT-BVBJeJSM"
      ],
      "provenance": [],
      "machine_shape": "hm",
      "gpuClass": "premium",
      "include_colab_link": true
    },
    "kernelspec": {
      "display_name": "Python 3.9.12 64-bit",
      "language": "python",
      "name": "python3"
    },
    "language_info": {
      "codemirror_mode": {
        "name": "ipython",
        "version": 3
      },
      "file_extension": ".py",
      "mimetype": "text/x-python",
      "name": "python",
      "nbconvert_exporter": "python",
      "pygments_lexer": "ipython3",
      "version": "3.9.12"
    },
    "varInspector": {
      "cols": {
        "lenName": 16,
        "lenType": 16,
        "lenVar": 40
      },
      "kernels_config": {
        "python": {
          "delete_cmd_postfix": "",
          "delete_cmd_prefix": "del ",
          "library": "var_list.py",
          "varRefreshCmd": "print(var_dic_list())"
        },
        "r": {
          "delete_cmd_postfix": ") ",
          "delete_cmd_prefix": "rm(",
          "library": "var_list.r",
          "varRefreshCmd": "cat(var_dic_list()) "
        }
      },
      "types_to_exclude": [
        "module",
        "function",
        "builtin_function_or_method",
        "instance",
        "_Feature"
      ],
      "window_display": false
    },
    "vscode": {
      "interpreter": {
        "hash": "aee8b7b246df8f9039afb4144a1f6fd8d2ca17a180786b69acc140d282b71a49"
      }
    },
    "gpuClass": "premium"
  },
  "nbformat": 4,
  "nbformat_minor": 0
}