{
  "cells": [
    {
      "cell_type": "markdown",
      "metadata": {
        "id": "view-in-github",
        "colab_type": "text"
      },
      "source": [
        "<a href=\"https://colab.research.google.com/github/manualAlan/ComPhys/blob/main/QC1.ipynb\" target=\"_parent\"><img src=\"https://colab.research.google.com/assets/colab-badge.svg\" alt=\"Open In Colab\"/></a>"
      ]
    },
    {
      "cell_type": "markdown",
      "metadata": {
        "id": "AVjmdCufQTFo"
      },
      "source": [
        "# Quantum Computing 1"
      ]
    },
    {
      "cell_type": "markdown",
      "metadata": {
        "id": "aDVEpAYAQTFu"
      },
      "source": [
        "* **Author:**\n",
        "* **Date:**\n",
        "* **Time Spent on this Assignment:**"
      ]
    },
    {
      "cell_type": "markdown",
      "metadata": {
        "id": "NjoAzdmAQTFu"
      },
      "source": [
        "To install qiskit, open a terminal and type (copy/paste):\n",
        "```\n",
        "export PATH=/software/Jupyterhub/jupyterhub-base-kernel/bin:$PATH\n",
        "export LD_LIBRARY_PATH=/software/Jupyterhub/jupyterhub-base-kernel/lib\n",
        "source ~/owl/bin/activate; pip install qiskit; exit\n",
        "```"
      ]
    },
    {
      "cell_type": "code",
      "source": [
        "!pip install qiskit ipywidgets"
      ],
      "metadata": {
        "id": "9cVE8lrorVpa"
      },
      "execution_count": null,
      "outputs": []
    },
    {
      "cell_type": "code",
      "source": [
        "!pip install pylatexenc"
      ],
      "metadata": {
        "id": "QXYzYcVEncl3"
      },
      "execution_count": null,
      "outputs": []
    },
    {
      "cell_type": "code",
      "execution_count": null,
      "metadata": {
        "id": "E9lK2WzmQTFv"
      },
      "outputs": [],
      "source": [
        "import qiskit\n",
        "from qiskit import *\n",
        "import numpy as np\n",
        "from qiskit.visualization import *\n",
        "import pylab as plt"
      ]
    },
    {
      "cell_type": "code",
      "source": [
        "import matplotlib.pyplot as plt\n"
      ],
      "metadata": {
        "id": "7xh0ToZgobo7"
      },
      "execution_count": null,
      "outputs": []
    },
    {
      "cell_type": "markdown",
      "metadata": {
        "id": "_z8wCn_AQTFw"
      },
      "source": [
        "Today we will do most our simulations on a classical simulator that runs on the OWL server.  But, we will run one thing on an actual quantum computer.  To do that, you need to sign up for the quantum computer. Go ahead and sign up for a quantum computing account here: https://quantum-computing.ibm.com/login\n",
        "\n",
        "You will need to put your API key into the commented out section below so it will know to run your code on the quantum computer."
      ]
    },
    {
      "cell_type": "code",
      "execution_count": null,
      "metadata": {
        "id": "aClbepL8QTFw",
        "colab": {
          "base_uri": "https://localhost:8080/"
        },
        "outputId": "7015b3d4-df1a-45c7-e2af-9cf17e40a005"
      },
      "outputs": [
        {
          "output_type": "execute_result",
          "data": {
            "text/plain": [
              "<AccountProvider for IBMQ(hub='ibm-q', group='open', project='main')>"
            ]
          },
          "metadata": {},
          "execution_count": 5
        }
      ],
      "source": [
        "IBMQ.save_account(\"f5ceec5296e783aaf3dfd3b44d7b6c50fa655abb93b1144131a6795b11cd9c6d67d3cf291c334c084e850fc4e5d1235b01a12da5e01329d38bf21d7077c80160\")\n",
        "IBMQ.load_account()"
      ]
    },
    {
      "cell_type": "markdown",
      "metadata": {
        "id": "e7lyW_nRQTFw"
      },
      "source": [
        "Here is a link to the picture of the machine you will be running on:\n",
        "https://github.com/Qiskit/ibmq-device-information/tree/master/backends/yorktown/V1"
      ]
    },
    {
      "cell_type": "code",
      "execution_count": null,
      "metadata": {
        "id": "Nh5VqyELQTFx"
      },
      "outputs": [],
      "source": [
        "def RunMe(qc,num_shots=1024):\n",
        "    backend = BasicAer.get_backend('qasm_simulator')\n",
        "    job = execute(qc, backend,shots=num_shots)\n",
        "    result = job.result()\n",
        "    return result\n",
        "\n",
        "def RunMeState(qc):\n",
        "    backend = BasicAer.get_backend('statevector_simulator')\n",
        "    job = execute(qc, backend,shots=1024)\n",
        "    result = job.result()\n",
        "    return result\n",
        "\n",
        "def RunMeQC(qc):\n",
        "    provider = IBMQ.get_provider(hub='ibm-q')\n",
        "    from qiskit.providers.ibmq import least_busy\n",
        "    small_devices = provider.backends(filters=lambda x: x.configuration().n_qubits == 5\n",
        "                                       and not x.configuration().simulator)\n",
        "    backend = least_busy(small_devices)\n",
        "    jobReal = execute(qc, backend)\n",
        "    return jobReal\n",
        "\n",
        "\n",
        "def StateToBinary(b):\n",
        "    wires=int(round(np.log2(len(b))))\n",
        "    for i in range(0,2**wires):\n",
        "        myFormat=\"0\"+str(wires)+\"b\"\n",
        "        if np.abs(b[i])!=0:\n",
        "            print(b[i],'|',format(i, myFormat)[::-1],'>')\n"
      ]
    },
    {
      "cell_type": "markdown",
      "metadata": {
        "id": "49s-TrUbQTFx"
      },
      "source": [
        "## Exercise 1: A Single Qubit (33 points)"
      ]
    },
    {
      "cell_type": "markdown",
      "metadata": {
        "id": "q7Gna_WgQTFy"
      },
      "source": [
        "We are going to think about quantum computers today.  More specifically, we are going to think about quantum circuits.  Both quantum and classical circuits have wires and gates.  Quantum circuits have the added constraint that the total number of wires must be the same through the whole computation."
      ]
    },
    {
      "cell_type": "code",
      "execution_count": null,
      "metadata": {
        "id": "7BABHOxQQTFy",
        "colab": {
          "base_uri": "https://localhost:8080/",
          "height": 140
        },
        "outputId": "e1184102-50fd-4212-a37f-d0f5c81958a2"
      },
      "outputs": [
        {
          "output_type": "execute_result",
          "data": {
            "text/plain": [
              "<Figure size 116.552x144.48 with 1 Axes>"
            ],
            "image/png": "[encoded data removed]"
          },
          "metadata": {},
          "execution_count": 8
        }
      ],
      "source": [
        "qc = QuantumCircuit(2)\n",
        "qc.draw(output='mpl')"
      ]
    },
    {
      "cell_type": "markdown",
      "metadata": {
        "id": "fpbUHzPGQTFy"
      },
      "source": [
        "We can think of classical circuit as one which takes a binary number as input (on,off,off,on) <--> (1,0,0,1) to a binary number as output.\n",
        "\n",
        "For example a wire with a not gate on it takes $0\\rightarrow 1$ and $1 \\rightarrow 0$\n",
        "\n",
        "Quantum circuits are similar.  They take binary numbers to other binary numbers.  A quantum `not` gate takes $0 \\rightarrow 1$ and $1 \\rightarrow 0.$\n",
        "\n",
        "Let's start by drawing our first circuit.  This circuit has one quantum wire. We are going to put a \"not\" gate (called X here).  By default, the input to our circuits is always \"0\"."
      ]
    },
    {
      "cell_type": "code",
      "execution_count": null,
      "metadata": {
        "id": "7DPK7n3LQTFz",
        "colab": {
          "base_uri": "https://localhost:8080/",
          "height": 95
        },
        "outputId": "00c7efd3-0973-4083-aea9-9c3f709d6a2d"
      },
      "outputs": [
        {
          "output_type": "execute_result",
          "data": {
            "text/plain": [
              "<Figure size 133.526x84.28 with 1 Axes>"
            ],
            "image/png": "[encoded data removed]"
          },
          "metadata": {},
          "execution_count": 9
        }
      ],
      "source": [
        "quantumWires=1\n",
        "qc = QuantumCircuit(quantumWires)\n",
        "qc.x(0) # this is a quantum NOT Gate.\n",
        "qc.draw(output='mpl')"
      ]
    },
    {
      "cell_type": "markdown",
      "metadata": {
        "id": "joWXvPIvQTFz"
      },
      "source": [
        "We are now going to run our circuit.  There are three ways we can run circuits:\n",
        "* Run it on a real quantum computer -  `RunMeQC`\n",
        "* Run it on a simulated quantum computer - `RunMe`\n",
        "* Run it on a simulated quantum computer and cheat by looking what's going on under the hood (you can't do this in the real world but there are some advantages of a simulation).  - `RunMeState`"
      ]
    },
    {
      "cell_type": "markdown",
      "metadata": {
        "id": "lE_5cCSmQTFz"
      },
      "source": [
        "Let's start by running our simulation (and looking under the hood).  Call `results=RunMeState(qc)` on our quantum circuit. We can then get the vector (look under the hood) by calling `StateToBinary(results.get_statevector())`"
      ]
    },
    {
      "cell_type": "code",
      "execution_count": null,
      "metadata": {
        "id": "cHBi8o92QTFz",
        "colab": {
          "base_uri": "https://localhost:8080/"
        },
        "outputId": "74536201-d031-4f7c-ef42-70bba7d0b67d"
      },
      "outputs": [
        {
          "output_type": "stream",
          "name": "stdout",
          "text": [
            "(1+0j) | 0 >\n"
          ]
        }
      ],
      "source": [
        "## add stuff here\n",
        "results =RunMeState(qc)\n",
        "StateToBinary(results.get_statevector())\n"
      ]
    },
    {
      "cell_type": "markdown",
      "metadata": {
        "id": "J2Hsad0YQTF0"
      },
      "source": [
        "Modify your circuit now and put two `not` gates in a row."
      ]
    },
    {
      "cell_type": "code",
      "execution_count": null,
      "metadata": {
        "id": "9VPtRa9tQTF0",
        "colab": {
          "base_uri": "https://localhost:8080/",
          "height": 95
        },
        "outputId": "900f94a6-a9d9-4a52-fcb3-214c398e8a6f"
      },
      "outputs": [
        {
          "output_type": "execute_result",
          "data": {
            "text/plain": [
              "<Figure size 193.726x84.28 with 1 Axes>"
            ],
            "image/png": "[encoded data removed]"
          },
          "metadata": {},
          "execution_count": 20
        }
      ],
      "source": [
        "###This should be your modified circuit\n",
        "qc = QuantumCircuit(1)\n",
        "qc.x(0)\n",
        "qc.x(0)\n",
        "qc.draw(output='mpl')"
      ]
    },
    {
      "cell_type": "markdown",
      "metadata": {
        "id": "qhg2fvGxQTF0"
      },
      "source": [
        "Now, what is particularly interesting about quantum gates is you can be in a situation where it can take $|0\\rangle$ and returns a state which is partially $|0\\rangle$ and partially $|1\\rangle$.    For example, the Hadamard gate (`qc.h`), turns $|0\\rangle$ into \"half\" $|0\\rangle$ and \"half\" $|1\\rangle$.  More concretely, you end up with the state\n",
        "$|0\\rangle \\rightarrow \\frac{1}{\\sqrt{2}} \\left(|0\\rangle + |1\\rangle \\right)$.  Look at the state after the Hadamard."
      ]
    },
    {
      "cell_type": "code",
      "execution_count": null,
      "metadata": {
        "id": "giGwO2C_QTF0",
        "colab": {
          "base_uri": "https://localhost:8080/",
          "height": 95
        },
        "outputId": "2c12c80e-a847-4072-823a-51bbadc884b8"
      },
      "outputs": [
        {
          "output_type": "execute_result",
          "data": {
            "text/plain": [
              "<Figure size 133.526x84.28 with 1 Axes>"
            ],
            "image/png": "[encoded data removed]"
          },
          "metadata": {},
          "execution_count": 21
        }
      ],
      "source": [
        "##Make a circuit with a Hadamard in it\n",
        "qc = QuantumCircuit(1)\n",
        "qc.h(0)\n",
        "qc.draw(output='mpl')"
      ]
    },
    {
      "cell_type": "markdown",
      "metadata": {
        "id": "fiW12SWFQTF0"
      },
      "source": [
        "So far we've been cheating by looking at the quantum state. In the real world, you can't do that.  Instead you have to measure at the end of your circuit.  To add a measure you have to do two things. First, you need a classical wire. We will switch\n",
        "* `qc=QuantumCircuit(1)` $\\rightarrow$ `qc=QuantumCircuit(1,1)` # one classical wire and one quantum wire\n",
        "* Then at the end we have to add a measurement: `qc.measure([0],[0])` (measure quantum wire \"1\" on classical wire \"1\")\n",
        "\n",
        "Go ahead and draw the new circuit that has one Hadamard gate and a measure"
      ]
    },
    {
      "cell_type": "code",
      "execution_count": null,
      "metadata": {
        "id": "FyC23Z6NQTF1",
        "colab": {
          "base_uri": "https://localhost:8080/",
          "height": 140
        },
        "outputId": "82668760-f735-4940-e524-c20b1a911a1e"
      },
      "outputs": [
        {
          "output_type": "execute_result",
          "data": {
            "text/plain": [
              "<Figure size 193.726x144.48 with 1 Axes>"
            ],
            "image/png": "[encoded data removed]"
          },
          "metadata": {},
          "execution_count": 22
        }
      ],
      "source": [
        "#Make your circuit here\n",
        "qc = QuantumCircuit(1,1)\n",
        "qc.h(0)\n",
        "qc.measure([0],[0])\n",
        "qc.draw(output='mpl')"
      ]
    },
    {
      "cell_type": "markdown",
      "metadata": {
        "id": "OSMuLWbUQTF1"
      },
      "source": [
        "Now, we can run it on a legitimate simulator by doing `results=RunMe(qc)`. Once we've run it, we are going to want to see the result of our measurement.  In practice, what `RunMe` is currently doing is running it 1024 times as each measurement is going to give you something random.  (You can look up to see what `RunMe` is doing).  Now, we should plot how many of the measurements is \"0\" and how many of the measurements is \"1\".  To do this, we can do `plot_histogram(results.get_counts())`  You can just see the counts by doing `print(results.get_counts())` Produce plots for\n",
        "* the circuit with one Hadamard wire.\n",
        "* the circuit with one Not wire."
      ]
    },
    {
      "cell_type": "code",
      "execution_count": null,
      "metadata": {
        "id": "tQZ3hindQTF1",
        "colab": {
          "base_uri": "https://localhost:8080/",
          "height": 323
        },
        "outputId": "38065008-1704-4902-ea42-08e913b63c02"
      },
      "outputs": [
        {
          "output_type": "execute_result",
          "data": {
            "text/plain": [
              "<Figure size 504x360 with 1 Axes>"
            ],
            "image/png": "[encoded data removed]"
          },
          "metadata": {},
          "execution_count": 27
        }
      ],
      "source": [
        "#Run the circuit and plot the results here for EPR\n",
        "qc = QuantumCircuit(1,1)\n",
        "qc.h(0)\n",
        "qc.measure([0],[0])\n",
        "result1 = RunMe(qc)\n",
        "plot_histogram(result1.get_counts())\n",
        "\n",
        "\n",
        "\n"
      ]
    },
    {
      "cell_type": "code",
      "execution_count": null,
      "metadata": {
        "id": "a8VTVTRGQTF1",
        "colab": {
          "base_uri": "https://localhost:8080/",
          "height": 323
        },
        "outputId": "6039fec8-647e-4e29-eb66-019b6d2c593a"
      },
      "outputs": [
        {
          "output_type": "execute_result",
          "data": {
            "text/plain": [
              "<Figure size 504x360 with 1 Axes>"
            ],
            "image/png": "[encoded data removed]"
          },
          "metadata": {},
          "execution_count": 28
        }
      ],
      "source": [
        "#Run the circuit and plot the results here for Not gate\n",
        "qc = QuantumCircuit(1,1)\n",
        "qc.x(0)\n",
        "qc.measure([0],[0])\n",
        "result1 = RunMe(qc)\n",
        "plot_histogram(result1.get_counts())"
      ]
    },
    {
      "cell_type": "markdown",
      "metadata": {
        "id": "UUKrHf7GQTF2"
      },
      "source": [
        "You should see that the circuit with the \"hadamard\" gates gives half $|0\\rangle$ and half $|1\\rangle$ whereas the \"not\" gate always gives $|1\\rangle$"
      ]
    },
    {
      "cell_type": "markdown",
      "metadata": {
        "id": "Mpgl0A75QTF2"
      },
      "source": [
        "So far we've seen we can get half $|0\\rangle$ and half $|1\\rangle$.  We can also adjust states to get more of $|1\\rangle$ then $|0\\rangle$ (or visa versa).  Generically we can get a state\n",
        "$\\cos(\\theta) |0\\rangle + \\sin(\\theta) e^{i\\phi} |1\\rangle$.\n",
        "\n",
        "If we had such a state, after measurement we get \"0\" with probability $\\cos^2\\theta$ and \"1\" with probability $\\sin^2\\theta$.  \n",
        "Notice that $\\cos^2\\theta + \\sin^2\\theta =1$ so we either get \"0\" or \"1\".\n",
        "\n",
        "To produce this state, we can use the gate `qc.rx(-2*theta,wire)` which takes $|0\\rangle \\rightarrow \\cos \\theta |0\\rangle + \\sin \\theta |1\\rangle$\n",
        "\n",
        "* Produce a histogram with $\\theta=0.5$ and check to make sure it gives you the right fraction of zero and one.\n",
        "* Write a for loop which runs the circuit for 100 $\\theta$ between 0 and $\\pi$ and make sure the counts of \"0\" are approximately $1024 \\times \\cos^2\\theta$."
      ]
    },
    {
      "cell_type": "code",
      "execution_count": null,
      "metadata": {
        "id": "5W0Gu3ZYQTF2",
        "colab": {
          "base_uri": "https://localhost:8080/",
          "height": 323
        },
        "outputId": "a3135b4d-4edc-4858-cb17-13d5d9da30f5"
      },
      "outputs": [
        {
          "output_type": "execute_result",
          "data": {
            "text/plain": [
              "<Figure size 504x360 with 1 Axes>"
            ],
            "image/png": "[encoded data removed]"
          },
          "metadata": {},
          "execution_count": 55
        }
      ],
      "source": [
        "## Make the circuit and plot the measurements for the theta=0.5 . Check that it's correct\n",
        "qc = QuantumCircuit(1,1)\n",
        "qc.rx(-2*0.5,0)\n",
        "qc.measure([0],[0])\n",
        "result1 = RunMe(qc)\n",
        "plot_histogram(result1.get_counts())\n",
        "\n",
        "#print(result1.get_counts()['1'])"
      ]
    },
    {
      "cell_type": "code",
      "execution_count": null,
      "metadata": {
        "id": "PbBqi_oLQTF2",
        "colab": {
          "base_uri": "https://localhost:8080/",
          "height": 265
        },
        "outputId": "84e18eec-eeb0-40f2-c858-5d0aefbe229e"
      },
      "outputs": [
        {
          "output_type": "display_data",
          "data": {
            "text/plain": [
              "<Figure size 432x288 with 1 Axes>"
            ],
            "image/png": "[encoded data removed]"
          },
          "metadata": {
            "needs_background": "light"
          }
        }
      ],
      "source": [
        "myData=[]\n",
        "thetas=np.arange(0,np.pi,0.01)\n",
        "for theta in thetas:\n",
        "  qc = QuantumCircuit(1,1)\n",
        "  qc.rx(-2*theta,0)\n",
        "  qc.measure([0],[0])\n",
        "  result1 = RunMe(qc)\n",
        "  try:\n",
        "    myData.append(result1.get_counts()['0'])\n",
        "  except:\n",
        "    myData.append(1024-result1.get_counts()['1'])\n",
        "plt.plot(thetas,1024*np.cos(thetas)**2,'.')\n",
        "plt.plot(thetas,myData)\n",
        "plt.show()"
      ]
    },
    {
      "cell_type": "markdown",
      "metadata": {
        "id": "Qi9ymYdaQTF2"
      },
      "source": [
        "## Exercise 2: Two qubits (34 points)"
      ]
    },
    {
      "cell_type": "markdown",
      "metadata": {
        "id": "nJPiLstBQTF2"
      },
      "source": [
        "In this exercise we will see how to build quantum states of two qubits.  \n"
      ]
    },
    {
      "cell_type": "markdown",
      "metadata": {
        "id": "QFbWaPKxQTF3"
      },
      "source": [
        "### a. Control-not gates"
      ]
    },
    {
      "cell_type": "markdown",
      "metadata": {
        "id": "96cYUVQhQTF3"
      },
      "source": [
        "*The controlled-not gate:* The key gate for two qubits is the control-not gate (`qc.cx(0,1)`.  The key gate \"nots\" the second wire (wire 1) if the first wire is \"1\" (wire 0).  Let's check it out.  Apply the \"control-not\" to a state $|00\\rangle$ and to a state $|10\\rangle$ and print out the state (i.e. `RunMeState`). Don't put in a measurement."
      ]
    },
    {
      "cell_type": "code",
      "execution_count": null,
      "metadata": {
        "id": "NKtPxKTAQTF3",
        "colab": {
          "base_uri": "https://localhost:8080/",
          "height": 185
        },
        "outputId": "66af127e-a0a9-4f26-d0bd-c96d3f6c6c20"
      },
      "outputs": [
        {
          "output_type": "execute_result",
          "data": {
            "text/plain": [
              "<Figure size 146.652x204.68 with 1 Axes>"
            ],
            "image/png": "[encoded data removed]"
          },
          "metadata": {},
          "execution_count": 109
        }
      ],
      "source": [
        "### Circuit here applying control-not to |00>.  Print the state when you're done.\n",
        "qc = QuantumCircuit(2,2)\n",
        "qc.cx(0,1)\n",
        "qc.draw(output='mpl')\n"
      ]
    },
    {
      "cell_type": "code",
      "source": [
        "StateToBinary(RunMeState(qc).get_statevector())"
      ],
      "metadata": {
        "colab": {
          "base_uri": "https://localhost:8080/"
        },
        "id": "EdiuQXnFyH4F",
        "outputId": "0a9bd083-9894-4497-878d-7d51b9ed2d4f"
      },
      "execution_count": null,
      "outputs": [
        {
          "output_type": "stream",
          "name": "stdout",
          "text": [
            "(1+0j) | 00 >\n"
          ]
        }
      ]
    },
    {
      "cell_type": "code",
      "execution_count": null,
      "metadata": {
        "id": "8FMkyHrIQTF4",
        "colab": {
          "base_uri": "https://localhost:8080/",
          "height": 185
        },
        "outputId": "e4285a44-6dec-48d9-c913-c3010eb8b28f"
      },
      "outputs": [
        {
          "output_type": "execute_result",
          "data": {
            "text/plain": [
              "<Figure size 206.852x204.68 with 1 Axes>"
            ],
            "image/png": "[encoded data removed]"
          },
          "metadata": {},
          "execution_count": 108
        }
      ],
      "source": [
        "### Circuit here applying control-not to |10>.  Print the state when you're done.\n",
        "qc1 = QuantumCircuit(2,2)\n",
        "qc1.x(0)\n",
        "qc1.cx(0,1)\n",
        "qc1.draw(output='mpl')\n"
      ]
    },
    {
      "cell_type": "code",
      "source": [
        "RunMeState(qc1).get_statevector()\n",
        "StateToBinary(RunMeState(qc1).get_statevector())"
      ],
      "metadata": {
        "colab": {
          "base_uri": "https://localhost:8080/"
        },
        "id": "rrMEXrp9yMiy",
        "outputId": "48dd07f1-9bc0-4f50-93b5-38674a0b6c65"
      },
      "execution_count": null,
      "outputs": [
        {
          "output_type": "stream",
          "name": "stdout",
          "text": [
            "(1+0j) | 11 >\n"
          ]
        }
      ]
    },
    {
      "cell_type": "markdown",
      "metadata": {
        "id": "iDCQf7LMQTF4"
      },
      "source": [
        "### b.  Build an EPR Pair"
      ]
    },
    {
      "cell_type": "markdown",
      "metadata": {
        "id": "yfmGpNgKQTF5"
      },
      "source": [
        "The most interesting two qubit state is an EPR pair, $\\frac{1}{\\sqrt{2}}\\left(|00\\rangle + |11\\rangle\\right)$.    You can build it with two gates that you have seen earlier in this assignment.  Go ahead and try different things and figure out how to build yourself an EPR pair.  You can start out with\n",
        "```\n",
        "quantumWires=2\n",
        "classicalWires=2\n",
        "qc=QuantumCircuit(quantumWires,classicalWires)\n",
        "```\n",
        "to start out a quantum circuit with two quantum wires (and two classical wires that you can do measurements on later)."
      ]
    },
    {
      "cell_type": "code",
      "execution_count": null,
      "metadata": {
        "id": "lHO7qofoQTF5",
        "colab": {
          "base_uri": "https://localhost:8080/",
          "height": 185
        },
        "outputId": "0b106d91-ff07-4e48-96d2-e7631386b24a"
      },
      "outputs": [
        {
          "output_type": "execute_result",
          "data": {
            "text/plain": [
              "<Figure size 206.852x204.68 with 1 Axes>"
            ],
            "image/png": "[encoded data removed]"
          },
          "metadata": {},
          "execution_count": 110
        }
      ],
      "source": [
        "### Make an EPR Pair. It can be done with Hadamards and CNOTs.  Run it and look at the state when you're done.\n",
        "epr = QuantumCircuit(2,2)\n",
        "epr.h(0)\n",
        "epr.cx(0,1)\n",
        "epr.draw(output='mpl')"
      ]
    },
    {
      "cell_type": "markdown",
      "metadata": {
        "id": "sHWz6URfQTF5"
      },
      "source": [
        "### c. Measuring EPR Pairs"
      ]
    },
    {
      "cell_type": "markdown",
      "metadata": {
        "id": "_VuOH17SQTF5"
      },
      "source": [
        "Let's go ahead and measure your EPR circuit above by adding the measurement and plotting it below."
      ]
    },
    {
      "cell_type": "code",
      "execution_count": null,
      "metadata": {
        "id": "crMKC7OXQTF5",
        "colab": {
          "base_uri": "https://localhost:8080/",
          "height": 185
        },
        "outputId": "3587fde9-016f-49ac-9d93-c4432644f131"
      },
      "outputs": [
        {
          "output_type": "execute_result",
          "data": {
            "text/plain": [
              "<Figure size 327.252x204.68 with 1 Axes>"
            ],
            "image/png": "[encoded data removed]"
          },
          "metadata": {},
          "execution_count": 114
        }
      ],
      "source": [
        "### Do the same thing with the EPR Pair but now look at the measurements.\n",
        "epr = QuantumCircuit(2,2)\n",
        "epr.h(0)\n",
        "epr.cx(0,1)\n",
        "epr.draw(output='mpl')\n",
        "epr.measure([0,1],[0,1])\n",
        "epr.draw(output='mpl')\n"
      ]
    },
    {
      "cell_type": "code",
      "source": [
        "result1 = RunMe(epr)\n",
        "plot_histogram(result1.get_counts())"
      ],
      "metadata": {
        "colab": {
          "base_uri": "https://localhost:8080/",
          "height": 331
        },
        "id": "a-V-Zc8w0oDg",
        "outputId": "c974cd0e-b9a3-49f2-c300-d2dd8caa753e"
      },
      "execution_count": null,
      "outputs": [
        {
          "output_type": "execute_result",
          "data": {
            "text/plain": [
              "<Figure size 504x360 with 1 Axes>"
            ],
            "image/png": "[encoded data removed]"
          },
          "metadata": {},
          "execution_count": 115
        }
      ]
    },
    {
      "cell_type": "markdown",
      "metadata": {
        "id": "rZwu5kfqQTF6"
      },
      "source": [
        "There is something very powerful here.  If you get a \"0\" on the top wire, then you always get a \"0\" on the bottom wire.  If you get a \"1\" on the top wire, then you get a \"1\" on bottom wire.  This is even the case if these wires are taken miles apart before you measure.  "
      ]
    },
    {
      "cell_type": "markdown",
      "metadata": {
        "id": "3Ub82R44QTF6"
      },
      "source": [
        "### d. Running on an actual Quantum Computer"
      ]
    },
    {
      "cell_type": "markdown",
      "metadata": {
        "id": "UJu8vltHQTF6"
      },
      "source": [
        "Now we are going to build an EPR pair on an actual quantum computer.  To do this you need to build your quantum circuit again (with measurement) for building an EPR pair and then call `job=RunQC(qc)`"
      ]
    },
    {
      "cell_type": "code",
      "execution_count": null,
      "metadata": {
        "id": "lErG-c8EQTF7"
      },
      "outputs": [],
      "source": [
        "## Remake your circuit and run it on a real live quantum computer.\n",
        "job = RunMeQC(epr)\n"
      ]
    },
    {
      "cell_type": "markdown",
      "metadata": {
        "id": "6M18IeZmQTF7"
      },
      "source": [
        "Once you have run that, your job is sent off to a quantum computer. It may take a bit of time to run.  To check whether it has run yet, we need to do\n",
        "```\n",
        "print(job.status())\n",
        "print(job.queue_position())\n",
        "```\n",
        "\n",
        "You should run these lines until your job status is `JobStatus.DONE`"
      ]
    },
    {
      "cell_type": "code",
      "execution_count": null,
      "metadata": {
        "id": "-qweSu6EQTF7",
        "colab": {
          "base_uri": "https://localhost:8080/"
        },
        "outputId": "57c9fa58-5495-41bc-b356-bddedf42a4d1"
      },
      "outputs": [
        {
          "output_type": "stream",
          "name": "stdout",
          "text": [
            "JobStatus.DONE\n",
            "None\n"
          ]
        }
      ],
      "source": [
        "print(job.status())\n",
        "print(job.queue_position())"
      ]
    },
    {
      "cell_type": "markdown",
      "metadata": {
        "id": "dXTF9X16QTF7"
      },
      "source": [
        "Now that your job has gotten off the quantum computer we can now query it.  To get the counts do\n",
        "`job.result().get_counts`.  Go ahead and plot a histogram of them.\n",
        "\n",
        "You should notice that you don't get perfect correlation anymore.  Current quantum computers are not particularly good."
      ]
    },
    {
      "cell_type": "code",
      "execution_count": null,
      "metadata": {
        "id": "Yt3LWPyiQTF7",
        "colab": {
          "base_uri": "https://localhost:8080/",
          "height": 331
        },
        "outputId": "1ddf2bc4-1b0a-409c-c1df-6f32bfb231c5"
      },
      "outputs": [
        {
          "output_type": "execute_result",
          "data": {
            "text/plain": [
              "<Figure size 504x360 with 1 Axes>"
            ],
            "image/png": "[encoded data removed]"
          },
          "metadata": {},
          "execution_count": 138
        }
      ],
      "source": [
        "#go ahead and make a histogram of the results.\n",
        "plot_histogram(job.result().get_counts())\n"
      ]
    },
    {
      "cell_type": "markdown",
      "metadata": {
        "id": "oJSNjzgZQTF7"
      },
      "source": [
        "### e. Entanglement"
      ]
    },
    {
      "cell_type": "markdown",
      "metadata": {
        "id": "K7hUWMskQTF7"
      },
      "source": [
        "The EPR pair is called entangled.  \n",
        "**Not entangled** means  \n",
        "Pr(wires measures \"00\")  = Pr(wire 0 measures \"0\") $\\times$ Pr(wire 1 measures \"0\")\n",
        "*Note that when you check things you aren't going to get this exactly even if things are independent because things are stochastic.  If you're careful you can compute error bars but otherwise use reasonable judgement*\n",
        "\n",
        "We want to check if things are entangled.  To accomplish this, let's write a function to measure the probability that wire $i$ is 0 - i.e. `def wire_i_probability(myCounts,wire_i)` (you can assume `wire_i` will either be 0 or 1).\n",
        "\n",
        "Now write a function `def wires_probability(myCounts)` which returns the probability that the two wires are \"00\".\n",
        "\n",
        "Given these two functions we want to see which circuits produce entangled states.  In particular check\n",
        "* The EPR Pair\n",
        "* A circuit you generate which has no two wire gates in it (i.e. no CNOT)\n",
        "and demonstrate what you find.\n",
        "\n",
        "*You should run this with the simulator and not on the quantum computer.*\n",
        "\n"
      ]
    },
    {
      "cell_type": "code",
      "execution_count": null,
      "metadata": {
        "id": "9VxBsHKSQTF8"
      },
      "outputs": [],
      "source": [
        "# Measure the probability of getting \"0\" on the wire `wire`\n",
        "def Probability(myCounts,wire):\n",
        "  sum = 0\n",
        "  zeros = 0\n",
        "  keys = list(myCounts.keys())\n",
        "  for key in keys:\n",
        "    sum = sum + myCounts[key]\n",
        "    if key[wire] == '0':\n",
        "      zeros = zeros + myCounts[key]\n",
        "  return zeros/sum\n",
        "def wires_Probability(myCounts):\n",
        "  keys = list(myCounts.keys())\n",
        "  prob = 1.0\n",
        "  for i in range(len(keys[0])):\n",
        "    prob = prob*Probability(myCounts,i)\n",
        "  return prob\n"
      ]
    },
    {
      "cell_type": "code",
      "execution_count": null,
      "metadata": {
        "id": "8glkIvxlQTF8",
        "colab": {
          "base_uri": "https://localhost:8080/"
        },
        "outputId": "fb0310d2-ff7b-4245-d7e2-2330c07142b0"
      },
      "outputs": [
        {
          "output_type": "stream",
          "name": "stdout",
          "text": [
            "{'00': 522, '11': 502}\n",
            "0.2598609924316406\n"
          ]
        }
      ],
      "source": [
        "## Now check the entanglement of the EPR pair and a state you make only using 1-qubit gates.\n",
        "epr = QuantumCircuit(2,2)\n",
        "epr.h(0)\n",
        "epr.cx(0,1)\n",
        "epr.measure([0,1],[0,1])\n",
        "epr.draw(output='mpl')\n",
        "result = RunMe(epr)\n",
        "print(result.get_counts())\n",
        "print(wires_Probability(result.get_counts()))"
      ]
    },
    {
      "cell_type": "markdown",
      "metadata": {
        "id": "FGDThxEdQTF8"
      },
      "source": [
        "## Exercise 3 Quantum Key Distribution (EC - 20 points)"
      ]
    },
    {
      "cell_type": "markdown",
      "metadata": {
        "id": "_OpcNhxdQTF8"
      },
      "source": [
        "### a. One time pads"
      ]
    },
    {
      "cell_type": "markdown",
      "metadata": {
        "id": "sOaJbR0cQTF8"
      },
      "source": [
        "If Alice and Bob have two identical secret books of bits which agree, they could send secret messages to each other. Here's a way to make a bunch of secret bits by sharing a quantum state.  After the quantum state is produced, they can separate their wires to be far apart."
      ]
    },
    {
      "cell_type": "code",
      "execution_count": null,
      "metadata": {
        "id": "Ytg9DgPWQTF8",
        "colab": {
          "base_uri": "https://localhost:8080/",
          "height": 185
        },
        "outputId": "1912322d-7d0c-4697-e05e-853682cff4e5"
      },
      "outputs": [
        {
          "output_type": "execute_result",
          "data": {
            "text/plain": [
              "<Figure size 267.052x204.68 with 1 Axes>"
            ],
            "image/png": "[encoded data removed]"
          },
          "metadata": {},
          "execution_count": 8
        }
      ],
      "source": [
        "\n",
        "\n",
        "def MakeSinglet(qc):\n",
        "    aliceWire=0\n",
        "    bobWire=1\n",
        "    qc.h(aliceWire)\n",
        "    qc.cx(aliceWire,bobWire)\n",
        "\n",
        "def MakeSharedState(qc):\n",
        "    MakeSinglet(qc)\n",
        "    qc.barrier()\n",
        "    return qc\n",
        "\n",
        "qc=QuantumCircuit(2,2)\n",
        "qc=MakeSharedState(qc)\n",
        "qc.draw(output='mpl')"
      ]
    },
    {
      "cell_type": "markdown",
      "metadata": {
        "id": "QjbVf736QTF8"
      },
      "source": [
        "Let `AliceWire=0` and `BobWire=1` .\n",
        "* Add some measurement to the circuit above\n",
        "* execute this circuit 100 times (use `RunMe(qc,1)` so you only run one copy of it)\n",
        "* store a list of Alice and Bob's bits and report what fraction of the time they agree.\n",
        "\n",
        "For this latter task I find the following helpful: `    theKey=list(result.get_counts().keys())[0]`. `theKey` will be the bitstring of measured state *in reversed order* (i.e. `theKey[0]` is q0, `theKey[1]` is q1, etc)"
      ]
    },
    {
      "cell_type": "code",
      "execution_count": null,
      "metadata": {
        "id": "JkwKM_v-QTF8",
        "colab": {
          "base_uri": "https://localhost:8080/"
        },
        "outputId": "c2767476-fd30-48c3-94b9-f07d6c183ae4"
      },
      "outputs": [
        {
          "output_type": "stream",
          "name": "stdout",
          "text": [
            "{'00': 48, '11': 52}\n",
            "They agree this fraction of the time:  1.0\n"
          ]
        }
      ],
      "source": [
        "aliceBits=[]\n",
        "bobBits=[]\n",
        "\n",
        "qc.measure([0,1],[0,1])\n",
        "results = RunMe(qc,100)\n",
        "print(results.get_counts())\n",
        "keys=list(results.get_counts().keys())\n",
        "amountAgree = 0.0\n",
        "for key in keys:\n",
        "  if key[0] == key[1]:\n",
        "    amountAgree= amountAgree + results.get_counts()[key]/100.0\n",
        "print(\"They agree this fraction of the time: \" ,amountAgree)\n"
      ]
    },
    {
      "cell_type": "markdown",
      "metadata": {
        "id": "gYblrbZhQTF9"
      },
      "source": [
        "### b. Eve's arrival"
      ]
    },
    {
      "cell_type": "markdown",
      "metadata": {
        "id": "h9vt4s97QTF9"
      },
      "source": [
        "Unfortunately this approach has a problem.  Suppose that you're sending an EPR pair to Alice and the eavesdropper Eve gets a hold of it.  Is their a way to have Eve sneakily get the message without Alice and Bob noticing?  Add some circuit for Eve.  Assume that she can do anything she wants to the state (and her wire) after the shared state is made but before it's shipped off to Alice and Bob.\n",
        "\n",
        "Then, measure what fraction of the time Alice and Bob agree and what fraction of the time Eve has successfully figured out the bit.\n",
        "\n",
        "<img src=\"https://courses.physics.illinois.edu/phys246/fa2022/img/QC_Eve.png\" width=300 align=left></img><br>"
      ]
    },
    {
      "cell_type": "code",
      "execution_count": null,
      "metadata": {
        "id": "Z2sKJhqEQTF9",
        "colab": {
          "base_uri": "https://localhost:8080/",
          "height": 231
        },
        "outputId": "66e79de5-1b1d-4da6-ce2e-03d26f0637f5"
      },
      "outputs": [
        {
          "output_type": "execute_result",
          "data": {
            "text/plain": [
              "<Figure size 568.197x264.88 with 1 Axes>"
            ],
            "image/png": "[encoded data removed]"
          },
          "metadata": {},
          "execution_count": 10
        }
      ],
      "source": [
        "\n",
        "eveWire=2\n",
        "qc=QuantumCircuit(3,3)\n",
        "qc=MakeSharedState(qc)\n",
        "###What can Eve do here so that she knows the secret bit and can't be detected by Alice and Bob\n",
        "qc.cx(0,2)\n",
        "qc.measure([2],[2])\n",
        "qc.barrier()\n",
        "### Eve is done now.\n",
        "qc.measure([0,1],[0,1])  #this is your measure from earlier.\n",
        "\n",
        "###How often do Alice and Bob's bits agree.\n",
        "result = RunMe(qc, 100)\n",
        "### How often do Alice and Eve's bits agree.\n",
        "qc.draw('mpl')"
      ]
    },
    {
      "cell_type": "code",
      "source": [
        "keys=list(result.get_counts().keys())\n",
        "print(result.get_counts())\n",
        "abAgree = 0.0\n",
        "aeAgree = 0.0\n",
        "for key in keys:\n",
        "  if key[0] == key[1]:\n",
        "    abAgree= abAgree + result.get_counts()[key]\n",
        "  if key[0] == key[2]:\n",
        "    aeAgree= aeAgree + result.get_counts()[key]\n",
        "print(\"Alice, bob agree, Alice, eve agree: \" ,abAgree, aeAgree)\n"
      ],
      "metadata": {
        "colab": {
          "base_uri": "https://localhost:8080/"
        },
        "id": "oYCeP800MMYM",
        "outputId": "83bd2f6d-87bd-47ea-f063-f1deff0f799f"
      },
      "execution_count": null,
      "outputs": [
        {
          "output_type": "stream",
          "name": "stdout",
          "text": [
            "{'000': 59, '111': 41}\n",
            "Alice, bob agree, Alice, eve agree:  100.0 100.0\n"
          ]
        }
      ]
    },
    {
      "cell_type": "markdown",
      "metadata": {
        "id": "c3kGJYgsQTF9"
      },
      "source": [
        "If you've done it correctly you should find that Alice and Bob always agree but also Alice and Eve also always agree.  So our protocol was a good way to share some secrete bits but doesn't work if Even can get a hold of the state before Alice and Bob gert it.  We need an improved protocol."
      ]
    },
    {
      "cell_type": "markdown",
      "metadata": {
        "id": "XrmSFscHQTF9"
      },
      "source": [
        "### c. An improved protocol"
      ]
    },
    {
      "cell_type": "markdown",
      "metadata": {
        "id": "I6DxXC07QTF9"
      },
      "source": [
        "Let's remove Eve for the moment and work on an improved protocol.\n",
        "Suppose Alice and Bob agree that for each of the 100 trials, Alice and Bob are going to flip a shared coin and decide to randomly put a Hadamard on both their wires if you get heads (`np.random.random()>0.5`) and leave it alone otherwise (*Yes - I know flipping a shared coin is cheating.  We will fix it later*).  Emulate this new protocol and see how often Alice and Bob's bits agree?  Store also an array which specifies when you decided to add the Hadamard.\n"
      ]
    },
    {
      "cell_type": "code",
      "execution_count": null,
      "metadata": {
        "id": "46_bj9G9QTF9",
        "colab": {
          "base_uri": "https://localhost:8080/"
        },
        "outputId": "dad6fa58-2037-48f6-c31b-7ec1f8d7298a"
      },
      "outputs": [
        {
          "output_type": "stream",
          "name": "stdout",
          "text": [
            "78\n"
          ]
        }
      ],
      "source": [
        "### Build here the improved protocol and see how often Alice and Bob's bits agree.\n",
        "H=[]\n",
        "agrees=[]\n",
        "amountAgree = 0\n",
        "for t in range(100):\n",
        "  qc=QuantumCircuit(2,2)\n",
        "  if (np.random.random()>0.5):\n",
        "    qc.h(0)\n",
        "    qc.h(1)\n",
        "    H.append(1)\n",
        "  else:\n",
        "    H.append(0)\n",
        "  qc=MakeSharedState(qc)\n",
        "  qc.measure([0,1],[0,1])\n",
        "  results = RunMeState(qc)\n",
        "  keys=list(results.get_counts().keys())\n",
        "  for key in keys:\n",
        "    if key[0] == key[1]:\n",
        "      amountAgree= amountAgree + results.get_counts()[key]\n",
        "print(amountAgree)\n",
        "\n"
      ]
    },
    {
      "cell_type": "markdown",
      "metadata": {
        "id": "f0bhTdIbQTF9"
      },
      "source": [
        "### d. Eve in the improved protocol"
      ]
    },
    {
      "cell_type": "markdown",
      "metadata": {
        "id": "XQc30jnXQTF9"
      },
      "source": [
        "Now add Eve back using your approach from (b).  How often do Alice and Bob agree?  How often do Alice and Eve agree?   Suppose Alice and Bob were willing to talk some - can they catch Eve's eavsdropping and still have some useful random bits left if Eve wasn't listening."
      ]
    },
    {
      "cell_type": "code",
      "execution_count": null,
      "metadata": {
        "id": "n4uW88zMQTF9",
        "colab": {
          "base_uri": "https://localhost:8080/"
        },
        "outputId": "8ceba2f1-f722-4f68-faaf-a5e73a8c7280"
      },
      "outputs": [
        {
          "output_type": "stream",
          "name": "stdout",
          "text": [
            "71 72\n"
          ]
        }
      ],
      "source": [
        "# Use the same Eve technique as you did in (b) and see how often they agree.  If Alice and Bob's bits don't\n",
        "# always agree is there a way for Alice and Bob to then detect Eve's eavesdropping while still having\n",
        "# some one-time pad bits left.\n",
        "abAgree = 0\n",
        "aeAgree = 0\n",
        "for t in range(100):\n",
        "  qc=QuantumCircuit(3,3)\n",
        "  qc=MakeSharedState(qc)\n",
        "  qc.cx(0,2)\n",
        "  qc.measure([2],[2])\n",
        "  qc.barrier()\n",
        "  if (np.random.random()>0.5):\n",
        "    qc.h(0)\n",
        "    qc.h(1)\n",
        "  qc.measure([0,1],[0,1])\n",
        "  results = RunMe(qc,1)\n",
        "  keys=list(results.get_counts().keys())\n",
        "  for key in keys:\n",
        "    if key[0] == key[1]:\n",
        "      abAgree= abAgree + 1\n",
        "    if key[0] == key[2]:\n",
        "      aeAgree= aeAgree + 1\n",
        "print(abAgree,aeAgree)\n",
        "\n",
        "\n"
      ]
    },
    {
      "cell_type": "markdown",
      "metadata": {
        "id": "gpAHfpT4QTF-"
      },
      "source": [
        "### e.  Not flipping shared coins"
      ]
    },
    {
      "cell_type": "markdown",
      "metadata": {
        "id": "baUMmCLGQTF-"
      },
      "source": [
        "In practice, Alice and Bob can't randomly choose to both use the Hadamard gate at the same time.   Let's assume instead they independently add a random Hadamard gate.  Modify your code to do this and record when Bob and Alice chose Hadamard.  Now write some code to allow Alice and Bob to identify when there is eavesdropping. To do this, Alice and Bob need to not only talk about what answers they got but also whether not they both added their Hadamard gate."
      ]
    },
    {
      "cell_type": "code",
      "execution_count": null,
      "metadata": {
        "id": "Li1vmLBWQTF-"
      },
      "outputs": [],
      "source": [
        "HadamardA=[]\n",
        "HadamardB=[]\n",
        "\n",
        "## Now remove the cheating from the approach.\n",
        "## This time, Alice and Bob are going to have to talk about both the decisions they made (Hadamard or not)\n",
        "## as well as what result they get\n",
        "\n",
        "mask=np.array(HadamardA)==(HadamardB)\n",
        "\n",
        "## How often do they agree if we only consider the cases when they made the same choice."
      ]
    },
    {
      "cell_type": "markdown",
      "metadata": {
        "id": "aAKIsD5rQTF-"
      },
      "source": [
        "## Exercise 4: Building up tools (EC - 10 points)"
      ]
    },
    {
      "cell_type": "markdown",
      "metadata": {
        "id": "tZ3DbAUkQTF-"
      },
      "source": [
        "Now we are going to build up some tools and intuition so we can learn to build more complicated circuits."
      ]
    },
    {
      "cell_type": "markdown",
      "metadata": {
        "id": "y1y3WVcCQTF-"
      },
      "source": [
        "### a. Initializing a binary number"
      ]
    },
    {
      "cell_type": "markdown",
      "metadata": {
        "id": "ynRlZgUhQTF-"
      },
      "source": [
        "Often it is useful to get some binary state (like $|0110\\rangle$) into your quantum computer.  Write a function `def Init(qc,myBinaryNumber)` which generates the state $|\\textrm{myBinaryNumber}\\rangle$. Run\n",
        "```\n",
        "Init(qc,'011')\n",
        "qc.draw(output='mpl')\n",
        "```\n"
      ]
    },
    {
      "cell_type": "code",
      "execution_count": null,
      "metadata": {
        "id": "CuX9-ci-QTF-",
        "colab": {
          "base_uri": "https://localhost:8080/",
          "height": 322
        },
        "outputId": "e16c9b14-4bac-49ed-fb06-00559e2763b2"
      },
      "outputs": [
        {
          "output_type": "execute_result",
          "data": {
            "text/plain": [
              "<Figure size 146.797x385.28 with 1 Axes>"
            ],
            "image/png": "[encoded data removed]"
          },
          "metadata": {},
          "execution_count": 113
        }
      ],
      "source": [
        "\n",
        "def Init(qc,myString='000'):\n",
        "  assert qc.num_qubits == len(myString)\n",
        "  for i in range(len(myString)):\n",
        "    if myString[i]=='1':\n",
        "      qc.x(len(myString) - 1 - i)\n",
        "\n",
        "\n",
        "qc=QuantumCircuit(5,5)\n",
        "Init(qc,'01101')\n",
        "qc.draw(output='mpl')\n",
        "\n"
      ]
    },
    {
      "cell_type": "markdown",
      "metadata": {
        "id": "2HgMtq7NQTF-"
      },
      "source": [
        "### b. A sum over all states"
      ]
    },
    {
      "cell_type": "markdown",
      "metadata": {
        "id": "0D03y1WPQTF-"
      },
      "source": [
        "A useful state to be able to make is\n",
        "$$\\frac{1}{\\sqrt{N}}\\sum_{i=1}^N |i\\rangle$$\n",
        "\n",
        "Write a function `def AllSum(qc,w)` which adds this circuit to qc for $N=2^w$.  Run it with $w=5$ and draw out your circuit.  "
      ]
    },
    {
      "cell_type": "code",
      "execution_count": null,
      "metadata": {
        "id": "gMC9vO6GQTF-",
        "colab": {
          "base_uri": "https://localhost:8080/",
          "height": 322
        },
        "outputId": "df2d9393-d971-4457-89a2-476345755334"
      },
      "outputs": [
        {
          "output_type": "execute_result",
          "data": {
            "text/plain": [
              "<Figure size 1055.81x385.28 with 1 Axes>"
            ],
            "image/png": "[encoded data removed]"
          },
          "metadata": {},
          "execution_count": 131
        }
      ],
      "source": [
        "def AllSum(qc,w):\n",
        "  qc.h(0)\n",
        "  for i in range(w-1):\n",
        "    qc.cx(i,i+1)\n",
        "    qc.h(i+1)\n",
        "  qc.barrier()\n",
        "qr = QuantumRegister(5)\n",
        "cr = ClassicalRegister(5)\n",
        "circ=QuantumCircuit(qr,cr)\n",
        "AllSum(circ,5)\n",
        "circ.measure(qr,cr)\n",
        "\n",
        "circ.draw(output='mpl')\n"
      ]
    },
    {
      "cell_type": "markdown",
      "metadata": {
        "id": "iZndQPShQTF_"
      },
      "source": [
        "Now run the state on your simulator and measure how often you get various states."
      ]
    },
    {
      "cell_type": "code",
      "execution_count": null,
      "metadata": {
        "id": "HP619RMwQTF_",
        "colab": {
          "base_uri": "https://localhost:8080/",
          "height": 373
        },
        "outputId": "c34a2c04-3242-47e0-f703-8f62c009d643"
      },
      "outputs": [
        {
          "output_type": "stream",
          "name": "stdout",
          "text": [
            "32\n"
          ]
        },
        {
          "output_type": "execute_result",
          "data": {
            "text/plain": [
              "<Figure size 504x360 with 1 Axes>"
            ],
            "image/png": "[encoded data removed]"
          },
          "metadata": {},
          "execution_count": 156
        }
      ],
      "source": [
        "# Run me looking at the measurements and see what happens\n",
        "result = RunMe(circ,10000)\n",
        "print(len(result.get_counts().keys()))\n",
        "plot_histogram(result.get_counts())\n"
      ]
    },
    {
      "cell_type": "code",
      "execution_count": null,
      "metadata": {
        "id": "d_rsE2RZQTF_"
      },
      "outputs": [],
      "source": []
    },
    {
      "cell_type": "markdown",
      "metadata": {
        "id": "xwJpt2duQTF_"
      },
      "source": [
        "### c.  Angle of a random gate"
      ]
    },
    {
      "cell_type": "markdown",
      "metadata": {
        "id": "isd9FOlVQTF_"
      },
      "source": [
        "In this section, we are going to start out with a $R_z(\\theta)$ gate but we don't know what $\\theta$ is.  Your goal is to use other gates to figure out $\\theta$.  Write some code which returns your guess of $\\theta$.  To add your random gate to your circuit, you may call RandomGate(qc)."
      ]
    },
    {
      "cell_type": "code",
      "execution_count": null,
      "metadata": {
        "id": "V2bvFsphQTF_",
        "colab": {
          "base_uri": "https://localhost:8080/"
        },
        "outputId": "a70e5263-e91e-4c6c-d902-61328490e8fd"
      },
      "outputs": [
        {
          "output_type": "stream",
          "name": "stdout",
          "text": [
            "0.8647522741405916\n"
          ]
        }
      ],
      "source": [
        "def RandomGateHelp():\n",
        "    theta=np.random.random()*2*np.pi\n",
        "    def RandomGate(qc):\n",
        "        qc.rz(theta,0)\n",
        "    print(theta)\n",
        "    return RandomGate\n",
        "RandomGate=RandomGateHelp()\n"
      ]
    },
    {
      "cell_type": "code",
      "execution_count": null,
      "metadata": {
        "id": "UMo90PLHQTF_",
        "colab": {
          "base_uri": "https://localhost:8080/"
        },
        "outputId": "43a1f90a-8cd4-4b0c-bee3-1298df357930"
      },
      "outputs": [
        {
          "output_type": "stream",
          "name": "stdout",
          "text": [
            "Theta is  0.8678290123837868\n"
          ]
        }
      ],
      "source": [
        "def ReturnTheta():\n",
        "    qr=QuantumRegister(1)\n",
        "    cr=ClassicalRegister(1)\n",
        "    qc=QuantumCircuit(qr,cr)\n",
        "    #change this function somehow\n",
        "    qc.h(0)\n",
        "    RandomGate(qc)\n",
        "    qc.h(0)\n",
        "    qc.measure(0,0)\n",
        "    result=RunMe(qc)\n",
        "    myCounts=result.get_counts()\n",
        "    #print(myCounts)\n",
        "    return np.arccos((myCounts['0']-myCounts['1'])/1024)\n",
        "print(\"Theta is \",ReturnTheta())"
      ]
    },
    {
      "cell_type": "code",
      "source": [
        "sum = 0\n",
        "for t in range(100):\n",
        "  sum = sum + ReturnTheta()\n",
        "\n",
        "print(\"take the average over 100 times rum:\",sum/100)"
      ],
      "metadata": {
        "colab": {
          "base_uri": "https://localhost:8080/"
        },
        "id": "b-Ca8WwCa5sv",
        "outputId": "e121b3d7-0fcf-4297-f9c2-21bd3e318b36"
      },
      "execution_count": null,
      "outputs": [
        {
          "output_type": "stream",
          "name": "stdout",
          "text": [
            "take the average over 100 times rum: 0.8643257042818547\n"
          ]
        }
      ]
    },
    {
      "cell_type": "markdown",
      "metadata": {
        "id": "LOCKeaZLQTF_"
      },
      "source": [
        "### d. Inverting a CNOT"
      ]
    },
    {
      "cell_type": "markdown",
      "metadata": {
        "id": "EqVgfn0zQTF_"
      },
      "source": [
        "Suppose you have a quantum computer which can generate a CNOT where the control wire is smaller then the NOT wire - i.e. `qc.cx(i,j)` where $i<j$.  Now, you need the gate `qc.cx(j,i)` . Figure out how to use 1-qubit gates and `qc.cx(i,j)` to build the gate `qc.cx(j,i)` and demonstrate that it works.  *Hint:* You can do this with one CNOT some number of Hadamards."
      ]
    },
    {
      "cell_type": "code",
      "execution_count": null,
      "metadata": {
        "id": "UdKzJlbmQTF_",
        "colab": {
          "base_uri": "https://localhost:8080/",
          "height": 185
        },
        "outputId": "b606679a-7651-47e6-f273-f478de6e52a2"
      },
      "outputs": [
        {
          "output_type": "execute_result",
          "data": {
            "text/plain": [
              "<Figure size 267.052x204.68 with 1 Axes>"
            ],
            "image/png": "[encoded data removed]"
          },
          "metadata": {},
          "execution_count": 63
        }
      ],
      "source": [
        "# Write code here\n",
        "qc=QuantumCircuit(2,2)\n",
        "qc.h(0)\n",
        "qc.h(1)\n",
        "qc.cx(0,1)\n",
        "qc.h(0)\n",
        "qc.h(1)\n",
        "qc.draw('mpl')\n"
      ]
    },
    {
      "cell_type": "code",
      "source": [],
      "metadata": {
        "id": "VLBc7DmxeRYX"
      },
      "execution_count": null,
      "outputs": []
    },
    {
      "cell_type": "markdown",
      "metadata": {
        "id": "M9RT1tDzQTF_"
      },
      "source": [
        "### e. Deferred Measurements"
      ]
    },
    {
      "cell_type": "markdown",
      "metadata": {
        "id": "edoZR4nFQTGA"
      },
      "source": [
        "Suppose you have a calculation where you do a measurement in the middle of your simulation."
      ]
    },
    {
      "cell_type": "code",
      "execution_count": null,
      "metadata": {
        "id": "VMG-MPamQTGA",
        "colab": {
          "base_uri": "https://localhost:8080/",
          "height": 140
        },
        "outputId": "2f4851c5-c989-4379-d6cf-a0212d1a0eb4"
      },
      "outputs": [
        {
          "output_type": "execute_result",
          "data": {
            "text/plain": [
              "<Figure size 668.066x144.48 with 1 Axes>"
            ],
            "image/png": "[encoded data removed]"
          },
          "metadata": {},
          "execution_count": 64
        }
      ],
      "source": [
        "qr=QuantumRegister(1)\n",
        "cr=ClassicalRegister(1)\n",
        "qc=QuantumCircuit(qr,cr)\n",
        "qc.h(0)\n",
        "qc.rx(np.pi/2.,0)\n",
        "qc.rz(np.pi/3.,0)\n",
        "qc.rx(np.pi/5.,0)\n",
        "qc.measure(0,0)\n",
        "qc.h(0)\n",
        "qc.rz(np.pi/5.,0)\n",
        "qc.ry(np.pi/2.,0)\n",
        "qc.measure(0,0)\n",
        "qc.draw(output='mpl')"
      ]
    },
    {
      "cell_type": "markdown",
      "metadata": {
        "id": "T-zMnfh6QTGA"
      },
      "source": [
        "We can measure the probabilities of the output:"
      ]
    },
    {
      "cell_type": "code",
      "execution_count": null,
      "metadata": {
        "id": "_NVNowZcQTGA",
        "colab": {
          "base_uri": "https://localhost:8080/",
          "height": 324
        },
        "outputId": "caa0c19f-df55-4a29-bc6e-0b7f5b476b12"
      },
      "outputs": [
        {
          "output_type": "execute_result",
          "data": {
            "text/plain": [
              "<Figure size 504x360 with 1 Axes>"
            ],
            "image/png": "[encoded data removed]"
          },
          "metadata": {},
          "execution_count": 65
        }
      ],
      "source": [
        "plot_histogram(RunMe(qc).get_counts())"
      ]
    },
    {
      "cell_type": "markdown",
      "metadata": {
        "id": "oE6T89QzQTGA"
      },
      "source": [
        "We want to rewrite the circuit on two wires so that you can do all the measurements at the end.  Figure out how to pull this off and show that you get the same probability distribution over the first wire.  You should be able to do this essentially independently of the gates that I include on the top wire. *Hint:* You want to essentially copy what would have been the result of the measurement to the bottom wire.  Then you can measure the bottom wire whenever since there are no gates there."
      ]
    },
    {
      "cell_type": "code",
      "execution_count": null,
      "metadata": {
        "id": "kjjiuvjjQTGA",
        "colab": {
          "base_uri": "https://localhost:8080/",
          "height": 185
        },
        "outputId": "16934d58-d4c5-4c5c-c7c5-4d608d04f559"
      },
      "outputs": [
        {
          "output_type": "execute_result",
          "data": {
            "text/plain": [
              "<Figure size 259.647x204.68 with 1 Axes>"
            ],
            "image/png": "[encoded data removed]"
          },
          "metadata": {},
          "execution_count": 66
        }
      ],
      "source": [
        "qr=QuantumRegister(2)\n",
        "cr=ClassicalRegister(2)\n",
        "qc=QuantumCircuit(qr,cr)\n",
        "# do stuff before the measurement which is the last thing you do\n",
        "\n",
        "qc.measure([0,1],[0,1])\n",
        "\n",
        "qc.draw(output='mpl')\n",
        "#only plot the probability of wire 1. You want to get the same result."
      ]
    },
    {
      "cell_type": "markdown",
      "metadata": {
        "id": "096vI1RZQTGA"
      },
      "source": [
        "**Acknowledgement:**\n",
        "* Bryan Clark and Ryan Level (original)\n",
        "\n",
        "\n",
        "Copyright: 2021"
      ]
    }
  ],
  "metadata": {
    "kernelspec": {
      "display_name": "Python 3.9.12 64-bit",
      "language": "python",
      "name": "python3"
    },
    "language_info": {
      "codemirror_mode": {
        "name": "ipython",
        "version": 3
      },
      "file_extension": ".py",
      "mimetype": "text/x-python",
      "name": "python",
      "nbconvert_exporter": "python",
      "pygments_lexer": "ipython3",
      "version": "3.9.12"
    },
    "varInspector": {
      "cols": {
        "lenName": 16,
        "lenType": 16,
        "lenVar": 40
      },
      "kernels_config": {
        "python": {
          "delete_cmd_postfix": "",
          "delete_cmd_prefix": "del ",
          "library": "var_list.py",
          "varRefreshCmd": "print(var_dic_list())"
        },
        "r": {
          "delete_cmd_postfix": ") ",
          "delete_cmd_prefix": "rm(",
          "library": "var_list.r",
          "varRefreshCmd": "cat(var_dic_list()) "
        }
      },
      "types_to_exclude": [
        "module",
        "function",
        "builtin_function_or_method",
        "instance",
        "_Feature"
      ],
      "window_display": false
    },
    "vscode": {
      "interpreter": {
        "hash": "aee8b7b246df8f9039afb4144a1f6fd8d2ca17a180786b69acc140d282b71a49"
      }
    },
    "colab": {
      "provenance": [],
      "include_colab_link": true
    }
  },
  "nbformat": 4,
  "nbformat_minor": 0
}